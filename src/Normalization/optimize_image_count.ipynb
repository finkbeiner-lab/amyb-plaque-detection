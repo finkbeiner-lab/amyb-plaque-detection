{
 "cells": [
  {
   "cell_type": "code",
   "execution_count": 1,
   "metadata": {},
   "outputs": [],
   "source": [
    "\"\"\"\n",
    "An example for histological images color normalization based on the adaptive color deconvolution as described in the paper:\n",
    "https://github.com/Zhengyushan/adaptive_color_deconvolution\n",
    "\n",
    "Yushan Zheng, Zhiguo Jiang, Haopeng Zhang, Fengying Xie, Jun Shi, and Chenghai Xue.\n",
    "Adaptive Color Deconvolution for Histological WSI Normalization.\n",
    "Computer Methods and Programs in Biomedicine, v170 (2019) pp.107-120.\n",
    "\n",
    "\"\"\"\n",
    "import os\n",
    "import cv2\n",
    "import numpy as np\n",
    "from glob import glob\n",
    "from stain_normalizer import StainNormalizer\n",
    "#from stain_normalizer import StainNormalizer\n",
    "import imageio.v3 as iio\n",
    "import matplotlib.pyplot as plt\n",
    "import torch\n",
    "import torchmetrics\n",
    "from torchmetrics.functional import peak_signal_noise_ratio as psnr\n",
    "from torchmetrics.functional import structural_similarity_index_measure as ssim\n",
    "from torchmetrics.functional import multiscale_structural_similarity_index_measure as msssim\n",
    "from glob import glob\n",
    "import pickle\n",
    "import pandas as pd\n",
    "import plotly.express as px\n",
    "import plotly.graph_objects as go\n"
   ]
  },
  {
   "cell_type": "code",
   "execution_count": 2,
   "metadata": {},
   "outputs": [],
   "source": [
    "def compute_metrics(img_path, img_names):\n",
    "    psnr_list = []\n",
    "    ssim_list = []\n",
    "    msssim_list = []\n",
    "    for img_name in img_names:\n",
    "        orig_img = os.path.join(img_path,img_name+\"_origin.jpg\")\n",
    "        norm_img = os.path.join(img_path,img_name+\"_norm.jpg\")\n",
    "        orig_img_load = iio.imread(orig_img)\n",
    "        orig = torch.torch.from_numpy(orig_img_load.reshape((3, 1024, 1024))).float()\n",
    "        norm_img_load = iio.imread(norm_img)\n",
    "        norm = torch.torch.from_numpy(norm_img_load.reshape((3, 1024, 1024))).float()\n",
    "        psnr_val = psnr(norm, orig)\n",
    "        ssim_val = ssim(norm[None, :], orig[None, :])\n",
    "        msssim_val = msssim(norm[None, :], orig[None, :])\n",
    "        psnr_list.append(psnr_val.cpu().numpy())\n",
    "        ssim_list.append(ssim_val.cpu().numpy())\n",
    "        msssim_list.append(msssim_val.cpu().numpy())\n",
    "    print(\"PSNR - \",\"mean: \", np.mean(psnr_list), \"max: \", np.max(psnr_list), \"min: \", np.min(psnr_list), \"std: \", np.std(psnr_list))\n",
    "    print(\"SSIM - \",\"mean: \", np.mean(ssim_list), \"max: \", np.max(ssim_list), \"min: \", np.min(ssim_list), \"std: \", np.std(ssim_list))\n",
    "    print(\"MSSSIM - \",\"mean: \", np.mean(msssim_list), \"max: \", np.max(msssim_list), \"min: \", np.min(msssim_list), \"std: \", np.std(msssim_list))\n",
    "    return np.mean(psnr_list), np.mean(ssim_list), np.mean(msssim_list), np.std(psnr_list),  np.std(ssim_list), np.std(msssim_list)\n",
    "\n",
    "def plot_rgb_hist(img_path):\n",
    "    plant_seedling = iio.imread(img_path)\n",
    "\n",
    "    # display the image\n",
    "    fig, ax = plt.subplots()\n",
    "    ax.imshow(plant_seedling)\n",
    "\n",
    "    # tuple to select colors of each channel line\n",
    "    colors = (\"red\", \"green\", \"blue\")\n",
    "\n",
    "    # create the histogram plot, with three lines, one for\n",
    "    # each color\n",
    "    fig, ax = plt.subplots()\n",
    "    ax.set_xlim([0, 256])\n",
    "    for channel_id, color in enumerate(colors):\n",
    "        histogram, bin_edges = np.histogram(\n",
    "            plant_seedling[:, :, channel_id], bins=256, range=(0, 256)\n",
    "        )\n",
    "        ax.plot(bin_edges[0:-1], histogram, color=color)\n",
    "\n",
    "    ax.set_title(\"Color Histogram\")\n",
    "    ax.set_xlabel(\"Color value\")\n",
    "    ax.set_ylabel(\"Pixel count\")"
   ]
  },
  {
   "cell_type": "code",
   "execution_count": 4,
   "metadata": {},
   "outputs": [],
   "source": [
    "source_image_dir = \"/gladstone/finkbeiner/steve/work/data/npsad_data/monika/LBD/WSI_Normalization_techniques/StainNet/data\"\n",
    "result_dir = '/gladstone/finkbeiner/steve/work/data/npsad_data/monika/LBD/WGM_Normalization/results_compute_metrics'\n",
    "slide_list =  [\"13_131_CG_aSyn_x200.svs\",\"14_148_CG_aSyn_x200.svs\",\"PD034_Syn1_CG.svs\",\"PD113_Syn1_CG.svs\"]\n",
    "temp_dir = \"/gladstone/finkbeiner/steve/work/data/npsad_data/monika/LBD/WSI_Normalization_techniques/StainNet/data/\"\n",
    "psnr_mean_list =[]\n",
    "ssim_mean_list = []\n",
    "msssim_mean_list = []\n",
    "psnr_std_list = []\n",
    "ssim_std_list = [] \n",
    "msssim_std_list = []\n",
    "region = \"grey\"\n",
    "image_count=[]"
   ]
  },
  {
   "cell_type": "code",
   "execution_count": 10,
   "metadata": {},
   "outputs": [
    {
     "name": "stdout",
     "output_type": "stream",
     "text": [
      "normalize slide 13_131_CG_aSyn_x200.svs\n",
      "341\n",
      "(1024, 1024, 3)\n",
      "[[ 1.712277   -0.63181734 -0.86679864]\n",
      " [-0.23543927  1.1600862  -0.10434286]\n",
      " [-0.1355897  -0.1378358   1.1282115 ]] [array(1.3236874, dtype=float32), array(1.7769387, dtype=float32), array(1)]\n",
      "normalize slide 14_148_CG_aSyn_x200.svs\n",
      "238\n",
      "(1024, 1024, 3)\n",
      "[[ 1.2199855  -0.81447405  0.04131999]\n",
      " [ 0.13947643  1.2510929  -0.8761335 ]\n",
      " [-0.00951277 -0.00832737  1.0093775 ]] [array(1.4354951, dtype=float32), array(1.807771, dtype=float32), array(1)]\n",
      "normalize slide PD034_Syn1_CG.svs\n",
      "144\n",
      "(1024, 1024, 3)\n",
      "[[ 1.0908738  -0.77517515  0.08940606]\n",
      " [ 0.4039323   1.2301264  -0.9530506 ]\n",
      " [-0.12820004 -0.09829146  1.1228772 ]] [array(1.6931378, dtype=float32), array(1.9737273, dtype=float32), array(1)]\n",
      "normalize slide PD113_Syn1_CG.svs\n",
      "80\n",
      "(1024, 1024, 3)\n",
      "[[ 1.3524972  -1.9095556   1.4492662 ]\n",
      " [-0.01551099  2.2152572  -2.0007908 ]\n",
      " [ 0.02565747  0.03311281  0.96545476]] [array(1.2550589, dtype=float32), array(1.476709, dtype=float32), array(1)]\n",
      "PSNR -  mean:  34.345016 max:  40.084328 min:  24.338846 std:  4.384928\n",
      "SSIM -  mean:  0.96957916 max:  0.9878665 min:  0.9174703 std:  0.016264055\n",
      "MSSSIM -  mean:  0.9917404 max:  0.9955316 min:  0.9825388 std:  0.0037173126\n"
     ]
    }
   ],
   "source": [
    "#img_list =[\"11_063_CG_aSyn_x200.svs\",\"12_007_CG_aSyn_x200.svs\",\"PD001_Syn1_CG.svs\",\"PD067_Syn1_CG.svs\"]\n",
    "img_list1 =[\"11_063_CG_aSyn_x200.svs\"]\n",
    "img_list2 =[\"11_063_CG_aSyn_x200.svs\",\"PD001_Syn1_CG.svs\"]\n",
    "img_list3 =[\"11_063_CG_aSyn_x200.svs\",\"12_007_CG_aSyn_x200.svs\",\"PD001_Syn1_CG.svs\",\"PD067_Syn1_CG.svs\"]\n",
    "img_list4 =[\"11_063_CG_aSyn_x200.svs\",\"12_007_CG_aSyn_x200.svs\",\"PD001_Syn1_CG.svs\",\"PD067_Syn1_CG.svs\",\"14_036_CG_aSyn_x200.svs\",\"PD041_Syn1_CG.svs\"]\n",
    "\n",
    "img_list5 =[\"11_063_CG_aSyn_x200.svs\",\"12_007_CG_aSyn_x200.svs\",\"PD001_Syn1_CG.svs\",\"PD067_Syn1_CG.svs\",\"14_036_CG_aSyn_x200.svs\",\"PD041_Syn1_CG.svs\"\n",
    "            ,\"PD130_Syn1_CG.svs\",\"12_060_CG_aSyn_x200.svs\"]\n",
    "\n",
    "\n",
    "\n",
    "#for img_list in [img_list1,img_list2,img_list3,img_list4]:\n",
    "for img_list in [img_list4]:\n",
    "    template_list = []\n",
    "    for img in img_list:\n",
    "        template_list.extend(glob(os.path.join(temp_dir,img,\"grey\",\"*.png\")))\n",
    "        template_list.extend(glob(os.path.join(temp_dir,img,\"White\",\"*.png\")))\n",
    "        template_list.extend(glob(os.path.join(temp_dir,img,\"bg\",\"*.png\")))\n",
    "\n",
    "    if \".DS_Store\" in template_list:\n",
    "        template_list.remove(\".DS_Store\")\n",
    "    #template_list.remove(\".DS_Store\")\n",
    "    #print(len(template_list))\n",
    "    #temp_images = np.asarray([cv2.imread(os.path.join(template_dir, name)) for name in template_list])\n",
    "    temp_images = np.asarray([cv2.imread(name) for name in template_list])\n",
    "\n",
    "    # extract the stain parameters of the template slide\n",
    "    normalizer = StainNormalizer()\n",
    "    normalizer.fit(temp_images[:,:,:,[2,1,0]]) #BGR2RGB\n",
    "\n",
    "    with open('/gladstone/finkbeiner/steve/work/data/npsad_data/monika/LBD/WGM_Normalization/wgm_normalizer.pkl', 'wb') as f:\n",
    "        pickle.dump(normalizer, f, pickle.HIGHEST_PROTOCOL)\n",
    "    #print(normalizer)\n",
    "\n",
    "    if not os.path.exists(result_dir):\n",
    "        os.makedirs(result_dir)\n",
    "\n",
    "\n",
    "\n",
    "\n",
    "    \"\"\"\n",
    "    slide_list =  [\"13_131_CG_aSyn_x200.svs\",\"14_148_CG_aSyn_x200.svs\",\"14_036_CG_aSyn_x200.svs\", \"14_073_CG_aSyn_x200.svs\",\n",
    "                \"PD034_Syn1_CG.svs\",\"PD113_Syn1_CG.svs\", \"15_005_CG_aSyn_x200.svs\", \"PD088_Syn1_CG.svs\" ,\"14_075_CG_aSyn_x200.svs\",\n",
    "                \"14_087_CG_aSyn_x200.svs\",\"14_133_CG_aSyn_x200.svs\",\"14_153_CG_aSyn_x200.svs\", \"PD041_Syn1_CG.svs\",\"PD079_Syn1_CG.svs\",\n",
    "                \"PD110_Syn1_CG.svs\",\"PD130_Syn1_CG.svs\", \"PD133_Syn1_CG.svs\"]\n",
    "                \n",
    "\n",
    "    val_slide_list = [\"12_060_CG_aSyn_x200.svs\", \"13_177_CG_aSyn_x200.svs\",\"14_053_CG_aSyn_x200.svs\",\"15_007_CG_aSyn_x200.svs\",\n",
    "                    \"PD002_Syn1_CG.svs\",\"PD090_Syn1_CG.svs\",\"PD131_Syn1_CG.svs\"]\n",
    "    \"\"\"\n",
    "    if \".DS_Store\" in slide_list:\n",
    "        slide_list.remove(\".DS_Store\")\n",
    "    #slide_list.remove(\"screenshots\")\n",
    "    #slide_list = [\"screenshots\"]\n",
    "    for s in slide_list:\n",
    "        print('normalize slide', s)\n",
    "        slide_dir = os.path.join(source_image_dir, s, region)\n",
    "        image_list = os.listdir(slide_dir)\n",
    "        if \".DS_Store\" in image_list:\n",
    "            image_list.remove(\".DS_Store\")\n",
    "        images = np.asarray([cv2.imread(os.path.join(slide_dir, name)) for name in image_list])\n",
    "        print(len(images))\n",
    "        print(images[0].shape)\n",
    "        ## color transform\n",
    "        results = normalizer.transform(images[:,:,:,[2,1,0]]) #BGR2RGB\n",
    "        \n",
    "        # display\n",
    "        for i, result in enumerate(results):\n",
    "            cv2.imwrite(os.path.join(result_dir, region, s + '_{}_origin.jpg'.format(i)), images[i])\n",
    "            cv2.imwrite(os.path.join(result_dir, region, s + '_{}_norm.jpg'.format(i)) , result[:,:,[2,1,0]]) #RGB2BGR\n",
    "\n",
    "    img_path = os.path.join(result_dir,region)\n",
    "    l = glob(os.path.join(img_path,\"*.jpg\"))\n",
    "    img_names = [\"_\".join(x.split(\"/\")[-1].split(\"_\")[:-1]) for x in l]\n",
    "\n",
    "\n",
    "    psnr_mean, ssim_mean, msssim_mean,psnr_std, ssim_std, msssim_std = compute_metrics(img_path, img_names)\n",
    "    psnr_mean_list.append(psnr_mean)\n",
    "    ssim_mean_list.append(ssim_mean)\n",
    "    msssim_mean_list.append(msssim_mean)\n",
    "    psnr_std_list.append(psnr_std)\n",
    "    ssim_std_list.append(ssim_std)\n",
    "    msssim_std_list.append(msssim_std)\n",
    "    image_count.append(len(img_list))"
   ]
  },
  {
   "cell_type": "code",
   "execution_count": 14,
   "metadata": {},
   "outputs": [
    {
     "data": {
      "text/plain": [
       "[1, 2, 4, 6, 8]"
      ]
     },
     "execution_count": 14,
     "metadata": {},
     "output_type": "execute_result"
    }
   ],
   "source": [
    "image_count"
   ]
  },
  {
   "cell_type": "code",
   "execution_count": 11,
   "metadata": {},
   "outputs": [
    {
     "data": {
      "text/plain": [
       "[28.705872, 29.432236, 32.47057, 34.34089, 34.345016]"
      ]
     },
     "execution_count": 11,
     "metadata": {},
     "output_type": "execute_result"
    }
   ],
   "source": [
    "psnr_mean_list"
   ]
  },
  {
   "cell_type": "code",
   "execution_count": 12,
   "metadata": {},
   "outputs": [
    {
     "data": {
      "text/plain": [
       "[0.938722, 0.9398712, 0.95419604, 0.96540844, 0.96957916]"
      ]
     },
     "execution_count": 12,
     "metadata": {},
     "output_type": "execute_result"
    }
   ],
   "source": [
    "ssim_mean_list"
   ]
  },
  {
   "cell_type": "code",
   "execution_count": 56,
   "metadata": {},
   "outputs": [
    {
     "data": {
      "text/plain": [
       "[0.98319954, 0.9841844, 0.9880916, 0.9907829, 0.9917404]"
      ]
     },
     "execution_count": 56,
     "metadata": {},
     "output_type": "execute_result"
    }
   ],
   "source": [
    "msssim_mean_list"
   ]
  },
  {
   "cell_type": "code",
   "execution_count": 57,
   "metadata": {},
   "outputs": [
    {
     "data": {
      "text/plain": [
       "([5.039859, 5.2972035, 6.1276836, 5.8041406, 4.384928],\n",
       " [0.04425198, 0.045174543, 0.033766285, 0.022369577, 0.016264055],\n",
       " [0.010035755, 0.009936317, 0.0075638136, 0.005140843, 0.0037173126])"
      ]
     },
     "execution_count": 57,
     "metadata": {},
     "output_type": "execute_result"
    }
   ],
   "source": [
    "psnr_std_list, ssim_std_list, msssim_std_list"
   ]
  },
  {
   "cell_type": "code",
   "execution_count": 62,
   "metadata": {},
   "outputs": [
    {
     "data": {
      "application/vnd.plotly.v1+json": {
       "config": {
        "plotlyServerURL": "https://plot.ly"
       },
       "data": [
        {
         "error_y": {
          "array": [
           5.039858818054199,
           5.297203540802002,
           6.127683639526367,
           5.804140567779541,
           4.384928226470947
          ],
          "type": "data"
         },
         "line": {
          "width": 5
         },
         "marker": {
          "size": 9
         },
         "mode": "lines+markers+text",
         "text": [
          "28.705872",
          "29.432236",
          "32.47057",
          "34.34089",
          "34.345016"
         ],
         "textposition": "bottom center",
         "type": "scatter",
         "x": [
          1,
          2,
          4,
          6,
          8
         ],
         "xaxis": "x",
         "y": [
          28.70587158203125,
          29.432235717773438,
          32.4705696105957,
          34.34088897705078,
          34.34501647949219
         ],
         "yaxis": "y"
        }
       ],
       "layout": {
        "autosize": false,
        "height": 700,
        "legend": {
         "font": {
          "color": "black",
          "family": "Arial Black",
          "size": 30
         },
         "title": {
          "font": {
           "color": "green",
           "family": "Arial Black",
           "size": 30
          },
          "text": "Group"
         }
        },
        "plot_bgcolor": "white",
        "template": {
         "data": {
          "bar": [
           {
            "error_x": {
             "color": "#2a3f5f"
            },
            "error_y": {
             "color": "#2a3f5f"
            },
            "marker": {
             "line": {
              "color": "#E5ECF6",
              "width": 0.5
             },
             "pattern": {
              "fillmode": "overlay",
              "size": 10,
              "solidity": 0.2
             }
            },
            "type": "bar"
           }
          ],
          "barpolar": [
           {
            "marker": {
             "line": {
              "color": "#E5ECF6",
              "width": 0.5
             },
             "pattern": {
              "fillmode": "overlay",
              "size": 10,
              "solidity": 0.2
             }
            },
            "type": "barpolar"
           }
          ],
          "carpet": [
           {
            "aaxis": {
             "endlinecolor": "#2a3f5f",
             "gridcolor": "white",
             "linecolor": "white",
             "minorgridcolor": "white",
             "startlinecolor": "#2a3f5f"
            },
            "baxis": {
             "endlinecolor": "#2a3f5f",
             "gridcolor": "white",
             "linecolor": "white",
             "minorgridcolor": "white",
             "startlinecolor": "#2a3f5f"
            },
            "type": "carpet"
           }
          ],
          "choropleth": [
           {
            "colorbar": {
             "outlinewidth": 0,
             "ticks": ""
            },
            "type": "choropleth"
           }
          ],
          "contour": [
           {
            "colorbar": {
             "outlinewidth": 0,
             "ticks": ""
            },
            "colorscale": [
             [
              0,
              "#0d0887"
             ],
             [
              0.1111111111111111,
              "#46039f"
             ],
             [
              0.2222222222222222,
              "#7201a8"
             ],
             [
              0.3333333333333333,
              "#9c179e"
             ],
             [
              0.4444444444444444,
              "#bd3786"
             ],
             [
              0.5555555555555556,
              "#d8576b"
             ],
             [
              0.6666666666666666,
              "#ed7953"
             ],
             [
              0.7777777777777778,
              "#fb9f3a"
             ],
             [
              0.8888888888888888,
              "#fdca26"
             ],
             [
              1,
              "#f0f921"
             ]
            ],
            "type": "contour"
           }
          ],
          "contourcarpet": [
           {
            "colorbar": {
             "outlinewidth": 0,
             "ticks": ""
            },
            "type": "contourcarpet"
           }
          ],
          "heatmap": [
           {
            "colorbar": {
             "outlinewidth": 0,
             "ticks": ""
            },
            "colorscale": [
             [
              0,
              "#0d0887"
             ],
             [
              0.1111111111111111,
              "#46039f"
             ],
             [
              0.2222222222222222,
              "#7201a8"
             ],
             [
              0.3333333333333333,
              "#9c179e"
             ],
             [
              0.4444444444444444,
              "#bd3786"
             ],
             [
              0.5555555555555556,
              "#d8576b"
             ],
             [
              0.6666666666666666,
              "#ed7953"
             ],
             [
              0.7777777777777778,
              "#fb9f3a"
             ],
             [
              0.8888888888888888,
              "#fdca26"
             ],
             [
              1,
              "#f0f921"
             ]
            ],
            "type": "heatmap"
           }
          ],
          "heatmapgl": [
           {
            "colorbar": {
             "outlinewidth": 0,
             "ticks": ""
            },
            "colorscale": [
             [
              0,
              "#0d0887"
             ],
             [
              0.1111111111111111,
              "#46039f"
             ],
             [
              0.2222222222222222,
              "#7201a8"
             ],
             [
              0.3333333333333333,
              "#9c179e"
             ],
             [
              0.4444444444444444,
              "#bd3786"
             ],
             [
              0.5555555555555556,
              "#d8576b"
             ],
             [
              0.6666666666666666,
              "#ed7953"
             ],
             [
              0.7777777777777778,
              "#fb9f3a"
             ],
             [
              0.8888888888888888,
              "#fdca26"
             ],
             [
              1,
              "#f0f921"
             ]
            ],
            "type": "heatmapgl"
           }
          ],
          "histogram": [
           {
            "marker": {
             "pattern": {
              "fillmode": "overlay",
              "size": 10,
              "solidity": 0.2
             }
            },
            "type": "histogram"
           }
          ],
          "histogram2d": [
           {
            "colorbar": {
             "outlinewidth": 0,
             "ticks": ""
            },
            "colorscale": [
             [
              0,
              "#0d0887"
             ],
             [
              0.1111111111111111,
              "#46039f"
             ],
             [
              0.2222222222222222,
              "#7201a8"
             ],
             [
              0.3333333333333333,
              "#9c179e"
             ],
             [
              0.4444444444444444,
              "#bd3786"
             ],
             [
              0.5555555555555556,
              "#d8576b"
             ],
             [
              0.6666666666666666,
              "#ed7953"
             ],
             [
              0.7777777777777778,
              "#fb9f3a"
             ],
             [
              0.8888888888888888,
              "#fdca26"
             ],
             [
              1,
              "#f0f921"
             ]
            ],
            "type": "histogram2d"
           }
          ],
          "histogram2dcontour": [
           {
            "colorbar": {
             "outlinewidth": 0,
             "ticks": ""
            },
            "colorscale": [
             [
              0,
              "#0d0887"
             ],
             [
              0.1111111111111111,
              "#46039f"
             ],
             [
              0.2222222222222222,
              "#7201a8"
             ],
             [
              0.3333333333333333,
              "#9c179e"
             ],
             [
              0.4444444444444444,
              "#bd3786"
             ],
             [
              0.5555555555555556,
              "#d8576b"
             ],
             [
              0.6666666666666666,
              "#ed7953"
             ],
             [
              0.7777777777777778,
              "#fb9f3a"
             ],
             [
              0.8888888888888888,
              "#fdca26"
             ],
             [
              1,
              "#f0f921"
             ]
            ],
            "type": "histogram2dcontour"
           }
          ],
          "mesh3d": [
           {
            "colorbar": {
             "outlinewidth": 0,
             "ticks": ""
            },
            "type": "mesh3d"
           }
          ],
          "parcoords": [
           {
            "line": {
             "colorbar": {
              "outlinewidth": 0,
              "ticks": ""
             }
            },
            "type": "parcoords"
           }
          ],
          "pie": [
           {
            "automargin": true,
            "type": "pie"
           }
          ],
          "scatter": [
           {
            "fillpattern": {
             "fillmode": "overlay",
             "size": 10,
             "solidity": 0.2
            },
            "type": "scatter"
           }
          ],
          "scatter3d": [
           {
            "line": {
             "colorbar": {
              "outlinewidth": 0,
              "ticks": ""
             }
            },
            "marker": {
             "colorbar": {
              "outlinewidth": 0,
              "ticks": ""
             }
            },
            "type": "scatter3d"
           }
          ],
          "scattercarpet": [
           {
            "marker": {
             "colorbar": {
              "outlinewidth": 0,
              "ticks": ""
             }
            },
            "type": "scattercarpet"
           }
          ],
          "scattergeo": [
           {
            "marker": {
             "colorbar": {
              "outlinewidth": 0,
              "ticks": ""
             }
            },
            "type": "scattergeo"
           }
          ],
          "scattergl": [
           {
            "marker": {
             "colorbar": {
              "outlinewidth": 0,
              "ticks": ""
             }
            },
            "type": "scattergl"
           }
          ],
          "scattermapbox": [
           {
            "marker": {
             "colorbar": {
              "outlinewidth": 0,
              "ticks": ""
             }
            },
            "type": "scattermapbox"
           }
          ],
          "scatterpolar": [
           {
            "marker": {
             "colorbar": {
              "outlinewidth": 0,
              "ticks": ""
             }
            },
            "type": "scatterpolar"
           }
          ],
          "scatterpolargl": [
           {
            "marker": {
             "colorbar": {
              "outlinewidth": 0,
              "ticks": ""
             }
            },
            "type": "scatterpolargl"
           }
          ],
          "scatterternary": [
           {
            "marker": {
             "colorbar": {
              "outlinewidth": 0,
              "ticks": ""
             }
            },
            "type": "scatterternary"
           }
          ],
          "surface": [
           {
            "colorbar": {
             "outlinewidth": 0,
             "ticks": ""
            },
            "colorscale": [
             [
              0,
              "#0d0887"
             ],
             [
              0.1111111111111111,
              "#46039f"
             ],
             [
              0.2222222222222222,
              "#7201a8"
             ],
             [
              0.3333333333333333,
              "#9c179e"
             ],
             [
              0.4444444444444444,
              "#bd3786"
             ],
             [
              0.5555555555555556,
              "#d8576b"
             ],
             [
              0.6666666666666666,
              "#ed7953"
             ],
             [
              0.7777777777777778,
              "#fb9f3a"
             ],
             [
              0.8888888888888888,
              "#fdca26"
             ],
             [
              1,
              "#f0f921"
             ]
            ],
            "type": "surface"
           }
          ],
          "table": [
           {
            "cells": {
             "fill": {
              "color": "#EBF0F8"
             },
             "line": {
              "color": "white"
             }
            },
            "header": {
             "fill": {
              "color": "#C8D4E3"
             },
             "line": {
              "color": "white"
             }
            },
            "type": "table"
           }
          ]
         },
         "layout": {
          "annotationdefaults": {
           "arrowcolor": "#2a3f5f",
           "arrowhead": 0,
           "arrowwidth": 1
          },
          "autotypenumbers": "strict",
          "coloraxis": {
           "colorbar": {
            "outlinewidth": 0,
            "ticks": ""
           }
          },
          "colorscale": {
           "diverging": [
            [
             0,
             "#8e0152"
            ],
            [
             0.1,
             "#c51b7d"
            ],
            [
             0.2,
             "#de77ae"
            ],
            [
             0.3,
             "#f1b6da"
            ],
            [
             0.4,
             "#fde0ef"
            ],
            [
             0.5,
             "#f7f7f7"
            ],
            [
             0.6,
             "#e6f5d0"
            ],
            [
             0.7,
             "#b8e186"
            ],
            [
             0.8,
             "#7fbc41"
            ],
            [
             0.9,
             "#4d9221"
            ],
            [
             1,
             "#276419"
            ]
           ],
           "sequential": [
            [
             0,
             "#0d0887"
            ],
            [
             0.1111111111111111,
             "#46039f"
            ],
            [
             0.2222222222222222,
             "#7201a8"
            ],
            [
             0.3333333333333333,
             "#9c179e"
            ],
            [
             0.4444444444444444,
             "#bd3786"
            ],
            [
             0.5555555555555556,
             "#d8576b"
            ],
            [
             0.6666666666666666,
             "#ed7953"
            ],
            [
             0.7777777777777778,
             "#fb9f3a"
            ],
            [
             0.8888888888888888,
             "#fdca26"
            ],
            [
             1,
             "#f0f921"
            ]
           ],
           "sequentialminus": [
            [
             0,
             "#0d0887"
            ],
            [
             0.1111111111111111,
             "#46039f"
            ],
            [
             0.2222222222222222,
             "#7201a8"
            ],
            [
             0.3333333333333333,
             "#9c179e"
            ],
            [
             0.4444444444444444,
             "#bd3786"
            ],
            [
             0.5555555555555556,
             "#d8576b"
            ],
            [
             0.6666666666666666,
             "#ed7953"
            ],
            [
             0.7777777777777778,
             "#fb9f3a"
            ],
            [
             0.8888888888888888,
             "#fdca26"
            ],
            [
             1,
             "#f0f921"
            ]
           ]
          },
          "colorway": [
           "#636efa",
           "#EF553B",
           "#00cc96",
           "#ab63fa",
           "#FFA15A",
           "#19d3f3",
           "#FF6692",
           "#B6E880",
           "#FF97FF",
           "#FECB52"
          ],
          "font": {
           "color": "#2a3f5f"
          },
          "geo": {
           "bgcolor": "white",
           "lakecolor": "white",
           "landcolor": "#E5ECF6",
           "showlakes": true,
           "showland": true,
           "subunitcolor": "white"
          },
          "hoverlabel": {
           "align": "left"
          },
          "hovermode": "closest",
          "mapbox": {
           "style": "light"
          },
          "paper_bgcolor": "white",
          "plot_bgcolor": "#E5ECF6",
          "polar": {
           "angularaxis": {
            "gridcolor": "white",
            "linecolor": "white",
            "ticks": ""
           },
           "bgcolor": "#E5ECF6",
           "radialaxis": {
            "gridcolor": "white",
            "linecolor": "white",
            "ticks": ""
           }
          },
          "scene": {
           "xaxis": {
            "backgroundcolor": "#E5ECF6",
            "gridcolor": "white",
            "gridwidth": 2,
            "linecolor": "white",
            "showbackground": true,
            "ticks": "",
            "zerolinecolor": "white"
           },
           "yaxis": {
            "backgroundcolor": "#E5ECF6",
            "gridcolor": "white",
            "gridwidth": 2,
            "linecolor": "white",
            "showbackground": true,
            "ticks": "",
            "zerolinecolor": "white"
           },
           "zaxis": {
            "backgroundcolor": "#E5ECF6",
            "gridcolor": "white",
            "gridwidth": 2,
            "linecolor": "white",
            "showbackground": true,
            "ticks": "",
            "zerolinecolor": "white"
           }
          },
          "shapedefaults": {
           "line": {
            "color": "#2a3f5f"
           }
          },
          "ternary": {
           "aaxis": {
            "gridcolor": "white",
            "linecolor": "white",
            "ticks": ""
           },
           "baxis": {
            "gridcolor": "white",
            "linecolor": "white",
            "ticks": ""
           },
           "bgcolor": "#E5ECF6",
           "caxis": {
            "gridcolor": "white",
            "linecolor": "white",
            "ticks": ""
           }
          },
          "title": {
           "x": 0.05
          },
          "xaxis": {
           "automargin": true,
           "gridcolor": "white",
           "linecolor": "white",
           "ticks": "",
           "title": {
            "standoff": 15
           },
           "zerolinecolor": "white",
           "zerolinewidth": 2
          },
          "yaxis": {
           "automargin": true,
           "gridcolor": "white",
           "linecolor": "white",
           "ticks": "",
           "title": {
            "standoff": 15
           },
           "zerolinecolor": "white",
           "zerolinewidth": 2
          }
         }
        },
        "width": 1000,
        "xaxis": {
         "anchor": "y",
         "domain": [
          0,
          1
         ],
         "gridcolor": "lightgrey",
         "linecolor": "black",
         "linewidth": 4,
         "mirror": true,
         "tickfont": {
          "family": "Arial Black",
          "size": 20
         },
         "tickmode": "array",
         "ticks": "outside",
         "title": {
          "font": {
           "size": 25
          },
          "text": "<b> Number of images</b> "
         },
         "zeroline": true,
         "zerolinewidth": 2
        },
        "yaxis": {
         "anchor": "x",
         "domain": [
          0,
          1
         ],
         "gridcolor": "lightgrey",
         "linecolor": "black",
         "linewidth": 4,
         "mirror": true,
         "range": [
          0,
          50
         ],
         "showline": true,
         "tickfont": {
          "family": "Arial Black",
          "size": 20
         },
         "tickmode": "array",
         "ticks": "outside",
         "title": {
          "font": {
           "size": 25
          },
          "text": "<b> PSNR value </b> "
         },
         "zeroline": true,
         "zerolinewidth": 2
        }
       }
      },
      "text/html": [
       "<div>                            <div id=\"19d4d17c-923f-4127-a027-79a7d9fd8e11\" class=\"plotly-graph-div\" style=\"height:700px; width:1000px;\"></div>            <script type=\"text/javascript\">                require([\"plotly\"], function(Plotly) {                    window.PLOTLYENV=window.PLOTLYENV || {};                                    if (document.getElementById(\"19d4d17c-923f-4127-a027-79a7d9fd8e11\")) {                    Plotly.newPlot(                        \"19d4d17c-923f-4127-a027-79a7d9fd8e11\",                        [{\"error_y\":{\"array\":[5.039858818054199,5.297203540802002,6.127683639526367,5.804140567779541,4.384928226470947],\"type\":\"data\"},\"line\":{\"width\":5},\"marker\":{\"size\":9},\"mode\":\"lines+markers+text\",\"text\":[\"28.705872\",\"29.432236\",\"32.47057\",\"34.34089\",\"34.345016\"],\"textposition\":\"bottom center\",\"x\":[1,2,4,6,8],\"y\":[28.70587158203125,29.432235717773438,32.4705696105957,34.34088897705078,34.34501647949219],\"type\":\"scatter\",\"xaxis\":\"x\",\"yaxis\":\"y\"}],                        {\"template\":{\"data\":{\"histogram2dcontour\":[{\"type\":\"histogram2dcontour\",\"colorbar\":{\"outlinewidth\":0,\"ticks\":\"\"},\"colorscale\":[[0.0,\"#0d0887\"],[0.1111111111111111,\"#46039f\"],[0.2222222222222222,\"#7201a8\"],[0.3333333333333333,\"#9c179e\"],[0.4444444444444444,\"#bd3786\"],[0.5555555555555556,\"#d8576b\"],[0.6666666666666666,\"#ed7953\"],[0.7777777777777778,\"#fb9f3a\"],[0.8888888888888888,\"#fdca26\"],[1.0,\"#f0f921\"]]}],\"choropleth\":[{\"type\":\"choropleth\",\"colorbar\":{\"outlinewidth\":0,\"ticks\":\"\"}}],\"histogram2d\":[{\"type\":\"histogram2d\",\"colorbar\":{\"outlinewidth\":0,\"ticks\":\"\"},\"colorscale\":[[0.0,\"#0d0887\"],[0.1111111111111111,\"#46039f\"],[0.2222222222222222,\"#7201a8\"],[0.3333333333333333,\"#9c179e\"],[0.4444444444444444,\"#bd3786\"],[0.5555555555555556,\"#d8576b\"],[0.6666666666666666,\"#ed7953\"],[0.7777777777777778,\"#fb9f3a\"],[0.8888888888888888,\"#fdca26\"],[1.0,\"#f0f921\"]]}],\"heatmap\":[{\"type\":\"heatmap\",\"colorbar\":{\"outlinewidth\":0,\"ticks\":\"\"},\"colorscale\":[[0.0,\"#0d0887\"],[0.1111111111111111,\"#46039f\"],[0.2222222222222222,\"#7201a8\"],[0.3333333333333333,\"#9c179e\"],[0.4444444444444444,\"#bd3786\"],[0.5555555555555556,\"#d8576b\"],[0.6666666666666666,\"#ed7953\"],[0.7777777777777778,\"#fb9f3a\"],[0.8888888888888888,\"#fdca26\"],[1.0,\"#f0f921\"]]}],\"heatmapgl\":[{\"type\":\"heatmapgl\",\"colorbar\":{\"outlinewidth\":0,\"ticks\":\"\"},\"colorscale\":[[0.0,\"#0d0887\"],[0.1111111111111111,\"#46039f\"],[0.2222222222222222,\"#7201a8\"],[0.3333333333333333,\"#9c179e\"],[0.4444444444444444,\"#bd3786\"],[0.5555555555555556,\"#d8576b\"],[0.6666666666666666,\"#ed7953\"],[0.7777777777777778,\"#fb9f3a\"],[0.8888888888888888,\"#fdca26\"],[1.0,\"#f0f921\"]]}],\"contourcarpet\":[{\"type\":\"contourcarpet\",\"colorbar\":{\"outlinewidth\":0,\"ticks\":\"\"}}],\"contour\":[{\"type\":\"contour\",\"colorbar\":{\"outlinewidth\":0,\"ticks\":\"\"},\"colorscale\":[[0.0,\"#0d0887\"],[0.1111111111111111,\"#46039f\"],[0.2222222222222222,\"#7201a8\"],[0.3333333333333333,\"#9c179e\"],[0.4444444444444444,\"#bd3786\"],[0.5555555555555556,\"#d8576b\"],[0.6666666666666666,\"#ed7953\"],[0.7777777777777778,\"#fb9f3a\"],[0.8888888888888888,\"#fdca26\"],[1.0,\"#f0f921\"]]}],\"surface\":[{\"type\":\"surface\",\"colorbar\":{\"outlinewidth\":0,\"ticks\":\"\"},\"colorscale\":[[0.0,\"#0d0887\"],[0.1111111111111111,\"#46039f\"],[0.2222222222222222,\"#7201a8\"],[0.3333333333333333,\"#9c179e\"],[0.4444444444444444,\"#bd3786\"],[0.5555555555555556,\"#d8576b\"],[0.6666666666666666,\"#ed7953\"],[0.7777777777777778,\"#fb9f3a\"],[0.8888888888888888,\"#fdca26\"],[1.0,\"#f0f921\"]]}],\"mesh3d\":[{\"type\":\"mesh3d\",\"colorbar\":{\"outlinewidth\":0,\"ticks\":\"\"}}],\"scatter\":[{\"fillpattern\":{\"fillmode\":\"overlay\",\"size\":10,\"solidity\":0.2},\"type\":\"scatter\"}],\"parcoords\":[{\"type\":\"parcoords\",\"line\":{\"colorbar\":{\"outlinewidth\":0,\"ticks\":\"\"}}}],\"scatterpolargl\":[{\"type\":\"scatterpolargl\",\"marker\":{\"colorbar\":{\"outlinewidth\":0,\"ticks\":\"\"}}}],\"bar\":[{\"error_x\":{\"color\":\"#2a3f5f\"},\"error_y\":{\"color\":\"#2a3f5f\"},\"marker\":{\"line\":{\"color\":\"#E5ECF6\",\"width\":0.5},\"pattern\":{\"fillmode\":\"overlay\",\"size\":10,\"solidity\":0.2}},\"type\":\"bar\"}],\"scattergeo\":[{\"type\":\"scattergeo\",\"marker\":{\"colorbar\":{\"outlinewidth\":0,\"ticks\":\"\"}}}],\"scatterpolar\":[{\"type\":\"scatterpolar\",\"marker\":{\"colorbar\":{\"outlinewidth\":0,\"ticks\":\"\"}}}],\"histogram\":[{\"marker\":{\"pattern\":{\"fillmode\":\"overlay\",\"size\":10,\"solidity\":0.2}},\"type\":\"histogram\"}],\"scattergl\":[{\"type\":\"scattergl\",\"marker\":{\"colorbar\":{\"outlinewidth\":0,\"ticks\":\"\"}}}],\"scatter3d\":[{\"type\":\"scatter3d\",\"line\":{\"colorbar\":{\"outlinewidth\":0,\"ticks\":\"\"}},\"marker\":{\"colorbar\":{\"outlinewidth\":0,\"ticks\":\"\"}}}],\"scattermapbox\":[{\"type\":\"scattermapbox\",\"marker\":{\"colorbar\":{\"outlinewidth\":0,\"ticks\":\"\"}}}],\"scatterternary\":[{\"type\":\"scatterternary\",\"marker\":{\"colorbar\":{\"outlinewidth\":0,\"ticks\":\"\"}}}],\"scattercarpet\":[{\"type\":\"scattercarpet\",\"marker\":{\"colorbar\":{\"outlinewidth\":0,\"ticks\":\"\"}}}],\"carpet\":[{\"aaxis\":{\"endlinecolor\":\"#2a3f5f\",\"gridcolor\":\"white\",\"linecolor\":\"white\",\"minorgridcolor\":\"white\",\"startlinecolor\":\"#2a3f5f\"},\"baxis\":{\"endlinecolor\":\"#2a3f5f\",\"gridcolor\":\"white\",\"linecolor\":\"white\",\"minorgridcolor\":\"white\",\"startlinecolor\":\"#2a3f5f\"},\"type\":\"carpet\"}],\"table\":[{\"cells\":{\"fill\":{\"color\":\"#EBF0F8\"},\"line\":{\"color\":\"white\"}},\"header\":{\"fill\":{\"color\":\"#C8D4E3\"},\"line\":{\"color\":\"white\"}},\"type\":\"table\"}],\"barpolar\":[{\"marker\":{\"line\":{\"color\":\"#E5ECF6\",\"width\":0.5},\"pattern\":{\"fillmode\":\"overlay\",\"size\":10,\"solidity\":0.2}},\"type\":\"barpolar\"}],\"pie\":[{\"automargin\":true,\"type\":\"pie\"}]},\"layout\":{\"autotypenumbers\":\"strict\",\"colorway\":[\"#636efa\",\"#EF553B\",\"#00cc96\",\"#ab63fa\",\"#FFA15A\",\"#19d3f3\",\"#FF6692\",\"#B6E880\",\"#FF97FF\",\"#FECB52\"],\"font\":{\"color\":\"#2a3f5f\"},\"hovermode\":\"closest\",\"hoverlabel\":{\"align\":\"left\"},\"paper_bgcolor\":\"white\",\"plot_bgcolor\":\"#E5ECF6\",\"polar\":{\"bgcolor\":\"#E5ECF6\",\"angularaxis\":{\"gridcolor\":\"white\",\"linecolor\":\"white\",\"ticks\":\"\"},\"radialaxis\":{\"gridcolor\":\"white\",\"linecolor\":\"white\",\"ticks\":\"\"}},\"ternary\":{\"bgcolor\":\"#E5ECF6\",\"aaxis\":{\"gridcolor\":\"white\",\"linecolor\":\"white\",\"ticks\":\"\"},\"baxis\":{\"gridcolor\":\"white\",\"linecolor\":\"white\",\"ticks\":\"\"},\"caxis\":{\"gridcolor\":\"white\",\"linecolor\":\"white\",\"ticks\":\"\"}},\"coloraxis\":{\"colorbar\":{\"outlinewidth\":0,\"ticks\":\"\"}},\"colorscale\":{\"sequential\":[[0.0,\"#0d0887\"],[0.1111111111111111,\"#46039f\"],[0.2222222222222222,\"#7201a8\"],[0.3333333333333333,\"#9c179e\"],[0.4444444444444444,\"#bd3786\"],[0.5555555555555556,\"#d8576b\"],[0.6666666666666666,\"#ed7953\"],[0.7777777777777778,\"#fb9f3a\"],[0.8888888888888888,\"#fdca26\"],[1.0,\"#f0f921\"]],\"sequentialminus\":[[0.0,\"#0d0887\"],[0.1111111111111111,\"#46039f\"],[0.2222222222222222,\"#7201a8\"],[0.3333333333333333,\"#9c179e\"],[0.4444444444444444,\"#bd3786\"],[0.5555555555555556,\"#d8576b\"],[0.6666666666666666,\"#ed7953\"],[0.7777777777777778,\"#fb9f3a\"],[0.8888888888888888,\"#fdca26\"],[1.0,\"#f0f921\"]],\"diverging\":[[0,\"#8e0152\"],[0.1,\"#c51b7d\"],[0.2,\"#de77ae\"],[0.3,\"#f1b6da\"],[0.4,\"#fde0ef\"],[0.5,\"#f7f7f7\"],[0.6,\"#e6f5d0\"],[0.7,\"#b8e186\"],[0.8,\"#7fbc41\"],[0.9,\"#4d9221\"],[1,\"#276419\"]]},\"xaxis\":{\"gridcolor\":\"white\",\"linecolor\":\"white\",\"ticks\":\"\",\"title\":{\"standoff\":15},\"zerolinecolor\":\"white\",\"automargin\":true,\"zerolinewidth\":2},\"yaxis\":{\"gridcolor\":\"white\",\"linecolor\":\"white\",\"ticks\":\"\",\"title\":{\"standoff\":15},\"zerolinecolor\":\"white\",\"automargin\":true,\"zerolinewidth\":2},\"scene\":{\"xaxis\":{\"backgroundcolor\":\"#E5ECF6\",\"gridcolor\":\"white\",\"linecolor\":\"white\",\"showbackground\":true,\"ticks\":\"\",\"zerolinecolor\":\"white\",\"gridwidth\":2},\"yaxis\":{\"backgroundcolor\":\"#E5ECF6\",\"gridcolor\":\"white\",\"linecolor\":\"white\",\"showbackground\":true,\"ticks\":\"\",\"zerolinecolor\":\"white\",\"gridwidth\":2},\"zaxis\":{\"backgroundcolor\":\"#E5ECF6\",\"gridcolor\":\"white\",\"linecolor\":\"white\",\"showbackground\":true,\"ticks\":\"\",\"zerolinecolor\":\"white\",\"gridwidth\":2}},\"shapedefaults\":{\"line\":{\"color\":\"#2a3f5f\"}},\"annotationdefaults\":{\"arrowcolor\":\"#2a3f5f\",\"arrowhead\":0,\"arrowwidth\":1},\"geo\":{\"bgcolor\":\"white\",\"landcolor\":\"#E5ECF6\",\"subunitcolor\":\"white\",\"showland\":true,\"showlakes\":true,\"lakecolor\":\"white\"},\"title\":{\"x\":0.05},\"mapbox\":{\"style\":\"light\"}}},\"xaxis\":{\"anchor\":\"y\",\"domain\":[0.0,1.0],\"title\":{\"font\":{\"size\":25},\"text\":\"<b> Number of images</b> \"},\"mirror\":true,\"ticks\":\"outside\",\"linecolor\":\"black\",\"gridcolor\":\"lightgrey\",\"tickmode\":\"array\",\"zeroline\":true,\"zerolinewidth\":2,\"linewidth\":4,\"tickfont\":{\"size\":20,\"family\":\"Arial Black\"}},\"yaxis\":{\"anchor\":\"x\",\"domain\":[0.0,1.0],\"title\":{\"font\":{\"size\":25},\"text\":\"<b> PSNR value </b> \"},\"mirror\":true,\"ticks\":\"outside\",\"showline\":true,\"linecolor\":\"black\",\"gridcolor\":\"lightgrey\",\"range\":[0,50],\"tickmode\":\"array\",\"zeroline\":true,\"zerolinewidth\":2,\"linewidth\":4,\"tickfont\":{\"size\":20,\"family\":\"Arial Black\"}},\"height\":700,\"width\":1000,\"plot_bgcolor\":\"white\",\"autosize\":false,\"legend\":{\"font\":{\"family\":\"Arial Black\",\"size\":30,\"color\":\"black\"},\"title\":{\"font\":{\"family\":\"Arial Black\",\"size\":30,\"color\":\"green\"},\"text\":\"Group\"}}},                        {\"responsive\": true}                    ).then(function(){\n",
       "                            \n",
       "var gd = document.getElementById('19d4d17c-923f-4127-a027-79a7d9fd8e11');\n",
       "var x = new MutationObserver(function (mutations, observer) {{\n",
       "        var display = window.getComputedStyle(gd).display;\n",
       "        if (!display || display === 'none') {{\n",
       "            console.log([gd, 'removed!']);\n",
       "            Plotly.purge(gd);\n",
       "            observer.disconnect();\n",
       "        }}\n",
       "}});\n",
       "\n",
       "// Listen for the removal of the full notebook cells\n",
       "var notebookContainer = gd.closest('#notebook-container');\n",
       "if (notebookContainer) {{\n",
       "    x.observe(notebookContainer, {childList: true});\n",
       "}}\n",
       "\n",
       "// Listen for the clearing of the current output cell\n",
       "var outputEl = gd.closest('.output');\n",
       "if (outputEl) {{\n",
       "    x.observe(outputEl, {childList: true});\n",
       "}}\n",
       "\n",
       "                        })                };                });            </script>        </div>"
      ]
     },
     "metadata": {},
     "output_type": "display_data"
    }
   ],
   "source": [
    "from plotly.subplots import make_subplots\n",
    "\n",
    "\n",
    "fig = make_subplots(rows=1, cols=1)\n",
    "\n",
    "fig.add_trace(go.Scatter(y=psnr_mean_list, x=image_count, mode=\"lines+markers+text\",\n",
    "            marker=dict(\n",
    "                size=9,\n",
    "            ),line=dict(\n",
    "            width=5),text=psnr_mean_list,\n",
    "    textposition=\"bottom center\",error_y=dict(type='data', array=psnr_std_list)\n",
    "    \n",
    "            ), row=1, col=1)\n",
    "\n",
    "fig.update_layout(height=700, width=1000)\n",
    "fig.update_layout(\n",
    "        plot_bgcolor='white'\n",
    "    )\n",
    "fig.update_layout(\n",
    "    autosize=False,\n",
    "    xaxis = dict(\n",
    "        mirror=True,\n",
    "        ticks='outside',\n",
    "        #showline=True,\n",
    "        linecolor='black',\n",
    "        gridcolor='lightgrey',\n",
    "        tickmode = 'array',\n",
    "        #tickvals=[  \"Baseline\",   \"5\",  \"10\",  \"15\",  \"20\",  \"25\",  \"30\",  \"40\",  \"50\",  \"60\",  \"75\",\n",
    "        #\"90\", \"105\", \"120\", \"135\"],\n",
    "        #range=[0, 140],\n",
    "        zeroline=True, zerolinewidth=2,\n",
    "        linewidth = 4\n",
    "        #, ticklen=5,\n",
    "        #constrain=\"domain\",\n",
    "        #gridwidth=10,\n",
    "    #)\n",
    "    ),\n",
    "    #fig.update_yaxes(\n",
    "      yaxis = dict(  mirror=True,\n",
    "        ticks='outside',\n",
    "        showline=True,\n",
    "        linecolor='black',\n",
    "        gridcolor='lightgrey',\n",
    "        range=[0, 50],\n",
    "        tickmode = 'array',\n",
    "        zeroline=True, zerolinewidth=2,\n",
    "       linewidth=4\n",
    "        #gridwidth=10,\n",
    "        \n",
    "    ),\n",
    "      xaxis_title =dict(text=\"<b> Number of images</b> \", font=dict(size=25))  ,\n",
    "      yaxis_title=dict(text=\"<b> PSNR value </b> \", font=dict(size=25)) \n",
    "    )\n",
    "#fig.update_layout(\n",
    "#    title=dict(text=\"<b> Mean Pulse Rate </b>\", font=dict(size=35))\n",
    "#)\n",
    "fig.update_layout(\n",
    "yaxis = dict(\n",
    "tickfont = dict(size=20)))\n",
    "fig.update_layout(\n",
    "xaxis = dict(\n",
    "tickfont = dict(size=20)))\n",
    "fig.update_yaxes(tickfont_family=\"Arial Black\")\n",
    "fig.update_xaxes(tickfont_family=\"Arial Black\")\n",
    "fig.update_layout(legend = dict(font = dict(family = \"Arial Black\", size = 30, color = \"black\")),\n",
    "                  legend_title = dict(text=\"Group\", font = dict(family = \"Arial Black\", size = 30, color = \"green\")))\n",
    "\n",
    "#fig.update_layout(legend_title_text='Group',  dict(font = dict(family = \"Arial Black\", size = 20, color = \"black\"))\n",
    "\n",
    "fig.show()\n"
   ]
  },
  {
   "cell_type": "code",
   "execution_count": 67,
   "metadata": {},
   "outputs": [
    {
     "data": {
      "application/vnd.plotly.v1+json": {
       "config": {
        "plotlyServerURL": "https://plot.ly"
       },
       "data": [
        {
         "error_y": {
          "array": [
           0.01003575511276722,
           0.00993631687015295,
           0.007563813589513302,
           0.005140842869877815,
           0.003717312589287758
          ],
          "type": "data"
         },
         "line": {
          "width": 5
         },
         "marker": {
          "size": 9
         },
         "mode": "lines+markers+text",
         "text": [
          "0.98319954",
          "0.9841844",
          "0.9880916",
          "0.9907829",
          "0.9917404"
         ],
         "textposition": "bottom center",
         "type": "scatter",
         "x": [
          1,
          2,
          4,
          6,
          8
         ],
         "xaxis": "x",
         "y": [
          0.9831995368003845,
          0.9841843843460083,
          0.9880915880203247,
          0.9907829165458679,
          0.9917404055595398
         ],
         "yaxis": "y"
        }
       ],
       "layout": {
        "autosize": false,
        "height": 700,
        "legend": {
         "font": {
          "color": "black",
          "family": "Arial Black",
          "size": 30
         },
         "title": {
          "font": {
           "color": "green",
           "family": "Arial Black",
           "size": 30
          },
          "text": "Group"
         }
        },
        "plot_bgcolor": "white",
        "template": {
         "data": {
          "bar": [
           {
            "error_x": {
             "color": "#2a3f5f"
            },
            "error_y": {
             "color": "#2a3f5f"
            },
            "marker": {
             "line": {
              "color": "#E5ECF6",
              "width": 0.5
             },
             "pattern": {
              "fillmode": "overlay",
              "size": 10,
              "solidity": 0.2
             }
            },
            "type": "bar"
           }
          ],
          "barpolar": [
           {
            "marker": {
             "line": {
              "color": "#E5ECF6",
              "width": 0.5
             },
             "pattern": {
              "fillmode": "overlay",
              "size": 10,
              "solidity": 0.2
             }
            },
            "type": "barpolar"
           }
          ],
          "carpet": [
           {
            "aaxis": {
             "endlinecolor": "#2a3f5f",
             "gridcolor": "white",
             "linecolor": "white",
             "minorgridcolor": "white",
             "startlinecolor": "#2a3f5f"
            },
            "baxis": {
             "endlinecolor": "#2a3f5f",
             "gridcolor": "white",
             "linecolor": "white",
             "minorgridcolor": "white",
             "startlinecolor": "#2a3f5f"
            },
            "type": "carpet"
           }
          ],
          "choropleth": [
           {
            "colorbar": {
             "outlinewidth": 0,
             "ticks": ""
            },
            "type": "choropleth"
           }
          ],
          "contour": [
           {
            "colorbar": {
             "outlinewidth": 0,
             "ticks": ""
            },
            "colorscale": [
             [
              0,
              "#0d0887"
             ],
             [
              0.1111111111111111,
              "#46039f"
             ],
             [
              0.2222222222222222,
              "#7201a8"
             ],
             [
              0.3333333333333333,
              "#9c179e"
             ],
             [
              0.4444444444444444,
              "#bd3786"
             ],
             [
              0.5555555555555556,
              "#d8576b"
             ],
             [
              0.6666666666666666,
              "#ed7953"
             ],
             [
              0.7777777777777778,
              "#fb9f3a"
             ],
             [
              0.8888888888888888,
              "#fdca26"
             ],
             [
              1,
              "#f0f921"
             ]
            ],
            "type": "contour"
           }
          ],
          "contourcarpet": [
           {
            "colorbar": {
             "outlinewidth": 0,
             "ticks": ""
            },
            "type": "contourcarpet"
           }
          ],
          "heatmap": [
           {
            "colorbar": {
             "outlinewidth": 0,
             "ticks": ""
            },
            "colorscale": [
             [
              0,
              "#0d0887"
             ],
             [
              0.1111111111111111,
              "#46039f"
             ],
             [
              0.2222222222222222,
              "#7201a8"
             ],
             [
              0.3333333333333333,
              "#9c179e"
             ],
             [
              0.4444444444444444,
              "#bd3786"
             ],
             [
              0.5555555555555556,
              "#d8576b"
             ],
             [
              0.6666666666666666,
              "#ed7953"
             ],
             [
              0.7777777777777778,
              "#fb9f3a"
             ],
             [
              0.8888888888888888,
              "#fdca26"
             ],
             [
              1,
              "#f0f921"
             ]
            ],
            "type": "heatmap"
           }
          ],
          "heatmapgl": [
           {
            "colorbar": {
             "outlinewidth": 0,
             "ticks": ""
            },
            "colorscale": [
             [
              0,
              "#0d0887"
             ],
             [
              0.1111111111111111,
              "#46039f"
             ],
             [
              0.2222222222222222,
              "#7201a8"
             ],
             [
              0.3333333333333333,
              "#9c179e"
             ],
             [
              0.4444444444444444,
              "#bd3786"
             ],
             [
              0.5555555555555556,
              "#d8576b"
             ],
             [
              0.6666666666666666,
              "#ed7953"
             ],
             [
              0.7777777777777778,
              "#fb9f3a"
             ],
             [
              0.8888888888888888,
              "#fdca26"
             ],
             [
              1,
              "#f0f921"
             ]
            ],
            "type": "heatmapgl"
           }
          ],
          "histogram": [
           {
            "marker": {
             "pattern": {
              "fillmode": "overlay",
              "size": 10,
              "solidity": 0.2
             }
            },
            "type": "histogram"
           }
          ],
          "histogram2d": [
           {
            "colorbar": {
             "outlinewidth": 0,
             "ticks": ""
            },
            "colorscale": [
             [
              0,
              "#0d0887"
             ],
             [
              0.1111111111111111,
              "#46039f"
             ],
             [
              0.2222222222222222,
              "#7201a8"
             ],
             [
              0.3333333333333333,
              "#9c179e"
             ],
             [
              0.4444444444444444,
              "#bd3786"
             ],
             [
              0.5555555555555556,
              "#d8576b"
             ],
             [
              0.6666666666666666,
              "#ed7953"
             ],
             [
              0.7777777777777778,
              "#fb9f3a"
             ],
             [
              0.8888888888888888,
              "#fdca26"
             ],
             [
              1,
              "#f0f921"
             ]
            ],
            "type": "histogram2d"
           }
          ],
          "histogram2dcontour": [
           {
            "colorbar": {
             "outlinewidth": 0,
             "ticks": ""
            },
            "colorscale": [
             [
              0,
              "#0d0887"
             ],
             [
              0.1111111111111111,
              "#46039f"
             ],
             [
              0.2222222222222222,
              "#7201a8"
             ],
             [
              0.3333333333333333,
              "#9c179e"
             ],
             [
              0.4444444444444444,
              "#bd3786"
             ],
             [
              0.5555555555555556,
              "#d8576b"
             ],
             [
              0.6666666666666666,
              "#ed7953"
             ],
             [
              0.7777777777777778,
              "#fb9f3a"
             ],
             [
              0.8888888888888888,
              "#fdca26"
             ],
             [
              1,
              "#f0f921"
             ]
            ],
            "type": "histogram2dcontour"
           }
          ],
          "mesh3d": [
           {
            "colorbar": {
             "outlinewidth": 0,
             "ticks": ""
            },
            "type": "mesh3d"
           }
          ],
          "parcoords": [
           {
            "line": {
             "colorbar": {
              "outlinewidth": 0,
              "ticks": ""
             }
            },
            "type": "parcoords"
           }
          ],
          "pie": [
           {
            "automargin": true,
            "type": "pie"
           }
          ],
          "scatter": [
           {
            "fillpattern": {
             "fillmode": "overlay",
             "size": 10,
             "solidity": 0.2
            },
            "type": "scatter"
           }
          ],
          "scatter3d": [
           {
            "line": {
             "colorbar": {
              "outlinewidth": 0,
              "ticks": ""
             }
            },
            "marker": {
             "colorbar": {
              "outlinewidth": 0,
              "ticks": ""
             }
            },
            "type": "scatter3d"
           }
          ],
          "scattercarpet": [
           {
            "marker": {
             "colorbar": {
              "outlinewidth": 0,
              "ticks": ""
             }
            },
            "type": "scattercarpet"
           }
          ],
          "scattergeo": [
           {
            "marker": {
             "colorbar": {
              "outlinewidth": 0,
              "ticks": ""
             }
            },
            "type": "scattergeo"
           }
          ],
          "scattergl": [
           {
            "marker": {
             "colorbar": {
              "outlinewidth": 0,
              "ticks": ""
             }
            },
            "type": "scattergl"
           }
          ],
          "scattermapbox": [
           {
            "marker": {
             "colorbar": {
              "outlinewidth": 0,
              "ticks": ""
             }
            },
            "type": "scattermapbox"
           }
          ],
          "scatterpolar": [
           {
            "marker": {
             "colorbar": {
              "outlinewidth": 0,
              "ticks": ""
             }
            },
            "type": "scatterpolar"
           }
          ],
          "scatterpolargl": [
           {
            "marker": {
             "colorbar": {
              "outlinewidth": 0,
              "ticks": ""
             }
            },
            "type": "scatterpolargl"
           }
          ],
          "scatterternary": [
           {
            "marker": {
             "colorbar": {
              "outlinewidth": 0,
              "ticks": ""
             }
            },
            "type": "scatterternary"
           }
          ],
          "surface": [
           {
            "colorbar": {
             "outlinewidth": 0,
             "ticks": ""
            },
            "colorscale": [
             [
              0,
              "#0d0887"
             ],
             [
              0.1111111111111111,
              "#46039f"
             ],
             [
              0.2222222222222222,
              "#7201a8"
             ],
             [
              0.3333333333333333,
              "#9c179e"
             ],
             [
              0.4444444444444444,
              "#bd3786"
             ],
             [
              0.5555555555555556,
              "#d8576b"
             ],
             [
              0.6666666666666666,
              "#ed7953"
             ],
             [
              0.7777777777777778,
              "#fb9f3a"
             ],
             [
              0.8888888888888888,
              "#fdca26"
             ],
             [
              1,
              "#f0f921"
             ]
            ],
            "type": "surface"
           }
          ],
          "table": [
           {
            "cells": {
             "fill": {
              "color": "#EBF0F8"
             },
             "line": {
              "color": "white"
             }
            },
            "header": {
             "fill": {
              "color": "#C8D4E3"
             },
             "line": {
              "color": "white"
             }
            },
            "type": "table"
           }
          ]
         },
         "layout": {
          "annotationdefaults": {
           "arrowcolor": "#2a3f5f",
           "arrowhead": 0,
           "arrowwidth": 1
          },
          "autotypenumbers": "strict",
          "coloraxis": {
           "colorbar": {
            "outlinewidth": 0,
            "ticks": ""
           }
          },
          "colorscale": {
           "diverging": [
            [
             0,
             "#8e0152"
            ],
            [
             0.1,
             "#c51b7d"
            ],
            [
             0.2,
             "#de77ae"
            ],
            [
             0.3,
             "#f1b6da"
            ],
            [
             0.4,
             "#fde0ef"
            ],
            [
             0.5,
             "#f7f7f7"
            ],
            [
             0.6,
             "#e6f5d0"
            ],
            [
             0.7,
             "#b8e186"
            ],
            [
             0.8,
             "#7fbc41"
            ],
            [
             0.9,
             "#4d9221"
            ],
            [
             1,
             "#276419"
            ]
           ],
           "sequential": [
            [
             0,
             "#0d0887"
            ],
            [
             0.1111111111111111,
             "#46039f"
            ],
            [
             0.2222222222222222,
             "#7201a8"
            ],
            [
             0.3333333333333333,
             "#9c179e"
            ],
            [
             0.4444444444444444,
             "#bd3786"
            ],
            [
             0.5555555555555556,
             "#d8576b"
            ],
            [
             0.6666666666666666,
             "#ed7953"
            ],
            [
             0.7777777777777778,
             "#fb9f3a"
            ],
            [
             0.8888888888888888,
             "#fdca26"
            ],
            [
             1,
             "#f0f921"
            ]
           ],
           "sequentialminus": [
            [
             0,
             "#0d0887"
            ],
            [
             0.1111111111111111,
             "#46039f"
            ],
            [
             0.2222222222222222,
             "#7201a8"
            ],
            [
             0.3333333333333333,
             "#9c179e"
            ],
            [
             0.4444444444444444,
             "#bd3786"
            ],
            [
             0.5555555555555556,
             "#d8576b"
            ],
            [
             0.6666666666666666,
             "#ed7953"
            ],
            [
             0.7777777777777778,
             "#fb9f3a"
            ],
            [
             0.8888888888888888,
             "#fdca26"
            ],
            [
             1,
             "#f0f921"
            ]
           ]
          },
          "colorway": [
           "#636efa",
           "#EF553B",
           "#00cc96",
           "#ab63fa",
           "#FFA15A",
           "#19d3f3",
           "#FF6692",
           "#B6E880",
           "#FF97FF",
           "#FECB52"
          ],
          "font": {
           "color": "#2a3f5f"
          },
          "geo": {
           "bgcolor": "white",
           "lakecolor": "white",
           "landcolor": "#E5ECF6",
           "showlakes": true,
           "showland": true,
           "subunitcolor": "white"
          },
          "hoverlabel": {
           "align": "left"
          },
          "hovermode": "closest",
          "mapbox": {
           "style": "light"
          },
          "paper_bgcolor": "white",
          "plot_bgcolor": "#E5ECF6",
          "polar": {
           "angularaxis": {
            "gridcolor": "white",
            "linecolor": "white",
            "ticks": ""
           },
           "bgcolor": "#E5ECF6",
           "radialaxis": {
            "gridcolor": "white",
            "linecolor": "white",
            "ticks": ""
           }
          },
          "scene": {
           "xaxis": {
            "backgroundcolor": "#E5ECF6",
            "gridcolor": "white",
            "gridwidth": 2,
            "linecolor": "white",
            "showbackground": true,
            "ticks": "",
            "zerolinecolor": "white"
           },
           "yaxis": {
            "backgroundcolor": "#E5ECF6",
            "gridcolor": "white",
            "gridwidth": 2,
            "linecolor": "white",
            "showbackground": true,
            "ticks": "",
            "zerolinecolor": "white"
           },
           "zaxis": {
            "backgroundcolor": "#E5ECF6",
            "gridcolor": "white",
            "gridwidth": 2,
            "linecolor": "white",
            "showbackground": true,
            "ticks": "",
            "zerolinecolor": "white"
           }
          },
          "shapedefaults": {
           "line": {
            "color": "#2a3f5f"
           }
          },
          "ternary": {
           "aaxis": {
            "gridcolor": "white",
            "linecolor": "white",
            "ticks": ""
           },
           "baxis": {
            "gridcolor": "white",
            "linecolor": "white",
            "ticks": ""
           },
           "bgcolor": "#E5ECF6",
           "caxis": {
            "gridcolor": "white",
            "linecolor": "white",
            "ticks": ""
           }
          },
          "title": {
           "x": 0.05
          },
          "xaxis": {
           "automargin": true,
           "gridcolor": "white",
           "linecolor": "white",
           "ticks": "",
           "title": {
            "standoff": 15
           },
           "zerolinecolor": "white",
           "zerolinewidth": 2
          },
          "yaxis": {
           "automargin": true,
           "gridcolor": "white",
           "linecolor": "white",
           "ticks": "",
           "title": {
            "standoff": 15
           },
           "zerolinecolor": "white",
           "zerolinewidth": 2
          }
         }
        },
        "width": 1000,
        "xaxis": {
         "anchor": "y",
         "domain": [
          0,
          1
         ],
         "gridcolor": "lightgrey",
         "linecolor": "black",
         "linewidth": 4,
         "mirror": true,
         "tickfont": {
          "family": "Arial Black",
          "size": 20
         },
         "tickmode": "array",
         "ticks": "outside",
         "title": {
          "font": {
           "size": 25
          },
          "text": "<b> Number of images</b> "
         },
         "zeroline": true,
         "zerolinewidth": 2
        },
        "yaxis": {
         "anchor": "x",
         "domain": [
          0,
          1
         ],
         "gridcolor": "lightgrey",
         "linecolor": "black",
         "linewidth": 4,
         "mirror": true,
         "range": [
          0,
          1
         ],
         "showline": true,
         "tickfont": {
          "family": "Arial Black",
          "size": 20
         },
         "tickmode": "array",
         "ticks": "outside",
         "title": {
          "font": {
           "size": 25
          },
          "text": "<b> MSSSIM value </b> "
         },
         "zeroline": true,
         "zerolinewidth": 2
        }
       }
      },
      "text/html": [
       "<div>                            <div id=\"9acd7357-b4a7-4f93-ab82-870a378dd137\" class=\"plotly-graph-div\" style=\"height:700px; width:1000px;\"></div>            <script type=\"text/javascript\">                require([\"plotly\"], function(Plotly) {                    window.PLOTLYENV=window.PLOTLYENV || {};                                    if (document.getElementById(\"9acd7357-b4a7-4f93-ab82-870a378dd137\")) {                    Plotly.newPlot(                        \"9acd7357-b4a7-4f93-ab82-870a378dd137\",                        [{\"error_y\":{\"array\":[0.01003575511276722,0.00993631687015295,0.007563813589513302,0.005140842869877815,0.003717312589287758],\"type\":\"data\"},\"line\":{\"width\":5},\"marker\":{\"size\":9},\"mode\":\"lines+markers+text\",\"text\":[\"0.98319954\",\"0.9841844\",\"0.9880916\",\"0.9907829\",\"0.9917404\"],\"textposition\":\"bottom center\",\"x\":[1,2,4,6,8],\"y\":[0.9831995368003845,0.9841843843460083,0.9880915880203247,0.9907829165458679,0.9917404055595398],\"type\":\"scatter\",\"xaxis\":\"x\",\"yaxis\":\"y\"}],                        {\"template\":{\"data\":{\"histogram2dcontour\":[{\"type\":\"histogram2dcontour\",\"colorbar\":{\"outlinewidth\":0,\"ticks\":\"\"},\"colorscale\":[[0.0,\"#0d0887\"],[0.1111111111111111,\"#46039f\"],[0.2222222222222222,\"#7201a8\"],[0.3333333333333333,\"#9c179e\"],[0.4444444444444444,\"#bd3786\"],[0.5555555555555556,\"#d8576b\"],[0.6666666666666666,\"#ed7953\"],[0.7777777777777778,\"#fb9f3a\"],[0.8888888888888888,\"#fdca26\"],[1.0,\"#f0f921\"]]}],\"choropleth\":[{\"type\":\"choropleth\",\"colorbar\":{\"outlinewidth\":0,\"ticks\":\"\"}}],\"histogram2d\":[{\"type\":\"histogram2d\",\"colorbar\":{\"outlinewidth\":0,\"ticks\":\"\"},\"colorscale\":[[0.0,\"#0d0887\"],[0.1111111111111111,\"#46039f\"],[0.2222222222222222,\"#7201a8\"],[0.3333333333333333,\"#9c179e\"],[0.4444444444444444,\"#bd3786\"],[0.5555555555555556,\"#d8576b\"],[0.6666666666666666,\"#ed7953\"],[0.7777777777777778,\"#fb9f3a\"],[0.8888888888888888,\"#fdca26\"],[1.0,\"#f0f921\"]]}],\"heatmap\":[{\"type\":\"heatmap\",\"colorbar\":{\"outlinewidth\":0,\"ticks\":\"\"},\"colorscale\":[[0.0,\"#0d0887\"],[0.1111111111111111,\"#46039f\"],[0.2222222222222222,\"#7201a8\"],[0.3333333333333333,\"#9c179e\"],[0.4444444444444444,\"#bd3786\"],[0.5555555555555556,\"#d8576b\"],[0.6666666666666666,\"#ed7953\"],[0.7777777777777778,\"#fb9f3a\"],[0.8888888888888888,\"#fdca26\"],[1.0,\"#f0f921\"]]}],\"heatmapgl\":[{\"type\":\"heatmapgl\",\"colorbar\":{\"outlinewidth\":0,\"ticks\":\"\"},\"colorscale\":[[0.0,\"#0d0887\"],[0.1111111111111111,\"#46039f\"],[0.2222222222222222,\"#7201a8\"],[0.3333333333333333,\"#9c179e\"],[0.4444444444444444,\"#bd3786\"],[0.5555555555555556,\"#d8576b\"],[0.6666666666666666,\"#ed7953\"],[0.7777777777777778,\"#fb9f3a\"],[0.8888888888888888,\"#fdca26\"],[1.0,\"#f0f921\"]]}],\"contourcarpet\":[{\"type\":\"contourcarpet\",\"colorbar\":{\"outlinewidth\":0,\"ticks\":\"\"}}],\"contour\":[{\"type\":\"contour\",\"colorbar\":{\"outlinewidth\":0,\"ticks\":\"\"},\"colorscale\":[[0.0,\"#0d0887\"],[0.1111111111111111,\"#46039f\"],[0.2222222222222222,\"#7201a8\"],[0.3333333333333333,\"#9c179e\"],[0.4444444444444444,\"#bd3786\"],[0.5555555555555556,\"#d8576b\"],[0.6666666666666666,\"#ed7953\"],[0.7777777777777778,\"#fb9f3a\"],[0.8888888888888888,\"#fdca26\"],[1.0,\"#f0f921\"]]}],\"surface\":[{\"type\":\"surface\",\"colorbar\":{\"outlinewidth\":0,\"ticks\":\"\"},\"colorscale\":[[0.0,\"#0d0887\"],[0.1111111111111111,\"#46039f\"],[0.2222222222222222,\"#7201a8\"],[0.3333333333333333,\"#9c179e\"],[0.4444444444444444,\"#bd3786\"],[0.5555555555555556,\"#d8576b\"],[0.6666666666666666,\"#ed7953\"],[0.7777777777777778,\"#fb9f3a\"],[0.8888888888888888,\"#fdca26\"],[1.0,\"#f0f921\"]]}],\"mesh3d\":[{\"type\":\"mesh3d\",\"colorbar\":{\"outlinewidth\":0,\"ticks\":\"\"}}],\"scatter\":[{\"fillpattern\":{\"fillmode\":\"overlay\",\"size\":10,\"solidity\":0.2},\"type\":\"scatter\"}],\"parcoords\":[{\"type\":\"parcoords\",\"line\":{\"colorbar\":{\"outlinewidth\":0,\"ticks\":\"\"}}}],\"scatterpolargl\":[{\"type\":\"scatterpolargl\",\"marker\":{\"colorbar\":{\"outlinewidth\":0,\"ticks\":\"\"}}}],\"bar\":[{\"error_x\":{\"color\":\"#2a3f5f\"},\"error_y\":{\"color\":\"#2a3f5f\"},\"marker\":{\"line\":{\"color\":\"#E5ECF6\",\"width\":0.5},\"pattern\":{\"fillmode\":\"overlay\",\"size\":10,\"solidity\":0.2}},\"type\":\"bar\"}],\"scattergeo\":[{\"type\":\"scattergeo\",\"marker\":{\"colorbar\":{\"outlinewidth\":0,\"ticks\":\"\"}}}],\"scatterpolar\":[{\"type\":\"scatterpolar\",\"marker\":{\"colorbar\":{\"outlinewidth\":0,\"ticks\":\"\"}}}],\"histogram\":[{\"marker\":{\"pattern\":{\"fillmode\":\"overlay\",\"size\":10,\"solidity\":0.2}},\"type\":\"histogram\"}],\"scattergl\":[{\"type\":\"scattergl\",\"marker\":{\"colorbar\":{\"outlinewidth\":0,\"ticks\":\"\"}}}],\"scatter3d\":[{\"type\":\"scatter3d\",\"line\":{\"colorbar\":{\"outlinewidth\":0,\"ticks\":\"\"}},\"marker\":{\"colorbar\":{\"outlinewidth\":0,\"ticks\":\"\"}}}],\"scattermapbox\":[{\"type\":\"scattermapbox\",\"marker\":{\"colorbar\":{\"outlinewidth\":0,\"ticks\":\"\"}}}],\"scatterternary\":[{\"type\":\"scatterternary\",\"marker\":{\"colorbar\":{\"outlinewidth\":0,\"ticks\":\"\"}}}],\"scattercarpet\":[{\"type\":\"scattercarpet\",\"marker\":{\"colorbar\":{\"outlinewidth\":0,\"ticks\":\"\"}}}],\"carpet\":[{\"aaxis\":{\"endlinecolor\":\"#2a3f5f\",\"gridcolor\":\"white\",\"linecolor\":\"white\",\"minorgridcolor\":\"white\",\"startlinecolor\":\"#2a3f5f\"},\"baxis\":{\"endlinecolor\":\"#2a3f5f\",\"gridcolor\":\"white\",\"linecolor\":\"white\",\"minorgridcolor\":\"white\",\"startlinecolor\":\"#2a3f5f\"},\"type\":\"carpet\"}],\"table\":[{\"cells\":{\"fill\":{\"color\":\"#EBF0F8\"},\"line\":{\"color\":\"white\"}},\"header\":{\"fill\":{\"color\":\"#C8D4E3\"},\"line\":{\"color\":\"white\"}},\"type\":\"table\"}],\"barpolar\":[{\"marker\":{\"line\":{\"color\":\"#E5ECF6\",\"width\":0.5},\"pattern\":{\"fillmode\":\"overlay\",\"size\":10,\"solidity\":0.2}},\"type\":\"barpolar\"}],\"pie\":[{\"automargin\":true,\"type\":\"pie\"}]},\"layout\":{\"autotypenumbers\":\"strict\",\"colorway\":[\"#636efa\",\"#EF553B\",\"#00cc96\",\"#ab63fa\",\"#FFA15A\",\"#19d3f3\",\"#FF6692\",\"#B6E880\",\"#FF97FF\",\"#FECB52\"],\"font\":{\"color\":\"#2a3f5f\"},\"hovermode\":\"closest\",\"hoverlabel\":{\"align\":\"left\"},\"paper_bgcolor\":\"white\",\"plot_bgcolor\":\"#E5ECF6\",\"polar\":{\"bgcolor\":\"#E5ECF6\",\"angularaxis\":{\"gridcolor\":\"white\",\"linecolor\":\"white\",\"ticks\":\"\"},\"radialaxis\":{\"gridcolor\":\"white\",\"linecolor\":\"white\",\"ticks\":\"\"}},\"ternary\":{\"bgcolor\":\"#E5ECF6\",\"aaxis\":{\"gridcolor\":\"white\",\"linecolor\":\"white\",\"ticks\":\"\"},\"baxis\":{\"gridcolor\":\"white\",\"linecolor\":\"white\",\"ticks\":\"\"},\"caxis\":{\"gridcolor\":\"white\",\"linecolor\":\"white\",\"ticks\":\"\"}},\"coloraxis\":{\"colorbar\":{\"outlinewidth\":0,\"ticks\":\"\"}},\"colorscale\":{\"sequential\":[[0.0,\"#0d0887\"],[0.1111111111111111,\"#46039f\"],[0.2222222222222222,\"#7201a8\"],[0.3333333333333333,\"#9c179e\"],[0.4444444444444444,\"#bd3786\"],[0.5555555555555556,\"#d8576b\"],[0.6666666666666666,\"#ed7953\"],[0.7777777777777778,\"#fb9f3a\"],[0.8888888888888888,\"#fdca26\"],[1.0,\"#f0f921\"]],\"sequentialminus\":[[0.0,\"#0d0887\"],[0.1111111111111111,\"#46039f\"],[0.2222222222222222,\"#7201a8\"],[0.3333333333333333,\"#9c179e\"],[0.4444444444444444,\"#bd3786\"],[0.5555555555555556,\"#d8576b\"],[0.6666666666666666,\"#ed7953\"],[0.7777777777777778,\"#fb9f3a\"],[0.8888888888888888,\"#fdca26\"],[1.0,\"#f0f921\"]],\"diverging\":[[0,\"#8e0152\"],[0.1,\"#c51b7d\"],[0.2,\"#de77ae\"],[0.3,\"#f1b6da\"],[0.4,\"#fde0ef\"],[0.5,\"#f7f7f7\"],[0.6,\"#e6f5d0\"],[0.7,\"#b8e186\"],[0.8,\"#7fbc41\"],[0.9,\"#4d9221\"],[1,\"#276419\"]]},\"xaxis\":{\"gridcolor\":\"white\",\"linecolor\":\"white\",\"ticks\":\"\",\"title\":{\"standoff\":15},\"zerolinecolor\":\"white\",\"automargin\":true,\"zerolinewidth\":2},\"yaxis\":{\"gridcolor\":\"white\",\"linecolor\":\"white\",\"ticks\":\"\",\"title\":{\"standoff\":15},\"zerolinecolor\":\"white\",\"automargin\":true,\"zerolinewidth\":2},\"scene\":{\"xaxis\":{\"backgroundcolor\":\"#E5ECF6\",\"gridcolor\":\"white\",\"linecolor\":\"white\",\"showbackground\":true,\"ticks\":\"\",\"zerolinecolor\":\"white\",\"gridwidth\":2},\"yaxis\":{\"backgroundcolor\":\"#E5ECF6\",\"gridcolor\":\"white\",\"linecolor\":\"white\",\"showbackground\":true,\"ticks\":\"\",\"zerolinecolor\":\"white\",\"gridwidth\":2},\"zaxis\":{\"backgroundcolor\":\"#E5ECF6\",\"gridcolor\":\"white\",\"linecolor\":\"white\",\"showbackground\":true,\"ticks\":\"\",\"zerolinecolor\":\"white\",\"gridwidth\":2}},\"shapedefaults\":{\"line\":{\"color\":\"#2a3f5f\"}},\"annotationdefaults\":{\"arrowcolor\":\"#2a3f5f\",\"arrowhead\":0,\"arrowwidth\":1},\"geo\":{\"bgcolor\":\"white\",\"landcolor\":\"#E5ECF6\",\"subunitcolor\":\"white\",\"showland\":true,\"showlakes\":true,\"lakecolor\":\"white\"},\"title\":{\"x\":0.05},\"mapbox\":{\"style\":\"light\"}}},\"xaxis\":{\"anchor\":\"y\",\"domain\":[0.0,1.0],\"title\":{\"font\":{\"size\":25},\"text\":\"<b> Number of images</b> \"},\"mirror\":true,\"ticks\":\"outside\",\"linecolor\":\"black\",\"gridcolor\":\"lightgrey\",\"tickmode\":\"array\",\"zeroline\":true,\"zerolinewidth\":2,\"linewidth\":4,\"tickfont\":{\"size\":20,\"family\":\"Arial Black\"}},\"yaxis\":{\"anchor\":\"x\",\"domain\":[0.0,1.0],\"title\":{\"font\":{\"size\":25},\"text\":\"<b> MSSSIM value </b> \"},\"mirror\":true,\"ticks\":\"outside\",\"showline\":true,\"linecolor\":\"black\",\"gridcolor\":\"lightgrey\",\"range\":[0,1],\"tickmode\":\"array\",\"zeroline\":true,\"zerolinewidth\":2,\"linewidth\":4,\"tickfont\":{\"size\":20,\"family\":\"Arial Black\"}},\"height\":700,\"width\":1000,\"plot_bgcolor\":\"white\",\"autosize\":false,\"legend\":{\"font\":{\"family\":\"Arial Black\",\"size\":30,\"color\":\"black\"},\"title\":{\"font\":{\"family\":\"Arial Black\",\"size\":30,\"color\":\"green\"},\"text\":\"Group\"}}},                        {\"responsive\": true}                    ).then(function(){\n",
       "                            \n",
       "var gd = document.getElementById('9acd7357-b4a7-4f93-ab82-870a378dd137');\n",
       "var x = new MutationObserver(function (mutations, observer) {{\n",
       "        var display = window.getComputedStyle(gd).display;\n",
       "        if (!display || display === 'none') {{\n",
       "            console.log([gd, 'removed!']);\n",
       "            Plotly.purge(gd);\n",
       "            observer.disconnect();\n",
       "        }}\n",
       "}});\n",
       "\n",
       "// Listen for the removal of the full notebook cells\n",
       "var notebookContainer = gd.closest('#notebook-container');\n",
       "if (notebookContainer) {{\n",
       "    x.observe(notebookContainer, {childList: true});\n",
       "}}\n",
       "\n",
       "// Listen for the clearing of the current output cell\n",
       "var outputEl = gd.closest('.output');\n",
       "if (outputEl) {{\n",
       "    x.observe(outputEl, {childList: true});\n",
       "}}\n",
       "\n",
       "                        })                };                });            </script>        </div>"
      ]
     },
     "metadata": {},
     "output_type": "display_data"
    }
   ],
   "source": [
    "from plotly.subplots import make_subplots\n",
    "\n",
    "\n",
    "fig = make_subplots(rows=1, cols=1)\n",
    "\n",
    "fig.add_trace(go.Scatter(y=msssim_mean_list, x=image_count, mode=\"lines+markers+text\",\n",
    "            marker=dict(\n",
    "                size=9,\n",
    "            ),line=dict(\n",
    "            width=5),text=msssim_mean_list,\n",
    "    textposition=\"bottom center\",error_y=dict(type='data', array=msssim_std_list)\n",
    "    \n",
    "            ), row=1, col=1)\n",
    "\n",
    "fig.update_layout(height=700, width=1000)\n",
    "fig.update_layout(\n",
    "        plot_bgcolor='white'\n",
    "    )\n",
    "fig.update_layout(\n",
    "    autosize=False,\n",
    "    xaxis = dict(\n",
    "        mirror=True,\n",
    "        ticks='outside',\n",
    "        #showline=True,\n",
    "        linecolor='black',\n",
    "        gridcolor='lightgrey',\n",
    "        tickmode = 'array',\n",
    "        #tickvals=[  \"Baseline\",   \"5\",  \"10\",  \"15\",  \"20\",  \"25\",  \"30\",  \"40\",  \"50\",  \"60\",  \"75\",\n",
    "        #\"90\", \"105\", \"120\", \"135\"],\n",
    "        #range=[0, 140],\n",
    "        zeroline=True, zerolinewidth=2,\n",
    "        linewidth = 4\n",
    "        #, ticklen=5,\n",
    "        #constrain=\"domain\",\n",
    "        #gridwidth=10,\n",
    "    #)\n",
    "    ),\n",
    "    #fig.update_yaxes(\n",
    "      yaxis = dict(  mirror=True,\n",
    "        ticks='outside',\n",
    "        showline=True,\n",
    "        linecolor='black',\n",
    "        gridcolor='lightgrey',\n",
    "        range=[0, 1],\n",
    "        tickmode = 'array',\n",
    "        zeroline=True, zerolinewidth=2,\n",
    "       linewidth=4\n",
    "        #gridwidth=10,\n",
    "        \n",
    "    ),\n",
    "      xaxis_title =dict(text=\"<b> Number of images</b> \", font=dict(size=25))  ,\n",
    "      yaxis_title=dict(text=\"<b> MSSSIM value </b> \", font=dict(size=25)) \n",
    "    )\n",
    "#fig.update_layout(\n",
    "#    title=dict(text=\"<b> Mean Pulse Rate </b>\", font=dict(size=35))\n",
    "#)\n",
    "fig.update_layout(\n",
    "yaxis = dict(\n",
    "tickfont = dict(size=20)))\n",
    "fig.update_layout(\n",
    "xaxis = dict(\n",
    "tickfont = dict(size=20)))\n",
    "fig.update_yaxes(tickfont_family=\"Arial Black\")\n",
    "fig.update_xaxes(tickfont_family=\"Arial Black\")\n",
    "fig.update_layout(legend = dict(font = dict(family = \"Arial Black\", size = 30, color = \"black\")),\n",
    "                  legend_title = dict(text=\"Group\", font = dict(family = \"Arial Black\", size = 30, color = \"green\")))\n",
    "\n",
    "#fig.update_layout(legend_title_text='Group',  dict(font = dict(family = \"Arial Black\", size = 20, color = \"black\"))\n",
    "\n",
    "fig.show()\n"
   ]
  },
  {
   "cell_type": "code",
   "execution_count": 60,
   "metadata": {},
   "outputs": [
    {
     "data": {
      "application/vnd.plotly.v1+json": {
       "config": {
        "plotlyServerURL": "https://plot.ly"
       },
       "data": [
        {
         "error_y": {
          "array": [
           0.044251978397369385,
           0.04517454281449318,
           0.033766284584999084,
           0.02236957661807537,
           0.01626405492424965
          ],
          "type": "data"
         },
         "line": {
          "width": 5
         },
         "marker": {
          "size": 9
         },
         "mode": "lines+markers+text",
         "name": "Mean SSIM",
         "text": [
          "0.938722",
          "0.9398712",
          "0.95419604",
          "0.96540844",
          "0.96957916"
         ],
         "textposition": "bottom center",
         "type": "scatter",
         "x": [
          1,
          2,
          4,
          6,
          8
         ],
         "xaxis": "x",
         "y": [
          0.9387220144271851,
          0.9398711919784546,
          0.954196035861969,
          0.965408444404602,
          0.9695791602134705
         ],
         "yaxis": "y"
        },
        {
         "error_y": {
          "array": [
           0.01003575511276722,
           0.00993631687015295,
           0.007563813589513302,
           0.005140842869877815,
           0.003717312589287758
          ],
          "type": "data"
         },
         "line": {
          "width": 5
         },
         "marker": {
          "size": 9
         },
         "mode": "lines+markers+text",
         "name": "Mean MSSSIM",
         "text": [
          "0.98319954",
          "0.9841844",
          "0.9880916",
          "0.9907829",
          "0.9917404"
         ],
         "textposition": "bottom center",
         "type": "scatter",
         "x": [
          1,
          2,
          4,
          6,
          8
         ],
         "xaxis": "x",
         "y": [
          0.9831995368003845,
          0.9841843843460083,
          0.9880915880203247,
          0.9907829165458679,
          0.9917404055595398
         ],
         "yaxis": "y"
        }
       ],
       "layout": {
        "autosize": false,
        "height": 700,
        "legend": {
         "font": {
          "color": "black",
          "family": "Arial Black",
          "size": 30
         },
         "title": {
          "font": {
           "color": "green",
           "family": "Arial Black",
           "size": 30
          },
          "text": "Metric"
         }
        },
        "plot_bgcolor": "white",
        "template": {
         "data": {
          "bar": [
           {
            "error_x": {
             "color": "#2a3f5f"
            },
            "error_y": {
             "color": "#2a3f5f"
            },
            "marker": {
             "line": {
              "color": "#E5ECF6",
              "width": 0.5
             },
             "pattern": {
              "fillmode": "overlay",
              "size": 10,
              "solidity": 0.2
             }
            },
            "type": "bar"
           }
          ],
          "barpolar": [
           {
            "marker": {
             "line": {
              "color": "#E5ECF6",
              "width": 0.5
             },
             "pattern": {
              "fillmode": "overlay",
              "size": 10,
              "solidity": 0.2
             }
            },
            "type": "barpolar"
           }
          ],
          "carpet": [
           {
            "aaxis": {
             "endlinecolor": "#2a3f5f",
             "gridcolor": "white",
             "linecolor": "white",
             "minorgridcolor": "white",
             "startlinecolor": "#2a3f5f"
            },
            "baxis": {
             "endlinecolor": "#2a3f5f",
             "gridcolor": "white",
             "linecolor": "white",
             "minorgridcolor": "white",
             "startlinecolor": "#2a3f5f"
            },
            "type": "carpet"
           }
          ],
          "choropleth": [
           {
            "colorbar": {
             "outlinewidth": 0,
             "ticks": ""
            },
            "type": "choropleth"
           }
          ],
          "contour": [
           {
            "colorbar": {
             "outlinewidth": 0,
             "ticks": ""
            },
            "colorscale": [
             [
              0,
              "#0d0887"
             ],
             [
              0.1111111111111111,
              "#46039f"
             ],
             [
              0.2222222222222222,
              "#7201a8"
             ],
             [
              0.3333333333333333,
              "#9c179e"
             ],
             [
              0.4444444444444444,
              "#bd3786"
             ],
             [
              0.5555555555555556,
              "#d8576b"
             ],
             [
              0.6666666666666666,
              "#ed7953"
             ],
             [
              0.7777777777777778,
              "#fb9f3a"
             ],
             [
              0.8888888888888888,
              "#fdca26"
             ],
             [
              1,
              "#f0f921"
             ]
            ],
            "type": "contour"
           }
          ],
          "contourcarpet": [
           {
            "colorbar": {
             "outlinewidth": 0,
             "ticks": ""
            },
            "type": "contourcarpet"
           }
          ],
          "heatmap": [
           {
            "colorbar": {
             "outlinewidth": 0,
             "ticks": ""
            },
            "colorscale": [
             [
              0,
              "#0d0887"
             ],
             [
              0.1111111111111111,
              "#46039f"
             ],
             [
              0.2222222222222222,
              "#7201a8"
             ],
             [
              0.3333333333333333,
              "#9c179e"
             ],
             [
              0.4444444444444444,
              "#bd3786"
             ],
             [
              0.5555555555555556,
              "#d8576b"
             ],
             [
              0.6666666666666666,
              "#ed7953"
             ],
             [
              0.7777777777777778,
              "#fb9f3a"
             ],
             [
              0.8888888888888888,
              "#fdca26"
             ],
             [
              1,
              "#f0f921"
             ]
            ],
            "type": "heatmap"
           }
          ],
          "heatmapgl": [
           {
            "colorbar": {
             "outlinewidth": 0,
             "ticks": ""
            },
            "colorscale": [
             [
              0,
              "#0d0887"
             ],
             [
              0.1111111111111111,
              "#46039f"
             ],
             [
              0.2222222222222222,
              "#7201a8"
             ],
             [
              0.3333333333333333,
              "#9c179e"
             ],
             [
              0.4444444444444444,
              "#bd3786"
             ],
             [
              0.5555555555555556,
              "#d8576b"
             ],
             [
              0.6666666666666666,
              "#ed7953"
             ],
             [
              0.7777777777777778,
              "#fb9f3a"
             ],
             [
              0.8888888888888888,
              "#fdca26"
             ],
             [
              1,
              "#f0f921"
             ]
            ],
            "type": "heatmapgl"
           }
          ],
          "histogram": [
           {
            "marker": {
             "pattern": {
              "fillmode": "overlay",
              "size": 10,
              "solidity": 0.2
             }
            },
            "type": "histogram"
           }
          ],
          "histogram2d": [
           {
            "colorbar": {
             "outlinewidth": 0,
             "ticks": ""
            },
            "colorscale": [
             [
              0,
              "#0d0887"
             ],
             [
              0.1111111111111111,
              "#46039f"
             ],
             [
              0.2222222222222222,
              "#7201a8"
             ],
             [
              0.3333333333333333,
              "#9c179e"
             ],
             [
              0.4444444444444444,
              "#bd3786"
             ],
             [
              0.5555555555555556,
              "#d8576b"
             ],
             [
              0.6666666666666666,
              "#ed7953"
             ],
             [
              0.7777777777777778,
              "#fb9f3a"
             ],
             [
              0.8888888888888888,
              "#fdca26"
             ],
             [
              1,
              "#f0f921"
             ]
            ],
            "type": "histogram2d"
           }
          ],
          "histogram2dcontour": [
           {
            "colorbar": {
             "outlinewidth": 0,
             "ticks": ""
            },
            "colorscale": [
             [
              0,
              "#0d0887"
             ],
             [
              0.1111111111111111,
              "#46039f"
             ],
             [
              0.2222222222222222,
              "#7201a8"
             ],
             [
              0.3333333333333333,
              "#9c179e"
             ],
             [
              0.4444444444444444,
              "#bd3786"
             ],
             [
              0.5555555555555556,
              "#d8576b"
             ],
             [
              0.6666666666666666,
              "#ed7953"
             ],
             [
              0.7777777777777778,
              "#fb9f3a"
             ],
             [
              0.8888888888888888,
              "#fdca26"
             ],
             [
              1,
              "#f0f921"
             ]
            ],
            "type": "histogram2dcontour"
           }
          ],
          "mesh3d": [
           {
            "colorbar": {
             "outlinewidth": 0,
             "ticks": ""
            },
            "type": "mesh3d"
           }
          ],
          "parcoords": [
           {
            "line": {
             "colorbar": {
              "outlinewidth": 0,
              "ticks": ""
             }
            },
            "type": "parcoords"
           }
          ],
          "pie": [
           {
            "automargin": true,
            "type": "pie"
           }
          ],
          "scatter": [
           {
            "fillpattern": {
             "fillmode": "overlay",
             "size": 10,
             "solidity": 0.2
            },
            "type": "scatter"
           }
          ],
          "scatter3d": [
           {
            "line": {
             "colorbar": {
              "outlinewidth": 0,
              "ticks": ""
             }
            },
            "marker": {
             "colorbar": {
              "outlinewidth": 0,
              "ticks": ""
             }
            },
            "type": "scatter3d"
           }
          ],
          "scattercarpet": [
           {
            "marker": {
             "colorbar": {
              "outlinewidth": 0,
              "ticks": ""
             }
            },
            "type": "scattercarpet"
           }
          ],
          "scattergeo": [
           {
            "marker": {
             "colorbar": {
              "outlinewidth": 0,
              "ticks": ""
             }
            },
            "type": "scattergeo"
           }
          ],
          "scattergl": [
           {
            "marker": {
             "colorbar": {
              "outlinewidth": 0,
              "ticks": ""
             }
            },
            "type": "scattergl"
           }
          ],
          "scattermapbox": [
           {
            "marker": {
             "colorbar": {
              "outlinewidth": 0,
              "ticks": ""
             }
            },
            "type": "scattermapbox"
           }
          ],
          "scatterpolar": [
           {
            "marker": {
             "colorbar": {
              "outlinewidth": 0,
              "ticks": ""
             }
            },
            "type": "scatterpolar"
           }
          ],
          "scatterpolargl": [
           {
            "marker": {
             "colorbar": {
              "outlinewidth": 0,
              "ticks": ""
             }
            },
            "type": "scatterpolargl"
           }
          ],
          "scatterternary": [
           {
            "marker": {
             "colorbar": {
              "outlinewidth": 0,
              "ticks": ""
             }
            },
            "type": "scatterternary"
           }
          ],
          "surface": [
           {
            "colorbar": {
             "outlinewidth": 0,
             "ticks": ""
            },
            "colorscale": [
             [
              0,
              "#0d0887"
             ],
             [
              0.1111111111111111,
              "#46039f"
             ],
             [
              0.2222222222222222,
              "#7201a8"
             ],
             [
              0.3333333333333333,
              "#9c179e"
             ],
             [
              0.4444444444444444,
              "#bd3786"
             ],
             [
              0.5555555555555556,
              "#d8576b"
             ],
             [
              0.6666666666666666,
              "#ed7953"
             ],
             [
              0.7777777777777778,
              "#fb9f3a"
             ],
             [
              0.8888888888888888,
              "#fdca26"
             ],
             [
              1,
              "#f0f921"
             ]
            ],
            "type": "surface"
           }
          ],
          "table": [
           {
            "cells": {
             "fill": {
              "color": "#EBF0F8"
             },
             "line": {
              "color": "white"
             }
            },
            "header": {
             "fill": {
              "color": "#C8D4E3"
             },
             "line": {
              "color": "white"
             }
            },
            "type": "table"
           }
          ]
         },
         "layout": {
          "annotationdefaults": {
           "arrowcolor": "#2a3f5f",
           "arrowhead": 0,
           "arrowwidth": 1
          },
          "autotypenumbers": "strict",
          "coloraxis": {
           "colorbar": {
            "outlinewidth": 0,
            "ticks": ""
           }
          },
          "colorscale": {
           "diverging": [
            [
             0,
             "#8e0152"
            ],
            [
             0.1,
             "#c51b7d"
            ],
            [
             0.2,
             "#de77ae"
            ],
            [
             0.3,
             "#f1b6da"
            ],
            [
             0.4,
             "#fde0ef"
            ],
            [
             0.5,
             "#f7f7f7"
            ],
            [
             0.6,
             "#e6f5d0"
            ],
            [
             0.7,
             "#b8e186"
            ],
            [
             0.8,
             "#7fbc41"
            ],
            [
             0.9,
             "#4d9221"
            ],
            [
             1,
             "#276419"
            ]
           ],
           "sequential": [
            [
             0,
             "#0d0887"
            ],
            [
             0.1111111111111111,
             "#46039f"
            ],
            [
             0.2222222222222222,
             "#7201a8"
            ],
            [
             0.3333333333333333,
             "#9c179e"
            ],
            [
             0.4444444444444444,
             "#bd3786"
            ],
            [
             0.5555555555555556,
             "#d8576b"
            ],
            [
             0.6666666666666666,
             "#ed7953"
            ],
            [
             0.7777777777777778,
             "#fb9f3a"
            ],
            [
             0.8888888888888888,
             "#fdca26"
            ],
            [
             1,
             "#f0f921"
            ]
           ],
           "sequentialminus": [
            [
             0,
             "#0d0887"
            ],
            [
             0.1111111111111111,
             "#46039f"
            ],
            [
             0.2222222222222222,
             "#7201a8"
            ],
            [
             0.3333333333333333,
             "#9c179e"
            ],
            [
             0.4444444444444444,
             "#bd3786"
            ],
            [
             0.5555555555555556,
             "#d8576b"
            ],
            [
             0.6666666666666666,
             "#ed7953"
            ],
            [
             0.7777777777777778,
             "#fb9f3a"
            ],
            [
             0.8888888888888888,
             "#fdca26"
            ],
            [
             1,
             "#f0f921"
            ]
           ]
          },
          "colorway": [
           "#636efa",
           "#EF553B",
           "#00cc96",
           "#ab63fa",
           "#FFA15A",
           "#19d3f3",
           "#FF6692",
           "#B6E880",
           "#FF97FF",
           "#FECB52"
          ],
          "font": {
           "color": "#2a3f5f"
          },
          "geo": {
           "bgcolor": "white",
           "lakecolor": "white",
           "landcolor": "#E5ECF6",
           "showlakes": true,
           "showland": true,
           "subunitcolor": "white"
          },
          "hoverlabel": {
           "align": "left"
          },
          "hovermode": "closest",
          "mapbox": {
           "style": "light"
          },
          "paper_bgcolor": "white",
          "plot_bgcolor": "#E5ECF6",
          "polar": {
           "angularaxis": {
            "gridcolor": "white",
            "linecolor": "white",
            "ticks": ""
           },
           "bgcolor": "#E5ECF6",
           "radialaxis": {
            "gridcolor": "white",
            "linecolor": "white",
            "ticks": ""
           }
          },
          "scene": {
           "xaxis": {
            "backgroundcolor": "#E5ECF6",
            "gridcolor": "white",
            "gridwidth": 2,
            "linecolor": "white",
            "showbackground": true,
            "ticks": "",
            "zerolinecolor": "white"
           },
           "yaxis": {
            "backgroundcolor": "#E5ECF6",
            "gridcolor": "white",
            "gridwidth": 2,
            "linecolor": "white",
            "showbackground": true,
            "ticks": "",
            "zerolinecolor": "white"
           },
           "zaxis": {
            "backgroundcolor": "#E5ECF6",
            "gridcolor": "white",
            "gridwidth": 2,
            "linecolor": "white",
            "showbackground": true,
            "ticks": "",
            "zerolinecolor": "white"
           }
          },
          "shapedefaults": {
           "line": {
            "color": "#2a3f5f"
           }
          },
          "ternary": {
           "aaxis": {
            "gridcolor": "white",
            "linecolor": "white",
            "ticks": ""
           },
           "baxis": {
            "gridcolor": "white",
            "linecolor": "white",
            "ticks": ""
           },
           "bgcolor": "#E5ECF6",
           "caxis": {
            "gridcolor": "white",
            "linecolor": "white",
            "ticks": ""
           }
          },
          "title": {
           "x": 0.05
          },
          "xaxis": {
           "automargin": true,
           "gridcolor": "white",
           "linecolor": "white",
           "ticks": "",
           "title": {
            "standoff": 15
           },
           "zerolinecolor": "white",
           "zerolinewidth": 2
          },
          "yaxis": {
           "automargin": true,
           "gridcolor": "white",
           "linecolor": "white",
           "ticks": "",
           "title": {
            "standoff": 15
           },
           "zerolinecolor": "white",
           "zerolinewidth": 2
          }
         }
        },
        "width": 1000,
        "xaxis": {
         "anchor": "y",
         "domain": [
          0,
          1
         ],
         "gridcolor": "lightgrey",
         "linecolor": "black",
         "linewidth": 4,
         "mirror": true,
         "tickfont": {
          "family": "Arial Black",
          "size": 20
         },
         "tickmode": "array",
         "ticks": "outside",
         "title": {
          "font": {
           "size": 25
          },
          "text": "<b> Number of images</b> "
         },
         "zeroline": true,
         "zerolinewidth": 2
        },
        "yaxis": {
         "anchor": "x",
         "domain": [
          0,
          1
         ],
         "gridcolor": "lightgrey",
         "linecolor": "black",
         "linewidth": 4,
         "mirror": true,
         "range": [
          0.5,
          1
         ],
         "showline": true,
         "tickfont": {
          "family": "Arial Black",
          "size": 20
         },
         "tickmode": "array",
         "ticks": "outside",
         "title": {
          "font": {
           "size": 25
          },
          "text": "<b> Metric value </b> "
         },
         "zeroline": true,
         "zerolinewidth": 2
        }
       }
      },
      "text/html": [
       "<div>                            <div id=\"4da8dc7b-3cbe-4066-9dcd-383bac7c13c1\" class=\"plotly-graph-div\" style=\"height:700px; width:1000px;\"></div>            <script type=\"text/javascript\">                require([\"plotly\"], function(Plotly) {                    window.PLOTLYENV=window.PLOTLYENV || {};                                    if (document.getElementById(\"4da8dc7b-3cbe-4066-9dcd-383bac7c13c1\")) {                    Plotly.newPlot(                        \"4da8dc7b-3cbe-4066-9dcd-383bac7c13c1\",                        [{\"error_y\":{\"array\":[0.044251978397369385,0.04517454281449318,0.033766284584999084,0.02236957661807537,0.01626405492424965],\"type\":\"data\"},\"line\":{\"width\":5},\"marker\":{\"size\":9},\"mode\":\"lines+markers+text\",\"name\":\"Mean SSIM\",\"text\":[\"0.938722\",\"0.9398712\",\"0.95419604\",\"0.96540844\",\"0.96957916\"],\"textposition\":\"bottom center\",\"x\":[1,2,4,6,8],\"y\":[0.9387220144271851,0.9398711919784546,0.954196035861969,0.965408444404602,0.9695791602134705],\"type\":\"scatter\",\"xaxis\":\"x\",\"yaxis\":\"y\"},{\"error_y\":{\"array\":[0.01003575511276722,0.00993631687015295,0.007563813589513302,0.005140842869877815,0.003717312589287758],\"type\":\"data\"},\"line\":{\"width\":5},\"marker\":{\"size\":9},\"mode\":\"lines+markers+text\",\"name\":\"Mean MSSSIM\",\"text\":[\"0.98319954\",\"0.9841844\",\"0.9880916\",\"0.9907829\",\"0.9917404\"],\"textposition\":\"bottom center\",\"x\":[1,2,4,6,8],\"y\":[0.9831995368003845,0.9841843843460083,0.9880915880203247,0.9907829165458679,0.9917404055595398],\"type\":\"scatter\",\"xaxis\":\"x\",\"yaxis\":\"y\"}],                        {\"template\":{\"data\":{\"histogram2dcontour\":[{\"type\":\"histogram2dcontour\",\"colorbar\":{\"outlinewidth\":0,\"ticks\":\"\"},\"colorscale\":[[0.0,\"#0d0887\"],[0.1111111111111111,\"#46039f\"],[0.2222222222222222,\"#7201a8\"],[0.3333333333333333,\"#9c179e\"],[0.4444444444444444,\"#bd3786\"],[0.5555555555555556,\"#d8576b\"],[0.6666666666666666,\"#ed7953\"],[0.7777777777777778,\"#fb9f3a\"],[0.8888888888888888,\"#fdca26\"],[1.0,\"#f0f921\"]]}],\"choropleth\":[{\"type\":\"choropleth\",\"colorbar\":{\"outlinewidth\":0,\"ticks\":\"\"}}],\"histogram2d\":[{\"type\":\"histogram2d\",\"colorbar\":{\"outlinewidth\":0,\"ticks\":\"\"},\"colorscale\":[[0.0,\"#0d0887\"],[0.1111111111111111,\"#46039f\"],[0.2222222222222222,\"#7201a8\"],[0.3333333333333333,\"#9c179e\"],[0.4444444444444444,\"#bd3786\"],[0.5555555555555556,\"#d8576b\"],[0.6666666666666666,\"#ed7953\"],[0.7777777777777778,\"#fb9f3a\"],[0.8888888888888888,\"#fdca26\"],[1.0,\"#f0f921\"]]}],\"heatmap\":[{\"type\":\"heatmap\",\"colorbar\":{\"outlinewidth\":0,\"ticks\":\"\"},\"colorscale\":[[0.0,\"#0d0887\"],[0.1111111111111111,\"#46039f\"],[0.2222222222222222,\"#7201a8\"],[0.3333333333333333,\"#9c179e\"],[0.4444444444444444,\"#bd3786\"],[0.5555555555555556,\"#d8576b\"],[0.6666666666666666,\"#ed7953\"],[0.7777777777777778,\"#fb9f3a\"],[0.8888888888888888,\"#fdca26\"],[1.0,\"#f0f921\"]]}],\"heatmapgl\":[{\"type\":\"heatmapgl\",\"colorbar\":{\"outlinewidth\":0,\"ticks\":\"\"},\"colorscale\":[[0.0,\"#0d0887\"],[0.1111111111111111,\"#46039f\"],[0.2222222222222222,\"#7201a8\"],[0.3333333333333333,\"#9c179e\"],[0.4444444444444444,\"#bd3786\"],[0.5555555555555556,\"#d8576b\"],[0.6666666666666666,\"#ed7953\"],[0.7777777777777778,\"#fb9f3a\"],[0.8888888888888888,\"#fdca26\"],[1.0,\"#f0f921\"]]}],\"contourcarpet\":[{\"type\":\"contourcarpet\",\"colorbar\":{\"outlinewidth\":0,\"ticks\":\"\"}}],\"contour\":[{\"type\":\"contour\",\"colorbar\":{\"outlinewidth\":0,\"ticks\":\"\"},\"colorscale\":[[0.0,\"#0d0887\"],[0.1111111111111111,\"#46039f\"],[0.2222222222222222,\"#7201a8\"],[0.3333333333333333,\"#9c179e\"],[0.4444444444444444,\"#bd3786\"],[0.5555555555555556,\"#d8576b\"],[0.6666666666666666,\"#ed7953\"],[0.7777777777777778,\"#fb9f3a\"],[0.8888888888888888,\"#fdca26\"],[1.0,\"#f0f921\"]]}],\"surface\":[{\"type\":\"surface\",\"colorbar\":{\"outlinewidth\":0,\"ticks\":\"\"},\"colorscale\":[[0.0,\"#0d0887\"],[0.1111111111111111,\"#46039f\"],[0.2222222222222222,\"#7201a8\"],[0.3333333333333333,\"#9c179e\"],[0.4444444444444444,\"#bd3786\"],[0.5555555555555556,\"#d8576b\"],[0.6666666666666666,\"#ed7953\"],[0.7777777777777778,\"#fb9f3a\"],[0.8888888888888888,\"#fdca26\"],[1.0,\"#f0f921\"]]}],\"mesh3d\":[{\"type\":\"mesh3d\",\"colorbar\":{\"outlinewidth\":0,\"ticks\":\"\"}}],\"scatter\":[{\"fillpattern\":{\"fillmode\":\"overlay\",\"size\":10,\"solidity\":0.2},\"type\":\"scatter\"}],\"parcoords\":[{\"type\":\"parcoords\",\"line\":{\"colorbar\":{\"outlinewidth\":0,\"ticks\":\"\"}}}],\"scatterpolargl\":[{\"type\":\"scatterpolargl\",\"marker\":{\"colorbar\":{\"outlinewidth\":0,\"ticks\":\"\"}}}],\"bar\":[{\"error_x\":{\"color\":\"#2a3f5f\"},\"error_y\":{\"color\":\"#2a3f5f\"},\"marker\":{\"line\":{\"color\":\"#E5ECF6\",\"width\":0.5},\"pattern\":{\"fillmode\":\"overlay\",\"size\":10,\"solidity\":0.2}},\"type\":\"bar\"}],\"scattergeo\":[{\"type\":\"scattergeo\",\"marker\":{\"colorbar\":{\"outlinewidth\":0,\"ticks\":\"\"}}}],\"scatterpolar\":[{\"type\":\"scatterpolar\",\"marker\":{\"colorbar\":{\"outlinewidth\":0,\"ticks\":\"\"}}}],\"histogram\":[{\"marker\":{\"pattern\":{\"fillmode\":\"overlay\",\"size\":10,\"solidity\":0.2}},\"type\":\"histogram\"}],\"scattergl\":[{\"type\":\"scattergl\",\"marker\":{\"colorbar\":{\"outlinewidth\":0,\"ticks\":\"\"}}}],\"scatter3d\":[{\"type\":\"scatter3d\",\"line\":{\"colorbar\":{\"outlinewidth\":0,\"ticks\":\"\"}},\"marker\":{\"colorbar\":{\"outlinewidth\":0,\"ticks\":\"\"}}}],\"scattermapbox\":[{\"type\":\"scattermapbox\",\"marker\":{\"colorbar\":{\"outlinewidth\":0,\"ticks\":\"\"}}}],\"scatterternary\":[{\"type\":\"scatterternary\",\"marker\":{\"colorbar\":{\"outlinewidth\":0,\"ticks\":\"\"}}}],\"scattercarpet\":[{\"type\":\"scattercarpet\",\"marker\":{\"colorbar\":{\"outlinewidth\":0,\"ticks\":\"\"}}}],\"carpet\":[{\"aaxis\":{\"endlinecolor\":\"#2a3f5f\",\"gridcolor\":\"white\",\"linecolor\":\"white\",\"minorgridcolor\":\"white\",\"startlinecolor\":\"#2a3f5f\"},\"baxis\":{\"endlinecolor\":\"#2a3f5f\",\"gridcolor\":\"white\",\"linecolor\":\"white\",\"minorgridcolor\":\"white\",\"startlinecolor\":\"#2a3f5f\"},\"type\":\"carpet\"}],\"table\":[{\"cells\":{\"fill\":{\"color\":\"#EBF0F8\"},\"line\":{\"color\":\"white\"}},\"header\":{\"fill\":{\"color\":\"#C8D4E3\"},\"line\":{\"color\":\"white\"}},\"type\":\"table\"}],\"barpolar\":[{\"marker\":{\"line\":{\"color\":\"#E5ECF6\",\"width\":0.5},\"pattern\":{\"fillmode\":\"overlay\",\"size\":10,\"solidity\":0.2}},\"type\":\"barpolar\"}],\"pie\":[{\"automargin\":true,\"type\":\"pie\"}]},\"layout\":{\"autotypenumbers\":\"strict\",\"colorway\":[\"#636efa\",\"#EF553B\",\"#00cc96\",\"#ab63fa\",\"#FFA15A\",\"#19d3f3\",\"#FF6692\",\"#B6E880\",\"#FF97FF\",\"#FECB52\"],\"font\":{\"color\":\"#2a3f5f\"},\"hovermode\":\"closest\",\"hoverlabel\":{\"align\":\"left\"},\"paper_bgcolor\":\"white\",\"plot_bgcolor\":\"#E5ECF6\",\"polar\":{\"bgcolor\":\"#E5ECF6\",\"angularaxis\":{\"gridcolor\":\"white\",\"linecolor\":\"white\",\"ticks\":\"\"},\"radialaxis\":{\"gridcolor\":\"white\",\"linecolor\":\"white\",\"ticks\":\"\"}},\"ternary\":{\"bgcolor\":\"#E5ECF6\",\"aaxis\":{\"gridcolor\":\"white\",\"linecolor\":\"white\",\"ticks\":\"\"},\"baxis\":{\"gridcolor\":\"white\",\"linecolor\":\"white\",\"ticks\":\"\"},\"caxis\":{\"gridcolor\":\"white\",\"linecolor\":\"white\",\"ticks\":\"\"}},\"coloraxis\":{\"colorbar\":{\"outlinewidth\":0,\"ticks\":\"\"}},\"colorscale\":{\"sequential\":[[0.0,\"#0d0887\"],[0.1111111111111111,\"#46039f\"],[0.2222222222222222,\"#7201a8\"],[0.3333333333333333,\"#9c179e\"],[0.4444444444444444,\"#bd3786\"],[0.5555555555555556,\"#d8576b\"],[0.6666666666666666,\"#ed7953\"],[0.7777777777777778,\"#fb9f3a\"],[0.8888888888888888,\"#fdca26\"],[1.0,\"#f0f921\"]],\"sequentialminus\":[[0.0,\"#0d0887\"],[0.1111111111111111,\"#46039f\"],[0.2222222222222222,\"#7201a8\"],[0.3333333333333333,\"#9c179e\"],[0.4444444444444444,\"#bd3786\"],[0.5555555555555556,\"#d8576b\"],[0.6666666666666666,\"#ed7953\"],[0.7777777777777778,\"#fb9f3a\"],[0.8888888888888888,\"#fdca26\"],[1.0,\"#f0f921\"]],\"diverging\":[[0,\"#8e0152\"],[0.1,\"#c51b7d\"],[0.2,\"#de77ae\"],[0.3,\"#f1b6da\"],[0.4,\"#fde0ef\"],[0.5,\"#f7f7f7\"],[0.6,\"#e6f5d0\"],[0.7,\"#b8e186\"],[0.8,\"#7fbc41\"],[0.9,\"#4d9221\"],[1,\"#276419\"]]},\"xaxis\":{\"gridcolor\":\"white\",\"linecolor\":\"white\",\"ticks\":\"\",\"title\":{\"standoff\":15},\"zerolinecolor\":\"white\",\"automargin\":true,\"zerolinewidth\":2},\"yaxis\":{\"gridcolor\":\"white\",\"linecolor\":\"white\",\"ticks\":\"\",\"title\":{\"standoff\":15},\"zerolinecolor\":\"white\",\"automargin\":true,\"zerolinewidth\":2},\"scene\":{\"xaxis\":{\"backgroundcolor\":\"#E5ECF6\",\"gridcolor\":\"white\",\"linecolor\":\"white\",\"showbackground\":true,\"ticks\":\"\",\"zerolinecolor\":\"white\",\"gridwidth\":2},\"yaxis\":{\"backgroundcolor\":\"#E5ECF6\",\"gridcolor\":\"white\",\"linecolor\":\"white\",\"showbackground\":true,\"ticks\":\"\",\"zerolinecolor\":\"white\",\"gridwidth\":2},\"zaxis\":{\"backgroundcolor\":\"#E5ECF6\",\"gridcolor\":\"white\",\"linecolor\":\"white\",\"showbackground\":true,\"ticks\":\"\",\"zerolinecolor\":\"white\",\"gridwidth\":2}},\"shapedefaults\":{\"line\":{\"color\":\"#2a3f5f\"}},\"annotationdefaults\":{\"arrowcolor\":\"#2a3f5f\",\"arrowhead\":0,\"arrowwidth\":1},\"geo\":{\"bgcolor\":\"white\",\"landcolor\":\"#E5ECF6\",\"subunitcolor\":\"white\",\"showland\":true,\"showlakes\":true,\"lakecolor\":\"white\"},\"title\":{\"x\":0.05},\"mapbox\":{\"style\":\"light\"}}},\"xaxis\":{\"anchor\":\"y\",\"domain\":[0.0,1.0],\"title\":{\"font\":{\"size\":25},\"text\":\"<b> Number of images</b> \"},\"mirror\":true,\"ticks\":\"outside\",\"linecolor\":\"black\",\"gridcolor\":\"lightgrey\",\"tickmode\":\"array\",\"zeroline\":true,\"zerolinewidth\":2,\"linewidth\":4,\"tickfont\":{\"size\":20,\"family\":\"Arial Black\"}},\"yaxis\":{\"anchor\":\"x\",\"domain\":[0.0,1.0],\"title\":{\"font\":{\"size\":25},\"text\":\"<b> Metric value </b> \"},\"mirror\":true,\"ticks\":\"outside\",\"showline\":true,\"linecolor\":\"black\",\"gridcolor\":\"lightgrey\",\"range\":[0.5,1],\"tickmode\":\"array\",\"zeroline\":true,\"zerolinewidth\":2,\"linewidth\":4,\"tickfont\":{\"size\":20,\"family\":\"Arial Black\"}},\"height\":700,\"width\":1000,\"plot_bgcolor\":\"white\",\"autosize\":false,\"legend\":{\"font\":{\"family\":\"Arial Black\",\"size\":30,\"color\":\"black\"},\"title\":{\"font\":{\"family\":\"Arial Black\",\"size\":30,\"color\":\"green\"},\"text\":\"Metric\"}}},                        {\"responsive\": true}                    ).then(function(){\n",
       "                            \n",
       "var gd = document.getElementById('4da8dc7b-3cbe-4066-9dcd-383bac7c13c1');\n",
       "var x = new MutationObserver(function (mutations, observer) {{\n",
       "        var display = window.getComputedStyle(gd).display;\n",
       "        if (!display || display === 'none') {{\n",
       "            console.log([gd, 'removed!']);\n",
       "            Plotly.purge(gd);\n",
       "            observer.disconnect();\n",
       "        }}\n",
       "}});\n",
       "\n",
       "// Listen for the removal of the full notebook cells\n",
       "var notebookContainer = gd.closest('#notebook-container');\n",
       "if (notebookContainer) {{\n",
       "    x.observe(notebookContainer, {childList: true});\n",
       "}}\n",
       "\n",
       "// Listen for the clearing of the current output cell\n",
       "var outputEl = gd.closest('.output');\n",
       "if (outputEl) {{\n",
       "    x.observe(outputEl, {childList: true});\n",
       "}}\n",
       "\n",
       "                        })                };                });            </script>        </div>"
      ]
     },
     "metadata": {},
     "output_type": "display_data"
    }
   ],
   "source": [
    "from plotly.subplots import make_subplots\n",
    "\n",
    "\n",
    "fig = make_subplots(rows=1, cols=1)\n",
    "\n",
    "fig.add_trace(go.Scatter(y=ssim_mean_list, x=image_count, mode=\"lines+markers+text\",\n",
    "            marker=dict(\n",
    "                size=9,\n",
    "            ),line=dict(\n",
    "            width=5),text=ssim_mean_list,\n",
    "    textposition=\"bottom center\"\n",
    "    , name=\"Mean SSIM\", error_y=dict(type='data', array=ssim_std_list)\n",
    "            ), row=1, col=1)\n",
    "\n",
    "fig.add_trace(go.Scatter(y=msssim_mean_list, x=image_count, mode=\"lines+markers+text\",\n",
    "            marker=dict(\n",
    "                size=9,\n",
    "            ),line=dict(\n",
    "            width=5),text=msssim_mean_list, error_y=dict(type='data', array=msssim_std_list),\n",
    "    textposition=\"bottom center\"\n",
    "    ,name=\"Mean MSSSIM\"\n",
    "            ), row=1, col=1)\n",
    "\n",
    "fig.update_layout(height=700, width=1000)\n",
    "fig.update_layout(\n",
    "        plot_bgcolor='white'\n",
    "    )\n",
    "fig.update_layout(\n",
    "    autosize=False,\n",
    "    xaxis = dict(\n",
    "        mirror=True,\n",
    "        ticks='outside',\n",
    "        #showline=True,\n",
    "        linecolor='black',\n",
    "        gridcolor='lightgrey',\n",
    "        tickmode = 'array',\n",
    "        #tickvals=[  \"Baseline\",   \"5\",  \"10\",  \"15\",  \"20\",  \"25\",  \"30\",  \"40\",  \"50\",  \"60\",  \"75\",\n",
    "        #\"90\", \"105\", \"120\", \"135\"],\n",
    "        #range=[0, 140],\n",
    "        zeroline=True, zerolinewidth=2,\n",
    "        linewidth = 4\n",
    "        #, ticklen=5,\n",
    "        #constrain=\"domain\",\n",
    "        #gridwidth=10,\n",
    "    #)\n",
    "    ),\n",
    "    #fig.update_yaxes(\n",
    "      yaxis = dict(  mirror=True,\n",
    "        ticks='outside',\n",
    "        showline=True,\n",
    "        linecolor='black',\n",
    "        gridcolor='lightgrey',\n",
    "        range=[0.5, 1],\n",
    "        tickmode = 'array',\n",
    "        zeroline=True, zerolinewidth=2,\n",
    "       linewidth=4\n",
    "        #gridwidth=10,\n",
    "        \n",
    "    ),\n",
    "      xaxis_title =dict(text=\"<b> Number of images</b> \", font=dict(size=25))  ,\n",
    "      yaxis_title=dict(text=\"<b> Metric value </b> \", font=dict(size=25)) \n",
    "    )\n",
    "#fig.update_layout(\n",
    "#    title=dict(text=\"<b> Mean Pulse Rate </b>\", font=dict(size=35))\n",
    "#)\n",
    "fig.update_layout(\n",
    "yaxis = dict(\n",
    "tickfont = dict(size=20)))\n",
    "fig.update_layout(\n",
    "xaxis = dict(\n",
    "tickfont = dict(size=20)))\n",
    "fig.update_yaxes(tickfont_family=\"Arial Black\")\n",
    "fig.update_xaxes(tickfont_family=\"Arial Black\")\n",
    "fig.update_layout(legend = dict(font = dict(family = \"Arial Black\", size = 30, color = \"black\")),\n",
    "                  legend_title = dict(text=\"Metric\", font = dict(family = \"Arial Black\", size = 30, color = \"green\")))\n",
    "\n",
    "#fig.update_layout(legend_title_text='Group',  dict(font = dict(family = \"Arial Black\", size = 20, color = \"black\"))\n",
    "\n",
    "fig.show()\n"
   ]
  },
  {
   "cell_type": "markdown",
   "metadata": {},
   "source": [
    "## Final Training Image normalization"
   ]
  },
  {
   "cell_type": "code",
   "execution_count": 48,
   "metadata": {},
   "outputs": [],
   "source": [
    "## Fit a Normalizer\n",
    "img_list4 =[\"11_063_CG_aSyn_x200.svs\",\"12_007_CG_aSyn_x200.svs\",\"PD001_Syn1_CG.svs\",\"PD067_Syn1_CG.svs\",\"14_036_CG_aSyn_x200.svs\",\"PD041_Syn1_CG.svs\"]\n",
    "template_list = []\n",
    "for img in img_list4:\n",
    "    template_list.extend(glob(os.path.join(temp_dir,img,\"grey\",\"*.png\")))\n",
    "    template_list.extend(glob(os.path.join(temp_dir,img,\"White\",\"*.png\")))\n",
    "    template_list.extend(glob(os.path.join(temp_dir,img,\"bg\",\"*.png\")))\n",
    "\n",
    "if \".DS_Store\" in template_list:\n",
    "    template_list.remove(\".DS_Store\")\n",
    "\n",
    "temp_images = np.asarray([cv2.imread(name) for name in template_list])\n",
    "\n",
    "# extract the stain parameters of the template slide\n",
    "normalizer = StainNormalizer()\n",
    "normalizer.fit(temp_images[:,:,:,[2,1,0]]) #BGR2RGB\n",
    "\n",
    "with open('/gladstone/finkbeiner/steve/work/data/npsad_data/monika/LBD/WGM_Normalization/wgm_normalizer.pkl', 'wb') as f:\n",
    "    pickle.dump(normalizer, f, pickle.HIGHEST_PROTOCOL)\n"
   ]
  },
  {
   "cell_type": "code",
   "execution_count": 50,
   "metadata": {},
   "outputs": [],
   "source": [
    "with open('/gladstone/finkbeiner/steve/work/data/npsad_data/monika/LBD/WGM_Normalization/wgm_normalizer.pkl', 'rb') as f:\n",
    "    normalizer = pickle.load(f)"
   ]
  },
  {
   "cell_type": "code",
   "execution_count": 53,
   "metadata": {},
   "outputs": [
    {
     "name": "stdout",
     "output_type": "stream",
     "text": [
      "normalize slide 13_131_CG_aSyn_x200.svs\n",
      "[[ 1.7113962  -0.6389496  -0.8537888 ]\n",
      " [-0.23379594  1.1648612  -0.11749933]\n",
      " [-0.13729598 -0.13935758  1.1307889 ]] [array(1.3236632, dtype=float32), array(1.7775086, dtype=float32), array(1)]\n",
      "normalize slide 14_148_CG_aSyn_x200.svs\n",
      "[[ 1.2139407  -0.7879919   0.01416416]\n",
      " [ 0.14811005  1.2391962  -0.8573132 ]\n",
      " [-0.01657958 -0.01463087  1.0163872 ]] [array(1.4401124, dtype=float32), array(1.8079122, dtype=float32), array(1)]\n",
      "normalize slide 14_073_CG_aSyn_x200.svs\n",
      "[[ 1.0411729  -0.4548973  -0.31657672]\n",
      " [ 0.5767238   1.1185056  -0.9473286 ]\n",
      " [ 0.02614867  0.01984254  0.97477496]] [array(1.5670915, dtype=float32), array(1.7372993, dtype=float32), array(1)]\n",
      "normalize slide PD034_Syn1_CG.svs\n",
      "[[ 1.0749581  -0.77047724  0.10332641]\n",
      " [ 0.41879526  1.2354438  -0.96704113]\n",
      " [-0.12808886 -0.09822807  1.1224657 ]] [array(1.6947242, dtype=float32), array(1.9712646, dtype=float32), array(1)]\n",
      "normalize slide PD113_Syn1_CG.svs\n",
      "[[ 1.3710295  -2.0636377   1.6107361 ]\n",
      " [-0.02443826  2.3503265  -2.1445684 ]\n",
      " [ 0.023875    0.03153401  0.96693027]] [array(1.2506901, dtype=float32), array(1.463707, dtype=float32), array(1)]\n",
      "normalize slide 15_005_CG_aSyn_x200.svs\n",
      "[[ 1.112609   -0.5292155  -0.26548663]\n",
      " [ 0.3691052   1.0741539  -0.7388407 ]\n",
      " [-0.02755255 -0.02058872  1.0246085 ]] [array(1.6002634, dtype=float32), array(1.9265391, dtype=float32), array(1)]\n",
      "normalize slide PD088_Syn1_CG.svs\n",
      "[[ 1.3169848  -0.5958617  -0.43439233]\n",
      " [ 0.2902872   1.161111   -0.8152026 ]\n",
      " [-0.09064183 -0.06739494  1.0950152 ]] [array(1.3301474, dtype=float32), array(1.6889637, dtype=float32), array(1)]\n",
      "normalize slide 14_075_CG_aSyn_x200.svs\n",
      "[[ 1.065653   -0.5142428  -0.29755202]\n",
      " [ 0.5590841   1.1202874  -0.9756651 ]\n",
      " [ 0.01365014  0.01044854  0.9862403 ]] [array(1.4097103, dtype=float32), array(1.6491476, dtype=float32), array(1)]\n",
      "normalize slide 14_087_CG_aSyn_x200.svs\n",
      "[[ 1.9257705  -0.53464496 -1.3474727 ]\n",
      " [-0.38976455  1.1147648   0.37020162]\n",
      " [-0.12723953 -0.14053486  1.0922018 ]] [array(1.3973074, dtype=float32), array(1.8599716, dtype=float32), array(1)]\n",
      "normalize slide 14_133_CG_aSyn_x200.svs\n",
      "[[ 1.2109076  -1.0358653   0.35722783]\n",
      " [ 0.14113556  1.41727    -1.1528666 ]\n",
      " [ 0.02865499  0.02732411  0.96895635]] [array(1.3390375, dtype=float32), array(1.6483127, dtype=float32), array(1)]\n",
      "normalize slide 14_153_CG_aSyn_x200.svs\n",
      "[[ 1.119425   -0.8298062   0.15609498]\n",
      " [ 0.26683372  1.2713904  -1.0216503 ]\n",
      " [ 0.00979954  0.00842794  0.99013335]] [array(1.4872338, dtype=float32), array(1.7918729, dtype=float32), array(1)]\n",
      "normalize slide PD079_Syn1_CG.svs\n",
      "[[ 1.1135955  -0.6004717  -0.14684987]\n",
      " [ 0.41388834  1.1283655  -0.772329  ]\n",
      " [-0.15964866 -0.12282775  1.147515  ]] [array(1.7237037, dtype=float32), array(1.9871501, dtype=float32), array(1)]\n",
      "normalize slide PD110_Syn1_CG.svs\n",
      "[[ 1.1912935  -0.48589048 -0.42362618]\n",
      " [ 0.42952278  1.1152642  -0.84577554]\n",
      " [-0.05784655 -0.04176993  1.057414  ]] [array(1.4868151, dtype=float32), array(1.7648858, dtype=float32), array(1)]\n",
      "normalize slide PD130_Syn1_CG.svs\n",
      "[[ 1.219124   -1.3320825   0.8018366 ]\n",
      " [ 0.12507035  1.623398   -1.4155077 ]\n",
      " [ 0.04592956  0.04745742  0.9491652 ]] [array(1.4093615, dtype=float32), array(1.6594291, dtype=float32), array(1)]\n",
      "normalize slide PD133_Syn1_CG.svs\n",
      "[[ 1.2309436  -1.8312827   1.4477043 ]\n",
      " [ 0.1468438   2.0102296  -1.8445181 ]\n",
      " [ 0.02682992  0.0292101   0.96963286]] [array(1.525438, dtype=float32), array(1.6925273, dtype=float32), array(1)]\n",
      "normalize slide 13_131_CG_aSyn_x200.svs\n",
      "[[ 1.9091843  -0.53475755 -1.2014266 ]\n",
      " [-0.4143542   1.1499885   0.22002518]\n",
      " [-0.17392777 -0.18582204  1.1536524 ]] [array(1.2232227, dtype=float32), array(1.718038, dtype=float32), array(1)]\n",
      "normalize slide 14_148_CG_aSyn_x200.svs\n",
      "[[ 2.1282265  -0.40686226 -1.5390272 ]\n",
      " [-0.5251678   1.1046567   0.47555512]\n",
      " [-0.2309201  -0.2523042   1.1970289 ]] [array(1.2842268, dtype=float32), array(1.7712442, dtype=float32), array(1)]\n",
      "normalize slide 14_073_CG_aSyn_x200.svs\n",
      "[[ 1.968886   -0.5174763  -1.4168463 ]\n",
      " [-0.5012788   1.1470933   0.5067934 ]\n",
      " [-0.12596282 -0.13510513  1.0856206 ]] [array(1.1613581, dtype=float32), array(1.6704592, dtype=float32), array(1)]\n",
      "normalize slide PD034_Syn1_CG.svs\n",
      "[[ 1.4345452  -0.8101963  -0.20614764]\n",
      " [-0.04168313  1.2694467  -0.586089  ]\n",
      " [-0.13760632 -0.13407351  1.139769  ]] [array(1.3684891, dtype=float32), array(1.7540742, dtype=float32), array(1)]\n",
      "normalize slide PD113_Syn1_CG.svs\n",
      "[[ 1.5803005  -0.73001    -0.54588056]\n",
      " [-0.31673667  1.2241172  -0.12202033]\n",
      " [-0.08944201 -0.10082899  1.0734891 ]] [array(1.2164541, dtype=float32), array(1.721169, dtype=float32), array(1)]\n",
      "normalize slide 15_005_CG_aSyn_x200.svs\n",
      "[[ 2.0662742  -0.47792915 -1.4729398 ]\n",
      " [-0.4933817   1.1220835   0.44482255]\n",
      " [-0.18285033 -0.20201369  1.1470876 ]] [array(1.3070493, dtype=float32), array(1.7908633, dtype=float32), array(1)]\n",
      "normalize slide PD088_Syn1_CG.svs\n",
      "[[ 1.3769363  -0.7313494  -0.2423159 ]\n",
      " [-0.12693845  1.1990824  -0.47139287]\n",
      " [-0.02056422 -0.01980409  1.0175451 ]] [array(1.223886, dtype=float32), array(1.6820266, dtype=float32), array(1)]\n",
      "normalize slide 14_075_CG_aSyn_x200.svs\n",
      "[[ 1.8684897  -0.6140512  -1.1961962 ]\n",
      " [-0.46745476  1.1796759   0.3337438 ]\n",
      " [-0.09998953 -0.11019286  1.0727394 ]] [array(1.1171871, dtype=float32), array(1.627767, dtype=float32), array(1)]\n",
      "normalize slide 14_087_CG_aSyn_x200.svs\n",
      "[[ 2.2137775  -0.367794   -1.6917222 ]\n",
      " [-0.5567799   1.077045    0.6296962 ]\n",
      " [-0.23227306 -0.26346412  1.1765789 ]] [array(1.3658564, dtype=float32), array(1.8356817, dtype=float32), array(1)]\n",
      "normalize slide 14_133_CG_aSyn_x200.svs\n",
      "[[ 2.020178   -0.52353597 -1.4063307 ]\n",
      " [-0.5236897   1.1484035   0.4717736 ]\n",
      " [-0.15988216 -0.18213801  1.1207517 ]] [array(1.2273803, dtype=float32), array(1.7295375, dtype=float32), array(1)]\n",
      "normalize slide 14_153_CG_aSyn_x200.svs\n",
      "[[ 2.0997257  -0.4793267  -1.5498352 ]\n",
      " [-0.52727884  1.1248118   0.5427291 ]\n",
      " [-0.16701569 -0.19044362  1.1229709 ]] [array(1.2923315, dtype=float32), array(1.7728873, dtype=float32), array(1)]\n",
      "normalize slide PD079_Syn1_CG.svs\n",
      "[[ 1.7631317  -0.7581138  -0.72084755]\n",
      " [-0.2898796   1.2550826  -0.18498392]\n",
      " [-0.17320167 -0.2071053   1.1863233 ]] [array(1.4088565, dtype=float32), array(1.8454592, dtype=float32), array(1)]\n",
      "normalize slide PD110_Syn1_CG.svs\n",
      "[[ 1.528988   -0.6701568  -0.65975493]\n",
      " [-0.25886148  1.1502242  -0.05768662]\n",
      " [-0.03363065 -0.03373159  1.0239699 ]] [array(1.2245947, dtype=float32), array(1.7238864, dtype=float32), array(1)]\n",
      "normalize slide PD130_Syn1_CG.svs\n",
      "[[ 1.5978986  -0.74546456 -0.58251387]\n",
      " [-0.25556624  1.1999179  -0.1697435 ]\n",
      " [-0.08815731 -0.09786402  1.0770295 ]] [array(1.2914791, dtype=float32), array(1.7278988, dtype=float32), array(1)]\n",
      "normalize slide PD133_Syn1_CG.svs\n",
      "[[ 1.6032652  -0.8811295  -0.3007433 ]\n",
      " [-0.2056087   1.3582087  -0.46774182]\n",
      " [-0.18660982 -0.23066632  1.2165964 ]] [array(1.3774359, dtype=float32), array(1.7865433, dtype=float32), array(1)]\n",
      "normalize slide 13_131_CG_aSyn_x200.svs\n",
      "[[ 1.7972964  -0.70684224 -0.8163335 ]\n",
      " [-0.03307513  1.0431938  -0.04643685]\n",
      " [-0.536247   -0.3480126   1.4556435 ]] [array(0.8890514, dtype=float32), array(0.94296676, dtype=float32), array(1)]\n",
      "normalize slide 14_148_CG_aSyn_x200.svs\n",
      "[[ 1.7711737  -0.7137418  -0.7555865 ]\n",
      " [-0.0596306   1.0602988  -0.04531318]\n",
      " [-0.5417074  -0.36082214  1.4613123 ]] [array(0.87953216, dtype=float32), array(0.96623796, dtype=float32), array(1)]\n",
      "normalize slide 14_073_CG_aSyn_x200.svs\n",
      "[[ 1.6644638  -0.714155   -0.64566374]\n",
      " [ 0.00411449  1.0234636  -0.05289273]\n",
      " [-0.5511292  -0.34307918  1.4378852 ]] [array(0.87841475, dtype=float32), array(0.916333, dtype=float32), array(1)]\n",
      "normalize slide PD034_Syn1_CG.svs\n",
      "[[ 1.7458576  -0.6293975  -0.82432145]\n",
      " [-0.03254107  1.0456421  -0.05911185]\n",
      " [-0.5031392  -0.3158398   1.4221092 ]] [array(0.82471263, dtype=float32), array(0.95336527, dtype=float32), array(1)]\n",
      "normalize slide PD113_Syn1_CG.svs\n",
      "[[ 1.7466908  -0.61758393 -0.84159684]\n",
      " [-0.01383069  1.0312301  -0.05206885]\n",
      " [-0.5241404  -0.31455362  1.4342273 ]] [array(0.8202008, dtype=float32), array(0.9333939, dtype=float32), array(1)]\n",
      "normalize slide 15_005_CG_aSyn_x200.svs\n",
      "[[ 1.7236553  -0.7019847  -0.72422165]\n",
      " [-0.01172907  1.0331166  -0.05223433]\n",
      " [-0.55871373 -0.35178328  1.4606671 ]] [array(0.8791219, dtype=float32), array(0.9294897, dtype=float32), array(1)]\n",
      "normalize slide PD088_Syn1_CG.svs\n",
      "[[ 1.7775556  -0.6272349  -0.856413  ]\n",
      " [-0.05417465  1.0514529  -0.04329448]\n",
      " [-0.5144787  -0.323773    1.4360601 ]] [array(0.8254727, dtype=float32), array(0.9652323, dtype=float32), array(1)]\n",
      "normalize slide 14_075_CG_aSyn_x200.svs\n",
      "[[ 1.752779   -0.72644    -0.7151856 ]\n",
      " [-0.05791987  1.0696313  -0.06461735]\n",
      " [-0.5374131  -0.3618812   1.4595344 ]] [array(0.87936974, dtype=float32), array(0.97236735, dtype=float32), array(1)]\n",
      "normalize slide 14_087_CG_aSyn_x200.svs\n",
      "[[ 1.7317754  -0.69724345 -0.7432148 ]\n",
      " [-0.00226891  1.0313585  -0.06101404]\n",
      " [-0.55718416 -0.3478713   1.4619646 ]] [array(0.879159, dtype=float32), array(0.924872, dtype=float32), array(1)]\n",
      "normalize slide 14_133_CG_aSyn_x200.svs\n",
      "[[ 1.7482413  -0.6870538  -0.77384627]\n",
      " [-0.00497131  1.02428    -0.04330817]\n",
      " [-0.5708479  -0.3524183   1.4724882 ]] [array(0.8779272, dtype=float32), array(0.92020756, dtype=float32), array(1)]\n",
      "normalize slide 14_153_CG_aSyn_x200.svs\n",
      "[[ 1.7444047  -0.6939133  -0.7609283 ]\n",
      " [-0.01383035  1.0306565  -0.04516465]\n",
      " [-0.5579492  -0.35055062  1.4623634 ]] [array(0.87870806, dtype=float32), array(0.9281162, dtype=float32), array(1)]\n",
      "normalize slide PD079_Syn1_CG.svs\n",
      "[[ 1.772674   -0.6960069  -0.7941052 ]\n",
      " [-0.03199138  1.0381947  -0.0379306 ]\n",
      " [-0.54188526 -0.3485938   1.4542077 ]] [array(0.87847173, dtype=float32), array(0.93931216, dtype=float32), array(1)]\n",
      "normalize slide PD110_Syn1_CG.svs\n",
      "[[ 1.7362144  -0.69006634 -0.75900614]\n",
      " [-0.00903016  1.0240036  -0.03794258]\n",
      " [-0.5575724  -0.34897003  1.4578339 ]] [array(0.87736785, dtype=float32), array(0.92110443, dtype=float32), array(1)]\n",
      "normalize slide PD130_Syn1_CG.svs\n",
      "[[ 1.4455502  -0.8014399  -0.28057688]\n",
      " [ 0.02549704  1.002979   -0.04120488]\n",
      " [-0.51445717 -0.2705706   1.3106703 ]] [array(0.8814475, dtype=float32), array(0.89403194, dtype=float32), array(1)]\n",
      "normalize slide PD133_Syn1_CG.svs\n",
      "[[ 1.8051758  -0.7313382  -0.7610502 ]\n",
      " [-0.09135164  1.0935191  -0.06757996]\n",
      " [-0.5337975  -0.3731482   1.4742612 ]] [array(0.8796431, dtype=float32), array(0.9963696, dtype=float32), array(1)]\n",
      "normalize slide 12_060_CG_aSyn_x200.svs\n",
      "[[ 1.6883276  -0.678271   -0.7518454 ]\n",
      " [-0.14234269  1.1995089  -0.32366276]\n",
      " [-0.1571074  -0.14981778  1.1651348 ]] [array(1.2934868, dtype=float32), array(1.6722147, dtype=float32), array(1)]\n",
      "normalize slide 13_177_CG_aSyn_x200.svs\n",
      "[[ 1.8546754  -0.64773077 -0.9466206 ]\n",
      " [-0.3810923   1.2386438  -0.03649412]\n",
      " [-0.19211808 -0.21377386  1.2002058 ]] [array(1.1452167, dtype=float32), array(1.5996562, dtype=float32), array(1)]\n",
      "normalize slide 14_053_CG_aSyn_x200.svs\n",
      "[[ 1.1802074  -0.5768138  -0.36467767]\n",
      " [ 0.4562471   1.1109242  -0.92271745]\n",
      " [-0.01626966 -0.01215474  1.0169559 ]] [array(1.2684785, dtype=float32), array(1.6137446, dtype=float32), array(1)]\n",
      "normalize slide 15_007_CG_aSyn_x200.svs\n",
      "[[ 1.6000516  -0.6903537  -0.69976187]\n",
      " [-0.24447623  1.1624277  -0.11039879]\n",
      " [-0.06932099 -0.0746333   1.0583888 ]] [array(1.3305246, dtype=float32), array(1.7945359, dtype=float32), array(1)]\n",
      "normalize slide PD002_Syn1_CG.svs\n",
      "[[ 1.0378118  -0.65983176 -0.05108408]\n",
      " [ 0.589677    1.1852213  -0.9887192 ]\n",
      " [-0.17186189 -0.12019318  1.163691  ]] [array(1.6587045, dtype=float32), array(1.8877162, dtype=float32), array(1)]\n",
      "normalize slide PD090_Syn1_CG.svs\n",
      "[[ 0.9990273  -0.5423997  -0.1467007 ]\n",
      " [ 0.6213078   1.1124095  -0.86496216]\n",
      " [-0.13441266 -0.09373844  1.1172754 ]] [array(1.6947103, dtype=float32), array(1.8754638, dtype=float32), array(1)]\n",
      "normalize slide PD131_Syn1_CG.svs\n",
      "[[ 1.0322517  -0.7233164   0.05978446]\n",
      " [ 0.41152582  1.1913592  -1.0103045 ]\n",
      " [ 0.02399158  0.01898095  0.9767602 ]] [array(1.5373329, dtype=float32), array(1.8212905, dtype=float32), array(1)]\n",
      "normalize slide 12_060_CG_aSyn_x200.svs\n",
      "[[ 1.9155618  -0.5286603  -1.1982106 ]\n",
      " [-0.3336453   1.1379372   0.10555311]\n",
      " [-0.19228023 -0.1991951   1.1836386 ]] [array(1.3415595, dtype=float32), array(1.7961577, dtype=float32), array(1)]\n",
      "normalize slide 13_177_CG_aSyn_x200.svs\n",
      "[[ 2.0028644  -0.5218399  -1.3858016 ]\n",
      " [-0.49859056  1.146722    0.41692927]\n",
      " [-0.15493837 -0.16872898  1.1213939 ]] [array(1.18865, dtype=float32), array(1.6897078, dtype=float32), array(1)]\n",
      "normalize slide 14_053_CG_aSyn_x200.svs\n",
      "[[ 1.6995236  -0.60920846 -0.8900486 ]\n",
      " [-0.27053615  1.1559436  -0.04485352]\n",
      " [-0.11696551 -0.11907225  1.1053748 ]] [array(1.269697, dtype=float32), array(1.75121, dtype=float32), array(1)]\n",
      "normalize slide 15_007_CG_aSyn_x200.svs\n",
      "[[ 2.1346204  -0.4637313  -1.6428659 ]\n",
      " [-0.56836617  1.1307167   0.66757554]\n",
      " [-0.15681641 -0.17763124  1.1023316 ]] [array(1.252628, dtype=float32), array(1.7472426, dtype=float32), array(1)]\n",
      "normalize slide PD002_Syn1_CG.svs\n",
      "[[ 1.5029286  -0.7430195  -0.38190848]\n",
      " [ 0.00498438  1.2675364  -0.5786684 ]\n",
      " [-0.21714695 -0.21333854  1.2423244 ]] [array(1.5419626, dtype=float32), array(1.9528246, dtype=float32), array(1)]\n",
      "normalize slide PD090_Syn1_CG.svs\n",
      "[[ 1.7332987  -0.8369697  -0.61808556]\n",
      " [-0.24275027  1.2596864  -0.2736949 ]\n",
      " [-0.14620028 -0.16512704  1.1537905 ]] [array(1.3457631, dtype=float32), array(1.7313014, dtype=float32), array(1)]\n",
      "normalize slide PD131_Syn1_CG.svs\n",
      "[[ 1.8153673  -0.6990999  -1.0117962 ]\n",
      " [-0.39655817  1.1855371   0.17281257]\n",
      " [-0.10088459 -0.12245373  1.0798458 ]] [array(1.2558658, dtype=float32), array(1.7010258, dtype=float32), array(1)]\n",
      "normalize slide 12_060_CG_aSyn_x200.svs\n",
      "[[ 1.7429124  -0.6863545  -0.76970565]\n",
      " [-0.00255427  1.0226885  -0.04321231]\n",
      " [-0.5684153  -0.35119772  1.4691614 ]] [array(0.8776533, dtype=float32), array(0.91805124, dtype=float32), array(1)]\n",
      "normalize slide 13_177_CG_aSyn_x200.svs\n",
      "[[ 1.8825277  -0.75377554 -0.7554948 ]\n",
      " [-0.24486306  1.2801437  -0.21225302]\n",
      " [-0.4487388  -0.3971858   1.4845545 ]] [array(0.83774203, dtype=float32), array(1.1159683, dtype=float32), array(1)]\n",
      "normalize slide 14_053_CG_aSyn_x200.svs\n",
      "[[ 1.7564678  -0.6922245  -0.78165156]\n",
      " [-0.01216655  1.0292915  -0.04494744]\n",
      " [-0.55434054 -0.34618914  1.4601092 ]] [array(0.8794088, dtype=float32), array(0.9263299, dtype=float32), array(1)]\n",
      "normalize slide 15_007_CG_aSyn_x200.svs\n",
      "[[ 1.7530464  -0.69930077 -0.7612024 ]\n",
      " [-0.02073839  1.039525   -0.05397339]\n",
      " [-0.55516785 -0.3527727   1.465487  ]] [array(0.87905484, dtype=float32), array(0.93779826, dtype=float32), array(1)]\n",
      "normalize slide PD002_Syn1_CG.svs\n",
      "[[ 1.815768   -0.7390109  -0.7713029 ]\n",
      " [-0.07455436  1.0997134  -0.10036381]\n",
      " [-0.526018   -0.3668413   1.4751928 ]] [array(0.8830518, dtype=float32), array(0.9975507, dtype=float32), array(1)]\n",
      "normalize slide PD090_Syn1_CG.svs\n",
      "[[ 1.7399291e+00 -6.8640369e-01 -7.6766175e-01]\n",
      " [-1.1506047e-03  1.0215919e+00 -4.2864006e-02]\n",
      " [-5.6588155e-01 -3.4960499e-01  1.4659412e+00]] [array(0.877431, dtype=float32), array(0.9167486, dtype=float32), array(1)]\n",
      "normalize slide PD131_Syn1_CG.svs\n",
      "[[ 1.7503147  -0.68586785 -0.7792167 ]\n",
      " [-0.00584105  1.023707   -0.04124586]\n",
      " [-0.56703746 -0.35100695  1.4691405 ]] [array(0.8775752, dtype=float32), array(0.9199492, dtype=float32), array(1)]\n"
     ]
    }
   ],
   "source": [
    "result_dir = '/gladstone/finkbeiner/steve/work/data/npsad_data/monika/LBD/WGM_Normalization/normalized_data'\n",
    "data_types=[\"train\",\"val\"]\n",
    "regions = [\"grey\",\"White\",\"bg\"]\n",
    "\n",
    "slide_list = {\"train\": [\"13_131_CG_aSyn_x200.svs\",\"14_148_CG_aSyn_x200.svs\",\"14_073_CG_aSyn_x200.svs\",\n",
    "                    \"PD034_Syn1_CG.svs\",\"PD113_Syn1_CG.svs\", \"15_005_CG_aSyn_x200.svs\", \"PD088_Syn1_CG.svs\" ,\"14_075_CG_aSyn_x200.svs\",\n",
    "                    \"14_087_CG_aSyn_x200.svs\",\"14_133_CG_aSyn_x200.svs\",\"14_153_CG_aSyn_x200.svs\",\"PD079_Syn1_CG.svs\",\n",
    "                    \"PD110_Syn1_CG.svs\",\"PD130_Syn1_CG.svs\", \"PD133_Syn1_CG.svs\"],\n",
    "              \n",
    "              \"val\":[\"12_060_CG_aSyn_x200.svs\", \"13_177_CG_aSyn_x200.svs\",\"14_053_CG_aSyn_x200.svs\",\"15_007_CG_aSyn_x200.svs\",\n",
    "                       \"PD002_Syn1_CG.svs\",\"PD090_Syn1_CG.svs\",\"PD131_Syn1_CG.svs\"]}\n",
    "\n",
    "\n",
    "for data_type in data_types:\n",
    "    for region in regions:\n",
    "        if not os.path.exists(result_dir):\n",
    "            os.makedirs(result_dir)\n",
    "        for s in slide_list[data_type]:\n",
    "            print('normalize slide', s)\n",
    "            slide_dir = os.path.join(source_image_dir, s, region)\n",
    "            image_list = os.listdir(slide_dir)\n",
    "            if \".DS_Store\" in image_list:\n",
    "                image_list.remove(\".DS_Store\")\n",
    "                \n",
    "            images = np.asarray([cv2.imread(os.path.join(slide_dir, name)) for name in image_list])\n",
    "            \n",
    "            ## color transform\n",
    "            results = normalizer.transform(images[:,:,:,[2,1,0]]) #BGR2RGB\n",
    "            \n",
    "            # display\n",
    "            for result, image_name  in zip(results,image_list):\n",
    "                #cv2.imwrite(os.path.join(result_dir, region, s + '_{}_origin.jpg'.format(i)), images[i])\n",
    "                image_name = image_name.replace(\"png\",\"jpg\")\n",
    "                cv2.imwrite(os.path.join(result_dir,data_type, region, image_name) , result[:,:,[2,1,0]]) #RGB2BGR"
   ]
  },
  {
   "cell_type": "code",
   "execution_count": 29,
   "metadata": {},
   "outputs": [],
   "source": [
    "result_dir = '/gladstone/finkbeiner/steve/work/data/npsad_data/monika/LBD/WGM_Normalization/normalized_data'\n",
    "data_types=[\"train\",\"val\"]\n",
    "regions = [\"grey\",\"White\",\"bg\"]"
   ]
  },
  {
   "cell_type": "code",
   "execution_count": 30,
   "metadata": {},
   "outputs": [],
   "source": [
    "def map_label(class_name):\n",
    "    if class_name==\"White\":\n",
    "        return 0\n",
    "    if class_name==\"grey\":\n",
    "        return 1\n",
    "    if class_name==\"bg\":\n",
    "        return 2\n",
    "    return -1"
   ]
  },
  {
   "cell_type": "code",
   "execution_count": 31,
   "metadata": {},
   "outputs": [],
   "source": [
    "df = pd.DataFrame(columns=[\"WSI_filename\",\"crop_filepath\",\"class\"])\n",
    "for label_name in regions:\n",
    "    files = glob(os.path.join(result_dir, data_types[0], label_name, '*.jpg'))\n",
    "    #print(len(files))glob\n",
    "    temp_df =  pd.DataFrame({\"crop_filepath\":files})\n",
    "    #temp_df[\"WSI_filename\"] = folder_name\n",
    "    temp_df[\"class\"] = label_name\n",
    "    df = pd.concat([df, temp_df], ignore_index=True)\n",
    "df[\"WSI_filename\"]=df[\"crop_filepath\"].apply(lambda l:l.split(\"/\")[-1].split(\".\")[0])\n",
    "df[\"LBD_tag\"] = df[\"WSI_filename\"].apply(lambda l: \"PDD\" if l.startswith(\"PD\") else \"DLB\")\n",
    "df[\"label\"]=df[\"class\"].apply(lambda l:map_label(l))\n",
    "df.to_csv(\"/home/mahirwar/Desktop/Monika/npsad_data/monika/LBD/Intermediate_data/train_acd_norm_full.csv\")\n",
    "df[[\"WSI_filename\",\"crop_filepath\",\"label\"]].to_csv(\"/home/mahirwar/Desktop/Monika/npsad_data/monika/LBD/Intermediate_data/train_acd_norm.csv\")\n"
   ]
  },
  {
   "cell_type": "code",
   "execution_count": 22,
   "metadata": {},
   "outputs": [
    {
     "data": {
      "text/plain": [
       "LBD_tag  class\n",
       "DLB      White    1472\n",
       "         bg       1387\n",
       "         grey     1892\n",
       "PDD      White     557\n",
       "         bg        642\n",
       "         grey      760\n",
       "Name: crop_filepath, dtype: int64"
      ]
     },
     "execution_count": 22,
     "metadata": {},
     "output_type": "execute_result"
    }
   ],
   "source": [
    "df.groupby([\"LBD_tag\",\"class\"])[\"crop_filepath\"].count()\n"
   ]
  },
  {
   "cell_type": "code",
   "execution_count": 33,
   "metadata": {},
   "outputs": [],
   "source": [
    "df = pd.DataFrame(columns=[\"WSI_filename\",\"crop_filepath\",\"class\"])\n",
    "for label_name in regions:\n",
    "    files = glob(os.path.join(result_dir, data_types[1], label_name, '*.jpg'))\n",
    "    #print(len(files))glob\n",
    "    temp_df =  pd.DataFrame({\"crop_filepath\":files})\n",
    "    #temp_df[\"WSI_filename\"] = folder_name\n",
    "    temp_df[\"class\"] = label_name\n",
    "    df = pd.concat([df, temp_df], ignore_index=True)"
   ]
  },
  {
   "cell_type": "code",
   "execution_count": 34,
   "metadata": {},
   "outputs": [],
   "source": [
    "df[\"WSI_filename\"]=df[\"crop_filepath\"].apply(lambda l:l.split(\"/\")[-1].split(\".\")[0])\n",
    "df[\"LBD_tag\"] = df[\"WSI_filename\"].apply(lambda l: \"PDD\" if l.startswith(\"PD\") else \"DLB\")\n",
    "df[\"label\"]=df[\"class\"].apply(lambda l:map_label(l))\n",
    "df.to_csv(\"/home/mahirwar/Desktop/Monika/npsad_data/monika/LBD/Intermediate_data/val_acd_norm_full.csv\")\n",
    "df[[\"WSI_filename\",\"crop_filepath\",\"label\"]].to_csv(\"/home/mahirwar/Desktop/Monika/npsad_data/monika/LBD/Intermediate_data/val_acd_norm.csv\")"
   ]
  },
  {
   "cell_type": "code",
   "execution_count": 35,
   "metadata": {},
   "outputs": [
    {
     "data": {
      "text/plain": [
       "LBD_tag  class\n",
       "DLB      White    820\n",
       "         bg       605\n",
       "         grey     381\n",
       "PDD      White    247\n",
       "         bg       517\n",
       "         grey     307\n",
       "Name: crop_filepath, dtype: int64"
      ]
     },
     "execution_count": 35,
     "metadata": {},
     "output_type": "execute_result"
    }
   ],
   "source": [
    "df.groupby([\"LBD_tag\",\"class\"])[\"crop_filepath\"].count()\n"
   ]
  },
  {
   "cell_type": "code",
   "execution_count": null,
   "metadata": {},
   "outputs": [],
   "source": [
    "\n"
   ]
  }
 ],
 "metadata": {
  "kernelspec": {
   "display_name": "kfold_amy_plaque1",
   "language": "python",
   "name": "python3"
  },
  "language_info": {
   "codemirror_mode": {
    "name": "ipython",
    "version": 3
   },
   "file_extension": ".py",
   "mimetype": "text/x-python",
   "name": "python",
   "nbconvert_exporter": "python",
   "pygments_lexer": "ipython3",
   "version": "3.9.7"
  }
 },
 "nbformat": 4,
 "nbformat_minor": 2
}
