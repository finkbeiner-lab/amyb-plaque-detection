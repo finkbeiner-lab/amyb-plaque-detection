{
 "cells": [
  {
   "attachments": {},
   "cell_type": "markdown",
   "metadata": {},
   "source": [
    "## Import Libraries"
   ]
  },
  {
   "cell_type": "code",
   "execution_count": 8,
   "metadata": {},
   "outputs": [],
   "source": [
    "import pandas as pd\n",
    "import numpy as np\n",
    "import matplotlib.pyplot as plt\n",
    "from scipy import stats\n"
   ]
  },
  {
   "attachments": {},
   "cell_type": "markdown",
   "metadata": {},
   "source": [
    "## Load Data"
   ]
  },
  {
   "attachments": {},
   "cell_type": "markdown",
   "metadata": {},
   "source": []
  },
  {
   "cell_type": "code",
   "execution_count": 9,
   "metadata": {},
   "outputs": [],
   "source": [
    "clinical_data = pd.read_csv(\"/mnt/new-nas/work/data/npsad_data/vivek/Metadata/clinical_metadata_v2_lates.csv\")\n",
    "plaque_counts = pd.read_csv(\"/mnt/new-nas/work/data/npsad_data/vivek/csv_merged_data/final_quantify_new.csv\")"
   ]
  },
  {
   "cell_type": "code",
   "execution_count": 10,
   "metadata": {},
   "outputs": [
    {
     "data": {
      "text/html": [
       "<div>\n",
       "<style scoped>\n",
       "    .dataframe tbody tr th:only-of-type {\n",
       "        vertical-align: middle;\n",
       "    }\n",
       "\n",
       "    .dataframe tbody tr th {\n",
       "        vertical-align: top;\n",
       "    }\n",
       "\n",
       "    .dataframe thead th {\n",
       "        text-align: right;\n",
       "    }\n",
       "</style>\n",
       "<table border=\"1\" class=\"dataframe\">\n",
       "  <thead>\n",
       "    <tr style=\"text-align: right;\">\n",
       "      <th></th>\n",
       "      <th>SubID</th>\n",
       "      <th>Brain_bank</th>\n",
       "      <th>Age</th>\n",
       "      <th>Sex</th>\n",
       "      <th>Sex_chr_aneuploidy</th>\n",
       "      <th>Ethnicity</th>\n",
       "      <th>Dx</th>\n",
       "      <th>pH</th>\n",
       "      <th>PMI</th>\n",
       "      <th>Death_Time</th>\n",
       "      <th>...</th>\n",
       "      <th>LewyDorsalVValue</th>\n",
       "      <th>CDR_Memory</th>\n",
       "      <th>CDR_Orientation</th>\n",
       "      <th>CDR_Judgement</th>\n",
       "      <th>CDR_Community</th>\n",
       "      <th>CDR_HomeHobbies</th>\n",
       "      <th>CDR_PersonalCare</th>\n",
       "      <th>CDR_SumBoxes</th>\n",
       "      <th>Cognitive_Resilience</th>\n",
       "      <th>Cognitive_and_Tau_Resilience</th>\n",
       "    </tr>\n",
       "  </thead>\n",
       "  <tbody>\n",
       "    <tr>\n",
       "      <th>0</th>\n",
       "      <td>M00_1061</td>\n",
       "      <td>MSSM</td>\n",
       "      <td>40.0</td>\n",
       "      <td>Male</td>\n",
       "      <td>NaN</td>\n",
       "      <td>Black</td>\n",
       "      <td>Harry's plaintext: CVD+BPD | CERAD_1: Vascular...</td>\n",
       "      <td>6.87</td>\n",
       "      <td>11.333333</td>\n",
       "      <td>NaN</td>\n",
       "      <td>...</td>\n",
       "      <td>0.0</td>\n",
       "      <td>0.0</td>\n",
       "      <td>0.0</td>\n",
       "      <td>1.0</td>\n",
       "      <td>1.0</td>\n",
       "      <td>0.5</td>\n",
       "      <td>0.0</td>\n",
       "      <td>3.5</td>\n",
       "      <td>NaN</td>\n",
       "      <td>NaN</td>\n",
       "    </tr>\n",
       "    <tr>\n",
       "      <th>1</th>\n",
       "      <td>M00_1062</td>\n",
       "      <td>MSSM</td>\n",
       "      <td>60.0</td>\n",
       "      <td>Female</td>\n",
       "      <td>NaN</td>\n",
       "      <td>Hispanic</td>\n",
       "      <td>Harry's plaintext: CVD | CERAD_1: Vascular dis...</td>\n",
       "      <td>6.27</td>\n",
       "      <td>2.900000</td>\n",
       "      <td>NaN</td>\n",
       "      <td>...</td>\n",
       "      <td>0.0</td>\n",
       "      <td>0.0</td>\n",
       "      <td>0.0</td>\n",
       "      <td>0.0</td>\n",
       "      <td>0.0</td>\n",
       "      <td>0.0</td>\n",
       "      <td>0.0</td>\n",
       "      <td>0.0</td>\n",
       "      <td>NaN</td>\n",
       "      <td>NaN</td>\n",
       "    </tr>\n",
       "  </tbody>\n",
       "</table>\n",
       "<p>2 rows × 245 columns</p>\n",
       "</div>"
      ],
      "text/plain": [
       "      SubID Brain_bank   Age     Sex Sex_chr_aneuploidy Ethnicity  \\\n",
       "0  M00_1061       MSSM  40.0    Male                NaN     Black   \n",
       "1  M00_1062       MSSM  60.0  Female                NaN  Hispanic   \n",
       "\n",
       "                                                  Dx    pH        PMI  \\\n",
       "0  Harry's plaintext: CVD+BPD | CERAD_1: Vascular...  6.87  11.333333   \n",
       "1  Harry's plaintext: CVD | CERAD_1: Vascular dis...  6.27   2.900000   \n",
       "\n",
       "  Death_Time  ...  LewyDorsalVValue CDR_Memory  CDR_Orientation  \\\n",
       "0        NaN  ...               0.0        0.0              0.0   \n",
       "1        NaN  ...               0.0        0.0              0.0   \n",
       "\n",
       "   CDR_Judgement  CDR_Community  CDR_HomeHobbies  CDR_PersonalCare  \\\n",
       "0            1.0            1.0              0.5               0.0   \n",
       "1            0.0            0.0              0.0               0.0   \n",
       "\n",
       "   CDR_SumBoxes  Cognitive_Resilience Cognitive_and_Tau_Resilience  \n",
       "0           3.5                   NaN                          NaN  \n",
       "1           0.0                   NaN                          NaN  \n",
       "\n",
       "[2 rows x 245 columns]"
      ]
     },
     "execution_count": 10,
     "metadata": {},
     "output_type": "execute_result"
    }
   ],
   "source": [
    "clinical_data.head(2)"
   ]
  },
  {
   "cell_type": "code",
   "execution_count": 11,
   "metadata": {},
   "outputs": [],
   "source": [
    "# create a patient id column to map with clinical metadata\n",
    "plaque_counts[\"XENum\"]=plaque_counts[\"image_name\"].apply(lambda l: l.split(\"_1_\")[0])"
   ]
  },
  {
   "cell_type": "code",
   "execution_count": 12,
   "metadata": {},
   "outputs": [],
   "source": [
    "#merge clinical metadata with model predicted output\n",
    "plaque_counts_merged = pd.merge(plaque_counts,clinical_data[[\"Dx\",\"Imaging_XENum\",\"Plq_Mn\",\"Plq_Mn_MFG\",\"MidPlaquesValue\",\"MidPlaquesWCoresValue\",\"CDRScore\",\"prs_AD2\",\"ApoE_gt\"]], left_on=\"XENum\", right_on=\"Imaging_XENum\", how = \"left\")"
   ]
  },
  {
   "cell_type": "code",
   "execution_count": 26,
   "metadata": {},
   "outputs": [
    {
     "data": {
      "text/plain": [
       "33.0    40\n",
       "34.0    27\n",
       "44.0     5\n",
       "23.0     4\n",
       "24.0     2\n",
       "Name: ApoE_gt, dtype: int64"
      ]
     },
     "execution_count": 26,
     "metadata": {},
     "output_type": "execute_result"
    }
   ],
   "source": [
    "sample_counts = plaque_counts_merged['ApoE_gt'].value_counts()\n",
    "sample_counts\n"
   ]
  },
  {
   "cell_type": "code",
   "execution_count": 13,
   "metadata": {},
   "outputs": [],
   "source": [
    "# plaque_counts_merged.to_csv('test.csv',index=False)"
   ]
  },
  {
   "cell_type": "code",
   "execution_count": 22,
   "metadata": {},
   "outputs": [
    {
     "name": "stdout",
     "output_type": "stream",
     "text": [
      "There is a difference in total plaques between APOE_gt 23 and 24.\n",
      "Mean total plaques for APOE_gt 23: 80.75\n",
      "Mean total plaques for APOE_gt 24: 84.5\n",
      "There is a difference in total plaques between APOE_gt 23 and 33.\n",
      "Mean total plaques for APOE_gt 23: 80.75\n",
      "Mean total plaques for APOE_gt 33: 32.8\n",
      "There is a difference in total plaques between APOE_gt 23 and 34.\n",
      "Mean total plaques for APOE_gt 23: 80.75\n",
      "Mean total plaques for APOE_gt 34: 33.666666666666664\n",
      "There is a difference in total plaques between APOE_gt 23 and 44.\n",
      "Mean total plaques for APOE_gt 23: 80.75\n",
      "Mean total plaques for APOE_gt 44: 101.0\n",
      "There is a difference in total plaques between APOE_gt 24 and 23.\n",
      "Mean total plaques for APOE_gt 24: 84.5\n",
      "Mean total plaques for APOE_gt 23: 80.75\n",
      "There is a difference in total plaques between APOE_gt 24 and 33.\n",
      "Mean total plaques for APOE_gt 24: 84.5\n",
      "Mean total plaques for APOE_gt 33: 32.8\n",
      "There is a difference in total plaques between APOE_gt 24 and 34.\n",
      "Mean total plaques for APOE_gt 24: 84.5\n",
      "Mean total plaques for APOE_gt 34: 33.666666666666664\n",
      "There is a difference in total plaques between APOE_gt 24 and 44.\n",
      "Mean total plaques for APOE_gt 24: 84.5\n",
      "Mean total plaques for APOE_gt 44: 101.0\n",
      "There is a difference in total plaques between APOE_gt 33 and 23.\n",
      "Mean total plaques for APOE_gt 33: 32.8\n",
      "Mean total plaques for APOE_gt 23: 80.75\n",
      "There is a difference in total plaques between APOE_gt 33 and 24.\n",
      "Mean total plaques for APOE_gt 33: 32.8\n",
      "Mean total plaques for APOE_gt 24: 84.5\n",
      "There is a difference in total plaques between APOE_gt 33 and 34.\n",
      "Mean total plaques for APOE_gt 33: 32.8\n",
      "Mean total plaques for APOE_gt 34: 33.666666666666664\n",
      "There is a difference in total plaques between APOE_gt 33 and 44.\n",
      "Mean total plaques for APOE_gt 33: 32.8\n",
      "Mean total plaques for APOE_gt 44: 101.0\n",
      "There is a difference in total plaques between APOE_gt 34 and 23.\n",
      "Mean total plaques for APOE_gt 34: 33.666666666666664\n",
      "Mean total plaques for APOE_gt 23: 80.75\n",
      "There is a difference in total plaques between APOE_gt 34 and 24.\n",
      "Mean total plaques for APOE_gt 34: 33.666666666666664\n",
      "Mean total plaques for APOE_gt 24: 84.5\n",
      "There is a difference in total plaques between APOE_gt 34 and 33.\n",
      "Mean total plaques for APOE_gt 34: 33.666666666666664\n",
      "Mean total plaques for APOE_gt 33: 32.8\n",
      "There is a difference in total plaques between APOE_gt 34 and 44.\n",
      "Mean total plaques for APOE_gt 34: 33.666666666666664\n",
      "Mean total plaques for APOE_gt 44: 101.0\n",
      "There is a difference in total plaques between APOE_gt 44 and 23.\n",
      "Mean total plaques for APOE_gt 44: 101.0\n",
      "Mean total plaques for APOE_gt 23: 80.75\n",
      "There is a difference in total plaques between APOE_gt 44 and 24.\n",
      "Mean total plaques for APOE_gt 44: 101.0\n",
      "Mean total plaques for APOE_gt 24: 84.5\n",
      "There is a difference in total plaques between APOE_gt 44 and 33.\n",
      "Mean total plaques for APOE_gt 44: 101.0\n",
      "Mean total plaques for APOE_gt 33: 32.8\n",
      "There is a difference in total plaques between APOE_gt 44 and 34.\n",
      "Mean total plaques for APOE_gt 44: 101.0\n",
      "Mean total plaques for APOE_gt 34: 33.666666666666664\n"
     ]
    }
   ],
   "source": [
    "import pandas as pd\n",
    "\n",
    "# Read the CSV file into a pandas DataFrame\n",
    "data =plaque_counts_merged\n",
    "\n",
    "# APOE_gt values to analyze\n",
    "apoe_gt_values = [23, 24, 33, 34, 44]\n",
    "\n",
    "# Iterate over the APOE_gt values and calculate the mean total_plaques\n",
    "mean_plaques = {}\n",
    "for apoe_gt in apoe_gt_values:\n",
    "    filtered_data = data[data['ApoE_gt'] == apoe_gt]\n",
    "    mean_plaques[apoe_gt] = filtered_data['total_caa_plaques'].mean()\n",
    "\n",
    "# Check if there is any difference in total_plaques\n",
    "for apoe_gt1 in apoe_gt_values:\n",
    "    for apoe_gt2 in apoe_gt_values:\n",
    "        if apoe_gt1 != apoe_gt2:\n",
    "            if mean_plaques[apoe_gt1] != mean_plaques[apoe_gt2]:\n",
    "                print(f\"There is a difference in total plaques between APOE_gt {apoe_gt1} and {apoe_gt2}.\")\n",
    "                print(f\"Mean total plaques for APOE_gt {apoe_gt1}: {mean_plaques[apoe_gt1]}\")\n",
    "                print(f\"Mean total plaques for APOE_gt {apoe_gt2}: {mean_plaques[apoe_gt2]}\")\n",
    "\n"
   ]
  },
  {
   "attachments": {},
   "cell_type": "markdown",
   "metadata": {},
   "source": [
    "Diffuse"
   ]
  },
  {
   "cell_type": "code",
   "execution_count": 19,
   "metadata": {},
   "outputs": [
    {
     "data": {
      "image/png": "[encoded data removed]",
      "text/plain": [
       "<Figure size 640x480 with 1 Axes>"
      ]
     },
     "metadata": {},
     "output_type": "display_data"
    }
   ],
   "source": [
    "\n",
    "\n",
    "# Define the data\n",
    "categories = ['APOE_gt 23', 'APOE_gt 24', 'APOE_gt 33', 'APOE_gt 34', 'APOE_gt 44']\n",
    "mean_total_plaques = [106.25, 906.0, 260.075, 296.44444444444446, 359.8]\n",
    "\n",
    "# Create the bar plot\n",
    "plt.bar(categories, mean_total_diffuse_plaques)\n",
    "\n",
    "# Add labels and title\n",
    "plt.xlabel('Genotype')\n",
    "plt.ylabel('Mean Total Diffuse Plaques')\n",
    "plt.title('Differences in Mean Total Diffuse Plaques')\n",
    "\n",
    "# Display the plot\n",
    "plt.show()\n"
   ]
  },
  {
   "attachments": {},
   "cell_type": "markdown",
   "metadata": {},
   "source": [
    "Core"
   ]
  },
  {
   "cell_type": "code",
   "execution_count": 21,
   "metadata": {},
   "outputs": [
    {
     "data": {
      "image/png": "[encoded data removed]",
      "text/plain": [
       "<Figure size 640x480 with 1 Axes>"
      ]
     },
     "metadata": {},
     "output_type": "display_data"
    }
   ],
   "source": [
    "import matplotlib.pyplot as plt\n",
    "\n",
    "# Define the data\n",
    "categories = ['APOE_gt 23', 'APOE_gt 24', 'APOE_gt 33', 'APOE_gt 34', 'APOE_gt 44']\n",
    "mean_total_plaques = [126.75, 465.5, 197.45, 359.2962962962963, 461.8]\n",
    "\n",
    "# Create the bar plot\n",
    "plt.bar(categories, mean_total_plaques)\n",
    "\n",
    "# Add labels and title\n",
    "plt.xlabel('Genotype')\n",
    "plt.ylabel('Mean Total Plaques')\n",
    "plt.title('Differences in Mean Total Plaques')\n",
    "\n",
    "# Display the plot\n",
    "plt.show()\n"
   ]
  },
  {
   "attachments": {},
   "cell_type": "markdown",
   "metadata": {},
   "source": [
    "CAA"
   ]
  },
  {
   "cell_type": "code",
   "execution_count": 23,
   "metadata": {},
   "outputs": [
    {
     "data": {
      "image/png": "[encoded data removed]",
      "text/plain": [
       "<Figure size 640x480 with 1 Axes>"
      ]
     },
     "metadata": {},
     "output_type": "display_data"
    }
   ],
   "source": [
    "import matplotlib.pyplot as plt\n",
    "\n",
    "# Define the data\n",
    "genotypes = ['APOE_gt 23', 'APOE_gt 24', 'APOE_gt 33', 'APOE_gt 34', 'APOE_gt 44']\n",
    "mean_total_plaques = [80.75, 84.5, 32.8, 33.666666666666664, 101.0]\n",
    "\n",
    "# Create the bar plot\n",
    "plt.bar(genotypes, mean_total_plaques)\n",
    "\n",
    "# Add labels and title\n",
    "plt.xlabel('Genotype')\n",
    "plt.ylabel('Mean Total Plaques')\n",
    "plt.title('Differences in Mean Total Plaques')\n",
    "\n",
    "# Display the plot\n",
    "plt.show()\n"
   ]
  }
 ],
 "metadata": {
  "kernelspec": {
   "display_name": "amy_plague",
   "language": "python",
   "name": "python3"
  },
  "language_info": {
   "codemirror_mode": {
    "name": "ipython",
    "version": 3
   },
   "file_extension": ".py",
   "mimetype": "text/x-python",
   "name": "python",
   "nbconvert_exporter": "python",
   "pygments_lexer": "ipython3",
   "version": "3.8.10"
  },
  "orig_nbformat": 4
 },
 "nbformat": 4,
 "nbformat_minor": 2
}
