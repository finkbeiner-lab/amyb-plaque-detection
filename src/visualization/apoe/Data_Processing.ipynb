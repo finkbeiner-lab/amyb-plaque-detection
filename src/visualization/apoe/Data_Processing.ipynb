{
 "cells": [
  {
   "cell_type": "code",
   "execution_count": 42,
   "metadata": {},
   "outputs": [],
   "source": [
    "import time\n",
    "import os\n",
    "import copy\n",
    "from glob import glob\n",
    "import pandas as pd\n",
    "import random\n",
    "import numpy as np"
   ]
  },
  {
   "cell_type": "code",
   "execution_count": 43,
   "metadata": {},
   "outputs": [],
   "source": [
    "# Cannot find  'XE19-010' and apoE_gt missing for XE10-045 and XE18-003\n",
    "# 44 - 6 patients , 34 - 21 patients , 33 - 37 patients, 22-2 patients, 23-3 patients  \n",
    "\n",
    "#take 6 patients from each 44, 33, 34"
   ]
  },
  {
   "cell_type": "code",
   "execution_count": 44,
   "metadata": {},
   "outputs": [],
   "source": [
    "clinical_data = pd.read_csv(\"/mnt/new-nas/work/data/npsad_data/vivek/Metadata/clinical_metadata_v2_lates.csv\")"
   ]
  },
  {
   "cell_type": "code",
   "execution_count": 45,
   "metadata": {},
   "outputs": [
    {
     "data": {
      "text/plain": [
       "array([33., 34., 44., 23., nan, 24., 22.,  0.,  3.])"
      ]
     },
     "execution_count": 45,
     "metadata": {},
     "output_type": "execute_result"
    }
   ],
   "source": [
    "clinical_data[\"ApoE_gt\"].unique()"
   ]
  },
  {
   "cell_type": "code",
   "execution_count": 46,
   "metadata": {},
   "outputs": [],
   "source": [
    "TRAIN_FOLDER = \"/mnt/new-nas/work/data/npsad_data/vivek/Datasets/amyb_wsi/train/train1\"\n",
    "TEST_FOLDER = \"/mnt/new-nas/work/data/npsad_data/vivek/Datasets/amyb_wsi/test-patients/images\"\n",
    "csv_paths =  '/mnt/new-nas/work/data/npsad_data/vivek/csv_data/Internal_dataset_latest/'\n",
    "\n",
    "train_xe_nums = os.listdir(TRAIN_FOLDER)\n",
    "train_xe_nums.remove('.DS_Store')\n",
    "train_xe_nums =  [os.path.join(TRAIN_FOLDER,x) for x in train_xe_nums]\n",
    "\n",
    "\n",
    "test_xe_nums = os.listdir(TEST_FOLDER)\n",
    "test_xe_nums.remove('.DS_Store')\n",
    "test_xe_nums =  [os.path.join(TEST_FOLDER,x) for x in test_xe_nums]\n",
    "\n",
    "\n",
    "train_xe_nums.extend(test_xe_nums)\n",
    "train_test_xenum_pd = pd.DataFrame(train_xe_nums,columns=[\"WSI_filename\"])"
   ]
  },
  {
   "cell_type": "code",
   "execution_count": 47,
   "metadata": {},
   "outputs": [],
   "source": [
    "def create_quantify_df(train_df):\n",
    "    train_full_quantify_df = pd.DataFrame()\n",
    "    counter = 0\n",
    "    no_csv_list =[]\n",
    "    for files in train_df[\"WSI_filename\"].unique():\n",
    "        name = files.split(\"/\")[-1]+\"_quantify.csv\"\n",
    "        try: \n",
    "            quantify_df = pd.read_csv(os.path.join(csv_paths,name))\n",
    "            quantify_df[\"Imaging_XENum\"] = files.split(\"/\")[-1].split(\"_\")[0]\n",
    "            if len(train_full_quantify_df)==0:\n",
    "                train_full_quantify_df=quantify_df\n",
    "            else:\n",
    "                train_full_quantify_df=pd.concat([train_full_quantify_df,quantify_df])\n",
    "        except:\n",
    "            counter=counter+1\n",
    "            no_csv_list.append(name)\n",
    "            pass\n",
    "    print(\"Not found csvs for :\" , counter, no_csv_list)\n",
    "    return train_full_quantify_df"
   ]
  },
  {
   "cell_type": "code",
   "execution_count": 48,
   "metadata": {},
   "outputs": [
    {
     "name": "stdout",
     "output_type": "stream",
     "text": [
      "Not found csvs for : 13 ['XE07-047_1_AmyB_1.json_quantify.csv', 'XE18-066_1_AmyB_1.json_quantify.csv', 'XE17-004_1_AmyB_1.json_quantify.csv', 'XE19-037_1_AmyB_1.json_quantify.csv', 'XE07-048_1_AmyB_1.json_quantify.csv', 'XE10-045_1_AmyB_1.json_quantify.csv', 'XE19-028_1_AmyB_1.json_quantify.csv', 'XE19-010_1_AmyB_1.json_quantify.csv', 'XE18-003_1_AmyB_1.json_quantify.csv', 'XE10-053_1_AmyB_1.json_quantify.csv', 'XE10-042_1_AmyB_1_quantify.csv', 'XE16-053_1_AmyB_1_quantify.csv', 'XE18-043_1_AmyB_1_quantify.csv']\n"
     ]
    }
   ],
   "source": [
    "all_detection_pd = create_quantify_df(train_test_xenum_pd)"
   ]
  },
  {
   "cell_type": "code",
   "execution_count": 49,
   "metadata": {},
   "outputs": [
    {
     "data": {
      "text/plain": [
       "Index(['Unnamed: 0', 'image_name', 'label', 'confidence', 'brown_pixels',\n",
       "       'core', 'neuritic', 'diffuse', 'caa', 'centroid', 'eccentricity',\n",
       "       'area', 'equivalent_diameter', 'Imaging_XENum'],\n",
       "      dtype='object')"
      ]
     },
     "execution_count": 49,
     "metadata": {},
     "output_type": "execute_result"
    }
   ],
   "source": [
    "all_detection_pd.columns"
   ]
  },
  {
   "cell_type": "code",
   "execution_count": 50,
   "metadata": {},
   "outputs": [],
   "source": [
    "train_test_xenum_pd = train_test_xenum_pd[~train_test_xenum_pd[\"WSI_filename\"].isin([os.path.join(TEST_FOLDER, x) for x in ['XE10-042_1_AmyB_1', 'XE16-053_1_AmyB_1', 'XE18-043_1_AmyB_1']])]"
   ]
  },
  {
   "cell_type": "code",
   "execution_count": 51,
   "metadata": {},
   "outputs": [
    {
     "data": {
      "text/html": [
       "<div>\n",
       "<style scoped>\n",
       "    .dataframe tbody tr th:only-of-type {\n",
       "        vertical-align: middle;\n",
       "    }\n",
       "\n",
       "    .dataframe tbody tr th {\n",
       "        vertical-align: top;\n",
       "    }\n",
       "\n",
       "    .dataframe thead th {\n",
       "        text-align: right;\n",
       "    }\n",
       "</style>\n",
       "<table border=\"1\" class=\"dataframe\">\n",
       "  <thead>\n",
       "    <tr style=\"text-align: right;\">\n",
       "      <th></th>\n",
       "      <th>WSI_filename</th>\n",
       "    </tr>\n",
       "  </thead>\n",
       "  <tbody>\n",
       "    <tr>\n",
       "      <th>0</th>\n",
       "      <td>/mnt/new-nas/work/data/npsad_data/vivek/Datase...</td>\n",
       "    </tr>\n",
       "    <tr>\n",
       "      <th>1</th>\n",
       "      <td>/mnt/new-nas/work/data/npsad_data/vivek/Datase...</td>\n",
       "    </tr>\n",
       "    <tr>\n",
       "      <th>2</th>\n",
       "      <td>/mnt/new-nas/work/data/npsad_data/vivek/Datase...</td>\n",
       "    </tr>\n",
       "    <tr>\n",
       "      <th>3</th>\n",
       "      <td>/mnt/new-nas/work/data/npsad_data/vivek/Datase...</td>\n",
       "    </tr>\n",
       "    <tr>\n",
       "      <th>4</th>\n",
       "      <td>/mnt/new-nas/work/data/npsad_data/vivek/Datase...</td>\n",
       "    </tr>\n",
       "    <tr>\n",
       "      <th>...</th>\n",
       "      <td>...</td>\n",
       "    </tr>\n",
       "    <tr>\n",
       "      <th>74</th>\n",
       "      <td>/mnt/new-nas/work/data/npsad_data/vivek/Datase...</td>\n",
       "    </tr>\n",
       "    <tr>\n",
       "      <th>75</th>\n",
       "      <td>/mnt/new-nas/work/data/npsad_data/vivek/Datase...</td>\n",
       "    </tr>\n",
       "    <tr>\n",
       "      <th>76</th>\n",
       "      <td>/mnt/new-nas/work/data/npsad_data/vivek/Datase...</td>\n",
       "    </tr>\n",
       "    <tr>\n",
       "      <th>77</th>\n",
       "      <td>/mnt/new-nas/work/data/npsad_data/vivek/Datase...</td>\n",
       "    </tr>\n",
       "    <tr>\n",
       "      <th>78</th>\n",
       "      <td>/mnt/new-nas/work/data/npsad_data/vivek/Datase...</td>\n",
       "    </tr>\n",
       "  </tbody>\n",
       "</table>\n",
       "<p>76 rows × 1 columns</p>\n",
       "</div>"
      ],
      "text/plain": [
       "                                         WSI_filename\n",
       "0   /mnt/new-nas/work/data/npsad_data/vivek/Datase...\n",
       "1   /mnt/new-nas/work/data/npsad_data/vivek/Datase...\n",
       "2   /mnt/new-nas/work/data/npsad_data/vivek/Datase...\n",
       "3   /mnt/new-nas/work/data/npsad_data/vivek/Datase...\n",
       "4   /mnt/new-nas/work/data/npsad_data/vivek/Datase...\n",
       "..                                                ...\n",
       "74  /mnt/new-nas/work/data/npsad_data/vivek/Datase...\n",
       "75  /mnt/new-nas/work/data/npsad_data/vivek/Datase...\n",
       "76  /mnt/new-nas/work/data/npsad_data/vivek/Datase...\n",
       "77  /mnt/new-nas/work/data/npsad_data/vivek/Datase...\n",
       "78  /mnt/new-nas/work/data/npsad_data/vivek/Datase...\n",
       "\n",
       "[76 rows x 1 columns]"
      ]
     },
     "execution_count": 51,
     "metadata": {},
     "output_type": "execute_result"
    }
   ],
   "source": [
    "train_test_xenum_pd"
   ]
  },
  {
   "cell_type": "code",
   "execution_count": 52,
   "metadata": {},
   "outputs": [],
   "source": [
    "train_test_xenum_pd[\"Imaging_XENum\"] = train_test_xenum_pd[\"WSI_filename\"].apply(lambda k:k.split(\"/\")[-1].split(\"_\")[0])"
   ]
  },
  {
   "cell_type": "code",
   "execution_count": 53,
   "metadata": {},
   "outputs": [
    {
     "data": {
      "text/html": [
       "<div>\n",
       "<style scoped>\n",
       "    .dataframe tbody tr th:only-of-type {\n",
       "        vertical-align: middle;\n",
       "    }\n",
       "\n",
       "    .dataframe tbody tr th {\n",
       "        vertical-align: top;\n",
       "    }\n",
       "\n",
       "    .dataframe thead th {\n",
       "        text-align: right;\n",
       "    }\n",
       "</style>\n",
       "<table border=\"1\" class=\"dataframe\">\n",
       "  <thead>\n",
       "    <tr style=\"text-align: right;\">\n",
       "      <th></th>\n",
       "      <th>WSI_filename</th>\n",
       "      <th>Imaging_XENum</th>\n",
       "    </tr>\n",
       "  </thead>\n",
       "  <tbody>\n",
       "    <tr>\n",
       "      <th>0</th>\n",
       "      <td>/mnt/new-nas/work/data/npsad_data/vivek/Datase...</td>\n",
       "      <td>XE07-047</td>\n",
       "    </tr>\n",
       "    <tr>\n",
       "      <th>1</th>\n",
       "      <td>/mnt/new-nas/work/data/npsad_data/vivek/Datase...</td>\n",
       "      <td>XE18-066</td>\n",
       "    </tr>\n",
       "    <tr>\n",
       "      <th>2</th>\n",
       "      <td>/mnt/new-nas/work/data/npsad_data/vivek/Datase...</td>\n",
       "      <td>XE17-004</td>\n",
       "    </tr>\n",
       "    <tr>\n",
       "      <th>3</th>\n",
       "      <td>/mnt/new-nas/work/data/npsad_data/vivek/Datase...</td>\n",
       "      <td>XE19-037</td>\n",
       "    </tr>\n",
       "    <tr>\n",
       "      <th>4</th>\n",
       "      <td>/mnt/new-nas/work/data/npsad_data/vivek/Datase...</td>\n",
       "      <td>XE07-048</td>\n",
       "    </tr>\n",
       "    <tr>\n",
       "      <th>...</th>\n",
       "      <td>...</td>\n",
       "      <td>...</td>\n",
       "    </tr>\n",
       "    <tr>\n",
       "      <th>74</th>\n",
       "      <td>/mnt/new-nas/work/data/npsad_data/vivek/Datase...</td>\n",
       "      <td>XE16-027</td>\n",
       "    </tr>\n",
       "    <tr>\n",
       "      <th>75</th>\n",
       "      <td>/mnt/new-nas/work/data/npsad_data/vivek/Datase...</td>\n",
       "      <td>XE09-028</td>\n",
       "    </tr>\n",
       "    <tr>\n",
       "      <th>76</th>\n",
       "      <td>/mnt/new-nas/work/data/npsad_data/vivek/Datase...</td>\n",
       "      <td>XE09-063</td>\n",
       "    </tr>\n",
       "    <tr>\n",
       "      <th>77</th>\n",
       "      <td>/mnt/new-nas/work/data/npsad_data/vivek/Datase...</td>\n",
       "      <td>XE17-010</td>\n",
       "    </tr>\n",
       "    <tr>\n",
       "      <th>78</th>\n",
       "      <td>/mnt/new-nas/work/data/npsad_data/vivek/Datase...</td>\n",
       "      <td>XE10-046</td>\n",
       "    </tr>\n",
       "  </tbody>\n",
       "</table>\n",
       "<p>76 rows × 2 columns</p>\n",
       "</div>"
      ],
      "text/plain": [
       "                                         WSI_filename Imaging_XENum\n",
       "0   /mnt/new-nas/work/data/npsad_data/vivek/Datase...      XE07-047\n",
       "1   /mnt/new-nas/work/data/npsad_data/vivek/Datase...      XE18-066\n",
       "2   /mnt/new-nas/work/data/npsad_data/vivek/Datase...      XE17-004\n",
       "3   /mnt/new-nas/work/data/npsad_data/vivek/Datase...      XE19-037\n",
       "4   /mnt/new-nas/work/data/npsad_data/vivek/Datase...      XE07-048\n",
       "..                                                ...           ...\n",
       "74  /mnt/new-nas/work/data/npsad_data/vivek/Datase...      XE16-027\n",
       "75  /mnt/new-nas/work/data/npsad_data/vivek/Datase...      XE09-028\n",
       "76  /mnt/new-nas/work/data/npsad_data/vivek/Datase...      XE09-063\n",
       "77  /mnt/new-nas/work/data/npsad_data/vivek/Datase...      XE17-010\n",
       "78  /mnt/new-nas/work/data/npsad_data/vivek/Datase...      XE10-046\n",
       "\n",
       "[76 rows x 2 columns]"
      ]
     },
     "execution_count": 53,
     "metadata": {},
     "output_type": "execute_result"
    }
   ],
   "source": [
    "train_test_xenum_pd"
   ]
  },
  {
   "cell_type": "code",
   "execution_count": 54,
   "metadata": {},
   "outputs": [],
   "source": [
    "clinical_sel = clinical_data[clinical_data[\"Imaging_XENum\"].isin(train_test_xenum_pd[\"Imaging_XENum\"])][[\"Imaging_XENum\",\"ApoE_gt\"]]"
   ]
  },
  {
   "cell_type": "code",
   "execution_count": 55,
   "metadata": {},
   "outputs": [],
   "source": [
    "train_test_xenum_pd = pd.merge(train_test_xenum_pd,clinical_sel,on=\"Imaging_XENum\")"
   ]
  },
  {
   "cell_type": "code",
   "execution_count": 56,
   "metadata": {},
   "outputs": [
    {
     "data": {
      "text/plain": [
       "33.0    37\n",
       "34.0    20\n",
       "44.0     6\n",
       "24.0     2\n",
       "23.0     2\n",
       "Name: ApoE_gt, dtype: int64"
      ]
     },
     "execution_count": 56,
     "metadata": {},
     "output_type": "execute_result"
    }
   ],
   "source": [
    "train_test_xenum_pd[\"ApoE_gt\"].value_counts()"
   ]
  },
  {
   "cell_type": "code",
   "execution_count": 57,
   "metadata": {},
   "outputs": [
    {
     "data": {
      "text/html": [
       "<div>\n",
       "<style scoped>\n",
       "    .dataframe tbody tr th:only-of-type {\n",
       "        vertical-align: middle;\n",
       "    }\n",
       "\n",
       "    .dataframe tbody tr th {\n",
       "        vertical-align: top;\n",
       "    }\n",
       "\n",
       "    .dataframe thead th {\n",
       "        text-align: right;\n",
       "    }\n",
       "</style>\n",
       "<table border=\"1\" class=\"dataframe\">\n",
       "  <thead>\n",
       "    <tr style=\"text-align: right;\">\n",
       "      <th></th>\n",
       "      <th>WSI_filename</th>\n",
       "      <th>Imaging_XENum</th>\n",
       "      <th>ApoE_gt</th>\n",
       "    </tr>\n",
       "  </thead>\n",
       "  <tbody>\n",
       "    <tr>\n",
       "      <th>0</th>\n",
       "      <td>/mnt/new-nas/work/data/npsad_data/vivek/Datase...</td>\n",
       "      <td>XE07-047</td>\n",
       "      <td>34.0</td>\n",
       "    </tr>\n",
       "    <tr>\n",
       "      <th>1</th>\n",
       "      <td>/mnt/new-nas/work/data/npsad_data/vivek/Datase...</td>\n",
       "      <td>XE18-066</td>\n",
       "      <td>34.0</td>\n",
       "    </tr>\n",
       "    <tr>\n",
       "      <th>2</th>\n",
       "      <td>/mnt/new-nas/work/data/npsad_data/vivek/Datase...</td>\n",
       "      <td>XE17-004</td>\n",
       "      <td>44.0</td>\n",
       "    </tr>\n",
       "    <tr>\n",
       "      <th>3</th>\n",
       "      <td>/mnt/new-nas/work/data/npsad_data/vivek/Datase...</td>\n",
       "      <td>XE19-037</td>\n",
       "      <td>34.0</td>\n",
       "    </tr>\n",
       "    <tr>\n",
       "      <th>4</th>\n",
       "      <td>/mnt/new-nas/work/data/npsad_data/vivek/Datase...</td>\n",
       "      <td>XE07-048</td>\n",
       "      <td>33.0</td>\n",
       "    </tr>\n",
       "    <tr>\n",
       "      <th>...</th>\n",
       "      <td>...</td>\n",
       "      <td>...</td>\n",
       "      <td>...</td>\n",
       "    </tr>\n",
       "    <tr>\n",
       "      <th>70</th>\n",
       "      <td>/mnt/new-nas/work/data/npsad_data/vivek/Datase...</td>\n",
       "      <td>XE16-027</td>\n",
       "      <td>33.0</td>\n",
       "    </tr>\n",
       "    <tr>\n",
       "      <th>71</th>\n",
       "      <td>/mnt/new-nas/work/data/npsad_data/vivek/Datase...</td>\n",
       "      <td>XE09-028</td>\n",
       "      <td>33.0</td>\n",
       "    </tr>\n",
       "    <tr>\n",
       "      <th>72</th>\n",
       "      <td>/mnt/new-nas/work/data/npsad_data/vivek/Datase...</td>\n",
       "      <td>XE09-063</td>\n",
       "      <td>33.0</td>\n",
       "    </tr>\n",
       "    <tr>\n",
       "      <th>73</th>\n",
       "      <td>/mnt/new-nas/work/data/npsad_data/vivek/Datase...</td>\n",
       "      <td>XE17-010</td>\n",
       "      <td>33.0</td>\n",
       "    </tr>\n",
       "    <tr>\n",
       "      <th>74</th>\n",
       "      <td>/mnt/new-nas/work/data/npsad_data/vivek/Datase...</td>\n",
       "      <td>XE10-046</td>\n",
       "      <td>33.0</td>\n",
       "    </tr>\n",
       "  </tbody>\n",
       "</table>\n",
       "<p>75 rows × 3 columns</p>\n",
       "</div>"
      ],
      "text/plain": [
       "                                         WSI_filename Imaging_XENum  ApoE_gt\n",
       "0   /mnt/new-nas/work/data/npsad_data/vivek/Datase...      XE07-047     34.0\n",
       "1   /mnt/new-nas/work/data/npsad_data/vivek/Datase...      XE18-066     34.0\n",
       "2   /mnt/new-nas/work/data/npsad_data/vivek/Datase...      XE17-004     44.0\n",
       "3   /mnt/new-nas/work/data/npsad_data/vivek/Datase...      XE19-037     34.0\n",
       "4   /mnt/new-nas/work/data/npsad_data/vivek/Datase...      XE07-048     33.0\n",
       "..                                                ...           ...      ...\n",
       "70  /mnt/new-nas/work/data/npsad_data/vivek/Datase...      XE16-027     33.0\n",
       "71  /mnt/new-nas/work/data/npsad_data/vivek/Datase...      XE09-028     33.0\n",
       "72  /mnt/new-nas/work/data/npsad_data/vivek/Datase...      XE09-063     33.0\n",
       "73  /mnt/new-nas/work/data/npsad_data/vivek/Datase...      XE17-010     33.0\n",
       "74  /mnt/new-nas/work/data/npsad_data/vivek/Datase...      XE10-046     33.0\n",
       "\n",
       "[75 rows x 3 columns]"
      ]
     },
     "execution_count": 57,
     "metadata": {},
     "output_type": "execute_result"
    }
   ],
   "source": [
    "train_test_xenum_pd"
   ]
  },
  {
   "cell_type": "code",
   "execution_count": 58,
   "metadata": {},
   "outputs": [],
   "source": [
    "train_test_xenum_pd[\"data_source\"] = train_test_xenum_pd[\"WSI_filename\"].apply(lambda l: \"train\" if l.find(\".json\")!=-1 else \"test\")"
   ]
  },
  {
   "cell_type": "code",
   "execution_count": 59,
   "metadata": {},
   "outputs": [
    {
     "data": {
      "text/plain": [
       "test     66\n",
       "train     9\n",
       "Name: data_source, dtype: int64"
      ]
     },
     "execution_count": 59,
     "metadata": {},
     "output_type": "execute_result"
    }
   ],
   "source": [
    "train_test_xenum_pd[\"data_source\"].value_counts()"
   ]
  },
  {
   "cell_type": "code",
   "execution_count": 60,
   "metadata": {},
   "outputs": [],
   "source": [
    "#train_test_xenum_pd[\"image_count\"] =  train_test_xenum_pd[\"WSI_filename\"].apply(lambda l:len(glob(os.path.join(l,\"images/*.png\"))) if l.endswith(\"json\") \n",
    "#                                                                                     else len(glob(os.path.join(l,\"*.png\")))  )"
   ]
  },
  {
   "cell_type": "code",
   "execution_count": 61,
   "metadata": {},
   "outputs": [
    {
     "data": {
      "text/html": [
       "<div>\n",
       "<style scoped>\n",
       "    .dataframe tbody tr th:only-of-type {\n",
       "        vertical-align: middle;\n",
       "    }\n",
       "\n",
       "    .dataframe tbody tr th {\n",
       "        vertical-align: top;\n",
       "    }\n",
       "\n",
       "    .dataframe thead th {\n",
       "        text-align: right;\n",
       "    }\n",
       "</style>\n",
       "<table border=\"1\" class=\"dataframe\">\n",
       "  <thead>\n",
       "    <tr style=\"text-align: right;\">\n",
       "      <th></th>\n",
       "      <th>Unnamed: 0</th>\n",
       "      <th>image_name</th>\n",
       "      <th>label</th>\n",
       "      <th>confidence</th>\n",
       "      <th>brown_pixels</th>\n",
       "      <th>core</th>\n",
       "      <th>neuritic</th>\n",
       "      <th>diffuse</th>\n",
       "      <th>caa</th>\n",
       "      <th>centroid</th>\n",
       "      <th>eccentricity</th>\n",
       "      <th>area</th>\n",
       "      <th>equivalent_diameter</th>\n",
       "      <th>Imaging_XENum</th>\n",
       "    </tr>\n",
       "  </thead>\n",
       "  <tbody>\n",
       "    <tr>\n",
       "      <th>0</th>\n",
       "      <td>0</td>\n",
       "      <td>x_5120_y_154624</td>\n",
       "      <td>Cored</td>\n",
       "      <td>0.976273</td>\n",
       "      <td>0</td>\n",
       "      <td>1</td>\n",
       "      <td>0</td>\n",
       "      <td>0</td>\n",
       "      <td>0</td>\n",
       "      <td>(113.03329373615436, 145.34600443060327)</td>\n",
       "      <td>0.808533</td>\n",
       "      <td>31147</td>\n",
       "      <td>199.142140</td>\n",
       "      <td>XE08-017</td>\n",
       "    </tr>\n",
       "    <tr>\n",
       "      <th>1</th>\n",
       "      <td>1</td>\n",
       "      <td>x_38912_y_83968</td>\n",
       "      <td>Cored</td>\n",
       "      <td>0.922715</td>\n",
       "      <td>0</td>\n",
       "      <td>1</td>\n",
       "      <td>0</td>\n",
       "      <td>0</td>\n",
       "      <td>0</td>\n",
       "      <td>(93.92957997020434, 187.96955951348588)</td>\n",
       "      <td>0.864045</td>\n",
       "      <td>44973</td>\n",
       "      <td>239.293548</td>\n",
       "      <td>XE08-017</td>\n",
       "    </tr>\n",
       "  </tbody>\n",
       "</table>\n",
       "</div>"
      ],
      "text/plain": [
       "   Unnamed: 0       image_name  label  confidence  brown_pixels  core  \\\n",
       "0           0  x_5120_y_154624  Cored    0.976273             0     1   \n",
       "1           1  x_38912_y_83968  Cored    0.922715             0     1   \n",
       "\n",
       "   neuritic  diffuse  caa                                  centroid  \\\n",
       "0         0        0    0  (113.03329373615436, 145.34600443060327)   \n",
       "1         0        0    0   (93.92957997020434, 187.96955951348588)   \n",
       "\n",
       "   eccentricity   area  equivalent_diameter Imaging_XENum  \n",
       "0      0.808533  31147           199.142140      XE08-017  \n",
       "1      0.864045  44973           239.293548      XE08-017  "
      ]
     },
     "execution_count": 61,
     "metadata": {},
     "output_type": "execute_result"
    }
   ],
   "source": [
    "all_detection_pd.head(2)"
   ]
  },
  {
   "cell_type": "code",
   "execution_count": 62,
   "metadata": {},
   "outputs": [],
   "source": [
    "def count_images(l):\n",
    "    if len(all_detection_pd[all_detection_pd[\"Imaging_XENum\"]==l])!=0:\n",
    "        return len(all_detection_pd[all_detection_pd[\"Imaging_XENum\"]==l])\n",
    "    else:\n",
    "        return len(glob(os.path.join(\"/gladstone/finkbeiner/steve/work/data/npsad_data/vivek/Datasets/amyb_wsi/train/train1/\",l+\"_1_AmyB_1.json\",\"images/*.png\")))\n",
    "\n",
    "train_test_xenum_pd[\"image_count\"] =  train_test_xenum_pd[\"Imaging_XENum\"].apply(lambda l:count_images(l))"
   ]
  },
  {
   "cell_type": "code",
   "execution_count": 63,
   "metadata": {},
   "outputs": [
    {
     "data": {
      "text/plain": [
       "array([34., 44., 33., nan, 24., 23.])"
      ]
     },
     "execution_count": 63,
     "metadata": {},
     "output_type": "execute_result"
    }
   ],
   "source": [
    "train_test_xenum_pd[\"ApoE_gt\"].unique()"
   ]
  },
  {
   "cell_type": "code",
   "execution_count": 64,
   "metadata": {},
   "outputs": [
    {
     "data": {
      "text/html": [
       "<div>\n",
       "<style scoped>\n",
       "    .dataframe tbody tr th:only-of-type {\n",
       "        vertical-align: middle;\n",
       "    }\n",
       "\n",
       "    .dataframe tbody tr th {\n",
       "        vertical-align: top;\n",
       "    }\n",
       "\n",
       "    .dataframe thead th {\n",
       "        text-align: right;\n",
       "    }\n",
       "</style>\n",
       "<table border=\"1\" class=\"dataframe\">\n",
       "  <thead>\n",
       "    <tr style=\"text-align: right;\">\n",
       "      <th></th>\n",
       "      <th>WSI_filename</th>\n",
       "      <th>Imaging_XENum</th>\n",
       "      <th>ApoE_gt</th>\n",
       "      <th>data_source</th>\n",
       "      <th>image_count</th>\n",
       "    </tr>\n",
       "  </thead>\n",
       "  <tbody>\n",
       "    <tr>\n",
       "      <th>0</th>\n",
       "      <td>/mnt/new-nas/work/data/npsad_data/vivek/Datase...</td>\n",
       "      <td>XE07-047</td>\n",
       "      <td>34.0</td>\n",
       "      <td>train</td>\n",
       "      <td>0</td>\n",
       "    </tr>\n",
       "    <tr>\n",
       "      <th>1</th>\n",
       "      <td>/mnt/new-nas/work/data/npsad_data/vivek/Datase...</td>\n",
       "      <td>XE18-066</td>\n",
       "      <td>34.0</td>\n",
       "      <td>train</td>\n",
       "      <td>0</td>\n",
       "    </tr>\n",
       "    <tr>\n",
       "      <th>2</th>\n",
       "      <td>/mnt/new-nas/work/data/npsad_data/vivek/Datase...</td>\n",
       "      <td>XE17-004</td>\n",
       "      <td>44.0</td>\n",
       "      <td>train</td>\n",
       "      <td>0</td>\n",
       "    </tr>\n",
       "    <tr>\n",
       "      <th>3</th>\n",
       "      <td>/mnt/new-nas/work/data/npsad_data/vivek/Datase...</td>\n",
       "      <td>XE19-037</td>\n",
       "      <td>34.0</td>\n",
       "      <td>train</td>\n",
       "      <td>0</td>\n",
       "    </tr>\n",
       "    <tr>\n",
       "      <th>4</th>\n",
       "      <td>/mnt/new-nas/work/data/npsad_data/vivek/Datase...</td>\n",
       "      <td>XE07-048</td>\n",
       "      <td>33.0</td>\n",
       "      <td>train</td>\n",
       "      <td>0</td>\n",
       "    </tr>\n",
       "    <tr>\n",
       "      <th>...</th>\n",
       "      <td>...</td>\n",
       "      <td>...</td>\n",
       "      <td>...</td>\n",
       "      <td>...</td>\n",
       "      <td>...</td>\n",
       "    </tr>\n",
       "    <tr>\n",
       "      <th>70</th>\n",
       "      <td>/mnt/new-nas/work/data/npsad_data/vivek/Datase...</td>\n",
       "      <td>XE16-027</td>\n",
       "      <td>33.0</td>\n",
       "      <td>test</td>\n",
       "      <td>211</td>\n",
       "    </tr>\n",
       "    <tr>\n",
       "      <th>71</th>\n",
       "      <td>/mnt/new-nas/work/data/npsad_data/vivek/Datase...</td>\n",
       "      <td>XE09-028</td>\n",
       "      <td>33.0</td>\n",
       "      <td>test</td>\n",
       "      <td>1103</td>\n",
       "    </tr>\n",
       "    <tr>\n",
       "      <th>72</th>\n",
       "      <td>/mnt/new-nas/work/data/npsad_data/vivek/Datase...</td>\n",
       "      <td>XE09-063</td>\n",
       "      <td>33.0</td>\n",
       "      <td>test</td>\n",
       "      <td>229</td>\n",
       "    </tr>\n",
       "    <tr>\n",
       "      <th>73</th>\n",
       "      <td>/mnt/new-nas/work/data/npsad_data/vivek/Datase...</td>\n",
       "      <td>XE17-010</td>\n",
       "      <td>33.0</td>\n",
       "      <td>test</td>\n",
       "      <td>1815</td>\n",
       "    </tr>\n",
       "    <tr>\n",
       "      <th>74</th>\n",
       "      <td>/mnt/new-nas/work/data/npsad_data/vivek/Datase...</td>\n",
       "      <td>XE10-046</td>\n",
       "      <td>33.0</td>\n",
       "      <td>test</td>\n",
       "      <td>167</td>\n",
       "    </tr>\n",
       "  </tbody>\n",
       "</table>\n",
       "<p>75 rows × 5 columns</p>\n",
       "</div>"
      ],
      "text/plain": [
       "                                         WSI_filename Imaging_XENum  ApoE_gt  \\\n",
       "0   /mnt/new-nas/work/data/npsad_data/vivek/Datase...      XE07-047     34.0   \n",
       "1   /mnt/new-nas/work/data/npsad_data/vivek/Datase...      XE18-066     34.0   \n",
       "2   /mnt/new-nas/work/data/npsad_data/vivek/Datase...      XE17-004     44.0   \n",
       "3   /mnt/new-nas/work/data/npsad_data/vivek/Datase...      XE19-037     34.0   \n",
       "4   /mnt/new-nas/work/data/npsad_data/vivek/Datase...      XE07-048     33.0   \n",
       "..                                                ...           ...      ...   \n",
       "70  /mnt/new-nas/work/data/npsad_data/vivek/Datase...      XE16-027     33.0   \n",
       "71  /mnt/new-nas/work/data/npsad_data/vivek/Datase...      XE09-028     33.0   \n",
       "72  /mnt/new-nas/work/data/npsad_data/vivek/Datase...      XE09-063     33.0   \n",
       "73  /mnt/new-nas/work/data/npsad_data/vivek/Datase...      XE17-010     33.0   \n",
       "74  /mnt/new-nas/work/data/npsad_data/vivek/Datase...      XE10-046     33.0   \n",
       "\n",
       "   data_source  image_count  \n",
       "0        train            0  \n",
       "1        train            0  \n",
       "2        train            0  \n",
       "3        train            0  \n",
       "4        train            0  \n",
       "..         ...          ...  \n",
       "70        test          211  \n",
       "71        test         1103  \n",
       "72        test          229  \n",
       "73        test         1815  \n",
       "74        test          167  \n",
       "\n",
       "[75 rows x 5 columns]"
      ]
     },
     "execution_count": 64,
     "metadata": {},
     "output_type": "execute_result"
    }
   ],
   "source": [
    "train_test_xenum_pd"
   ]
  },
  {
   "cell_type": "code",
   "execution_count": 69,
   "metadata": {},
   "outputs": [
    {
     "name": "stderr",
     "output_type": "stream",
     "text": [
      "/tmp/ipykernel_376084/1900102874.py:6: SettingWithCopyWarning: \n",
      "A value is trying to be set on a copy of a slice from a DataFrame.\n",
      "Try using .loc[row_indexer,col_indexer] = value instead\n",
      "\n",
      "See the caveats in the documentation: https://pandas.pydata.org/pandas-docs/stable/user_guide/indexing.html#returning-a-view-versus-a-copy\n",
      "  tmp[\"random_ind\"]=random_list\n"
     ]
    }
   ],
   "source": [
    "final_train_test_xenum_pd=pd.DataFrame()\n",
    "\n",
    "for i in [34,44,33, 24]:\n",
    "    tmp = train_test_xenum_pd[train_test_xenum_pd[\"ApoE_gt\"]==i]\n",
    "    random_list = random.sample(range(0, len(tmp)), len(tmp))\n",
    "    tmp[\"random_ind\"]=random_list\n",
    "    tmp = tmp[tmp[\"random_ind\"]<6]\n",
    "    if len(final_train_test_xenum_pd)==0:\n",
    "        final_train_test_xenum_pd = tmp\n",
    "    else:\n",
    "        final_train_test_xenum_pd=pd.concat([final_train_test_xenum_pd,tmp])"
   ]
  },
  {
   "cell_type": "code",
   "execution_count": 70,
   "metadata": {},
   "outputs": [
    {
     "data": {
      "text/html": [
       "<div>\n",
       "<style scoped>\n",
       "    .dataframe tbody tr th:only-of-type {\n",
       "        vertical-align: middle;\n",
       "    }\n",
       "\n",
       "    .dataframe tbody tr th {\n",
       "        vertical-align: top;\n",
       "    }\n",
       "\n",
       "    .dataframe thead th {\n",
       "        text-align: right;\n",
       "    }\n",
       "</style>\n",
       "<table border=\"1\" class=\"dataframe\">\n",
       "  <thead>\n",
       "    <tr style=\"text-align: right;\">\n",
       "      <th></th>\n",
       "      <th>WSI_filename</th>\n",
       "      <th>Imaging_XENum</th>\n",
       "      <th>ApoE_gt</th>\n",
       "      <th>data_source</th>\n",
       "      <th>image_count</th>\n",
       "      <th>random_ind</th>\n",
       "    </tr>\n",
       "  </thead>\n",
       "  <tbody>\n",
       "    <tr>\n",
       "      <th>6</th>\n",
       "      <td>/mnt/new-nas/work/data/npsad_data/vivek/Datase...</td>\n",
       "      <td>XE19-028</td>\n",
       "      <td>34.0</td>\n",
       "      <td>train</td>\n",
       "      <td>0</td>\n",
       "      <td>2</td>\n",
       "    </tr>\n",
       "    <tr>\n",
       "      <th>20</th>\n",
       "      <td>/mnt/new-nas/work/data/npsad_data/vivek/Datase...</td>\n",
       "      <td>XE15-022</td>\n",
       "      <td>34.0</td>\n",
       "      <td>test</td>\n",
       "      <td>671</td>\n",
       "      <td>3</td>\n",
       "    </tr>\n",
       "    <tr>\n",
       "      <th>26</th>\n",
       "      <td>/mnt/new-nas/work/data/npsad_data/vivek/Datase...</td>\n",
       "      <td>XE16-023</td>\n",
       "      <td>34.0</td>\n",
       "      <td>test</td>\n",
       "      <td>77</td>\n",
       "      <td>1</td>\n",
       "    </tr>\n",
       "    <tr>\n",
       "      <th>54</th>\n",
       "      <td>/mnt/new-nas/work/data/npsad_data/vivek/Datase...</td>\n",
       "      <td>XE16-014</td>\n",
       "      <td>34.0</td>\n",
       "      <td>test</td>\n",
       "      <td>383</td>\n",
       "      <td>4</td>\n",
       "    </tr>\n",
       "    <tr>\n",
       "      <th>56</th>\n",
       "      <td>/mnt/new-nas/work/data/npsad_data/vivek/Datase...</td>\n",
       "      <td>XE07-056</td>\n",
       "      <td>34.0</td>\n",
       "      <td>test</td>\n",
       "      <td>1346</td>\n",
       "      <td>5</td>\n",
       "    </tr>\n",
       "    <tr>\n",
       "      <th>65</th>\n",
       "      <td>/mnt/new-nas/work/data/npsad_data/vivek/Datase...</td>\n",
       "      <td>XE17-014</td>\n",
       "      <td>34.0</td>\n",
       "      <td>test</td>\n",
       "      <td>246</td>\n",
       "      <td>0</td>\n",
       "    </tr>\n",
       "    <tr>\n",
       "      <th>2</th>\n",
       "      <td>/mnt/new-nas/work/data/npsad_data/vivek/Datase...</td>\n",
       "      <td>XE17-004</td>\n",
       "      <td>44.0</td>\n",
       "      <td>train</td>\n",
       "      <td>0</td>\n",
       "      <td>0</td>\n",
       "    </tr>\n",
       "    <tr>\n",
       "      <th>18</th>\n",
       "      <td>/mnt/new-nas/work/data/npsad_data/vivek/Datase...</td>\n",
       "      <td>XE12-015</td>\n",
       "      <td>44.0</td>\n",
       "      <td>test</td>\n",
       "      <td>2342</td>\n",
       "      <td>4</td>\n",
       "    </tr>\n",
       "    <tr>\n",
       "      <th>49</th>\n",
       "      <td>/mnt/new-nas/work/data/npsad_data/vivek/Datase...</td>\n",
       "      <td>XE13-005</td>\n",
       "      <td>44.0</td>\n",
       "      <td>test</td>\n",
       "      <td>457</td>\n",
       "      <td>2</td>\n",
       "    </tr>\n",
       "    <tr>\n",
       "      <th>58</th>\n",
       "      <td>/mnt/new-nas/work/data/npsad_data/vivek/Datase...</td>\n",
       "      <td>XE09-041</td>\n",
       "      <td>44.0</td>\n",
       "      <td>test</td>\n",
       "      <td>36</td>\n",
       "      <td>5</td>\n",
       "    </tr>\n",
       "    <tr>\n",
       "      <th>59</th>\n",
       "      <td>/mnt/new-nas/work/data/npsad_data/vivek/Datase...</td>\n",
       "      <td>XE14-047</td>\n",
       "      <td>44.0</td>\n",
       "      <td>test</td>\n",
       "      <td>1144</td>\n",
       "      <td>1</td>\n",
       "    </tr>\n",
       "    <tr>\n",
       "      <th>60</th>\n",
       "      <td>/mnt/new-nas/work/data/npsad_data/vivek/Datase...</td>\n",
       "      <td>XE11-027</td>\n",
       "      <td>44.0</td>\n",
       "      <td>test</td>\n",
       "      <td>634</td>\n",
       "      <td>3</td>\n",
       "    </tr>\n",
       "    <tr>\n",
       "      <th>10</th>\n",
       "      <td>/mnt/new-nas/work/data/npsad_data/vivek/Datase...</td>\n",
       "      <td>XE14-037</td>\n",
       "      <td>33.0</td>\n",
       "      <td>test</td>\n",
       "      <td>1587</td>\n",
       "      <td>5</td>\n",
       "    </tr>\n",
       "    <tr>\n",
       "      <th>16</th>\n",
       "      <td>/mnt/new-nas/work/data/npsad_data/vivek/Datase...</td>\n",
       "      <td>XE17-013</td>\n",
       "      <td>33.0</td>\n",
       "      <td>test</td>\n",
       "      <td>1540</td>\n",
       "      <td>2</td>\n",
       "    </tr>\n",
       "    <tr>\n",
       "      <th>22</th>\n",
       "      <td>/mnt/new-nas/work/data/npsad_data/vivek/Datase...</td>\n",
       "      <td>XE10-033</td>\n",
       "      <td>33.0</td>\n",
       "      <td>test</td>\n",
       "      <td>1172</td>\n",
       "      <td>0</td>\n",
       "    </tr>\n",
       "    <tr>\n",
       "      <th>43</th>\n",
       "      <td>/mnt/new-nas/work/data/npsad_data/vivek/Datase...</td>\n",
       "      <td>XE14-004</td>\n",
       "      <td>33.0</td>\n",
       "      <td>test</td>\n",
       "      <td>127</td>\n",
       "      <td>3</td>\n",
       "    </tr>\n",
       "    <tr>\n",
       "      <th>47</th>\n",
       "      <td>/mnt/new-nas/work/data/npsad_data/vivek/Datase...</td>\n",
       "      <td>XE12-037</td>\n",
       "      <td>33.0</td>\n",
       "      <td>test</td>\n",
       "      <td>473</td>\n",
       "      <td>1</td>\n",
       "    </tr>\n",
       "    <tr>\n",
       "      <th>61</th>\n",
       "      <td>/mnt/new-nas/work/data/npsad_data/vivek/Datase...</td>\n",
       "      <td>XE17-030</td>\n",
       "      <td>33.0</td>\n",
       "      <td>test</td>\n",
       "      <td>607</td>\n",
       "      <td>4</td>\n",
       "    </tr>\n",
       "    <tr>\n",
       "      <th>33</th>\n",
       "      <td>/mnt/new-nas/work/data/npsad_data/vivek/Datase...</td>\n",
       "      <td>XE13-029</td>\n",
       "      <td>24.0</td>\n",
       "      <td>test</td>\n",
       "      <td>2183</td>\n",
       "      <td>1</td>\n",
       "    </tr>\n",
       "    <tr>\n",
       "      <th>52</th>\n",
       "      <td>/mnt/new-nas/work/data/npsad_data/vivek/Datase...</td>\n",
       "      <td>XE12-013</td>\n",
       "      <td>24.0</td>\n",
       "      <td>test</td>\n",
       "      <td>729</td>\n",
       "      <td>0</td>\n",
       "    </tr>\n",
       "  </tbody>\n",
       "</table>\n",
       "</div>"
      ],
      "text/plain": [
       "                                         WSI_filename Imaging_XENum  ApoE_gt  \\\n",
       "6   /mnt/new-nas/work/data/npsad_data/vivek/Datase...      XE19-028     34.0   \n",
       "20  /mnt/new-nas/work/data/npsad_data/vivek/Datase...      XE15-022     34.0   \n",
       "26  /mnt/new-nas/work/data/npsad_data/vivek/Datase...      XE16-023     34.0   \n",
       "54  /mnt/new-nas/work/data/npsad_data/vivek/Datase...      XE16-014     34.0   \n",
       "56  /mnt/new-nas/work/data/npsad_data/vivek/Datase...      XE07-056     34.0   \n",
       "65  /mnt/new-nas/work/data/npsad_data/vivek/Datase...      XE17-014     34.0   \n",
       "2   /mnt/new-nas/work/data/npsad_data/vivek/Datase...      XE17-004     44.0   \n",
       "18  /mnt/new-nas/work/data/npsad_data/vivek/Datase...      XE12-015     44.0   \n",
       "49  /mnt/new-nas/work/data/npsad_data/vivek/Datase...      XE13-005     44.0   \n",
       "58  /mnt/new-nas/work/data/npsad_data/vivek/Datase...      XE09-041     44.0   \n",
       "59  /mnt/new-nas/work/data/npsad_data/vivek/Datase...      XE14-047     44.0   \n",
       "60  /mnt/new-nas/work/data/npsad_data/vivek/Datase...      XE11-027     44.0   \n",
       "10  /mnt/new-nas/work/data/npsad_data/vivek/Datase...      XE14-037     33.0   \n",
       "16  /mnt/new-nas/work/data/npsad_data/vivek/Datase...      XE17-013     33.0   \n",
       "22  /mnt/new-nas/work/data/npsad_data/vivek/Datase...      XE10-033     33.0   \n",
       "43  /mnt/new-nas/work/data/npsad_data/vivek/Datase...      XE14-004     33.0   \n",
       "47  /mnt/new-nas/work/data/npsad_data/vivek/Datase...      XE12-037     33.0   \n",
       "61  /mnt/new-nas/work/data/npsad_data/vivek/Datase...      XE17-030     33.0   \n",
       "33  /mnt/new-nas/work/data/npsad_data/vivek/Datase...      XE13-029     24.0   \n",
       "52  /mnt/new-nas/work/data/npsad_data/vivek/Datase...      XE12-013     24.0   \n",
       "\n",
       "   data_source  image_count  random_ind  \n",
       "6        train            0           2  \n",
       "20        test          671           3  \n",
       "26        test           77           1  \n",
       "54        test          383           4  \n",
       "56        test         1346           5  \n",
       "65        test          246           0  \n",
       "2        train            0           0  \n",
       "18        test         2342           4  \n",
       "49        test          457           2  \n",
       "58        test           36           5  \n",
       "59        test         1144           1  \n",
       "60        test          634           3  \n",
       "10        test         1587           5  \n",
       "16        test         1540           2  \n",
       "22        test         1172           0  \n",
       "43        test          127           3  \n",
       "47        test          473           1  \n",
       "61        test          607           4  \n",
       "33        test         2183           1  \n",
       "52        test          729           0  "
      ]
     },
     "execution_count": 70,
     "metadata": {},
     "output_type": "execute_result"
    }
   ],
   "source": [
    "final_train_test_xenum_pd"
   ]
  },
  {
   "cell_type": "code",
   "execution_count": 71,
   "metadata": {},
   "outputs": [
    {
     "data": {
      "text/plain": [
       "ApoE_gt\n",
       "24.0    2912\n",
       "33.0    5506\n",
       "34.0    2723\n",
       "44.0    4613\n",
       "Name: image_count, dtype: int64"
      ]
     },
     "execution_count": 71,
     "metadata": {},
     "output_type": "execute_result"
    }
   ],
   "source": [
    "final_train_test_xenum_pd.groupby([\"ApoE_gt\"])[\"image_count\"].sum()"
   ]
  },
  {
   "cell_type": "code",
   "execution_count": 72,
   "metadata": {},
   "outputs": [
    {
     "data": {
      "text/plain": [
       "ApoE_gt\n",
       "24.0    2912\n",
       "33.0    5506\n",
       "34.0    2723\n",
       "44.0    4613\n",
       "Name: image_count, dtype: int64"
      ]
     },
     "execution_count": 72,
     "metadata": {},
     "output_type": "execute_result"
    }
   ],
   "source": [
    "final_train_test_xenum_pd.groupby([\"ApoE_gt\"])[\"image_count\"].sum()"
   ]
  },
  {
   "cell_type": "code",
   "execution_count": 73,
   "metadata": {},
   "outputs": [
    {
     "data": {
      "text/plain": [
       "random_ind  Imaging_XENum\n",
       "0           XE10-033         1172\n",
       "            XE12-013          729\n",
       "            XE17-004            0\n",
       "            XE17-014          246\n",
       "1           XE12-037          473\n",
       "            XE13-029         2183\n",
       "            XE14-047         1144\n",
       "            XE16-023           77\n",
       "2           XE13-005          457\n",
       "            XE17-013         1540\n",
       "            XE19-028            0\n",
       "3           XE11-027          634\n",
       "            XE14-004          127\n",
       "            XE15-022          671\n",
       "4           XE12-015         2342\n",
       "            XE16-014          383\n",
       "            XE17-030          607\n",
       "5           XE07-056         1346\n",
       "            XE09-041           36\n",
       "            XE14-037         1587\n",
       "Name: image_count, dtype: int64"
      ]
     },
     "execution_count": 73,
     "metadata": {},
     "output_type": "execute_result"
    }
   ],
   "source": [
    "final_train_test_xenum_pd.groupby([\"random_ind\",\"Imaging_XENum\",])[\"image_count\"].sum()"
   ]
  },
  {
   "cell_type": "code",
   "execution_count": 74,
   "metadata": {},
   "outputs": [],
   "source": [
    "final_train_test_xenum_pd[\"train_test_flag\"] = np.where(final_train_test_xenum_pd[\"random_ind\"].isin([3,4,1,0]),\"Train\",\"Val\")"
   ]
  },
  {
   "cell_type": "code",
   "execution_count": 75,
   "metadata": {},
   "outputs": [
    {
     "data": {
      "text/plain": [
       "train_test_flag  ApoE_gt\n",
       "Train            24.0       2912\n",
       "                 33.0       2379\n",
       "                 34.0       1377\n",
       "                 44.0       4120\n",
       "Val              33.0       3127\n",
       "                 34.0       1346\n",
       "                 44.0        493\n",
       "Name: image_count, dtype: int64"
      ]
     },
     "execution_count": 75,
     "metadata": {},
     "output_type": "execute_result"
    }
   ],
   "source": [
    "final_train_test_xenum_pd.groupby([\"train_test_flag\",\"ApoE_gt\"])[\"image_count\"].sum()"
   ]
  },
  {
   "cell_type": "code",
   "execution_count": 80,
   "metadata": {},
   "outputs": [
    {
     "data": {
      "text/plain": [
       "train_test_flag  ApoE_gt\n",
       "Train            24.0       2\n",
       "                 33.0       4\n",
       "                 34.0       4\n",
       "                 44.0       4\n",
       "Val              33.0       2\n",
       "                 34.0       2\n",
       "                 44.0       2\n",
       "Name: Imaging_XENum, dtype: int64"
      ]
     },
     "execution_count": 80,
     "metadata": {},
     "output_type": "execute_result"
    }
   ],
   "source": [
    "final_train_test_xenum_pd.groupby([\"train_test_flag\",\"ApoE_gt\"])[\"Imaging_XENum\"].count()"
   ]
  },
  {
   "cell_type": "code",
   "execution_count": 81,
   "metadata": {},
   "outputs": [
    {
     "data": {
      "text/html": [
       "<div>\n",
       "<style scoped>\n",
       "    .dataframe tbody tr th:only-of-type {\n",
       "        vertical-align: middle;\n",
       "    }\n",
       "\n",
       "    .dataframe tbody tr th {\n",
       "        vertical-align: top;\n",
       "    }\n",
       "\n",
       "    .dataframe thead th {\n",
       "        text-align: right;\n",
       "    }\n",
       "</style>\n",
       "<table border=\"1\" class=\"dataframe\">\n",
       "  <thead>\n",
       "    <tr style=\"text-align: right;\">\n",
       "      <th></th>\n",
       "      <th>WSI_filename</th>\n",
       "      <th>Imaging_XENum</th>\n",
       "      <th>ApoE_gt</th>\n",
       "      <th>data_source</th>\n",
       "      <th>image_count</th>\n",
       "      <th>random_ind</th>\n",
       "      <th>train_test_flag</th>\n",
       "    </tr>\n",
       "  </thead>\n",
       "  <tbody>\n",
       "    <tr>\n",
       "      <th>6</th>\n",
       "      <td>/mnt/new-nas/work/data/npsad_data/vivek/Datase...</td>\n",
       "      <td>XE19-028</td>\n",
       "      <td>34.0</td>\n",
       "      <td>train</td>\n",
       "      <td>0</td>\n",
       "      <td>2</td>\n",
       "      <td>Val</td>\n",
       "    </tr>\n",
       "    <tr>\n",
       "      <th>20</th>\n",
       "      <td>/mnt/new-nas/work/data/npsad_data/vivek/Datase...</td>\n",
       "      <td>XE15-022</td>\n",
       "      <td>34.0</td>\n",
       "      <td>test</td>\n",
       "      <td>671</td>\n",
       "      <td>3</td>\n",
       "      <td>Train</td>\n",
       "    </tr>\n",
       "  </tbody>\n",
       "</table>\n",
       "</div>"
      ],
      "text/plain": [
       "                                         WSI_filename Imaging_XENum  ApoE_gt  \\\n",
       "6   /mnt/new-nas/work/data/npsad_data/vivek/Datase...      XE19-028     34.0   \n",
       "20  /mnt/new-nas/work/data/npsad_data/vivek/Datase...      XE15-022     34.0   \n",
       "\n",
       "   data_source  image_count  random_ind train_test_flag  \n",
       "6        train            0           2             Val  \n",
       "20        test          671           3           Train  "
      ]
     },
     "execution_count": 81,
     "metadata": {},
     "output_type": "execute_result"
    }
   ],
   "source": [
    "final_train_test_xenum_pd.head(2)"
   ]
  },
  {
   "cell_type": "code",
   "execution_count": 82,
   "metadata": {},
   "outputs": [],
   "source": [
    "def map_label(class_name):\n",
    "    if class_name == 24:\n",
    "        return 1\n",
    "    if class_name==33:\n",
    "        return 0\n",
    "    if class_name==34:\n",
    "        return 1\n",
    "    if class_name==44:\n",
    "        return 1\n",
    "    return -1\n",
    "\n",
    "def get_image_paths(row):\n",
    "    folder_path =  row[\"WSI_filename\"]\n",
    "    if folder_path.endswith(\"json\"):\n",
    "        files = glob(os.path.join(folder_path, \"images/*.png\"))\n",
    "    else:\n",
    "        files = glob(os.path.join(folder_path, \"*.png\"))\n",
    "    temp_df =  pd.DataFrame({\"crop_filepath\":files})\n",
    "    temp_df[\"WSI_filename\"] = folder_path\n",
    "    temp_df[\"class\"] = row[\"ApoE_gt\"]\n",
    "    temp_df[\"Imaging_XENum\"] = row[\"Imaging_XENum\"]\n",
    "    temp_df[\"random_ind\"]=row[\"random_ind\"]\n",
    "    return temp_df"
   ]
  },
  {
   "cell_type": "code",
   "execution_count": 83,
   "metadata": {},
   "outputs": [],
   "source": [
    "def create_image_data(train_test_flag):\n",
    "    df = final_train_test_xenum_pd[final_train_test_xenum_pd[\"train_test_flag\"]==train_test_flag]\n",
    "    output_df = pd.DataFrame()\n",
    "    for index, row in df.iterrows():\n",
    "        tmp = get_image_paths(row)\n",
    "        if len(output_df)==0:\n",
    "            output_df=tmp\n",
    "        else:\n",
    "            output_df= pd.concat([output_df,tmp])\n",
    "    output_df[\"apoe_label\"]=output_df[\"class\"].apply(lambda l:map_label(l))\n",
    "    output_df[\"image_name\"] = output_df[\"crop_filepath\"].apply(lambda l:l.split(\"/\")[-1].split(\".\")[0])\n",
    "    output_df = pd.merge(output_df,all_detection_pd[[\"image_name\",\"label\",\"Imaging_XENum\"]], on=[\"Imaging_XENum\",\"image_name\"],how=\"left\") \n",
    "    return output_df"
   ]
  },
  {
   "cell_type": "code",
   "execution_count": 84,
   "metadata": {},
   "outputs": [],
   "source": [
    "#final_train_test_xenum_pd[\"train_test_flag\"]=\"Train\"\n",
    "train_df = create_image_data(\"Train\")"
   ]
  },
  {
   "cell_type": "code",
   "execution_count": 85,
   "metadata": {},
   "outputs": [
    {
     "data": {
      "text/plain": [
       "array([nan, 'Diffuse', 'Cored', 'CAA'], dtype=object)"
      ]
     },
     "execution_count": 85,
     "metadata": {},
     "output_type": "execute_result"
    }
   ],
   "source": [
    "train_df[\"label\"].unique()"
   ]
  },
  {
   "cell_type": "code",
   "execution_count": 86,
   "metadata": {},
   "outputs": [],
   "source": [
    "train_df = train_df[~train_df[\"label\"].isna()]"
   ]
  },
  {
   "cell_type": "code",
   "execution_count": 87,
   "metadata": {},
   "outputs": [],
   "source": [
    "val_df = create_image_data(\"Val\")\n",
    "val_df = val_df[~val_df[\"label\"].isna()]"
   ]
  },
  {
   "cell_type": "code",
   "execution_count": 89,
   "metadata": {},
   "outputs": [],
   "source": [
    "train_df.to_csv(\"/mnt/new-nas/work/data/npsad_data/vivek/Datasets/amyb_wsi/apoe_training_dataset/train_detected_full2.csv\")\n",
    "val_df.to_csv(\"/mnt/new-nas/work/data/npsad_data/vivek/Datasets/amyb_wsi/apoe_training_dataset/val_detected_full2.csv\")"
   ]
  },
  {
   "cell_type": "code",
   "execution_count": 90,
   "metadata": {},
   "outputs": [
    {
     "data": {
      "text/plain": [
       "class  Imaging_XENum\n",
       "24.0   XE12-013          729\n",
       "       XE13-029         2183\n",
       "33.0   XE10-033         1172\n",
       "       XE12-037          473\n",
       "       XE14-004          127\n",
       "       XE17-030          607\n",
       "34.0   XE15-022          671\n",
       "       XE16-014          383\n",
       "       XE16-023           77\n",
       "       XE17-014          246\n",
       "44.0   XE11-027          634\n",
       "       XE12-015         2342\n",
       "       XE14-047         1144\n",
       "Name: image_name, dtype: int64"
      ]
     },
     "execution_count": 90,
     "metadata": {},
     "output_type": "execute_result"
    }
   ],
   "source": [
    "train_df.groupby([\"class\",\"Imaging_XENum\"])[\"image_name\"].count()"
   ]
  },
  {
   "cell_type": "code",
   "execution_count": 91,
   "metadata": {},
   "outputs": [
    {
     "data": {
      "text/plain": [
       "class  random_ind\n",
       "24.0   0              729\n",
       "       1             2183\n",
       "33.0   0             1172\n",
       "       1              473\n",
       "       3              127\n",
       "       4              607\n",
       "34.0   0              246\n",
       "       1               77\n",
       "       3              671\n",
       "       4              383\n",
       "44.0   1             1144\n",
       "       3              634\n",
       "       4             2342\n",
       "Name: Imaging_XENum, dtype: int64"
      ]
     },
     "execution_count": 91,
     "metadata": {},
     "output_type": "execute_result"
    }
   ],
   "source": [
    "train_df.groupby([ \"class\",\"random_ind\"])[\"Imaging_XENum\"].count()"
   ]
  },
  {
   "cell_type": "code",
   "execution_count": 92,
   "metadata": {},
   "outputs": [],
   "source": [
    "val_df = train_df[train_df[\"random_ind\"].isin([3,2])]"
   ]
  },
  {
   "cell_type": "code",
   "execution_count": 93,
   "metadata": {},
   "outputs": [
    {
     "data": {
      "text/plain": [
       "class\n",
       "33.0    127\n",
       "34.0    671\n",
       "44.0    634\n",
       "Name: Imaging_XENum, dtype: int64"
      ]
     },
     "execution_count": 93,
     "metadata": {},
     "output_type": "execute_result"
    }
   ],
   "source": [
    "val_df.groupby([ \"class\"])[\"Imaging_XENum\"].count()"
   ]
  },
  {
   "cell_type": "code",
   "execution_count": 94,
   "metadata": {},
   "outputs": [
    {
     "data": {
      "text/html": [
       "<div>\n",
       "<style scoped>\n",
       "    .dataframe tbody tr th:only-of-type {\n",
       "        vertical-align: middle;\n",
       "    }\n",
       "\n",
       "    .dataframe tbody tr th {\n",
       "        vertical-align: top;\n",
       "    }\n",
       "\n",
       "    .dataframe thead th {\n",
       "        text-align: right;\n",
       "    }\n",
       "</style>\n",
       "<table border=\"1\" class=\"dataframe\">\n",
       "  <thead>\n",
       "    <tr style=\"text-align: right;\">\n",
       "      <th></th>\n",
       "      <th>crop_filepath</th>\n",
       "      <th>WSI_filename</th>\n",
       "      <th>class</th>\n",
       "      <th>Imaging_XENum</th>\n",
       "      <th>random_ind</th>\n",
       "      <th>apoe_label</th>\n",
       "      <th>image_name</th>\n",
       "      <th>label</th>\n",
       "    </tr>\n",
       "  </thead>\n",
       "  <tbody>\n",
       "    <tr>\n",
       "      <th>8</th>\n",
       "      <td>/mnt/new-nas/work/data/npsad_data/vivek/Datase...</td>\n",
       "      <td>/mnt/new-nas/work/data/npsad_data/vivek/Datase...</td>\n",
       "      <td>34.0</td>\n",
       "      <td>XE15-022</td>\n",
       "      <td>3</td>\n",
       "      <td>1</td>\n",
       "      <td>x_41984_y_126976</td>\n",
       "      <td>Diffuse</td>\n",
       "    </tr>\n",
       "    <tr>\n",
       "      <th>11</th>\n",
       "      <td>/mnt/new-nas/work/data/npsad_data/vivek/Datase...</td>\n",
       "      <td>/mnt/new-nas/work/data/npsad_data/vivek/Datase...</td>\n",
       "      <td>34.0</td>\n",
       "      <td>XE15-022</td>\n",
       "      <td>3</td>\n",
       "      <td>1</td>\n",
       "      <td>x_24576_y_136192</td>\n",
       "      <td>Diffuse</td>\n",
       "    </tr>\n",
       "    <tr>\n",
       "      <th>12</th>\n",
       "      <td>/mnt/new-nas/work/data/npsad_data/vivek/Datase...</td>\n",
       "      <td>/mnt/new-nas/work/data/npsad_data/vivek/Datase...</td>\n",
       "      <td>34.0</td>\n",
       "      <td>XE15-022</td>\n",
       "      <td>3</td>\n",
       "      <td>1</td>\n",
       "      <td>x_24576_y_136192</td>\n",
       "      <td>Diffuse</td>\n",
       "    </tr>\n",
       "    <tr>\n",
       "      <th>25</th>\n",
       "      <td>/mnt/new-nas/work/data/npsad_data/vivek/Datase...</td>\n",
       "      <td>/mnt/new-nas/work/data/npsad_data/vivek/Datase...</td>\n",
       "      <td>34.0</td>\n",
       "      <td>XE15-022</td>\n",
       "      <td>3</td>\n",
       "      <td>1</td>\n",
       "      <td>x_69632_y_75776</td>\n",
       "      <td>Cored</td>\n",
       "    </tr>\n",
       "    <tr>\n",
       "      <th>62</th>\n",
       "      <td>/mnt/new-nas/work/data/npsad_data/vivek/Datase...</td>\n",
       "      <td>/mnt/new-nas/work/data/npsad_data/vivek/Datase...</td>\n",
       "      <td>34.0</td>\n",
       "      <td>XE15-022</td>\n",
       "      <td>3</td>\n",
       "      <td>1</td>\n",
       "      <td>x_24576_y_106496</td>\n",
       "      <td>Diffuse</td>\n",
       "    </tr>\n",
       "    <tr>\n",
       "      <th>...</th>\n",
       "      <td>...</td>\n",
       "      <td>...</td>\n",
       "      <td>...</td>\n",
       "      <td>...</td>\n",
       "      <td>...</td>\n",
       "      <td>...</td>\n",
       "      <td>...</td>\n",
       "      <td>...</td>\n",
       "    </tr>\n",
       "    <tr>\n",
       "      <th>62357</th>\n",
       "      <td>/mnt/new-nas/work/data/npsad_data/vivek/Datase...</td>\n",
       "      <td>/mnt/new-nas/work/data/npsad_data/vivek/Datase...</td>\n",
       "      <td>33.0</td>\n",
       "      <td>XE14-004</td>\n",
       "      <td>3</td>\n",
       "      <td>0</td>\n",
       "      <td>x_47104_y_131072</td>\n",
       "      <td>Cored</td>\n",
       "    </tr>\n",
       "    <tr>\n",
       "      <th>62421</th>\n",
       "      <td>/mnt/new-nas/work/data/npsad_data/vivek/Datase...</td>\n",
       "      <td>/mnt/new-nas/work/data/npsad_data/vivek/Datase...</td>\n",
       "      <td>33.0</td>\n",
       "      <td>XE14-004</td>\n",
       "      <td>3</td>\n",
       "      <td>0</td>\n",
       "      <td>x_78848_y_104448</td>\n",
       "      <td>Cored</td>\n",
       "    </tr>\n",
       "    <tr>\n",
       "      <th>62534</th>\n",
       "      <td>/mnt/new-nas/work/data/npsad_data/vivek/Datase...</td>\n",
       "      <td>/mnt/new-nas/work/data/npsad_data/vivek/Datase...</td>\n",
       "      <td>33.0</td>\n",
       "      <td>XE14-004</td>\n",
       "      <td>3</td>\n",
       "      <td>0</td>\n",
       "      <td>x_32768_y_152576</td>\n",
       "      <td>Diffuse</td>\n",
       "    </tr>\n",
       "    <tr>\n",
       "      <th>62673</th>\n",
       "      <td>/mnt/new-nas/work/data/npsad_data/vivek/Datase...</td>\n",
       "      <td>/mnt/new-nas/work/data/npsad_data/vivek/Datase...</td>\n",
       "      <td>33.0</td>\n",
       "      <td>XE14-004</td>\n",
       "      <td>3</td>\n",
       "      <td>0</td>\n",
       "      <td>x_17408_y_60416</td>\n",
       "      <td>Cored</td>\n",
       "    </tr>\n",
       "    <tr>\n",
       "      <th>62746</th>\n",
       "      <td>/mnt/new-nas/work/data/npsad_data/vivek/Datase...</td>\n",
       "      <td>/mnt/new-nas/work/data/npsad_data/vivek/Datase...</td>\n",
       "      <td>33.0</td>\n",
       "      <td>XE14-004</td>\n",
       "      <td>3</td>\n",
       "      <td>0</td>\n",
       "      <td>x_6144_y_150528</td>\n",
       "      <td>CAA</td>\n",
       "    </tr>\n",
       "  </tbody>\n",
       "</table>\n",
       "<p>1432 rows × 8 columns</p>\n",
       "</div>"
      ],
      "text/plain": [
       "                                           crop_filepath  \\\n",
       "8      /mnt/new-nas/work/data/npsad_data/vivek/Datase...   \n",
       "11     /mnt/new-nas/work/data/npsad_data/vivek/Datase...   \n",
       "12     /mnt/new-nas/work/data/npsad_data/vivek/Datase...   \n",
       "25     /mnt/new-nas/work/data/npsad_data/vivek/Datase...   \n",
       "62     /mnt/new-nas/work/data/npsad_data/vivek/Datase...   \n",
       "...                                                  ...   \n",
       "62357  /mnt/new-nas/work/data/npsad_data/vivek/Datase...   \n",
       "62421  /mnt/new-nas/work/data/npsad_data/vivek/Datase...   \n",
       "62534  /mnt/new-nas/work/data/npsad_data/vivek/Datase...   \n",
       "62673  /mnt/new-nas/work/data/npsad_data/vivek/Datase...   \n",
       "62746  /mnt/new-nas/work/data/npsad_data/vivek/Datase...   \n",
       "\n",
       "                                            WSI_filename  class Imaging_XENum  \\\n",
       "8      /mnt/new-nas/work/data/npsad_data/vivek/Datase...   34.0      XE15-022   \n",
       "11     /mnt/new-nas/work/data/npsad_data/vivek/Datase...   34.0      XE15-022   \n",
       "12     /mnt/new-nas/work/data/npsad_data/vivek/Datase...   34.0      XE15-022   \n",
       "25     /mnt/new-nas/work/data/npsad_data/vivek/Datase...   34.0      XE15-022   \n",
       "62     /mnt/new-nas/work/data/npsad_data/vivek/Datase...   34.0      XE15-022   \n",
       "...                                                  ...    ...           ...   \n",
       "62357  /mnt/new-nas/work/data/npsad_data/vivek/Datase...   33.0      XE14-004   \n",
       "62421  /mnt/new-nas/work/data/npsad_data/vivek/Datase...   33.0      XE14-004   \n",
       "62534  /mnt/new-nas/work/data/npsad_data/vivek/Datase...   33.0      XE14-004   \n",
       "62673  /mnt/new-nas/work/data/npsad_data/vivek/Datase...   33.0      XE14-004   \n",
       "62746  /mnt/new-nas/work/data/npsad_data/vivek/Datase...   33.0      XE14-004   \n",
       "\n",
       "       random_ind  apoe_label        image_name    label  \n",
       "8               3           1  x_41984_y_126976  Diffuse  \n",
       "11              3           1  x_24576_y_136192  Diffuse  \n",
       "12              3           1  x_24576_y_136192  Diffuse  \n",
       "25              3           1   x_69632_y_75776    Cored  \n",
       "62              3           1  x_24576_y_106496  Diffuse  \n",
       "...           ...         ...               ...      ...  \n",
       "62357           3           0  x_47104_y_131072    Cored  \n",
       "62421           3           0  x_78848_y_104448    Cored  \n",
       "62534           3           0  x_32768_y_152576  Diffuse  \n",
       "62673           3           0   x_17408_y_60416    Cored  \n",
       "62746           3           0   x_6144_y_150528      CAA  \n",
       "\n",
       "[1432 rows x 8 columns]"
      ]
     },
     "execution_count": 94,
     "metadata": {},
     "output_type": "execute_result"
    },
    {
     "ename": "",
     "evalue": "",
     "output_type": "error",
     "traceback": [
      "\u001b[1;31mThe Kernel crashed while executing code in the the current cell or a previous cell. Please review the code in the cell(s) to identify a possible cause of the failure. Click <a href='https://aka.ms/vscodeJupyterKernelCrash'>here</a> for more info. View Jupyter <a href='command:jupyter.viewOutput'>log</a> for further details."
     ]
    }
   ],
   "source": [
    "val_df"
   ]
  },
  {
   "cell_type": "code",
   "execution_count": 187,
   "metadata": {},
   "outputs": [],
   "source": [
    "train_df2 = train_df[~train_df[\"random_ind\"].isin([3,2])]"
   ]
  },
  {
   "cell_type": "code",
   "execution_count": 188,
   "metadata": {},
   "outputs": [
    {
     "data": {
      "text/plain": [
       "class\n",
       "33.0     698\n",
       "34.0    2960\n",
       "44.0    3943\n",
       "Name: Imaging_XENum, dtype: int64"
      ]
     },
     "execution_count": 188,
     "metadata": {},
     "output_type": "execute_result"
    }
   ],
   "source": [
    "train_df2.groupby([ \"class\"])[\"Imaging_XENum\"].count()"
   ]
  },
  {
   "cell_type": "code",
   "execution_count": 189,
   "metadata": {},
   "outputs": [
    {
     "data": {
      "text/html": [
       "<div>\n",
       "<style scoped>\n",
       "    .dataframe tbody tr th:only-of-type {\n",
       "        vertical-align: middle;\n",
       "    }\n",
       "\n",
       "    .dataframe tbody tr th {\n",
       "        vertical-align: top;\n",
       "    }\n",
       "\n",
       "    .dataframe thead th {\n",
       "        text-align: right;\n",
       "    }\n",
       "</style>\n",
       "<table border=\"1\" class=\"dataframe\">\n",
       "  <thead>\n",
       "    <tr style=\"text-align: right;\">\n",
       "      <th></th>\n",
       "      <th>crop_filepath</th>\n",
       "      <th>WSI_filename</th>\n",
       "      <th>class</th>\n",
       "      <th>Imaging_XENum</th>\n",
       "      <th>random_ind</th>\n",
       "      <th>apoe_label</th>\n",
       "      <th>image_name</th>\n",
       "      <th>label</th>\n",
       "    </tr>\n",
       "  </thead>\n",
       "  <tbody>\n",
       "    <tr>\n",
       "      <th>33</th>\n",
       "      <td>/mnt/new-nas/work/data/npsad_data/vivek/Datase...</td>\n",
       "      <td>/mnt/new-nas/work/data/npsad_data/vivek/Datase...</td>\n",
       "      <td>34.0</td>\n",
       "      <td>XE16-021</td>\n",
       "      <td>4</td>\n",
       "      <td>1</td>\n",
       "      <td>x_36864_y_119808</td>\n",
       "      <td>Cored</td>\n",
       "    </tr>\n",
       "    <tr>\n",
       "      <th>60</th>\n",
       "      <td>/mnt/new-nas/work/data/npsad_data/vivek/Datase...</td>\n",
       "      <td>/mnt/new-nas/work/data/npsad_data/vivek/Datase...</td>\n",
       "      <td>34.0</td>\n",
       "      <td>XE16-021</td>\n",
       "      <td>4</td>\n",
       "      <td>1</td>\n",
       "      <td>x_50176_y_88064</td>\n",
       "      <td>Cored</td>\n",
       "    </tr>\n",
       "    <tr>\n",
       "      <th>65</th>\n",
       "      <td>/mnt/new-nas/work/data/npsad_data/vivek/Datase...</td>\n",
       "      <td>/mnt/new-nas/work/data/npsad_data/vivek/Datase...</td>\n",
       "      <td>34.0</td>\n",
       "      <td>XE16-021</td>\n",
       "      <td>4</td>\n",
       "      <td>1</td>\n",
       "      <td>x_26624_y_136192</td>\n",
       "      <td>Cored</td>\n",
       "    </tr>\n",
       "    <tr>\n",
       "      <th>66</th>\n",
       "      <td>/mnt/new-nas/work/data/npsad_data/vivek/Datase...</td>\n",
       "      <td>/mnt/new-nas/work/data/npsad_data/vivek/Datase...</td>\n",
       "      <td>34.0</td>\n",
       "      <td>XE16-021</td>\n",
       "      <td>4</td>\n",
       "      <td>1</td>\n",
       "      <td>x_26624_y_136192</td>\n",
       "      <td>Cored</td>\n",
       "    </tr>\n",
       "    <tr>\n",
       "      <th>67</th>\n",
       "      <td>/mnt/new-nas/work/data/npsad_data/vivek/Datase...</td>\n",
       "      <td>/mnt/new-nas/work/data/npsad_data/vivek/Datase...</td>\n",
       "      <td>34.0</td>\n",
       "      <td>XE16-021</td>\n",
       "      <td>4</td>\n",
       "      <td>1</td>\n",
       "      <td>x_26624_y_136192</td>\n",
       "      <td>Cored</td>\n",
       "    </tr>\n",
       "    <tr>\n",
       "      <th>...</th>\n",
       "      <td>...</td>\n",
       "      <td>...</td>\n",
       "      <td>...</td>\n",
       "      <td>...</td>\n",
       "      <td>...</td>\n",
       "      <td>...</td>\n",
       "      <td>...</td>\n",
       "      <td>...</td>\n",
       "    </tr>\n",
       "    <tr>\n",
       "      <th>74288</th>\n",
       "      <td>/mnt/new-nas/work/data/npsad_data/vivek/Datase...</td>\n",
       "      <td>/mnt/new-nas/work/data/npsad_data/vivek/Datase...</td>\n",
       "      <td>33.0</td>\n",
       "      <td>XE10-046</td>\n",
       "      <td>4</td>\n",
       "      <td>0</td>\n",
       "      <td>x_45056_y_136192</td>\n",
       "      <td>Diffuse</td>\n",
       "    </tr>\n",
       "    <tr>\n",
       "      <th>74289</th>\n",
       "      <td>/mnt/new-nas/work/data/npsad_data/vivek/Datase...</td>\n",
       "      <td>/mnt/new-nas/work/data/npsad_data/vivek/Datase...</td>\n",
       "      <td>33.0</td>\n",
       "      <td>XE10-046</td>\n",
       "      <td>4</td>\n",
       "      <td>0</td>\n",
       "      <td>x_45056_y_136192</td>\n",
       "      <td>Diffuse</td>\n",
       "    </tr>\n",
       "    <tr>\n",
       "      <th>74309</th>\n",
       "      <td>/mnt/new-nas/work/data/npsad_data/vivek/Datase...</td>\n",
       "      <td>/mnt/new-nas/work/data/npsad_data/vivek/Datase...</td>\n",
       "      <td>33.0</td>\n",
       "      <td>XE10-046</td>\n",
       "      <td>4</td>\n",
       "      <td>0</td>\n",
       "      <td>x_45056_y_157696</td>\n",
       "      <td>Diffuse</td>\n",
       "    </tr>\n",
       "    <tr>\n",
       "      <th>74320</th>\n",
       "      <td>/mnt/new-nas/work/data/npsad_data/vivek/Datase...</td>\n",
       "      <td>/mnt/new-nas/work/data/npsad_data/vivek/Datase...</td>\n",
       "      <td>33.0</td>\n",
       "      <td>XE10-046</td>\n",
       "      <td>4</td>\n",
       "      <td>0</td>\n",
       "      <td>x_76800_y_165888</td>\n",
       "      <td>Diffuse</td>\n",
       "    </tr>\n",
       "    <tr>\n",
       "      <th>74321</th>\n",
       "      <td>/mnt/new-nas/work/data/npsad_data/vivek/Datase...</td>\n",
       "      <td>/mnt/new-nas/work/data/npsad_data/vivek/Datase...</td>\n",
       "      <td>33.0</td>\n",
       "      <td>XE10-046</td>\n",
       "      <td>4</td>\n",
       "      <td>0</td>\n",
       "      <td>x_76800_y_165888</td>\n",
       "      <td>Diffuse</td>\n",
       "    </tr>\n",
       "  </tbody>\n",
       "</table>\n",
       "<p>7601 rows × 8 columns</p>\n",
       "</div>"
      ],
      "text/plain": [
       "                                           crop_filepath  \\\n",
       "33     /mnt/new-nas/work/data/npsad_data/vivek/Datase...   \n",
       "60     /mnt/new-nas/work/data/npsad_data/vivek/Datase...   \n",
       "65     /mnt/new-nas/work/data/npsad_data/vivek/Datase...   \n",
       "66     /mnt/new-nas/work/data/npsad_data/vivek/Datase...   \n",
       "67     /mnt/new-nas/work/data/npsad_data/vivek/Datase...   \n",
       "...                                                  ...   \n",
       "74288  /mnt/new-nas/work/data/npsad_data/vivek/Datase...   \n",
       "74289  /mnt/new-nas/work/data/npsad_data/vivek/Datase...   \n",
       "74309  /mnt/new-nas/work/data/npsad_data/vivek/Datase...   \n",
       "74320  /mnt/new-nas/work/data/npsad_data/vivek/Datase...   \n",
       "74321  /mnt/new-nas/work/data/npsad_data/vivek/Datase...   \n",
       "\n",
       "                                            WSI_filename  class Imaging_XENum  \\\n",
       "33     /mnt/new-nas/work/data/npsad_data/vivek/Datase...   34.0      XE16-021   \n",
       "60     /mnt/new-nas/work/data/npsad_data/vivek/Datase...   34.0      XE16-021   \n",
       "65     /mnt/new-nas/work/data/npsad_data/vivek/Datase...   34.0      XE16-021   \n",
       "66     /mnt/new-nas/work/data/npsad_data/vivek/Datase...   34.0      XE16-021   \n",
       "67     /mnt/new-nas/work/data/npsad_data/vivek/Datase...   34.0      XE16-021   \n",
       "...                                                  ...    ...           ...   \n",
       "74288  /mnt/new-nas/work/data/npsad_data/vivek/Datase...   33.0      XE10-046   \n",
       "74289  /mnt/new-nas/work/data/npsad_data/vivek/Datase...   33.0      XE10-046   \n",
       "74309  /mnt/new-nas/work/data/npsad_data/vivek/Datase...   33.0      XE10-046   \n",
       "74320  /mnt/new-nas/work/data/npsad_data/vivek/Datase...   33.0      XE10-046   \n",
       "74321  /mnt/new-nas/work/data/npsad_data/vivek/Datase...   33.0      XE10-046   \n",
       "\n",
       "       random_ind  apoe_label        image_name    label  \n",
       "33              4           1  x_36864_y_119808    Cored  \n",
       "60              4           1   x_50176_y_88064    Cored  \n",
       "65              4           1  x_26624_y_136192    Cored  \n",
       "66              4           1  x_26624_y_136192    Cored  \n",
       "67              4           1  x_26624_y_136192    Cored  \n",
       "...           ...         ...               ...      ...  \n",
       "74288           4           0  x_45056_y_136192  Diffuse  \n",
       "74289           4           0  x_45056_y_136192  Diffuse  \n",
       "74309           4           0  x_45056_y_157696  Diffuse  \n",
       "74320           4           0  x_76800_y_165888  Diffuse  \n",
       "74321           4           0  x_76800_y_165888  Diffuse  \n",
       "\n",
       "[7601 rows x 8 columns]"
      ]
     },
     "execution_count": 189,
     "metadata": {},
     "output_type": "execute_result"
    }
   ],
   "source": [
    "train_df2"
   ]
  },
  {
   "cell_type": "code",
   "execution_count": 190,
   "metadata": {},
   "outputs": [],
   "source": [
    "val_df.to_csv(\"/mnt/new-nas/work/data/npsad_data/vivek/Datasets/amyb_wsi/apoe_training_dataset/val_detected_full.csv\")\n",
    "train_df2.to_csv(\"/mnt/new-nas/work/data/npsad_data/vivek/Datasets/amyb_wsi/apoe_training_dataset/train_detected_full.csv\")"
   ]
  },
  {
   "cell_type": "code",
   "execution_count": 191,
   "metadata": {},
   "outputs": [],
   "source": [
    "\n",
    "#train_df = create_image_data(\"Train\")"
   ]
  },
  {
   "cell_type": "code",
   "execution_count": 192,
   "metadata": {},
   "outputs": [],
   "source": [
    "#val_df = create_image_data(\"Val\")"
   ]
  },
  {
   "cell_type": "code",
   "execution_count": 193,
   "metadata": {},
   "outputs": [],
   "source": [
    "train_df.to_csv(\"/mnt/new-nas/work/data/npsad_data/vivek/Datasets/amyb_wsi/apoe_training_dataset/train_full.csv\")\n",
    "val_df.to_csv(\"/mnt/new-nas/work/data/npsad_data/vivek/Datasets/amyb_wsi/apoe_training_dataset/val_full.csv\")"
   ]
  },
  {
   "cell_type": "code",
   "execution_count": 194,
   "metadata": {},
   "outputs": [],
   "source": [
    "train_df = pd.read_csv(\"/mnt/new-nas/work/data/npsad_data/vivek/Datasets/amyb_wsi/apoe_training_dataset/train_full.csv\")\n",
    "val_df = pd.read_csv(\"/mnt/new-nas/work/data/npsad_data/vivek/Datasets/amyb_wsi/apoe_training_dataset/val_full.csv\")"
   ]
  },
  {
   "cell_type": "code",
   "execution_count": 195,
   "metadata": {},
   "outputs": [
    {
     "data": {
      "text/html": [
       "<div>\n",
       "<style scoped>\n",
       "    .dataframe tbody tr th:only-of-type {\n",
       "        vertical-align: middle;\n",
       "    }\n",
       "\n",
       "    .dataframe tbody tr th {\n",
       "        vertical-align: top;\n",
       "    }\n",
       "\n",
       "    .dataframe thead th {\n",
       "        text-align: right;\n",
       "    }\n",
       "</style>\n",
       "<table border=\"1\" class=\"dataframe\">\n",
       "  <thead>\n",
       "    <tr style=\"text-align: right;\">\n",
       "      <th></th>\n",
       "      <th>Unnamed: 0</th>\n",
       "      <th>crop_filepath</th>\n",
       "      <th>WSI_filename</th>\n",
       "      <th>class</th>\n",
       "      <th>Imaging_XENum</th>\n",
       "      <th>random_ind</th>\n",
       "      <th>apoe_label</th>\n",
       "      <th>image_name</th>\n",
       "      <th>label</th>\n",
       "    </tr>\n",
       "  </thead>\n",
       "  <tbody>\n",
       "    <tr>\n",
       "      <th>0</th>\n",
       "      <td>33</td>\n",
       "      <td>/mnt/new-nas/work/data/npsad_data/vivek/Datase...</td>\n",
       "      <td>/mnt/new-nas/work/data/npsad_data/vivek/Datase...</td>\n",
       "      <td>34.0</td>\n",
       "      <td>XE16-021</td>\n",
       "      <td>4</td>\n",
       "      <td>1</td>\n",
       "      <td>x_36864_y_119808</td>\n",
       "      <td>Cored</td>\n",
       "    </tr>\n",
       "    <tr>\n",
       "      <th>1</th>\n",
       "      <td>60</td>\n",
       "      <td>/mnt/new-nas/work/data/npsad_data/vivek/Datase...</td>\n",
       "      <td>/mnt/new-nas/work/data/npsad_data/vivek/Datase...</td>\n",
       "      <td>34.0</td>\n",
       "      <td>XE16-021</td>\n",
       "      <td>4</td>\n",
       "      <td>1</td>\n",
       "      <td>x_50176_y_88064</td>\n",
       "      <td>Cored</td>\n",
       "    </tr>\n",
       "    <tr>\n",
       "      <th>2</th>\n",
       "      <td>65</td>\n",
       "      <td>/mnt/new-nas/work/data/npsad_data/vivek/Datase...</td>\n",
       "      <td>/mnt/new-nas/work/data/npsad_data/vivek/Datase...</td>\n",
       "      <td>34.0</td>\n",
       "      <td>XE16-021</td>\n",
       "      <td>4</td>\n",
       "      <td>1</td>\n",
       "      <td>x_26624_y_136192</td>\n",
       "      <td>Cored</td>\n",
       "    </tr>\n",
       "    <tr>\n",
       "      <th>3</th>\n",
       "      <td>66</td>\n",
       "      <td>/mnt/new-nas/work/data/npsad_data/vivek/Datase...</td>\n",
       "      <td>/mnt/new-nas/work/data/npsad_data/vivek/Datase...</td>\n",
       "      <td>34.0</td>\n",
       "      <td>XE16-021</td>\n",
       "      <td>4</td>\n",
       "      <td>1</td>\n",
       "      <td>x_26624_y_136192</td>\n",
       "      <td>Cored</td>\n",
       "    </tr>\n",
       "    <tr>\n",
       "      <th>4</th>\n",
       "      <td>67</td>\n",
       "      <td>/mnt/new-nas/work/data/npsad_data/vivek/Datase...</td>\n",
       "      <td>/mnt/new-nas/work/data/npsad_data/vivek/Datase...</td>\n",
       "      <td>34.0</td>\n",
       "      <td>XE16-021</td>\n",
       "      <td>4</td>\n",
       "      <td>1</td>\n",
       "      <td>x_26624_y_136192</td>\n",
       "      <td>Cored</td>\n",
       "    </tr>\n",
       "    <tr>\n",
       "      <th>...</th>\n",
       "      <td>...</td>\n",
       "      <td>...</td>\n",
       "      <td>...</td>\n",
       "      <td>...</td>\n",
       "      <td>...</td>\n",
       "      <td>...</td>\n",
       "      <td>...</td>\n",
       "      <td>...</td>\n",
       "      <td>...</td>\n",
       "    </tr>\n",
       "    <tr>\n",
       "      <th>7742</th>\n",
       "      <td>74288</td>\n",
       "      <td>/mnt/new-nas/work/data/npsad_data/vivek/Datase...</td>\n",
       "      <td>/mnt/new-nas/work/data/npsad_data/vivek/Datase...</td>\n",
       "      <td>33.0</td>\n",
       "      <td>XE10-046</td>\n",
       "      <td>4</td>\n",
       "      <td>0</td>\n",
       "      <td>x_45056_y_136192</td>\n",
       "      <td>Diffuse</td>\n",
       "    </tr>\n",
       "    <tr>\n",
       "      <th>7743</th>\n",
       "      <td>74289</td>\n",
       "      <td>/mnt/new-nas/work/data/npsad_data/vivek/Datase...</td>\n",
       "      <td>/mnt/new-nas/work/data/npsad_data/vivek/Datase...</td>\n",
       "      <td>33.0</td>\n",
       "      <td>XE10-046</td>\n",
       "      <td>4</td>\n",
       "      <td>0</td>\n",
       "      <td>x_45056_y_136192</td>\n",
       "      <td>Diffuse</td>\n",
       "    </tr>\n",
       "    <tr>\n",
       "      <th>7744</th>\n",
       "      <td>74309</td>\n",
       "      <td>/mnt/new-nas/work/data/npsad_data/vivek/Datase...</td>\n",
       "      <td>/mnt/new-nas/work/data/npsad_data/vivek/Datase...</td>\n",
       "      <td>33.0</td>\n",
       "      <td>XE10-046</td>\n",
       "      <td>4</td>\n",
       "      <td>0</td>\n",
       "      <td>x_45056_y_157696</td>\n",
       "      <td>Diffuse</td>\n",
       "    </tr>\n",
       "    <tr>\n",
       "      <th>7745</th>\n",
       "      <td>74320</td>\n",
       "      <td>/mnt/new-nas/work/data/npsad_data/vivek/Datase...</td>\n",
       "      <td>/mnt/new-nas/work/data/npsad_data/vivek/Datase...</td>\n",
       "      <td>33.0</td>\n",
       "      <td>XE10-046</td>\n",
       "      <td>4</td>\n",
       "      <td>0</td>\n",
       "      <td>x_76800_y_165888</td>\n",
       "      <td>Diffuse</td>\n",
       "    </tr>\n",
       "    <tr>\n",
       "      <th>7746</th>\n",
       "      <td>74321</td>\n",
       "      <td>/mnt/new-nas/work/data/npsad_data/vivek/Datase...</td>\n",
       "      <td>/mnt/new-nas/work/data/npsad_data/vivek/Datase...</td>\n",
       "      <td>33.0</td>\n",
       "      <td>XE10-046</td>\n",
       "      <td>4</td>\n",
       "      <td>0</td>\n",
       "      <td>x_76800_y_165888</td>\n",
       "      <td>Diffuse</td>\n",
       "    </tr>\n",
       "  </tbody>\n",
       "</table>\n",
       "<p>7747 rows × 9 columns</p>\n",
       "</div>"
      ],
      "text/plain": [
       "      Unnamed: 0                                      crop_filepath  \\\n",
       "0             33  /mnt/new-nas/work/data/npsad_data/vivek/Datase...   \n",
       "1             60  /mnt/new-nas/work/data/npsad_data/vivek/Datase...   \n",
       "2             65  /mnt/new-nas/work/data/npsad_data/vivek/Datase...   \n",
       "3             66  /mnt/new-nas/work/data/npsad_data/vivek/Datase...   \n",
       "4             67  /mnt/new-nas/work/data/npsad_data/vivek/Datase...   \n",
       "...          ...                                                ...   \n",
       "7742       74288  /mnt/new-nas/work/data/npsad_data/vivek/Datase...   \n",
       "7743       74289  /mnt/new-nas/work/data/npsad_data/vivek/Datase...   \n",
       "7744       74309  /mnt/new-nas/work/data/npsad_data/vivek/Datase...   \n",
       "7745       74320  /mnt/new-nas/work/data/npsad_data/vivek/Datase...   \n",
       "7746       74321  /mnt/new-nas/work/data/npsad_data/vivek/Datase...   \n",
       "\n",
       "                                           WSI_filename  class Imaging_XENum  \\\n",
       "0     /mnt/new-nas/work/data/npsad_data/vivek/Datase...   34.0      XE16-021   \n",
       "1     /mnt/new-nas/work/data/npsad_data/vivek/Datase...   34.0      XE16-021   \n",
       "2     /mnt/new-nas/work/data/npsad_data/vivek/Datase...   34.0      XE16-021   \n",
       "3     /mnt/new-nas/work/data/npsad_data/vivek/Datase...   34.0      XE16-021   \n",
       "4     /mnt/new-nas/work/data/npsad_data/vivek/Datase...   34.0      XE16-021   \n",
       "...                                                 ...    ...           ...   \n",
       "7742  /mnt/new-nas/work/data/npsad_data/vivek/Datase...   33.0      XE10-046   \n",
       "7743  /mnt/new-nas/work/data/npsad_data/vivek/Datase...   33.0      XE10-046   \n",
       "7744  /mnt/new-nas/work/data/npsad_data/vivek/Datase...   33.0      XE10-046   \n",
       "7745  /mnt/new-nas/work/data/npsad_data/vivek/Datase...   33.0      XE10-046   \n",
       "7746  /mnt/new-nas/work/data/npsad_data/vivek/Datase...   33.0      XE10-046   \n",
       "\n",
       "      random_ind  apoe_label        image_name    label  \n",
       "0              4           1  x_36864_y_119808    Cored  \n",
       "1              4           1   x_50176_y_88064    Cored  \n",
       "2              4           1  x_26624_y_136192    Cored  \n",
       "3              4           1  x_26624_y_136192    Cored  \n",
       "4              4           1  x_26624_y_136192    Cored  \n",
       "...          ...         ...               ...      ...  \n",
       "7742           4           0  x_45056_y_136192  Diffuse  \n",
       "7743           4           0  x_45056_y_136192  Diffuse  \n",
       "7744           4           0  x_45056_y_157696  Diffuse  \n",
       "7745           4           0  x_76800_y_165888  Diffuse  \n",
       "7746           4           0  x_76800_y_165888  Diffuse  \n",
       "\n",
       "[7747 rows x 9 columns]"
      ]
     },
     "execution_count": 195,
     "metadata": {},
     "output_type": "execute_result"
    }
   ],
   "source": [
    "train_df"
   ]
  },
  {
   "cell_type": "code",
   "execution_count": 196,
   "metadata": {},
   "outputs": [
    {
     "data": {
      "text/plain": [
       "XE12-015    2342\n",
       "XE16-021    1439\n",
       "XE14-047    1144\n",
       "XE15-007    1088\n",
       "XE13-005     457\n",
       "XE12-010     439\n",
       "XE12-042     433\n",
       "XE10-046     167\n",
       "XE13-007     110\n",
       "XE07-067      92\n",
       "XE09-041      36\n",
       "Name: Imaging_XENum, dtype: int64"
      ]
     },
     "execution_count": 196,
     "metadata": {},
     "output_type": "execute_result"
    }
   ],
   "source": [
    "train_df[\"Imaging_XENum\"].value_counts()"
   ]
  },
  {
   "cell_type": "code",
   "execution_count": 197,
   "metadata": {},
   "outputs": [
    {
     "data": {
      "text/plain": [
       "11"
      ]
     },
     "execution_count": 197,
     "metadata": {},
     "output_type": "execute_result"
    }
   ],
   "source": [
    "len(train_df[\"WSI_filename\"].unique())"
   ]
  },
  {
   "cell_type": "code",
   "execution_count": 198,
   "metadata": {},
   "outputs": [],
   "source": [
    "def create_quantify_df(train_df):\n",
    "    train_full_quantify_df = pd.DataFrame()\n",
    "    counter = 0\n",
    "    no_csv_list =[]\n",
    "    for files in train_df[\"WSI_filename\"].unique():\n",
    "        name = files.split(\"/\")[-1]+\"_quantify.csv\"\n",
    "        try: \n",
    "            quantify_df = pd.read_csv(os.path.join(csv_paths,name))\n",
    "            quantify_df[\"Imaging_XENum\"] = files.split(\"/\")[-1].split(\"_\")[0]\n",
    "            if len(full_quantify_df)==0:\n",
    "                train_full_quantify_df=quantify_df\n",
    "            else:\n",
    "                train_full_quantify_df=pd.concat([train_full_quantify_df,quantify_df])\n",
    "        except:\n",
    "            counter=counter+1\n",
    "            no_csv_list.append(name)\n",
    "            pass\n",
    "    print(\"Not found csvs for :\" , counter, no_csv_list)\n",
    "    return train_full_quantify_df"
   ]
  },
  {
   "cell_type": "code",
   "execution_count": 199,
   "metadata": {},
   "outputs": [
    {
     "name": "stdout",
     "output_type": "stream",
     "text": [
      "Not found csvs for : 11 ['XE16-021_1_AmyB_1_quantify.csv', 'XE12-042_1_AmyB_1_quantify.csv', 'XE15-007_1_AmyB_1_quantify.csv', 'XE12-015_1_AmyB_1_quantify.csv', 'XE13-005_1_AmyB_1_quantify.csv', 'XE09-041_1_AmyB_1_quantify.csv', 'XE14-047_1_AmyB_1_quantify.csv', 'XE07-067_1_AmyB_1_quantify.csv', 'XE13-007_1_AmyB_1_quantify.csv', 'XE12-010_1_AmyB_1_quantify.csv', 'XE10-046_1_AmyB_1_quantify.csv']\n"
     ]
    }
   ],
   "source": [
    "train_full_quantify_df = create_quantify_df(train_df)"
   ]
  },
  {
   "cell_type": "code",
   "execution_count": 200,
   "metadata": {},
   "outputs": [
    {
     "name": "stdout",
     "output_type": "stream",
     "text": [
      "Not found csvs for : 2 ['XE09-041_1_AmyB_1_quantify.csv', 'XE13-007_1_AmyB_1_quantify.csv']\n"
     ]
    }
   ],
   "source": [
    "val_full_quantify_df = create_quantify_df(val_df)"
   ]
  },
  {
   "cell_type": "code",
   "execution_count": 201,
   "metadata": {},
   "outputs": [
    {
     "ename": "NameError",
     "evalue": "name 'full_quantify_df' is not defined",
     "output_type": "error",
     "traceback": [
      "\u001b[0;31m---------------------------------------------------------------------------\u001b[0m",
      "\u001b[0;31mNameError\u001b[0m                                 Traceback (most recent call last)",
      "\u001b[1;32m/home/vivek/Projects/amyb-plaque-detection/src/visualization/apoe/Data_Processing.ipynb Cell 62\u001b[0m line \u001b[0;36m1\n\u001b[0;32m----> <a href='vscode-notebook-cell:/home/vivek/Projects/amyb-plaque-detection/src/visualization/apoe/Data_Processing.ipynb#Y115sZmlsZQ%3D%3D?line=0'>1</a>\u001b[0m \u001b[39mlen\u001b[39m(full_quantify_df[\u001b[39m\"\u001b[39m\u001b[39mImaging_XENum\u001b[39m\u001b[39m\"\u001b[39m]\u001b[39m.\u001b[39munique())\n",
      "\u001b[0;31mNameError\u001b[0m: name 'full_quantify_df' is not defined"
     ]
    }
   ],
   "source": [
    "len(full_quantify_df[\"Imaging_XENum\"].unique())"
   ]
  },
  {
   "cell_type": "code",
   "execution_count": null,
   "metadata": {},
   "outputs": [],
   "source": [
    "def flag_images_with_detection(row):\n",
    "    os.path.join()"
   ]
  }
 ],
 "metadata": {
  "kernelspec": {
   "display_name": "kfold_amy_plaque1",
   "language": "python",
   "name": "python3"
  },
  "language_info": {
   "codemirror_mode": {
    "name": "ipython",
    "version": 3
   },
   "file_extension": ".py",
   "mimetype": "text/x-python",
   "name": "python",
   "nbconvert_exporter": "python",
   "pygments_lexer": "ipython3",
   "version": "3.8.10"
  },
  "orig_nbformat": 4
 },
 "nbformat": 4,
 "nbformat_minor": 2
}
