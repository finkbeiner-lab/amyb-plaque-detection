{
 "cells": [
  {
   "cell_type": "code",
   "execution_count": 11,
   "metadata": {},
   "outputs": [],
   "source": [
    "import pandas as pd\n",
    "import numpy as np"
   ]
  },
  {
   "cell_type": "code",
   "execution_count": 12,
   "metadata": {},
   "outputs": [],
   "source": [
    "clinical_data = pd.read_csv(\"/gladstone/finkbeiner/steve/work/data/npsad_data/vivek/Metadata/clinical_metadata_v2_lates.csv\")"
   ]
  },
  {
   "cell_type": "code",
   "execution_count": 13,
   "metadata": {},
   "outputs": [],
   "source": [
    "AmyB_MFG_flagged = pd.read_csv(\"/gladstone/finkbeiner/steve/work/data/npsad_data/vivek/Metadata/overlap_with_metadata_srna_flag/AmyB-MFG_hasClinicalDataflag_hassnRNAflag.csv\")"
   ]
  },
  {
   "cell_type": "code",
   "execution_count": 14,
   "metadata": {},
   "outputs": [],
   "source": [
    "matched_cl = AmyB_MFG_flagged[AmyB_MFG_flagged[\"hasClinicalData\"]==True]"
   ]
  },
  {
   "cell_type": "code",
   "execution_count": 15,
   "metadata": {},
   "outputs": [],
   "source": [
    "#merge clinical metadata with model prredicted output\n",
    "#plaque_counts_merged = pd.merge(plaque_counts,clinical_data[[\"Dx\",\"Imaging_XENum\",\"Plq_Mn\",\"Plq_Mn_MFG\",\"MidPlaquesValue\",\"MidPlaquesWCoresValue\",\"CDRScore\",\"prs_AD2\"]], left_on=\"XENum\", right_on=\"Imaging_XENum\", how = \"left\")\n",
    "plaque_counts_merged = pd.merge(matched_cl[[\"XENum\",\"SubNum\"]],clinical_data[[\"Imaging_XENum\",\"Plq_Mn_MFG\",\"MidPlaquesValue\",\"MidPlaquesWCoresValue\",\"CDRScore\",]], left_on=\"XENum\", right_on=\"Imaging_XENum\", how = \"left\")\n"
   ]
  },
  {
   "cell_type": "code",
   "execution_count": 16,
   "metadata": {},
   "outputs": [
    {
     "data": {
      "text/plain": [
       "Index(['SubID', 'Brain_bank', 'Age', 'Sex', 'Sex_chr_aneuploidy', 'Ethnicity',\n",
       "       'Dx', 'pH', 'PMI', 'Death_Time', 'Death_Month', 'Death_Season', 'CERAD',\n",
       "       'BRAAK_AD', 'BRAAK_PD', 'CDRScore', 'Plq_Mn', 'Plq_Mn_MFG', 'ApoE_gt',\n",
       "       'CMC_individual_ID', 'AMPAD_msbb_individualID', 'snRNAseq_ID', 'AD',\n",
       "       'MCI', 'Dementia', 'PD', 'PD_uncertain_plus_encephalitic', 'DLBD',\n",
       "       'FTD', 'ALS', 'NormPressHydrocephalus', 'ArgyrophilicGrain',\n",
       "       'CerebralAtrophy', 'Tauopathy', 'Others_Neurodegenerative', 'MS', 'PSP',\n",
       "       'Epilepsy', 'Seizures', 'Tumor'],\n",
       "      dtype='object')"
      ]
     },
     "execution_count": 16,
     "metadata": {},
     "output_type": "execute_result"
    }
   ],
   "source": [
    "clinical_data.columns[:40]"
   ]
  },
  {
   "cell_type": "code",
   "execution_count": 17,
   "metadata": {},
   "outputs": [
    {
     "data": {
      "text/plain": [
       "Index(['Migraine_headaches', 'Head_Injury', 'Vascular', 'Others_Neurological',\n",
       "       'FrontalLeucotomy', 'SCZ', 'MDD', 'BD_unspecific', 'BD_I', 'BD_II',\n",
       "       'PTSD', 'ADHD', 'OCD', 'Tardive_Dyskinesia_Neuroleptic_induced',\n",
       "       'Schizoaffective_bipolar', 'Schizoaffective_depressive', 'Anorexia',\n",
       "       'Bulimia', 'Anxiety', 'Binge_Purge', 'Eating_disorder',\n",
       "       'Others_Neuropsychiatric', 'Diabetes_mellitus_unspecified', 'ASHCVD',\n",
       "       'TD_I', 'TD_II', 'SNParray_HBBC', 'SNParray_CommonMind',\n",
       "       'WGS_CommonMind', 'WGS_RUSH', 'WGS_Ampad', 'SNParray_Microglia',\n",
       "       'SNParray_PsychAD', 'ADSP_SampleId', 'Imaging_XENum',\n",
       "       'nps_MoodDysCurValue', 'nps_DecIntCurValue', 'nps_WtLossCurValue',\n",
       "       'nps_DecAppCurValue', 'nps_WtGainCurValue'],\n",
       "      dtype='object')"
      ]
     },
     "execution_count": 17,
     "metadata": {},
     "output_type": "execute_result"
    }
   ],
   "source": [
    "clinical_data.columns[40:80]"
   ]
  },
  {
   "cell_type": "code",
   "execution_count": 18,
   "metadata": {},
   "outputs": [
    {
     "data": {
      "text/plain": [
       "22"
      ]
     },
     "execution_count": 18,
     "metadata": {},
     "output_type": "execute_result"
    }
   ],
   "source": [
    "plaque_counts_merged[\"CDRScore\"].isna().sum()"
   ]
  },
  {
   "cell_type": "code",
   "execution_count": 19,
   "metadata": {},
   "outputs": [
    {
     "data": {
      "text/html": [
       "<div>\n",
       "<style scoped>\n",
       "    .dataframe tbody tr th:only-of-type {\n",
       "        vertical-align: middle;\n",
       "    }\n",
       "\n",
       "    .dataframe tbody tr th {\n",
       "        vertical-align: top;\n",
       "    }\n",
       "\n",
       "    .dataframe thead th {\n",
       "        text-align: right;\n",
       "    }\n",
       "</style>\n",
       "<table border=\"1\" class=\"dataframe\">\n",
       "  <thead>\n",
       "    <tr style=\"text-align: right;\">\n",
       "      <th></th>\n",
       "      <th>XENum</th>\n",
       "      <th>SubNum</th>\n",
       "      <th>Imaging_XENum</th>\n",
       "      <th>Plq_Mn_MFG</th>\n",
       "      <th>MidPlaquesValue</th>\n",
       "      <th>MidPlaquesWCoresValue</th>\n",
       "      <th>CDRScore</th>\n",
       "    </tr>\n",
       "  </thead>\n",
       "  <tbody>\n",
       "    <tr>\n",
       "      <th>0</th>\n",
       "      <td>XE10-039</td>\n",
       "      <td>81015</td>\n",
       "      <td>XE10-039</td>\n",
       "      <td>8.66</td>\n",
       "      <td>5.0</td>\n",
       "      <td>3.0</td>\n",
       "      <td>3.0</td>\n",
       "    </tr>\n",
       "    <tr>\n",
       "      <th>1</th>\n",
       "      <td>XE18-048</td>\n",
       "      <td>808460</td>\n",
       "      <td>XE18-048</td>\n",
       "      <td>0.00</td>\n",
       "      <td>0.0</td>\n",
       "      <td>0.0</td>\n",
       "      <td>0.0</td>\n",
       "    </tr>\n",
       "  </tbody>\n",
       "</table>\n",
       "</div>"
      ],
      "text/plain": [
       "      XENum  SubNum Imaging_XENum  Plq_Mn_MFG  MidPlaquesValue  \\\n",
       "0  XE10-039   81015      XE10-039        8.66              5.0   \n",
       "1  XE18-048  808460      XE18-048        0.00              0.0   \n",
       "\n",
       "   MidPlaquesWCoresValue  CDRScore  \n",
       "0                    3.0       3.0  \n",
       "1                    0.0       0.0  "
      ]
     },
     "execution_count": 19,
     "metadata": {},
     "output_type": "execute_result"
    }
   ],
   "source": [
    "plaque_counts_merged.head(2)"
   ]
  },
  {
   "cell_type": "code",
   "execution_count": 20,
   "metadata": {},
   "outputs": [],
   "source": [
    "VA_BR = pd.read_excel(\"/gladstone/finkbeiner/steve/work/data/npsad_data/vivek/Metadata/overlap_with_metadata_srna_flag/VA_BR_Clinical_combo_matched_CMC_AMPAD.xlsx\") "
   ]
  },
  {
   "cell_type": "code",
   "execution_count": 21,
   "metadata": {},
   "outputs": [
    {
     "data": {
      "text/plain": [
       "Index(['SubID', 'SubNum', 'Batch1_Barcode', 'Batch1_Storage.Type',\n",
       "       'Batch1_Brain.Region', 'Batch1_UoM', 'Batch1_Size', 'Batch2_Barcode',\n",
       "       'Batch2_Storage.Type', 'Batch2_Brain.Region', 'Batch2_UoM',\n",
       "       'Batch2_Size', 'Batch2_Loc.Type', 'Batch2_Loc', 'Batch2_Shell',\n",
       "       'Batch2_Box', 'Age', 'Sex', 'Race', 'PMI', 'CDRScore', 'Final.Dx',\n",
       "       'CERAD_1', 'CERAD_2', 'Plq_Mn', 'HippoPlaquesValue',\n",
       "       'EntorPlaquesValue', 'AmygPlaquesValue', 'HippoPlaquesWCoresValue',\n",
       "       'EntorPlaquesWCoresValue', 'AmygPlaquesWCoresValue',\n",
       "       'HippoTanglesValue', 'EntorTanglesValue', 'AmygTanglesValue',\n",
       "       'HippoLewyValue', 'EntorLewyValue', 'AmygLewyValue', 'MidPlaquesValue',\n",
       "       'SupPlaquesValue', 'InfPlaquesValue'],\n",
       "      dtype='object')"
      ]
     },
     "execution_count": 21,
     "metadata": {},
     "output_type": "execute_result"
    }
   ],
   "source": [
    "VA_BR.columns[:40]"
   ]
  },
  {
   "cell_type": "code",
   "execution_count": 22,
   "metadata": {},
   "outputs": [
    {
     "data": {
      "text/plain": [
       "Index(['OcciPlaquesValue', 'MidPlaquesWCoresValue', 'SupPlaquesWCoresValue',\n",
       "       'InfPlaquesWCoresValue', 'OcciPlaquesWCoresValue', 'MidGliosisValue',\n",
       "       'SupGliosisValue', 'InfGliosisValue', 'OcciGliosisValue',\n",
       "       'MidLewyValue', 'SupLewyValue', 'InfLewyValue', 'OcciLweyValue',\n",
       "       'LewySubValue', 'LewyNucleusValue', 'LewyLocusValue',\n",
       "       'LewyDorsalVValue', 'MoodDysCurValue', 'MoodDysHxValue',\n",
       "       'DecIntCurValue', 'DecIntHxValue', 'WtLossCurValue', 'WtLossHxValue',\n",
       "       'DecAppCurValue', 'DecAppHxValue', 'WtGainCurValue', 'WtGainHxValue',\n",
       "       'EarlyInsomCurValue', 'EarlyInsomHxValue', 'MidInsomCurValue',\n",
       "       'MidInsomHxValue', 'LateInsomCurValue', 'LateInsomHxValue',\n",
       "       'HypersomCurValue', 'HypersomHxValue', 'PsychoAgiCurValue',\n",
       "       'PsychoAgiHxValue', 'PsychoRetardCurValue', 'PsychoRetardHxValue',\n",
       "       'FatCurValue', 'FatHxValue', 'WorthCurValue', 'WorthHxValue',\n",
       "       'DelCurValue', 'DelHxValue', 'RumCurValue', 'RumHxValue',\n",
       "       'ThoughtDeathCurValue', 'ThoughtDeathHxValue', 'Last2WkCurValue',\n",
       "       'Last2WkHxValue', 'SixMoCurValue', 'SixMoHxValue', 'LifeCurValue',\n",
       "       'LifeHxValue', 'DepCOntDemCurValue', 'DepContDemHxValue',\n",
       "       'CMC_individual_ID', 'pH', 'Braak.Stage', 'CMC_ATACseq', 'CMC_ChIPSeq',\n",
       "       'CMC_microarray', 'CMC_proteomics', 'CMC_rnaSeq', 'CMC_SNP', 'CMC_WGS',\n",
       "       'AMPAD_msbb_individualID', 'Barcode_received'],\n",
       "      dtype='object')"
      ]
     },
     "execution_count": 22,
     "metadata": {},
     "output_type": "execute_result"
    }
   ],
   "source": [
    "VA_BR.columns[40:]"
   ]
  },
  {
   "cell_type": "code",
   "execution_count": 23,
   "metadata": {},
   "outputs": [],
   "source": [
    "unmatched_cl = AmyB_MFG_flagged[AmyB_MFG_flagged[\"hasClinicalData\"]==False]"
   ]
  },
  {
   "cell_type": "code",
   "execution_count": 25,
   "metadata": {},
   "outputs": [],
   "source": [
    "VA_BR_short = VA_BR[['SubNum', 'MidPlaquesValue', \"MidPlaquesWCoresValue\",'CDRScore',  'Final.Dx']]"
   ]
  },
  {
   "cell_type": "code",
   "execution_count": 26,
   "metadata": {},
   "outputs": [],
   "source": [
    "new_clinical_matched = pd.merge(unmatched_cl[[\"XENum\",\t\"SubNum\"]],VA_BR_short, on=\"SubNum\", how=\"left\" )"
   ]
  },
  {
   "cell_type": "code",
   "execution_count": 27,
   "metadata": {},
   "outputs": [],
   "source": [
    "new_clinical_matched[\"Plq_Mn_MFG\"] = None"
   ]
  },
  {
   "cell_type": "code",
   "execution_count": 28,
   "metadata": {},
   "outputs": [],
   "source": [
    "Final_clinical_data = pd.concat([plaque_counts_merged,new_clinical_matched],axis=0)"
   ]
  },
  {
   "cell_type": "code",
   "execution_count": 29,
   "metadata": {},
   "outputs": [],
   "source": [
    "Final_clinical_data.to_csv(\"/gladstone/finkbeiner/steve/work/data/npsad_data/vivek/reports/Clinical_correlation_analysis/Mapped_clinical_data_full_minerava.csv\")"
   ]
  },
  {
   "cell_type": "code",
   "execution_count": null,
   "metadata": {},
   "outputs": [],
   "source": []
  }
 ],
 "metadata": {
  "kernelspec": {
   "display_name": "kfold_amy_plaque1",
   "language": "python",
   "name": "python3"
  },
  "language_info": {
   "codemirror_mode": {
    "name": "ipython",
    "version": 3
   },
   "file_extension": ".py",
   "mimetype": "text/x-python",
   "name": "python",
   "nbconvert_exporter": "python",
   "pygments_lexer": "ipython3",
   "version": "3.9.7"
  }
 },
 "nbformat": 4,
 "nbformat_minor": 2
}
