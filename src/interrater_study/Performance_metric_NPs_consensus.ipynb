{
 "cells": [
  {
   "cell_type": "markdown",
   "metadata": {},
   "source": [
    "## Import Libraries"
   ]
  },
  {
   "cell_type": "code",
   "execution_count": 2,
   "metadata": {},
   "outputs": [],
   "source": [
    "import os\n",
    "from os.path import exists\n",
    "os.environ['OMP_NUM_THREADS'] = '1'\n",
    "import glob\n",
    "import sys\n",
    "sys.path.append(os.path.join(os.getcwd(), *tuple(['..'])))\n",
    "import argparse\n",
    "import glob\n",
    "import json\n",
    "import pdb\n",
    "import numpy as np\n",
    "from skimage import draw\n",
    "import matplotlib.pyplot as plt\n",
    "import argparse\n",
    "import pyfiglet\n",
    "from skimage import measure\n",
    "from tqdm import tqdm\n",
    "from PIL import Image\n",
    "import pyvips as Vips\n",
    "from torchvision import transforms\n",
    "import torchvision\n",
    "import cv2\n",
    "from shapely.geometry import Polygon\n",
    "from shapely import box as shapely_box\n",
    "import pandas as pd\n",
    "from sklearn.metrics import confusion_matrix, ConfusionMatrixDisplay, precision_recall_fscore_support\n",
    "from torchvision import datasets, models, transforms\n",
    "from models.model_mrcnn_config import _default_mrcnn_config, build_default\n",
    "from features import build_features\n",
    "from models.generalized_mask_rcnn_pl import LitMaskRCNN\n",
    "from features import transforms as T\n",
    "import torch"
   ]
  },
  {
   "cell_type": "markdown",
   "metadata": {},
   "source": [
    "## Loading trained Mask RCNN model"
   ]
  },
  {
   "cell_type": "code",
   "execution_count": 3,
   "metadata": {},
   "outputs": [
    {
     "name": "stderr",
     "output_type": "stream",
     "text": [
      "/home/mahirwar/miniconda3/envs/kfold_amy_plaque1/lib/python3.9/site-packages/lightning/pytorch/utilities/parsing.py:198: Attribute 'backbone' is an instance of `nn.Module` and is already saved during checkpointing. It is recommended to ignore them using `self.save_hyperparameters(ignore=['backbone'])`.\n",
      "/home/mahirwar/miniconda3/envs/kfold_amy_plaque1/lib/python3.9/site-packages/lightning/pytorch/utilities/parsing.py:198: Attribute 'rpn' is an instance of `nn.Module` and is already saved during checkpointing. It is recommended to ignore them using `self.save_hyperparameters(ignore=['rpn'])`.\n",
      "/home/mahirwar/miniconda3/envs/kfold_amy_plaque1/lib/python3.9/site-packages/lightning/pytorch/utilities/parsing.py:198: Attribute 'roi_heads' is an instance of `nn.Module` and is already saved during checkpointing. It is recommended to ignore them using `self.save_hyperparameters(ignore=['roi_heads'])`.\n",
      "/home/mahirwar/miniconda3/envs/kfold_amy_plaque1/lib/python3.9/site-packages/lightning/pytorch/utilities/parsing.py:198: Attribute 'transform' is an instance of `nn.Module` and is already saved during checkpointing. It is recommended to ignore them using `self.save_hyperparameters(ignore=['transform'])`.\n"
     ]
    }
   ],
   "source": [
    "class_names = [\"Cored\",\"Diffuse\",\"Coarse-Grained\",\"CAA\"] # define classes\n",
    "test_config = dict(batch_size = 1,num_classes=4, device_id =0) # config\n",
    "model_name= \"/home/mahirwar/Desktop/Monika/npsad_data/vivek/runpod_mrcnn_models/yp2mf3i8_epoch=108-step=872.ckpt\"\n",
    "model_config = _default_mrcnn_config(num_classes=1 + test_config['num_classes']).config\n",
    "model = LitMaskRCNN.load_from_checkpoint(model_name)"
   ]
  },
  {
   "cell_type": "code",
   "execution_count": 4,
   "metadata": {},
   "outputs": [
    {
     "data": {
      "text/plain": [
       "LitMaskRCNN(\n",
       "  (backbone): BackboneWithFPN(\n",
       "    (body): IntermediateLayerGetter(\n",
       "      (conv1): Conv2d(3, 64, kernel_size=(7, 7), stride=(2, 2), padding=(3, 3), bias=False)\n",
       "      (bn1): FrozenBatchNorm2d(64, eps=1e-05)\n",
       "      (relu): ReLU(inplace=True)\n",
       "      (maxpool): MaxPool2d(kernel_size=3, stride=2, padding=1, dilation=1, ceil_mode=False)\n",
       "      (layer1): Sequential(\n",
       "        (0): Bottleneck(\n",
       "          (conv1): Conv2d(64, 64, kernel_size=(1, 1), stride=(1, 1), bias=False)\n",
       "          (bn1): FrozenBatchNorm2d(64, eps=1e-05)\n",
       "          (conv2): Conv2d(64, 64, kernel_size=(3, 3), stride=(1, 1), padding=(1, 1), bias=False)\n",
       "          (bn2): FrozenBatchNorm2d(64, eps=1e-05)\n",
       "          (conv3): Conv2d(64, 256, kernel_size=(1, 1), stride=(1, 1), bias=False)\n",
       "          (bn3): FrozenBatchNorm2d(256, eps=1e-05)\n",
       "          (relu): ReLU(inplace=True)\n",
       "          (downsample): Sequential(\n",
       "            (0): Conv2d(64, 256, kernel_size=(1, 1), stride=(1, 1), bias=False)\n",
       "            (1): FrozenBatchNorm2d(256, eps=1e-05)\n",
       "          )\n",
       "        )\n",
       "        (1): Bottleneck(\n",
       "          (conv1): Conv2d(256, 64, kernel_size=(1, 1), stride=(1, 1), bias=False)\n",
       "          (bn1): FrozenBatchNorm2d(64, eps=1e-05)\n",
       "          (conv2): Conv2d(64, 64, kernel_size=(3, 3), stride=(1, 1), padding=(1, 1), bias=False)\n",
       "          (bn2): FrozenBatchNorm2d(64, eps=1e-05)\n",
       "          (conv3): Conv2d(64, 256, kernel_size=(1, 1), stride=(1, 1), bias=False)\n",
       "          (bn3): FrozenBatchNorm2d(256, eps=1e-05)\n",
       "          (relu): ReLU(inplace=True)\n",
       "        )\n",
       "        (2): Bottleneck(\n",
       "          (conv1): Conv2d(256, 64, kernel_size=(1, 1), stride=(1, 1), bias=False)\n",
       "          (bn1): FrozenBatchNorm2d(64, eps=1e-05)\n",
       "          (conv2): Conv2d(64, 64, kernel_size=(3, 3), stride=(1, 1), padding=(1, 1), bias=False)\n",
       "          (bn2): FrozenBatchNorm2d(64, eps=1e-05)\n",
       "          (conv3): Conv2d(64, 256, kernel_size=(1, 1), stride=(1, 1), bias=False)\n",
       "          (bn3): FrozenBatchNorm2d(256, eps=1e-05)\n",
       "          (relu): ReLU(inplace=True)\n",
       "        )\n",
       "      )\n",
       "      (layer2): Sequential(\n",
       "        (0): Bottleneck(\n",
       "          (conv1): Conv2d(256, 128, kernel_size=(1, 1), stride=(1, 1), bias=False)\n",
       "          (bn1): FrozenBatchNorm2d(128, eps=1e-05)\n",
       "          (conv2): Conv2d(128, 128, kernel_size=(3, 3), stride=(2, 2), padding=(1, 1), bias=False)\n",
       "          (bn2): FrozenBatchNorm2d(128, eps=1e-05)\n",
       "          (conv3): Conv2d(128, 512, kernel_size=(1, 1), stride=(1, 1), bias=False)\n",
       "          (bn3): FrozenBatchNorm2d(512, eps=1e-05)\n",
       "          (relu): ReLU(inplace=True)\n",
       "          (downsample): Sequential(\n",
       "            (0): Conv2d(256, 512, kernel_size=(1, 1), stride=(2, 2), bias=False)\n",
       "            (1): FrozenBatchNorm2d(512, eps=1e-05)\n",
       "          )\n",
       "        )\n",
       "        (1): Bottleneck(\n",
       "          (conv1): Conv2d(512, 128, kernel_size=(1, 1), stride=(1, 1), bias=False)\n",
       "          (bn1): FrozenBatchNorm2d(128, eps=1e-05)\n",
       "          (conv2): Conv2d(128, 128, kernel_size=(3, 3), stride=(1, 1), padding=(1, 1), bias=False)\n",
       "          (bn2): FrozenBatchNorm2d(128, eps=1e-05)\n",
       "          (conv3): Conv2d(128, 512, kernel_size=(1, 1), stride=(1, 1), bias=False)\n",
       "          (bn3): FrozenBatchNorm2d(512, eps=1e-05)\n",
       "          (relu): ReLU(inplace=True)\n",
       "        )\n",
       "        (2): Bottleneck(\n",
       "          (conv1): Conv2d(512, 128, kernel_size=(1, 1), stride=(1, 1), bias=False)\n",
       "          (bn1): FrozenBatchNorm2d(128, eps=1e-05)\n",
       "          (conv2): Conv2d(128, 128, kernel_size=(3, 3), stride=(1, 1), padding=(1, 1), bias=False)\n",
       "          (bn2): FrozenBatchNorm2d(128, eps=1e-05)\n",
       "          (conv3): Conv2d(128, 512, kernel_size=(1, 1), stride=(1, 1), bias=False)\n",
       "          (bn3): FrozenBatchNorm2d(512, eps=1e-05)\n",
       "          (relu): ReLU(inplace=True)\n",
       "        )\n",
       "        (3): Bottleneck(\n",
       "          (conv1): Conv2d(512, 128, kernel_size=(1, 1), stride=(1, 1), bias=False)\n",
       "          (bn1): FrozenBatchNorm2d(128, eps=1e-05)\n",
       "          (conv2): Conv2d(128, 128, kernel_size=(3, 3), stride=(1, 1), padding=(1, 1), bias=False)\n",
       "          (bn2): FrozenBatchNorm2d(128, eps=1e-05)\n",
       "          (conv3): Conv2d(128, 512, kernel_size=(1, 1), stride=(1, 1), bias=False)\n",
       "          (bn3): FrozenBatchNorm2d(512, eps=1e-05)\n",
       "          (relu): ReLU(inplace=True)\n",
       "        )\n",
       "        (4): Bottleneck(\n",
       "          (conv1): Conv2d(512, 128, kernel_size=(1, 1), stride=(1, 1), bias=False)\n",
       "          (bn1): FrozenBatchNorm2d(128, eps=1e-05)\n",
       "          (conv2): Conv2d(128, 128, kernel_size=(3, 3), stride=(1, 1), padding=(1, 1), bias=False)\n",
       "          (bn2): FrozenBatchNorm2d(128, eps=1e-05)\n",
       "          (conv3): Conv2d(128, 512, kernel_size=(1, 1), stride=(1, 1), bias=False)\n",
       "          (bn3): FrozenBatchNorm2d(512, eps=1e-05)\n",
       "          (relu): ReLU(inplace=True)\n",
       "        )\n",
       "        (5): Bottleneck(\n",
       "          (conv1): Conv2d(512, 128, kernel_size=(1, 1), stride=(1, 1), bias=False)\n",
       "          (bn1): FrozenBatchNorm2d(128, eps=1e-05)\n",
       "          (conv2): Conv2d(128, 128, kernel_size=(3, 3), stride=(1, 1), padding=(1, 1), bias=False)\n",
       "          (bn2): FrozenBatchNorm2d(128, eps=1e-05)\n",
       "          (conv3): Conv2d(128, 512, kernel_size=(1, 1), stride=(1, 1), bias=False)\n",
       "          (bn3): FrozenBatchNorm2d(512, eps=1e-05)\n",
       "          (relu): ReLU(inplace=True)\n",
       "        )\n",
       "        (6): Bottleneck(\n",
       "          (conv1): Conv2d(512, 128, kernel_size=(1, 1), stride=(1, 1), bias=False)\n",
       "          (bn1): FrozenBatchNorm2d(128, eps=1e-05)\n",
       "          (conv2): Conv2d(128, 128, kernel_size=(3, 3), stride=(1, 1), padding=(1, 1), bias=False)\n",
       "          (bn2): FrozenBatchNorm2d(128, eps=1e-05)\n",
       "          (conv3): Conv2d(128, 512, kernel_size=(1, 1), stride=(1, 1), bias=False)\n",
       "          (bn3): FrozenBatchNorm2d(512, eps=1e-05)\n",
       "          (relu): ReLU(inplace=True)\n",
       "        )\n",
       "        (7): Bottleneck(\n",
       "          (conv1): Conv2d(512, 128, kernel_size=(1, 1), stride=(1, 1), bias=False)\n",
       "          (bn1): FrozenBatchNorm2d(128, eps=1e-05)\n",
       "          (conv2): Conv2d(128, 128, kernel_size=(3, 3), stride=(1, 1), padding=(1, 1), bias=False)\n",
       "          (bn2): FrozenBatchNorm2d(128, eps=1e-05)\n",
       "          (conv3): Conv2d(128, 512, kernel_size=(1, 1), stride=(1, 1), bias=False)\n",
       "          (bn3): FrozenBatchNorm2d(512, eps=1e-05)\n",
       "          (relu): ReLU(inplace=True)\n",
       "        )\n",
       "      )\n",
       "      (layer3): Sequential(\n",
       "        (0): Bottleneck(\n",
       "          (conv1): Conv2d(512, 256, kernel_size=(1, 1), stride=(1, 1), bias=False)\n",
       "          (bn1): FrozenBatchNorm2d(256, eps=1e-05)\n",
       "          (conv2): Conv2d(256, 256, kernel_size=(3, 3), stride=(2, 2), padding=(1, 1), bias=False)\n",
       "          (bn2): FrozenBatchNorm2d(256, eps=1e-05)\n",
       "          (conv3): Conv2d(256, 1024, kernel_size=(1, 1), stride=(1, 1), bias=False)\n",
       "          (bn3): FrozenBatchNorm2d(1024, eps=1e-05)\n",
       "          (relu): ReLU(inplace=True)\n",
       "          (downsample): Sequential(\n",
       "            (0): Conv2d(512, 1024, kernel_size=(1, 1), stride=(2, 2), bias=False)\n",
       "            (1): FrozenBatchNorm2d(1024, eps=1e-05)\n",
       "          )\n",
       "        )\n",
       "        (1): Bottleneck(\n",
       "          (conv1): Conv2d(1024, 256, kernel_size=(1, 1), stride=(1, 1), bias=False)\n",
       "          (bn1): FrozenBatchNorm2d(256, eps=1e-05)\n",
       "          (conv2): Conv2d(256, 256, kernel_size=(3, 3), stride=(1, 1), padding=(1, 1), bias=False)\n",
       "          (bn2): FrozenBatchNorm2d(256, eps=1e-05)\n",
       "          (conv3): Conv2d(256, 1024, kernel_size=(1, 1), stride=(1, 1), bias=False)\n",
       "          (bn3): FrozenBatchNorm2d(1024, eps=1e-05)\n",
       "          (relu): ReLU(inplace=True)\n",
       "        )\n",
       "        (2): Bottleneck(\n",
       "          (conv1): Conv2d(1024, 256, kernel_size=(1, 1), stride=(1, 1), bias=False)\n",
       "          (bn1): FrozenBatchNorm2d(256, eps=1e-05)\n",
       "          (conv2): Conv2d(256, 256, kernel_size=(3, 3), stride=(1, 1), padding=(1, 1), bias=False)\n",
       "          (bn2): FrozenBatchNorm2d(256, eps=1e-05)\n",
       "          (conv3): Conv2d(256, 1024, kernel_size=(1, 1), stride=(1, 1), bias=False)\n",
       "          (bn3): FrozenBatchNorm2d(1024, eps=1e-05)\n",
       "          (relu): ReLU(inplace=True)\n",
       "        )\n",
       "        (3): Bottleneck(\n",
       "          (conv1): Conv2d(1024, 256, kernel_size=(1, 1), stride=(1, 1), bias=False)\n",
       "          (bn1): FrozenBatchNorm2d(256, eps=1e-05)\n",
       "          (conv2): Conv2d(256, 256, kernel_size=(3, 3), stride=(1, 1), padding=(1, 1), bias=False)\n",
       "          (bn2): FrozenBatchNorm2d(256, eps=1e-05)\n",
       "          (conv3): Conv2d(256, 1024, kernel_size=(1, 1), stride=(1, 1), bias=False)\n",
       "          (bn3): FrozenBatchNorm2d(1024, eps=1e-05)\n",
       "          (relu): ReLU(inplace=True)\n",
       "        )\n",
       "        (4): Bottleneck(\n",
       "          (conv1): Conv2d(1024, 256, kernel_size=(1, 1), stride=(1, 1), bias=False)\n",
       "          (bn1): FrozenBatchNorm2d(256, eps=1e-05)\n",
       "          (conv2): Conv2d(256, 256, kernel_size=(3, 3), stride=(1, 1), padding=(1, 1), bias=False)\n",
       "          (bn2): FrozenBatchNorm2d(256, eps=1e-05)\n",
       "          (conv3): Conv2d(256, 1024, kernel_size=(1, 1), stride=(1, 1), bias=False)\n",
       "          (bn3): FrozenBatchNorm2d(1024, eps=1e-05)\n",
       "          (relu): ReLU(inplace=True)\n",
       "        )\n",
       "        (5): Bottleneck(\n",
       "          (conv1): Conv2d(1024, 256, kernel_size=(1, 1), stride=(1, 1), bias=False)\n",
       "          (bn1): FrozenBatchNorm2d(256, eps=1e-05)\n",
       "          (conv2): Conv2d(256, 256, kernel_size=(3, 3), stride=(1, 1), padding=(1, 1), bias=False)\n",
       "          (bn2): FrozenBatchNorm2d(256, eps=1e-05)\n",
       "          (conv3): Conv2d(256, 1024, kernel_size=(1, 1), stride=(1, 1), bias=False)\n",
       "          (bn3): FrozenBatchNorm2d(1024, eps=1e-05)\n",
       "          (relu): ReLU(inplace=True)\n",
       "        )\n",
       "        (6): Bottleneck(\n",
       "          (conv1): Conv2d(1024, 256, kernel_size=(1, 1), stride=(1, 1), bias=False)\n",
       "          (bn1): FrozenBatchNorm2d(256, eps=1e-05)\n",
       "          (conv2): Conv2d(256, 256, kernel_size=(3, 3), stride=(1, 1), padding=(1, 1), bias=False)\n",
       "          (bn2): FrozenBatchNorm2d(256, eps=1e-05)\n",
       "          (conv3): Conv2d(256, 1024, kernel_size=(1, 1), stride=(1, 1), bias=False)\n",
       "          (bn3): FrozenBatchNorm2d(1024, eps=1e-05)\n",
       "          (relu): ReLU(inplace=True)\n",
       "        )\n",
       "        (7): Bottleneck(\n",
       "          (conv1): Conv2d(1024, 256, kernel_size=(1, 1), stride=(1, 1), bias=False)\n",
       "          (bn1): FrozenBatchNorm2d(256, eps=1e-05)\n",
       "          (conv2): Conv2d(256, 256, kernel_size=(3, 3), stride=(1, 1), padding=(1, 1), bias=False)\n",
       "          (bn2): FrozenBatchNorm2d(256, eps=1e-05)\n",
       "          (conv3): Conv2d(256, 1024, kernel_size=(1, 1), stride=(1, 1), bias=False)\n",
       "          (bn3): FrozenBatchNorm2d(1024, eps=1e-05)\n",
       "          (relu): ReLU(inplace=True)\n",
       "        )\n",
       "        (8): Bottleneck(\n",
       "          (conv1): Conv2d(1024, 256, kernel_size=(1, 1), stride=(1, 1), bias=False)\n",
       "          (bn1): FrozenBatchNorm2d(256, eps=1e-05)\n",
       "          (conv2): Conv2d(256, 256, kernel_size=(3, 3), stride=(1, 1), padding=(1, 1), bias=False)\n",
       "          (bn2): FrozenBatchNorm2d(256, eps=1e-05)\n",
       "          (conv3): Conv2d(256, 1024, kernel_size=(1, 1), stride=(1, 1), bias=False)\n",
       "          (bn3): FrozenBatchNorm2d(1024, eps=1e-05)\n",
       "          (relu): ReLU(inplace=True)\n",
       "        )\n",
       "        (9): Bottleneck(\n",
       "          (conv1): Conv2d(1024, 256, kernel_size=(1, 1), stride=(1, 1), bias=False)\n",
       "          (bn1): FrozenBatchNorm2d(256, eps=1e-05)\n",
       "          (conv2): Conv2d(256, 256, kernel_size=(3, 3), stride=(1, 1), padding=(1, 1), bias=False)\n",
       "          (bn2): FrozenBatchNorm2d(256, eps=1e-05)\n",
       "          (conv3): Conv2d(256, 1024, kernel_size=(1, 1), stride=(1, 1), bias=False)\n",
       "          (bn3): FrozenBatchNorm2d(1024, eps=1e-05)\n",
       "          (relu): ReLU(inplace=True)\n",
       "        )\n",
       "        (10): Bottleneck(\n",
       "          (conv1): Conv2d(1024, 256, kernel_size=(1, 1), stride=(1, 1), bias=False)\n",
       "          (bn1): FrozenBatchNorm2d(256, eps=1e-05)\n",
       "          (conv2): Conv2d(256, 256, kernel_size=(3, 3), stride=(1, 1), padding=(1, 1), bias=False)\n",
       "          (bn2): FrozenBatchNorm2d(256, eps=1e-05)\n",
       "          (conv3): Conv2d(256, 1024, kernel_size=(1, 1), stride=(1, 1), bias=False)\n",
       "          (bn3): FrozenBatchNorm2d(1024, eps=1e-05)\n",
       "          (relu): ReLU(inplace=True)\n",
       "        )\n",
       "        (11): Bottleneck(\n",
       "          (conv1): Conv2d(1024, 256, kernel_size=(1, 1), stride=(1, 1), bias=False)\n",
       "          (bn1): FrozenBatchNorm2d(256, eps=1e-05)\n",
       "          (conv2): Conv2d(256, 256, kernel_size=(3, 3), stride=(1, 1), padding=(1, 1), bias=False)\n",
       "          (bn2): FrozenBatchNorm2d(256, eps=1e-05)\n",
       "          (conv3): Conv2d(256, 1024, kernel_size=(1, 1), stride=(1, 1), bias=False)\n",
       "          (bn3): FrozenBatchNorm2d(1024, eps=1e-05)\n",
       "          (relu): ReLU(inplace=True)\n",
       "        )\n",
       "        (12): Bottleneck(\n",
       "          (conv1): Conv2d(1024, 256, kernel_size=(1, 1), stride=(1, 1), bias=False)\n",
       "          (bn1): FrozenBatchNorm2d(256, eps=1e-05)\n",
       "          (conv2): Conv2d(256, 256, kernel_size=(3, 3), stride=(1, 1), padding=(1, 1), bias=False)\n",
       "          (bn2): FrozenBatchNorm2d(256, eps=1e-05)\n",
       "          (conv3): Conv2d(256, 1024, kernel_size=(1, 1), stride=(1, 1), bias=False)\n",
       "          (bn3): FrozenBatchNorm2d(1024, eps=1e-05)\n",
       "          (relu): ReLU(inplace=True)\n",
       "        )\n",
       "        (13): Bottleneck(\n",
       "          (conv1): Conv2d(1024, 256, kernel_size=(1, 1), stride=(1, 1), bias=False)\n",
       "          (bn1): FrozenBatchNorm2d(256, eps=1e-05)\n",
       "          (conv2): Conv2d(256, 256, kernel_size=(3, 3), stride=(1, 1), padding=(1, 1), bias=False)\n",
       "          (bn2): FrozenBatchNorm2d(256, eps=1e-05)\n",
       "          (conv3): Conv2d(256, 1024, kernel_size=(1, 1), stride=(1, 1), bias=False)\n",
       "          (bn3): FrozenBatchNorm2d(1024, eps=1e-05)\n",
       "          (relu): ReLU(inplace=True)\n",
       "        )\n",
       "        (14): Bottleneck(\n",
       "          (conv1): Conv2d(1024, 256, kernel_size=(1, 1), stride=(1, 1), bias=False)\n",
       "          (bn1): FrozenBatchNorm2d(256, eps=1e-05)\n",
       "          (conv2): Conv2d(256, 256, kernel_size=(3, 3), stride=(1, 1), padding=(1, 1), bias=False)\n",
       "          (bn2): FrozenBatchNorm2d(256, eps=1e-05)\n",
       "          (conv3): Conv2d(256, 1024, kernel_size=(1, 1), stride=(1, 1), bias=False)\n",
       "          (bn3): FrozenBatchNorm2d(1024, eps=1e-05)\n",
       "          (relu): ReLU(inplace=True)\n",
       "        )\n",
       "        (15): Bottleneck(\n",
       "          (conv1): Conv2d(1024, 256, kernel_size=(1, 1), stride=(1, 1), bias=False)\n",
       "          (bn1): FrozenBatchNorm2d(256, eps=1e-05)\n",
       "          (conv2): Conv2d(256, 256, kernel_size=(3, 3), stride=(1, 1), padding=(1, 1), bias=False)\n",
       "          (bn2): FrozenBatchNorm2d(256, eps=1e-05)\n",
       "          (conv3): Conv2d(256, 1024, kernel_size=(1, 1), stride=(1, 1), bias=False)\n",
       "          (bn3): FrozenBatchNorm2d(1024, eps=1e-05)\n",
       "          (relu): ReLU(inplace=True)\n",
       "        )\n",
       "        (16): Bottleneck(\n",
       "          (conv1): Conv2d(1024, 256, kernel_size=(1, 1), stride=(1, 1), bias=False)\n",
       "          (bn1): FrozenBatchNorm2d(256, eps=1e-05)\n",
       "          (conv2): Conv2d(256, 256, kernel_size=(3, 3), stride=(1, 1), padding=(1, 1), bias=False)\n",
       "          (bn2): FrozenBatchNorm2d(256, eps=1e-05)\n",
       "          (conv3): Conv2d(256, 1024, kernel_size=(1, 1), stride=(1, 1), bias=False)\n",
       "          (bn3): FrozenBatchNorm2d(1024, eps=1e-05)\n",
       "          (relu): ReLU(inplace=True)\n",
       "        )\n",
       "        (17): Bottleneck(\n",
       "          (conv1): Conv2d(1024, 256, kernel_size=(1, 1), stride=(1, 1), bias=False)\n",
       "          (bn1): FrozenBatchNorm2d(256, eps=1e-05)\n",
       "          (conv2): Conv2d(256, 256, kernel_size=(3, 3), stride=(1, 1), padding=(1, 1), bias=False)\n",
       "          (bn2): FrozenBatchNorm2d(256, eps=1e-05)\n",
       "          (conv3): Conv2d(256, 1024, kernel_size=(1, 1), stride=(1, 1), bias=False)\n",
       "          (bn3): FrozenBatchNorm2d(1024, eps=1e-05)\n",
       "          (relu): ReLU(inplace=True)\n",
       "        )\n",
       "        (18): Bottleneck(\n",
       "          (conv1): Conv2d(1024, 256, kernel_size=(1, 1), stride=(1, 1), bias=False)\n",
       "          (bn1): FrozenBatchNorm2d(256, eps=1e-05)\n",
       "          (conv2): Conv2d(256, 256, kernel_size=(3, 3), stride=(1, 1), padding=(1, 1), bias=False)\n",
       "          (bn2): FrozenBatchNorm2d(256, eps=1e-05)\n",
       "          (conv3): Conv2d(256, 1024, kernel_size=(1, 1), stride=(1, 1), bias=False)\n",
       "          (bn3): FrozenBatchNorm2d(1024, eps=1e-05)\n",
       "          (relu): ReLU(inplace=True)\n",
       "        )\n",
       "        (19): Bottleneck(\n",
       "          (conv1): Conv2d(1024, 256, kernel_size=(1, 1), stride=(1, 1), bias=False)\n",
       "          (bn1): FrozenBatchNorm2d(256, eps=1e-05)\n",
       "          (conv2): Conv2d(256, 256, kernel_size=(3, 3), stride=(1, 1), padding=(1, 1), bias=False)\n",
       "          (bn2): FrozenBatchNorm2d(256, eps=1e-05)\n",
       "          (conv3): Conv2d(256, 1024, kernel_size=(1, 1), stride=(1, 1), bias=False)\n",
       "          (bn3): FrozenBatchNorm2d(1024, eps=1e-05)\n",
       "          (relu): ReLU(inplace=True)\n",
       "        )\n",
       "        (20): Bottleneck(\n",
       "          (conv1): Conv2d(1024, 256, kernel_size=(1, 1), stride=(1, 1), bias=False)\n",
       "          (bn1): FrozenBatchNorm2d(256, eps=1e-05)\n",
       "          (conv2): Conv2d(256, 256, kernel_size=(3, 3), stride=(1, 1), padding=(1, 1), bias=False)\n",
       "          (bn2): FrozenBatchNorm2d(256, eps=1e-05)\n",
       "          (conv3): Conv2d(256, 1024, kernel_size=(1, 1), stride=(1, 1), bias=False)\n",
       "          (bn3): FrozenBatchNorm2d(1024, eps=1e-05)\n",
       "          (relu): ReLU(inplace=True)\n",
       "        )\n",
       "        (21): Bottleneck(\n",
       "          (conv1): Conv2d(1024, 256, kernel_size=(1, 1), stride=(1, 1), bias=False)\n",
       "          (bn1): FrozenBatchNorm2d(256, eps=1e-05)\n",
       "          (conv2): Conv2d(256, 256, kernel_size=(3, 3), stride=(1, 1), padding=(1, 1), bias=False)\n",
       "          (bn2): FrozenBatchNorm2d(256, eps=1e-05)\n",
       "          (conv3): Conv2d(256, 1024, kernel_size=(1, 1), stride=(1, 1), bias=False)\n",
       "          (bn3): FrozenBatchNorm2d(1024, eps=1e-05)\n",
       "          (relu): ReLU(inplace=True)\n",
       "        )\n",
       "        (22): Bottleneck(\n",
       "          (conv1): Conv2d(1024, 256, kernel_size=(1, 1), stride=(1, 1), bias=False)\n",
       "          (bn1): FrozenBatchNorm2d(256, eps=1e-05)\n",
       "          (conv2): Conv2d(256, 256, kernel_size=(3, 3), stride=(1, 1), padding=(1, 1), bias=False)\n",
       "          (bn2): FrozenBatchNorm2d(256, eps=1e-05)\n",
       "          (conv3): Conv2d(256, 1024, kernel_size=(1, 1), stride=(1, 1), bias=False)\n",
       "          (bn3): FrozenBatchNorm2d(1024, eps=1e-05)\n",
       "          (relu): ReLU(inplace=True)\n",
       "        )\n",
       "        (23): Bottleneck(\n",
       "          (conv1): Conv2d(1024, 256, kernel_size=(1, 1), stride=(1, 1), bias=False)\n",
       "          (bn1): FrozenBatchNorm2d(256, eps=1e-05)\n",
       "          (conv2): Conv2d(256, 256, kernel_size=(3, 3), stride=(1, 1), padding=(1, 1), bias=False)\n",
       "          (bn2): FrozenBatchNorm2d(256, eps=1e-05)\n",
       "          (conv3): Conv2d(256, 1024, kernel_size=(1, 1), stride=(1, 1), bias=False)\n",
       "          (bn3): FrozenBatchNorm2d(1024, eps=1e-05)\n",
       "          (relu): ReLU(inplace=True)\n",
       "        )\n",
       "        (24): Bottleneck(\n",
       "          (conv1): Conv2d(1024, 256, kernel_size=(1, 1), stride=(1, 1), bias=False)\n",
       "          (bn1): FrozenBatchNorm2d(256, eps=1e-05)\n",
       "          (conv2): Conv2d(256, 256, kernel_size=(3, 3), stride=(1, 1), padding=(1, 1), bias=False)\n",
       "          (bn2): FrozenBatchNorm2d(256, eps=1e-05)\n",
       "          (conv3): Conv2d(256, 1024, kernel_size=(1, 1), stride=(1, 1), bias=False)\n",
       "          (bn3): FrozenBatchNorm2d(1024, eps=1e-05)\n",
       "          (relu): ReLU(inplace=True)\n",
       "        )\n",
       "        (25): Bottleneck(\n",
       "          (conv1): Conv2d(1024, 256, kernel_size=(1, 1), stride=(1, 1), bias=False)\n",
       "          (bn1): FrozenBatchNorm2d(256, eps=1e-05)\n",
       "          (conv2): Conv2d(256, 256, kernel_size=(3, 3), stride=(1, 1), padding=(1, 1), bias=False)\n",
       "          (bn2): FrozenBatchNorm2d(256, eps=1e-05)\n",
       "          (conv3): Conv2d(256, 1024, kernel_size=(1, 1), stride=(1, 1), bias=False)\n",
       "          (bn3): FrozenBatchNorm2d(1024, eps=1e-05)\n",
       "          (relu): ReLU(inplace=True)\n",
       "        )\n",
       "        (26): Bottleneck(\n",
       "          (conv1): Conv2d(1024, 256, kernel_size=(1, 1), stride=(1, 1), bias=False)\n",
       "          (bn1): FrozenBatchNorm2d(256, eps=1e-05)\n",
       "          (conv2): Conv2d(256, 256, kernel_size=(3, 3), stride=(1, 1), padding=(1, 1), bias=False)\n",
       "          (bn2): FrozenBatchNorm2d(256, eps=1e-05)\n",
       "          (conv3): Conv2d(256, 1024, kernel_size=(1, 1), stride=(1, 1), bias=False)\n",
       "          (bn3): FrozenBatchNorm2d(1024, eps=1e-05)\n",
       "          (relu): ReLU(inplace=True)\n",
       "        )\n",
       "        (27): Bottleneck(\n",
       "          (conv1): Conv2d(1024, 256, kernel_size=(1, 1), stride=(1, 1), bias=False)\n",
       "          (bn1): FrozenBatchNorm2d(256, eps=1e-05)\n",
       "          (conv2): Conv2d(256, 256, kernel_size=(3, 3), stride=(1, 1), padding=(1, 1), bias=False)\n",
       "          (bn2): FrozenBatchNorm2d(256, eps=1e-05)\n",
       "          (conv3): Conv2d(256, 1024, kernel_size=(1, 1), stride=(1, 1), bias=False)\n",
       "          (bn3): FrozenBatchNorm2d(1024, eps=1e-05)\n",
       "          (relu): ReLU(inplace=True)\n",
       "        )\n",
       "        (28): Bottleneck(\n",
       "          (conv1): Conv2d(1024, 256, kernel_size=(1, 1), stride=(1, 1), bias=False)\n",
       "          (bn1): FrozenBatchNorm2d(256, eps=1e-05)\n",
       "          (conv2): Conv2d(256, 256, kernel_size=(3, 3), stride=(1, 1), padding=(1, 1), bias=False)\n",
       "          (bn2): FrozenBatchNorm2d(256, eps=1e-05)\n",
       "          (conv3): Conv2d(256, 1024, kernel_size=(1, 1), stride=(1, 1), bias=False)\n",
       "          (bn3): FrozenBatchNorm2d(1024, eps=1e-05)\n",
       "          (relu): ReLU(inplace=True)\n",
       "        )\n",
       "        (29): Bottleneck(\n",
       "          (conv1): Conv2d(1024, 256, kernel_size=(1, 1), stride=(1, 1), bias=False)\n",
       "          (bn1): FrozenBatchNorm2d(256, eps=1e-05)\n",
       "          (conv2): Conv2d(256, 256, kernel_size=(3, 3), stride=(1, 1), padding=(1, 1), bias=False)\n",
       "          (bn2): FrozenBatchNorm2d(256, eps=1e-05)\n",
       "          (conv3): Conv2d(256, 1024, kernel_size=(1, 1), stride=(1, 1), bias=False)\n",
       "          (bn3): FrozenBatchNorm2d(1024, eps=1e-05)\n",
       "          (relu): ReLU(inplace=True)\n",
       "        )\n",
       "        (30): Bottleneck(\n",
       "          (conv1): Conv2d(1024, 256, kernel_size=(1, 1), stride=(1, 1), bias=False)\n",
       "          (bn1): FrozenBatchNorm2d(256, eps=1e-05)\n",
       "          (conv2): Conv2d(256, 256, kernel_size=(3, 3), stride=(1, 1), padding=(1, 1), bias=False)\n",
       "          (bn2): FrozenBatchNorm2d(256, eps=1e-05)\n",
       "          (conv3): Conv2d(256, 1024, kernel_size=(1, 1), stride=(1, 1), bias=False)\n",
       "          (bn3): FrozenBatchNorm2d(1024, eps=1e-05)\n",
       "          (relu): ReLU(inplace=True)\n",
       "        )\n",
       "        (31): Bottleneck(\n",
       "          (conv1): Conv2d(1024, 256, kernel_size=(1, 1), stride=(1, 1), bias=False)\n",
       "          (bn1): FrozenBatchNorm2d(256, eps=1e-05)\n",
       "          (conv2): Conv2d(256, 256, kernel_size=(3, 3), stride=(1, 1), padding=(1, 1), bias=False)\n",
       "          (bn2): FrozenBatchNorm2d(256, eps=1e-05)\n",
       "          (conv3): Conv2d(256, 1024, kernel_size=(1, 1), stride=(1, 1), bias=False)\n",
       "          (bn3): FrozenBatchNorm2d(1024, eps=1e-05)\n",
       "          (relu): ReLU(inplace=True)\n",
       "        )\n",
       "        (32): Bottleneck(\n",
       "          (conv1): Conv2d(1024, 256, kernel_size=(1, 1), stride=(1, 1), bias=False)\n",
       "          (bn1): FrozenBatchNorm2d(256, eps=1e-05)\n",
       "          (conv2): Conv2d(256, 256, kernel_size=(3, 3), stride=(1, 1), padding=(1, 1), bias=False)\n",
       "          (bn2): FrozenBatchNorm2d(256, eps=1e-05)\n",
       "          (conv3): Conv2d(256, 1024, kernel_size=(1, 1), stride=(1, 1), bias=False)\n",
       "          (bn3): FrozenBatchNorm2d(1024, eps=1e-05)\n",
       "          (relu): ReLU(inplace=True)\n",
       "        )\n",
       "        (33): Bottleneck(\n",
       "          (conv1): Conv2d(1024, 256, kernel_size=(1, 1), stride=(1, 1), bias=False)\n",
       "          (bn1): FrozenBatchNorm2d(256, eps=1e-05)\n",
       "          (conv2): Conv2d(256, 256, kernel_size=(3, 3), stride=(1, 1), padding=(1, 1), bias=False)\n",
       "          (bn2): FrozenBatchNorm2d(256, eps=1e-05)\n",
       "          (conv3): Conv2d(256, 1024, kernel_size=(1, 1), stride=(1, 1), bias=False)\n",
       "          (bn3): FrozenBatchNorm2d(1024, eps=1e-05)\n",
       "          (relu): ReLU(inplace=True)\n",
       "        )\n",
       "        (34): Bottleneck(\n",
       "          (conv1): Conv2d(1024, 256, kernel_size=(1, 1), stride=(1, 1), bias=False)\n",
       "          (bn1): FrozenBatchNorm2d(256, eps=1e-05)\n",
       "          (conv2): Conv2d(256, 256, kernel_size=(3, 3), stride=(1, 1), padding=(1, 1), bias=False)\n",
       "          (bn2): FrozenBatchNorm2d(256, eps=1e-05)\n",
       "          (conv3): Conv2d(256, 1024, kernel_size=(1, 1), stride=(1, 1), bias=False)\n",
       "          (bn3): FrozenBatchNorm2d(1024, eps=1e-05)\n",
       "          (relu): ReLU(inplace=True)\n",
       "        )\n",
       "        (35): Bottleneck(\n",
       "          (conv1): Conv2d(1024, 256, kernel_size=(1, 1), stride=(1, 1), bias=False)\n",
       "          (bn1): FrozenBatchNorm2d(256, eps=1e-05)\n",
       "          (conv2): Conv2d(256, 256, kernel_size=(3, 3), stride=(1, 1), padding=(1, 1), bias=False)\n",
       "          (bn2): FrozenBatchNorm2d(256, eps=1e-05)\n",
       "          (conv3): Conv2d(256, 1024, kernel_size=(1, 1), stride=(1, 1), bias=False)\n",
       "          (bn3): FrozenBatchNorm2d(1024, eps=1e-05)\n",
       "          (relu): ReLU(inplace=True)\n",
       "        )\n",
       "      )\n",
       "      (layer4): Sequential(\n",
       "        (0): Bottleneck(\n",
       "          (conv1): Conv2d(1024, 512, kernel_size=(1, 1), stride=(1, 1), bias=False)\n",
       "          (bn1): FrozenBatchNorm2d(512, eps=1e-05)\n",
       "          (conv2): Conv2d(512, 512, kernel_size=(3, 3), stride=(2, 2), padding=(1, 1), bias=False)\n",
       "          (bn2): FrozenBatchNorm2d(512, eps=1e-05)\n",
       "          (conv3): Conv2d(512, 2048, kernel_size=(1, 1), stride=(1, 1), bias=False)\n",
       "          (bn3): FrozenBatchNorm2d(2048, eps=1e-05)\n",
       "          (relu): ReLU(inplace=True)\n",
       "          (downsample): Sequential(\n",
       "            (0): Conv2d(1024, 2048, kernel_size=(1, 1), stride=(2, 2), bias=False)\n",
       "            (1): FrozenBatchNorm2d(2048, eps=1e-05)\n",
       "          )\n",
       "        )\n",
       "        (1): Bottleneck(\n",
       "          (conv1): Conv2d(2048, 512, kernel_size=(1, 1), stride=(1, 1), bias=False)\n",
       "          (bn1): FrozenBatchNorm2d(512, eps=1e-05)\n",
       "          (conv2): Conv2d(512, 512, kernel_size=(3, 3), stride=(1, 1), padding=(1, 1), bias=False)\n",
       "          (bn2): FrozenBatchNorm2d(512, eps=1e-05)\n",
       "          (conv3): Conv2d(512, 2048, kernel_size=(1, 1), stride=(1, 1), bias=False)\n",
       "          (bn3): FrozenBatchNorm2d(2048, eps=1e-05)\n",
       "          (relu): ReLU(inplace=True)\n",
       "        )\n",
       "        (2): Bottleneck(\n",
       "          (conv1): Conv2d(2048, 512, kernel_size=(1, 1), stride=(1, 1), bias=False)\n",
       "          (bn1): FrozenBatchNorm2d(512, eps=1e-05)\n",
       "          (conv2): Conv2d(512, 512, kernel_size=(3, 3), stride=(1, 1), padding=(1, 1), bias=False)\n",
       "          (bn2): FrozenBatchNorm2d(512, eps=1e-05)\n",
       "          (conv3): Conv2d(512, 2048, kernel_size=(1, 1), stride=(1, 1), bias=False)\n",
       "          (bn3): FrozenBatchNorm2d(2048, eps=1e-05)\n",
       "          (relu): ReLU(inplace=True)\n",
       "        )\n",
       "      )\n",
       "    )\n",
       "    (fpn): FeaturePyramidNetwork(\n",
       "      (inner_blocks): ModuleList(\n",
       "        (0): Conv2dNormActivation(\n",
       "          (0): Conv2d(256, 256, kernel_size=(1, 1), stride=(1, 1))\n",
       "        )\n",
       "        (1): Conv2dNormActivation(\n",
       "          (0): Conv2d(512, 256, kernel_size=(1, 1), stride=(1, 1))\n",
       "        )\n",
       "        (2): Conv2dNormActivation(\n",
       "          (0): Conv2d(1024, 256, kernel_size=(1, 1), stride=(1, 1))\n",
       "        )\n",
       "        (3): Conv2dNormActivation(\n",
       "          (0): Conv2d(2048, 256, kernel_size=(1, 1), stride=(1, 1))\n",
       "        )\n",
       "      )\n",
       "      (layer_blocks): ModuleList(\n",
       "        (0-3): 4 x Conv2dNormActivation(\n",
       "          (0): Conv2d(256, 256, kernel_size=(3, 3), stride=(1, 1), padding=(1, 1))\n",
       "        )\n",
       "      )\n",
       "      (extra_blocks): LastLevelMaxPool()\n",
       "    )\n",
       "  )\n",
       "  (rpn): RegionProposalNetwork(\n",
       "    (anchor_generator): AnchorGenerator()\n",
       "    (head): RPNHead(\n",
       "      (conv): Sequential(\n",
       "        (0): Conv2dNormActivation(\n",
       "          (0): Conv2d(256, 256, kernel_size=(3, 3), stride=(1, 1), padding=(1, 1))\n",
       "          (1): ReLU(inplace=True)\n",
       "        )\n",
       "      )\n",
       "      (cls_logits): Conv2d(256, 3, kernel_size=(1, 1), stride=(1, 1))\n",
       "      (bbox_pred): Conv2d(256, 12, kernel_size=(1, 1), stride=(1, 1))\n",
       "    )\n",
       "  )\n",
       "  (roi_heads): RoIHeads(\n",
       "    (box_roi_pool): MultiScaleRoIAlign(featmap_names=['0', '1', '2', '3'], output_size=(7, 7), sampling_ratio=2)\n",
       "    (box_head): TwoMLPHead(\n",
       "      (fc6): Linear(in_features=12544, out_features=1024, bias=True)\n",
       "      (fc7): Linear(in_features=1024, out_features=1024, bias=True)\n",
       "    )\n",
       "    (box_predictor): FastRCNNPredictor(\n",
       "      (cls_score): Linear(in_features=1024, out_features=5, bias=True)\n",
       "      (bbox_pred): Linear(in_features=1024, out_features=20, bias=True)\n",
       "    )\n",
       "    (mask_roi_pool): MultiScaleRoIAlign(featmap_names=['0', '1', '2', '3'], output_size=(14, 14), sampling_ratio=2)\n",
       "    (mask_head): MaskRCNNHeads(\n",
       "      (0): Conv2dNormActivation(\n",
       "        (0): Conv2d(256, 256, kernel_size=(3, 3), stride=(1, 1), padding=(1, 1))\n",
       "        (1): ReLU(inplace=True)\n",
       "      )\n",
       "      (1): Conv2dNormActivation(\n",
       "        (0): Conv2d(256, 256, kernel_size=(3, 3), stride=(1, 1), padding=(1, 1))\n",
       "        (1): ReLU(inplace=True)\n",
       "      )\n",
       "      (2): Conv2dNormActivation(\n",
       "        (0): Conv2d(256, 256, kernel_size=(3, 3), stride=(1, 1), padding=(1, 1))\n",
       "        (1): ReLU(inplace=True)\n",
       "      )\n",
       "      (3): Conv2dNormActivation(\n",
       "        (0): Conv2d(256, 256, kernel_size=(3, 3), stride=(1, 1), padding=(1, 1))\n",
       "        (1): ReLU(inplace=True)\n",
       "      )\n",
       "    )\n",
       "    (mask_predictor): MaskRCNNPredictor(\n",
       "      (conv5_mask): ConvTranspose2d(256, 256, kernel_size=(2, 2), stride=(2, 2))\n",
       "      (relu): ReLU(inplace=True)\n",
       "      (mask_fcn_logits): Conv2d(256, 5, kernel_size=(1, 1), stride=(1, 1))\n",
       "    )\n",
       "  )\n",
       "  (transform): GeneralizedRCNNTransform(\n",
       "      Normalize(mean=[0.8931, 0.8297, 0.7361], std=[0.1311, 0.1732, 0.2597])\n",
       "      Resize(min_size=(1024,), max_size=1024, mode='bilinear')\n",
       "  )\n",
       ")"
      ]
     },
     "execution_count": 4,
     "metadata": {},
     "output_type": "execute_result"
    }
   ],
   "source": [
    "device = torch.device('cuda', test_config['device_id'])\n",
    "model = model.to(device)\n",
    "model.eval()"
   ]
  },
  {
   "cell_type": "markdown",
   "metadata": {},
   "source": [
    "## Helper functions"
   ]
  },
  {
   "cell_type": "code",
   "execution_count": 5,
   "metadata": {},
   "outputs": [],
   "source": [
    "ID_MASK_SHAPE = (1024, 1024)\n",
    "\n",
    "# Color Coding\n",
    "lablel2id = {'Cored':'50', 'Diffuse':'100',\n",
    "             'Coarse-Grained':'150', 'CAA': '200', 'Unknown':'0'}\n",
    "\n",
    "DATASET_PATH = \"/gladstone/finkbeiner/steve/work/data/npsad_data/vivek/interrater-study/Interrater_data\""
   ]
  },
  {
   "cell_type": "code",
   "execution_count": 6,
   "metadata": {},
   "outputs": [],
   "source": [
    "def save_img(img, file_name, tileX, tileY, label=\"mask\"):\n",
    "    \"\"\"\n",
    "    Saves an image to a specified directory, creating necessary subdirectories if they don't exist.\n",
    "    \n",
    "    The image is saved with a filename that includes the tile coordinates (tileX, tileY) and the provided label \n",
    "    (default is \"mask\"). The function ensures that a directory structure is created for the dataset and label \n",
    "    (e.g., \"mask\" or other labels) before saving the image.\n",
    "\n",
    "    Args:\n",
    "        img (numpy.ndarray): The image to be saved, in the form of a NumPy array.\n",
    "        file_name (str): The base name of the file (excluding extension) used to create the folder and file name.\n",
    "        tileX (int): The x-coordinate of the tile, which will be included in the saved filename.\n",
    "        tileY (int): The y-coordinate of the tile, which will be included in the saved filename.\n",
    "        label (str, optional): The label to categorize the image (e.g., \"mask\"). Default is \"mask\".\n",
    "    \n",
    "    Returns:\n",
    "        None: This function does not return any value. It performs a side effect of saving the image.\n",
    "    \"\"\"\n",
    "    # Convert the NumPy array to an Image object\n",
    "    im = Image.fromarray(img)\n",
    "\n",
    "    base_name_with_ext = os.path.basename(file_name)\n",
    "\n",
    "    # Remove the extension to get the folder name\n",
    "    folder_name = os.path.splitext(base_name_with_ext)[0]\n",
    "\n",
    "    folder_name = os.path.join(DATASET_PATH, folder_name)\n",
    "\n",
    "    # Create the new folder only if it does not exist\n",
    "    if not os.path.exists(folder_name):\n",
    "        os.makedirs(folder_name)\n",
    "    \n",
    "    # Mask Folder\n",
    "    save_dir = os.path.join(folder_name, label)\n",
    "    if not os.path.exists(save_dir):\n",
    "        os.makedirs(save_dir)\n",
    "\n",
    "    file_name = file_name + \"_\" + str(tileX) + \"x\" + \"_\" + str(tileY) + \"y\" + \"_\" + label + \".png\"\n",
    "    # Save the image to the specified directory\n",
    "    save_name = os.path.join(save_dir, file_name)\n",
    "    im.save(save_name)"
   ]
  },
  {
   "cell_type": "code",
   "execution_count": 7,
   "metadata": {},
   "outputs": [],
   "source": [
    "def polygon2id(image_shape, mask, ids, coords_x, coords_y):\n",
    "    \"\"\"\n",
    "    Converts polygon coordinates into an ID mask by filling the polygon area with the provided ID.\n",
    "\n",
    "    This function uses the `draw.polygon` function from the `skimage` library to draw a polygon on the mask. \n",
    "    The polygon's coordinates are provided as `coords_x` and `coords_y`, and the mask is filled with the given \n",
    "    ID at the corresponding positions.\n",
    "\n",
    "    Args:\n",
    "        image_shape (tuple): The shape of the image (height, width) to define the mask size.\n",
    "        mask (numpy.ndarray): The mask array to be updated with the polygon ID. The mask should have the same \n",
    "                              shape as the image.\n",
    "        ids (int): The ID to assign to the pixels inside the polygon.\n",
    "        coords_x (list or numpy.ndarray): The x-coordinates of the polygon's vertices.\n",
    "        coords_y (list or numpy.ndarray): The y-coordinates of the polygon's vertices.\n",
    "    \n",
    "    Returns:\n",
    "        numpy.ndarray: The updated mask with the polygon area filled with the given ID.\n",
    "    \"\"\"\n",
    "    vertex_row_coords, vertex_col_coords = coords_y, coords_x\n",
    "    fill_row_coords, fill_col_coords = draw.polygon(\n",
    "        vertex_row_coords, vertex_col_coords, image_shape)\n",
    "\n",
    "    # Row and col are flipped\n",
    "    mask[fill_col_coords, fill_row_coords] = ids\n",
    "    return mask\n",
    "\n",
    "def polygon2mask1(image_shape, mask, color, coords_x, coords_y):\n",
    "    \"\"\"Compute a mask with labels having different colors\n",
    "    from polygon.\n",
    "    Parameters\n",
    "    ----------\n",
    "    image_shape : tuple of size 2.\n",
    "        The shape of the mask.\n",
    "    coords_x: X coordinates\n",
    "    coords_y: Y coordinates\n",
    "    mask : Mask with same size of the image (initially empty\n",
    "    mask is given as input)\n",
    "    Returns\n",
    "    -------\n",
    "    mask : 2-D ndarray of type 'bool'.\n",
    "        The mask that corresponds to the input polygon.\n",
    "    \"\"\"\n",
    "\n",
    "    vertex_row_coords, vertex_col_coords = coords_x, coords_y\n",
    "    fill_row_coords, fill_col_coords = draw.polygon(vertex_row_coords, vertex_col_coords, image_shape)\n",
    "\n",
    "    # Row and col are flipped\n",
    "    mask[fill_col_coords, fill_row_coords] = color\n",
    "\n",
    "    # mask[fill_row_coords, fill_col_coords] = color\n",
    "    return mask\n",
    "\n",
    "def get_vips_info(vips_img):\n",
    "    # # Get bounds-x and bounds-y offset\n",
    "    vfields = [f.split('.') for f in vips_img.get_fields()]\n",
    "    vfields = [f for f in vfields if f[0] == 'openslide']\n",
    "    vfields = dict([('.'.join(k[1:]), vips_img.get('.'.join(k))) for k in vfields])\n",
    "    return vfields"
   ]
  },
  {
   "cell_type": "code",
   "execution_count": 8,
   "metadata": {},
   "outputs": [],
   "source": [
    "def prepare_input(image):\n",
    "    \"\"\"\n",
    "    Prepares an image for model input by normalizing and transforming it into a tensor.\n",
    "\n",
    "    Args:\n",
    "        image (PIL.Image or numpy.ndarray): The input image to be processed.\n",
    "\n",
    "    Returns:\n",
    "        tuple: A tuple containing:\n",
    "            - input_tensor (torch.Tensor): The processed image tensor ready for model input.\n",
    "            - image_float_np (numpy.ndarray): The normalized image as a float32 numpy array.\n",
    "    \"\"\"\n",
    "    image_float_np = np.float32(image) / 255\n",
    "    # define the torchvision image transforms\n",
    "    transform = torchvision.transforms.Compose([\n",
    "        torchvision.transforms.ToTensor(),\n",
    "        #transforms.Normalize([0.8883, 0.8769, 0.8431],[0.1425, 0.1589, 0.2029])\n",
    "    ])\n",
    "    input_tensor = transform(image)\n",
    "    device = torch.device('cuda' if torch.cuda.is_available() else 'cpu')\n",
    "    input_tensor = input_tensor.to(device)\n",
    "    # Add a batch dimension\n",
    "    input_tensor = input_tensor.unsqueeze(0)\n",
    "    return input_tensor, image_float_np"
   ]
  },
  {
   "cell_type": "code",
   "execution_count": 9,
   "metadata": {},
   "outputs": [],
   "source": [
    "def get_output(outputs, threshold ):\n",
    "    \"\"\"\n",
    "    Extracts and filters the predicted boxes, class IDs, scores, and masks from model outputs.\n",
    "\n",
    "    Args:\n",
    "        outputs (list): The model's output, typically from a detection model, containing boxes, labels, scores, and masks.\n",
    "        threshold (float): The score threshold to filter predictions.\n",
    "\n",
    "    Returns:\n",
    "        tuple: A tuple containing:\n",
    "            - pred_scores (numpy.ndarray): The filtered prediction scores.\n",
    "            - pred_class_ids (numpy.ndarray): The filtered predicted class IDs.\n",
    "            - pred_masks (numpy.ndarray): The filtered predicted masks.\n",
    "            - pred_boxes (numpy.ndarray): The filtered predicted bounding boxes.\n",
    "    \"\"\"\n",
    "    i =0 \n",
    "    pred_boxes =outputs[i][\"boxes\"].cpu().detach().numpy()\n",
    "    pred_class_ids = outputs[i][\"labels\"].cpu().detach().numpy()\n",
    "    pred_scores = outputs[i][\"scores\"].cpu().detach().numpy()\n",
    "    pred_masks = outputs[i][\"masks\"][pred_scores>=threshold]\n",
    "    pred_masks=pred_masks.squeeze(1).permute(2, 1, 0)\n",
    "    pred_masks = pred_masks.cpu().detach().numpy()\n",
    "    pred_boxes =pred_boxes[pred_scores>=threshold]\n",
    "    pred_class_ids = pred_class_ids[pred_scores>=threshold]\n",
    "    pred_scores = pred_scores[pred_scores>=threshold]\n",
    "    return pred_scores,pred_class_ids,pred_masks,pred_boxes"
   ]
  },
  {
   "cell_type": "code",
   "execution_count": 10,
   "metadata": {},
   "outputs": [],
   "source": [
    "def draw_boxes(boxes, image,gt_class, pred_class, rater_name):\n",
    "    \"\"\"\n",
    "    Draws a bounding box on the image with ground truth and predicted class labels.\n",
    "\n",
    "    Args:\n",
    "        boxes (tuple): Coordinates of the bounding box (x1, y1, x2, y2).\n",
    "        image (numpy.ndarray): The image on which to draw the bounding box.\n",
    "        gt_class (str): The ground truth class label.\n",
    "        pred_class (str): The predicted class label.\n",
    "        rater_name (str): The name of the rater.\n",
    "\n",
    "    Returns:\n",
    "        numpy.ndarray: The image with the drawn bounding box and class labels.\n",
    "    \"\"\"\n",
    "    cv2.rectangle(\n",
    "        image,\n",
    "        (int(boxes[0]), int(boxes[1])),\n",
    "        (int(boxes[2]), int(boxes[3])),\n",
    "        (0,0,0), 2\n",
    "    )\n",
    "    cv2.putText(image , \"gt:\"+gt_class+\"_\"+\"pred:\"+pred_class+\"_\"+rater_name, (int(boxes[0]), int(boxes[1])-20), cv2.FONT_HERSHEY_SIMPLEX, 0.5, (0, 0, 0), thickness=1, lineType=cv2.LINE_AA)\n",
    "    return image\n",
    "    "
   ]
  },
  {
   "cell_type": "code",
   "execution_count": 11,
   "metadata": {},
   "outputs": [],
   "source": [
    "def get_match(img, json_file_name, threshold =0.5):\n",
    "    \"\"\"\n",
    "    Process an image and its corresponding JSON annotations to compare ground truth labels with predicted labels.\n",
    "    \n",
    "    Args:\n",
    "        img (str): Path to the input image file.\n",
    "        json_file_name (str): Path to the JSON file containing annotations for the image.\n",
    "        threshold (float, optional): Threshold for classification score to consider as a match (default is 0.5).\n",
    "        \n",
    "    Returns:\n",
    "        tuple: A tuple containing actual labels, raters, predicted labels, and object names.\n",
    "    \"\"\"\n",
    "    vips_img = Vips.Image.new_from_file(img, level=0)\n",
    "    vinfo = get_vips_info(vips_img)\n",
    "\n",
    "    # Get the corresponding json file\n",
    "    json_file_name = os.path.basename(img).split(\".mrxs\")[0] + \".json\"\n",
    "    json_file_name = os.path.join(json_path, json_file_name)\n",
    "\n",
    "    # Load JSON data\n",
    "    with open(json_file_name) as f:\n",
    "        data = json.load(f)\n",
    "        \n",
    "    # Initialize lists for storing results\n",
    "    actual_labels= []   \n",
    "    raters = []\n",
    "    pred_labels = []\n",
    "    object_names = []\n",
    "    k=0\n",
    "    \n",
    "    for tileId, ele in data.items():\n",
    "        # print(\"****************\", tileId)\n",
    "        tileId = tileId.replace(\"[\", \"\")\n",
    "        tileId = tileId.replace(\"]\", \"\")\n",
    "        tileX = int(tileId.split(\",\")[0])\n",
    "        tileY = int(tileId.split(\",\")[1])\n",
    "        \n",
    "        tileWidth = 1024\n",
    "        tileHeight = 1024\n",
    "\n",
    "        # Calculate tile coordinates\n",
    "        tileX = (tileX * tileWidth) + int(vinfo['bounds-x'])\n",
    "        tileY = (tileY * tileHeight) + int(vinfo['bounds-y'])\n",
    "        \n",
    "        # Crop the image to the tile's coordinates    \n",
    "        vips_img_crop = vips_img.crop(tileX, tileY, tileWidth, tileHeight)\n",
    "        vips_img_crop = np.ndarray(buffer=vips_img_crop.write_to_memory(), dtype=np.uint8,\n",
    "                                    shape=(vips_img_crop.height, vips_img_crop.width, vips_img_crop.bands))[..., :3]\n",
    "\n",
    "        # Adjust tile boundaries for prediction\n",
    "        x1 = tileX - int(vinfo['bounds-x'])\n",
    "        x2 = tileX + tileWidth - int(vinfo['bounds-x'])\n",
    "        y1 = tileY - int(vinfo['bounds-y'])\n",
    "        y2 = tileY + tileHeight - int(vinfo['bounds-y'])\n",
    "        \n",
    "        # Prepare image input and get predictions\n",
    "        input_tensor, image_float_np = prepare_input(vips_img_crop)\n",
    "        outputs = model.forward(input_tensor)\n",
    "        pred_scores,pred_class_ids,pred_masks,pred_boxes=get_output(outputs,0.75)\n",
    "\n",
    "        # Convert predicted boxes to polygon coordinates\n",
    "        pred_boxes_cnt =  [np.int32(np.array([[box[0],box[1]],[box[0],box[3]],[box[2],box[3]],[box[2],box[1]]])) for box in pred_boxes]\n",
    "        \n",
    "        # Compare ground truth annotations with predicted boxes\n",
    "        for region in ele:\n",
    "            if 'label' in region.keys() and 'name' in region['label'].keys():\n",
    "                x_bound = region[\"region_attributes\"][0]['tiles'][0][\"tileBounds\"]['XY'][0]\n",
    "                y_bound = region[\"region_attributes\"][0]['tiles'][0][\"tileBounds\"]['XY'][1]\n",
    "                region_points = region[\"region_attributes\"][0][\"points\"]\n",
    "                region_points = [ [p[0]-x_bound, p[1]-y_bound] for p in region_points]\n",
    "                mean_reg = np.mean(region_points, axis=0)\n",
    "                for i, box in enumerate(pred_boxes_cnt):\n",
    "                    if len(region_points)<4:\n",
    "                        print(region_points)\n",
    "                    if len(region_points)>=4:\n",
    "                        polygon1 = Polygon(np.array(region_points,dtype=np.int32))\n",
    "                        polygon2 = Polygon(box)\n",
    "                            # Check for intersection\n",
    "                        if polygon1.intersects(polygon2): # check match based on polygon intersection\n",
    "                            actual_labels.append(region['label']['name'])\n",
    "                            raters.append(region[\"raterName\"])\n",
    "                            pred_labels.append(class_names[pred_class_ids[i]-1])\n",
    "                            if \"object_name\" in region.keys():\n",
    "                                object_names.append(region[\"object_name\"])\n",
    "                            else:\n",
    "                                object_names.append(None)\n",
    "                        \n",
    "                            if region['label']['name']!=class_names[pred_class_ids[i]-1]:\n",
    "                                k=k+1\n",
    "                                vips_img_crop1=vips_img_crop.copy()\n",
    "                                vips_img_crop1 = np.ascontiguousarray(vips_img_crop1, dtype=np.uint8)\n",
    "                                image = draw_boxes(pred_boxes[i], vips_img_crop1, region['label']['name'], class_names[pred_class_ids[i]-1], region[\"raterName\"])\n",
    "                                image1 = Image.fromarray(image)\n",
    "                                image1.save(\"/home/mahirwar/Desktop/Monika/npsad_data/vivek/model_analysis/test-interrater/\"+json_file_name.split(\"/\")[-1]+str(tileId)+\"_\"+str(k)+\".png\")\n",
    "    return actual_labels,raters,pred_labels,object_names\n"
   ]
  },
  {
   "cell_type": "markdown",
   "metadata": {},
   "source": [
    "## Load all raters annotations and match pred label with GT"
   ]
  },
  {
   "cell_type": "code",
   "execution_count": 12,
   "metadata": {},
   "outputs": [],
   "source": [
    "#json_path = \"/gladstone/finkbeiner/steve/work/data/npsad_data/vivek/interrater-study/test_jsons_all\"\n",
    "json_path = \"/gladstone/finkbeiner/steve/work/data/npsad_data/vivek/interrater-study/test_json_harry_max_brittany_osama\"\n",
    "json_files = glob.glob(os.path.join(json_path,\"*\"))\n",
    "json_files = [x.split(\"/\")[-1] for x in json_files]\n",
    "imgs = [os.path.join(DATASET_PATH,x.replace(\".json\",\".mrxs\")) for x in json_files]"
   ]
  },
  {
   "cell_type": "code",
   "execution_count": 26,
   "metadata": {},
   "outputs": [],
   "source": [
    "## generated previously\n",
    "all_objects = pd.read_csv(\"/gladstone/finkbeiner/steve/work/data/npsad_data/vivek/interrater-study/interrater_oct24/all_objects_full.csv\") "
   ]
  },
  {
   "cell_type": "code",
   "execution_count": 15,
   "metadata": {},
   "outputs": [],
   "source": [
    "# get match for all json files and images for all raters\n",
    "actual_labels_all= []\n",
    "raters_all = []\n",
    "pred_labels_all = []\n",
    "object_name_all= []\n",
    "imgs_all = []\n",
    "\n",
    "for img, json_file_name in zip(imgs,json_files):\n",
    "    actual_labels,raters,pred_labels, object_names= get_match(img, json_file_name,0.73)\n",
    "    actual_labels_all.extend(actual_labels)\n",
    "    raters_all.extend(raters)\n",
    "    pred_labels_all.extend(pred_labels)\n",
    "    object_name_all.extend(object_names)\n",
    "    imgs_all.extend([img.split(\"/\")[-1]]*len(actual_labels))\n",
    "    \n",
    "# create a complete dataframe of all pred, actual labels, rater names, object and image names \n",
    "df = pd.DataFrame({\"pred_labels\":pred_labels_all,\"actual_label\":actual_labels_all, \"rater_name\":raters_all,\"object_names\":object_name_all,\"img_name\":imgs_all})"
   ]
  },
  {
   "cell_type": "code",
   "execution_count": 20,
   "metadata": {},
   "outputs": [
    {
     "data": {
      "text/plain": [
       "array(['Max', 'Harry', 'Brittany', 'Osama'], dtype=object)"
      ]
     },
     "execution_count": 20,
     "metadata": {},
     "output_type": "execute_result"
    }
   ],
   "source": [
    "df[\"rater_name\"].unique()"
   ]
  },
  {
   "cell_type": "code",
   "execution_count": 21,
   "metadata": {},
   "outputs": [
    {
     "data": {
      "text/plain": [
       "460"
      ]
     },
     "execution_count": 21,
     "metadata": {},
     "output_type": "execute_result"
    }
   ],
   "source": [
    "len(df)"
   ]
  },
  {
   "cell_type": "markdown",
   "metadata": {},
   "source": [
    "## Get label wise consensus"
   ]
  },
  {
   "cell_type": "code",
   "execution_count": 30,
   "metadata": {},
   "outputs": [],
   "source": [
    "def get_consensus(l, column_class):\n",
    "    \"\"\"\n",
    "    Computes a consensus score by evaluating the uniqueness of the classes \n",
    "    in the specified columns of a list.\n",
    "\n",
    "    Args:\n",
    "        l (list): A list of lists or objects from which classes are extracted.\n",
    "        column_class (list): A list of column indices or keys specifying which elements in `l` to evaluate.\n",
    "\n",
    "    Returns:\n",
    "        int: The consensus score, which is the difference between the length of the class list \n",
    "             and the number of unique classes, incremented by 1.\n",
    "    \"\"\"\n",
    "    # Extract classes from the specified columns in the list 'l'\n",
    "    clss = [l[x] for x in column_class]\n",
    "    \n",
    "    # Filter out any entries that are 'None' or 'None' as strings\n",
    "    clss = [x for x in clss if x != \"None\" and x is not None]\n",
    "    \n",
    "    # Return the consensus score: len(classes) + 1 - unique classes count\n",
    "    return len(clss) + 1 - len(np.unique(clss))"
   ]
  },
  {
   "cell_type": "code",
   "execution_count": 31,
   "metadata": {},
   "outputs": [],
   "source": [
    "def map_consensus_class(l, class_name, column_class):\n",
    "    \"\"\"\n",
    "    Maps a consensus class value based on the occurrence of a specified class in the list.\n",
    "    \n",
    "    Args:\n",
    "        l (list): A list or dictionary containing data to be evaluated.\n",
    "        class_name (str): The class name to be checked in the specified columns.\n",
    "        column_class (list): A list of column indices or keys specifying which elements in `l` to evaluate.\n",
    "        \n",
    "    Returns:\n",
    "        int: Returns 1 if the consensus value matches the number of occurrences of `class_name`, otherwise 0.\n",
    "    \"\"\"\n",
    "    # Extract the specified classes from the list 'l'\n",
    "    clss = [l[x] for x in column_class]\n",
    "    \n",
    "    # Filter the classes that match the specified 'class_name'\n",
    "    clss = [x for x in clss if x == class_name]\n",
    "    \n",
    "    # Compare the consensus value with the count of the specified class\n",
    "    if l[\"consensus\"] == len(clss):\n",
    "        return 1\n",
    "    \n",
    "    # Return 0 if they don't match\n",
    "    return 0"
   ]
  },
  {
   "cell_type": "code",
   "execution_count": 29,
   "metadata": {},
   "outputs": [
    {
     "data": {
      "text/plain": [
       "['Max_class', 'Harry_class', 'Brittany_class', 'Osama_class']"
      ]
     },
     "execution_count": 29,
     "metadata": {},
     "output_type": "execute_result"
    }
   ],
   "source": [
    "# columns to use for matching labels\n",
    "column_class =  [x+\"_class\" for x in df[\"rater_name\"].unique()]\n",
    "column_class"
   ]
  },
  {
   "cell_type": "code",
   "execution_count": 39,
   "metadata": {},
   "outputs": [
    {
     "data": {
      "text/plain": [
       "3    233\n",
       "2     70\n",
       "4     51\n",
       "1      5\n",
       "Name: consensus, dtype: int64"
      ]
     },
     "execution_count": 39,
     "metadata": {},
     "output_type": "execute_result"
    }
   ],
   "source": [
    "# get consensus of objects across raters\n",
    "all_objects[\"consensus\"] = all_objects.apply(lambda l: get_consensus(l, column_class), axis=1)\n",
    "all_objects[\"consensus\"].value_counts()"
   ]
  },
  {
   "cell_type": "code",
   "execution_count": 40,
   "metadata": {},
   "outputs": [],
   "source": [
    "# create class wise consensus for all objects\n",
    "all_objects[\"Cored_consensus\"] = all_objects.apply(lambda l: map_consensus_class(l,\"Cored\", column_class), axis=1)\n",
    "all_objects[\"Coarse_grained_consensus\"] =all_objects.apply(lambda l: map_consensus_class(l,\"Coarse-Grained\", column_class), axis=1)\n",
    "all_objects[\"Diffuse_consensus\"] =all_objects.apply(lambda l: map_consensus_class(l,\"Diffuse\", column_class), axis=1)"
   ]
  },
  {
   "cell_type": "markdown",
   "metadata": {},
   "source": [
    "### Core class consensus"
   ]
  },
  {
   "cell_type": "code",
   "execution_count": 78,
   "metadata": {},
   "outputs": [
    {
     "data": {
      "text/plain": [
       "3    0.461538\n",
       "4    0.282051\n",
       "2    0.128205\n",
       "1    0.128205\n",
       "Name: consensus, dtype: float64"
      ]
     },
     "execution_count": 78,
     "metadata": {},
     "output_type": "execute_result"
    }
   ],
   "source": [
    "# Consenus values are 1,2,3,4. 4 means all agree, 3 means 3 of them agree ; with their ratios for Cored class\n",
    "all_objects[all_objects[\"Cored_consensus\"]==1][\"consensus\"].value_counts()/len(all_objects[all_objects[\"Cored_consensus\"]==1])"
   ]
  },
  {
   "cell_type": "code",
   "execution_count": 81,
   "metadata": {},
   "outputs": [
    {
     "data": {
      "text/plain": [
       "39"
      ]
     },
     "execution_count": 81,
     "metadata": {},
     "output_type": "execute_result"
    }
   ],
   "source": [
    "len(all_objects[all_objects[\"Cored_consensus\"]==1])"
   ]
  },
  {
   "cell_type": "markdown",
   "metadata": {},
   "source": [
    "### Diffuse class consensus"
   ]
  },
  {
   "cell_type": "code",
   "execution_count": 79,
   "metadata": {},
   "outputs": [
    {
     "data": {
      "text/plain": [
       "3    0.448718\n",
       "4    0.333333\n",
       "2    0.153846\n",
       "1    0.064103\n",
       "Name: consensus, dtype: float64"
      ]
     },
     "execution_count": 79,
     "metadata": {},
     "output_type": "execute_result"
    }
   ],
   "source": [
    "# Consenus values are 1,2,3,4. 4 means all agree, 3 means 3 of them agree ; with their ratios for Diffuse Class\n",
    "all_objects[all_objects[\"Diffuse_consensus\"]==1][\"consensus\"].value_counts()/len(all_objects[all_objects[\"Diffuse_consensus\"]==1])"
   ]
  },
  {
   "cell_type": "code",
   "execution_count": 82,
   "metadata": {},
   "outputs": [
    {
     "data": {
      "text/plain": [
       "78"
      ]
     },
     "execution_count": 82,
     "metadata": {},
     "output_type": "execute_result"
    }
   ],
   "source": [
    "len(all_objects[all_objects[\"Diffuse_consensus\"]==1])"
   ]
  },
  {
   "cell_type": "markdown",
   "metadata": {},
   "source": [
    "### Coarse-Grained class consensus"
   ]
  },
  {
   "cell_type": "code",
   "execution_count": 80,
   "metadata": {},
   "outputs": [
    {
     "data": {
      "text/plain": [
       "2    0.510204\n",
       "3    0.244898\n",
       "4    0.163265\n",
       "1    0.081633\n",
       "Name: consensus, dtype: float64"
      ]
     },
     "execution_count": 80,
     "metadata": {},
     "output_type": "execute_result"
    }
   ],
   "source": [
    "# Consenus values are 1,2,3,4. 4 means all agree, 3 means 3 of them agree ; with their ratios for Coarse Grained class\n",
    "all_objects[all_objects[\"Coarse_grained_consensus\"]==1][\"consensus\"].value_counts()/len(all_objects[all_objects[\"Coarse_grained_consensus\"]==1])"
   ]
  },
  {
   "cell_type": "code",
   "execution_count": 84,
   "metadata": {},
   "outputs": [
    {
     "data": {
      "text/plain": [
       "49"
      ]
     },
     "execution_count": 84,
     "metadata": {},
     "output_type": "execute_result"
    }
   ],
   "source": [
    "len(all_objects[all_objects[\"Coarse_grained_consensus\"]==1])"
   ]
  },
  {
   "cell_type": "code",
   "execution_count": 85,
   "metadata": {},
   "outputs": [],
   "source": [
    "# save consensus dataset\n",
    "all_objects.to_csv(\"/gladstone/finkbeiner/steve/work/data/npsad_data/vivek/interrater-study/interrater_oct24/all_objects_consensus.csv\")"
   ]
  },
  {
   "cell_type": "code",
   "execution_count": 45,
   "metadata": {},
   "outputs": [
    {
     "data": {
      "text/plain": [
       "Max_class       Harry_class     Cored_consensus\n",
       "Coarse-Grained  Coarse-Grained  0                  60\n",
       "                Cored           1                   3\n",
       "                Diffuse         0                  22\n",
       "                Neuritic        0                   2\n",
       "                None            0                  16\n",
       "                                1                   1\n",
       "Cored           Coarse-Grained  0                   8\n",
       "                                1                   7\n",
       "                Cored           0                   5\n",
       "                                1                  26\n",
       "                Diffuse         0                   5\n",
       "                Neuritic        0                   1\n",
       "                                1                   1\n",
       "                None            0                   4\n",
       "                                1                   1\n",
       "Diffuse         Coarse-Grained  0                  14\n",
       "                Diffuse         0                  71\n",
       "                None            0                  10\n",
       "None            Coarse-Grained  0                  38\n",
       "                Cored           0                   1\n",
       "                Diffuse         0                  56\n",
       "                None            0                   7\n",
       "Name: Cored_consensus, dtype: int64"
      ]
     },
     "execution_count": 45,
     "metadata": {},
     "output_type": "execute_result"
    }
   ],
   "source": [
    "all_objects.groupby([\"Max_class\",\"Harry_class\",\"Cored_consensus\"])[\"Cored_consensus\"].count()"
   ]
  },
  {
   "cell_type": "code",
   "execution_count": 93,
   "metadata": {},
   "outputs": [],
   "source": [
    "## >=3 is used - majority of pathologists agrees\n",
    "consensus_objects = all_objects[all_objects[\"consensus\"]>=3]"
   ]
  },
  {
   "cell_type": "markdown",
   "metadata": {},
   "source": [
    "## Compute model performance metric wrt NP"
   ]
  },
  {
   "cell_type": "code",
   "execution_count": 96,
   "metadata": {},
   "outputs": [],
   "source": [
    "## create flag if any of the objects are in consensus>=3\n",
    "df[\"flag\"] = df.apply(lambda l: 1 if (l[\"rater_name\"]==\"Max\" and l[\"object_names\"] in consensus_objects[\"Max_object_name\"].values) or  \n",
    "                      (l[\"rater_name\"]==\"Brittany\" and l[\"object_names\"] in consensus_objects[\"Brittany_object_name\"].values) or  \n",
    "                      (l[\"rater_name\"]==\"Harry\" and l[\"object_names\"] in consensus_objects[\"Harry_object_name\"].values) or  \n",
    "                      (l[\"rater_name\"]==\"Osama\" and l[\"object_names\"] in consensus_objects[\"Osama_object_name\"].values) else 0, axis=1)"
   ]
  },
  {
   "cell_type": "code",
   "execution_count": 280,
   "metadata": {},
   "outputs": [],
   "source": [
    "# not used\n",
    "df[\"actual_label1\"] =  np.where(df[\"actual_label\"]==\"Neuritic\",\"Coarse-Grained\",df[\"actual_label\"]) ## Neuritic should be counted as Coarse-Grained as per pathologist"
   ]
  },
  {
   "cell_type": "code",
   "execution_count": 276,
   "metadata": {},
   "outputs": [
    {
     "data": {
      "text/html": [
       "<div>\n",
       "<style scoped>\n",
       "    .dataframe tbody tr th:only-of-type {\n",
       "        vertical-align: middle;\n",
       "    }\n",
       "\n",
       "    .dataframe tbody tr th {\n",
       "        vertical-align: top;\n",
       "    }\n",
       "\n",
       "    .dataframe thead th {\n",
       "        text-align: right;\n",
       "    }\n",
       "</style>\n",
       "<table border=\"1\" class=\"dataframe\">\n",
       "  <thead>\n",
       "    <tr style=\"text-align: right;\">\n",
       "      <th></th>\n",
       "      <th>pred_labels</th>\n",
       "      <th>actual_label</th>\n",
       "      <th>rater_name</th>\n",
       "      <th>object_names</th>\n",
       "      <th>img_name</th>\n",
       "      <th>flag</th>\n",
       "      <th>actual_label1</th>\n",
       "    </tr>\n",
       "  </thead>\n",
       "  <tbody>\n",
       "    <tr>\n",
       "      <th>0</th>\n",
       "      <td>Diffuse</td>\n",
       "      <td>Diffuse</td>\n",
       "      <td>Max</td>\n",
       "      <td>5:Diffuse</td>\n",
       "      <td>420418_6_AmyB_1_ceren.mrxs</td>\n",
       "      <td>0</td>\n",
       "      <td>Diffuse</td>\n",
       "    </tr>\n",
       "    <tr>\n",
       "      <th>1</th>\n",
       "      <td>Diffuse</td>\n",
       "      <td>Coarse-Grained</td>\n",
       "      <td>Max</td>\n",
       "      <td>6:Coarse-Grained</td>\n",
       "      <td>420418_6_AmyB_1_ceren.mrxs</td>\n",
       "      <td>0</td>\n",
       "      <td>Coarse-Grained</td>\n",
       "    </tr>\n",
       "  </tbody>\n",
       "</table>\n",
       "</div>"
      ],
      "text/plain": [
       "  pred_labels    actual_label rater_name      object_names  \\\n",
       "0     Diffuse         Diffuse        Max         5:Diffuse   \n",
       "1     Diffuse  Coarse-Grained        Max  6:Coarse-Grained   \n",
       "\n",
       "                     img_name  flag   actual_label1  \n",
       "0  420418_6_AmyB_1_ceren.mrxs     0         Diffuse  \n",
       "1  420418_6_AmyB_1_ceren.mrxs     0  Coarse-Grained  "
      ]
     },
     "execution_count": 276,
     "metadata": {},
     "output_type": "execute_result"
    }
   ],
   "source": [
    "df.head(2)"
   ]
  },
  {
   "cell_type": "markdown",
   "metadata": {},
   "source": [
    "### Accuracy Values of each rater's annotations against model predictions"
   ]
  },
  {
   "cell_type": "code",
   "execution_count": 98,
   "metadata": {},
   "outputs": [],
   "source": [
    "raters = df[\"rater_name\"].unique()"
   ]
  },
  {
   "cell_type": "code",
   "execution_count": 99,
   "metadata": {},
   "outputs": [
    {
     "name": "stdout",
     "output_type": "stream",
     "text": [
      "Rater Max\n",
      "[[ 0  0  0  0]\n",
      " [ 0 15  2 23]\n",
      " [ 1  8  7  9]\n",
      " [ 0  0  0 55]]\n",
      "0.6416666666666667\n",
      "Rater Harry\n",
      "[[ 0  0  0  0  0]\n",
      " [ 0 22  2 24  0]\n",
      " [ 2  3  7  6  0]\n",
      " [ 0  1  0 83  0]\n",
      " [ 0  3  0  0  0]]\n",
      "0.7320261437908496\n",
      "Rater Brittany\n",
      "[[ 0  0  0  0]\n",
      " [ 0  8  3  2]\n",
      " [ 2  4  5  3]\n",
      " [ 0  8  0 55]]\n",
      "0.7555555555555555\n",
      "Rater Osama\n",
      "[[ 0  0  0  0]\n",
      " [ 0 12  4  2]\n",
      " [ 1  3  4  0]\n",
      " [ 0  7  1 63]]\n",
      "0.8144329896907216\n"
     ]
    }
   ],
   "source": [
    "# Compute accuracy of each rater's annotations against model predictions\n",
    "for rater in raters:\n",
    "    df_max= df[(df[\"rater_name\"]==rater) ]\n",
    "    print(\"Rater\", rater)\n",
    "    conf_mat = confusion_matrix(df_max[\"actual_label\"],df_max[\"pred_labels\"])\n",
    "    print(conf_mat)\n",
    "    print(np.trace(conf_mat)/np.sum(conf_mat))"
   ]
  },
  {
   "cell_type": "markdown",
   "metadata": {},
   "source": [
    "### Consensus accuracy - Taking consensus of all raters against model predictions"
   ]
  },
  {
   "cell_type": "code",
   "execution_count": 100,
   "metadata": {},
   "outputs": [
    {
     "name": "stdout",
     "output_type": "stream",
     "text": [
      "[[  0   0   0   0]\n",
      " [  0  47   9  37]\n",
      " [  6  16  20  16]\n",
      " [  0  14   1 253]]\n",
      "0.7637231503579952\n"
     ]
    },
    {
     "data": {
      "image/png": "[encoded data removed]",
      "text/plain": [
       "<Figure size 640x480 with 2 Axes>"
      ]
     },
     "metadata": {},
     "output_type": "display_data"
    }
   ],
   "source": [
    "## get consensus accuracy (atleast 3of 4 raters agree) by setting flag as 1\n",
    "df_common = df[df[\"flag\"]==1]\n",
    "conf_mat = confusion_matrix(df_common[\"actual_label\"],df_common[\"pred_labels\"] )\n",
    "print(conf_mat)\n",
    "disp = ConfusionMatrixDisplay(confusion_matrix=conf_mat,\n",
    "                            display_labels=[ 'CAA','Coarse-Grained', 'Cored','Diffuse'])\n",
    "disp.plot()\n",
    "print(np.trace(conf_mat)/np.sum(conf_mat))"
   ]
  },
  {
   "cell_type": "markdown",
   "metadata": {},
   "source": [
    "### Precision, Recall, F1-score values"
   ]
  },
  {
   "cell_type": "code",
   "execution_count": 101,
   "metadata": {},
   "outputs": [
    {
     "name": "stdout",
     "output_type": "stream",
     "text": [
      "[[  0   0   0   0]\n",
      " [  0  47   9  37]\n",
      " [  6  16  20  16]\n",
      " [  0  14   1 253]]\n",
      "[0.         0.61038961 0.66666667 0.82679739] [0.         0.50537634 0.34482759 0.94402985] [0.         0.55294118 0.45454545 0.8815331 ] [  0  93  58 268]\n",
      "0.7637231503579952\n"
     ]
    },
    {
     "name": "stderr",
     "output_type": "stream",
     "text": [
      "/home/mahirwar/miniconda3/envs/kfold_amy_plaque1/lib/python3.9/site-packages/sklearn/metrics/_classification.py:1318: UndefinedMetricWarning: Recall and F-score are ill-defined and being set to 0.0 in labels with no true samples. Use `zero_division` parameter to control this behavior.\n",
      "  _warn_prf(average, modifier, msg_start, len(result))\n"
     ]
    },
    {
     "data": {
      "image/png": "[encoded data removed]",
      "text/plain": [
       "<Figure size 640x480 with 2 Axes>"
      ]
     },
     "metadata": {},
     "output_type": "display_data"
    }
   ],
   "source": [
    "df_common = df[df[\"flag\"]==1]\n",
    "conf_mat = confusion_matrix(df_common[\"actual_label\"],df_common[\"pred_labels\"] )\n",
    "print(conf_mat)\n",
    "disp = ConfusionMatrixDisplay(confusion_matrix=conf_mat,\n",
    "                            display_labels=[ 'CAA','Coarse-Grained', 'Cored','Diffuse'])\n",
    "\n",
    "precision, recall, fscore, support = precision_recall_fscore_support(df_common[\"actual_label\"],df_common[\"pred_labels\"])\n",
    "print(precision, recall, fscore, support)\n",
    "disp.plot()\n",
    "print(np.trace(conf_mat)/np.sum(conf_mat))"
   ]
  }
 ],
 "metadata": {
  "kernelspec": {
   "display_name": "kfold_amy_plaque1",
   "language": "python",
   "name": "python3"
  },
  "language_info": {
   "codemirror_mode": {
    "name": "ipython",
    "version": 3
   },
   "file_extension": ".py",
   "mimetype": "text/x-python",
   "name": "python",
   "nbconvert_exporter": "python",
   "pygments_lexer": "ipython3",
   "version": "3.9.7"
  }
 },
 "nbformat": 4,
 "nbformat_minor": 2
}
