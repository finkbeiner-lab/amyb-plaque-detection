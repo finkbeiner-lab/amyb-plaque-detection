{
 "cells": [
  {
   "cell_type": "code",
   "execution_count": 38,
   "metadata": {},
   "outputs": [],
   "source": [
    "import os\n",
    "import pandas as pd\n",
    "from glob import glob\n",
    "import numpy as np"
   ]
  },
  {
   "cell_type": "code",
   "execution_count": 2,
   "metadata": {},
   "outputs": [],
   "source": [
    "data_dir = glob(os.path.join(\"/gladstone/finkbeiner/steve/work/data/npsad_data/vivek/Datasets/Full-Minerva-Data/AmyB-MFG\",\"*.mrxs\"))"
   ]
  },
  {
   "cell_type": "code",
   "execution_count": 4,
   "metadata": {},
   "outputs": [
    {
     "data": {
      "text/plain": [
       "324"
      ]
     },
     "execution_count": 4,
     "metadata": {},
     "output_type": "execute_result"
    }
   ],
   "source": [
    "len(data_dir)"
   ]
  },
  {
   "cell_type": "code",
   "execution_count": 5,
   "metadata": {},
   "outputs": [],
   "source": [
    "df = pd.DataFrame(data_dir, columns=[\"path\"])"
   ]
  },
  {
   "cell_type": "code",
   "execution_count": 6,
   "metadata": {},
   "outputs": [
    {
     "data": {
      "text/html": [
       "<div>\n",
       "<style scoped>\n",
       "    .dataframe tbody tr th:only-of-type {\n",
       "        vertical-align: middle;\n",
       "    }\n",
       "\n",
       "    .dataframe tbody tr th {\n",
       "        vertical-align: top;\n",
       "    }\n",
       "\n",
       "    .dataframe thead th {\n",
       "        text-align: right;\n",
       "    }\n",
       "</style>\n",
       "<table border=\"1\" class=\"dataframe\">\n",
       "  <thead>\n",
       "    <tr style=\"text-align: right;\">\n",
       "      <th></th>\n",
       "      <th>path</th>\n",
       "    </tr>\n",
       "  </thead>\n",
       "  <tbody>\n",
       "    <tr>\n",
       "      <th>0</th>\n",
       "      <td>/gladstone/finkbeiner/steve/work/data/npsad_da...</td>\n",
       "    </tr>\n",
       "    <tr>\n",
       "      <th>1</th>\n",
       "      <td>/gladstone/finkbeiner/steve/work/data/npsad_da...</td>\n",
       "    </tr>\n",
       "    <tr>\n",
       "      <th>2</th>\n",
       "      <td>/gladstone/finkbeiner/steve/work/data/npsad_da...</td>\n",
       "    </tr>\n",
       "    <tr>\n",
       "      <th>3</th>\n",
       "      <td>/gladstone/finkbeiner/steve/work/data/npsad_da...</td>\n",
       "    </tr>\n",
       "    <tr>\n",
       "      <th>4</th>\n",
       "      <td>/gladstone/finkbeiner/steve/work/data/npsad_da...</td>\n",
       "    </tr>\n",
       "    <tr>\n",
       "      <th>...</th>\n",
       "      <td>...</td>\n",
       "    </tr>\n",
       "    <tr>\n",
       "      <th>319</th>\n",
       "      <td>/gladstone/finkbeiner/steve/work/data/npsad_da...</td>\n",
       "    </tr>\n",
       "    <tr>\n",
       "      <th>320</th>\n",
       "      <td>/gladstone/finkbeiner/steve/work/data/npsad_da...</td>\n",
       "    </tr>\n",
       "    <tr>\n",
       "      <th>321</th>\n",
       "      <td>/gladstone/finkbeiner/steve/work/data/npsad_da...</td>\n",
       "    </tr>\n",
       "    <tr>\n",
       "      <th>322</th>\n",
       "      <td>/gladstone/finkbeiner/steve/work/data/npsad_da...</td>\n",
       "    </tr>\n",
       "    <tr>\n",
       "      <th>323</th>\n",
       "      <td>/gladstone/finkbeiner/steve/work/data/npsad_da...</td>\n",
       "    </tr>\n",
       "  </tbody>\n",
       "</table>\n",
       "<p>324 rows × 1 columns</p>\n",
       "</div>"
      ],
      "text/plain": [
       "                                                  path\n",
       "0    /gladstone/finkbeiner/steve/work/data/npsad_da...\n",
       "1    /gladstone/finkbeiner/steve/work/data/npsad_da...\n",
       "2    /gladstone/finkbeiner/steve/work/data/npsad_da...\n",
       "3    /gladstone/finkbeiner/steve/work/data/npsad_da...\n",
       "4    /gladstone/finkbeiner/steve/work/data/npsad_da...\n",
       "..                                                 ...\n",
       "319  /gladstone/finkbeiner/steve/work/data/npsad_da...\n",
       "320  /gladstone/finkbeiner/steve/work/data/npsad_da...\n",
       "321  /gladstone/finkbeiner/steve/work/data/npsad_da...\n",
       "322  /gladstone/finkbeiner/steve/work/data/npsad_da...\n",
       "323  /gladstone/finkbeiner/steve/work/data/npsad_da...\n",
       "\n",
       "[324 rows x 1 columns]"
      ]
     },
     "execution_count": 6,
     "metadata": {},
     "output_type": "execute_result"
    }
   ],
   "source": [
    "df"
   ]
  },
  {
   "cell_type": "code",
   "execution_count": 7,
   "metadata": {},
   "outputs": [],
   "source": [
    "df[\"XENum\"]= df[\"path\"].apply(lambda l: l.split(\"/\")[-1].split(\"_\")[0])"
   ]
  },
  {
   "cell_type": "code",
   "execution_count": 8,
   "metadata": {},
   "outputs": [
    {
     "data": {
      "text/html": [
       "<div>\n",
       "<style scoped>\n",
       "    .dataframe tbody tr th:only-of-type {\n",
       "        vertical-align: middle;\n",
       "    }\n",
       "\n",
       "    .dataframe tbody tr th {\n",
       "        vertical-align: top;\n",
       "    }\n",
       "\n",
       "    .dataframe thead th {\n",
       "        text-align: right;\n",
       "    }\n",
       "</style>\n",
       "<table border=\"1\" class=\"dataframe\">\n",
       "  <thead>\n",
       "    <tr style=\"text-align: right;\">\n",
       "      <th></th>\n",
       "      <th>path</th>\n",
       "      <th>XENum</th>\n",
       "    </tr>\n",
       "  </thead>\n",
       "  <tbody>\n",
       "    <tr>\n",
       "      <th>0</th>\n",
       "      <td>/gladstone/finkbeiner/steve/work/data/npsad_da...</td>\n",
       "      <td>XE17-019</td>\n",
       "    </tr>\n",
       "    <tr>\n",
       "      <th>1</th>\n",
       "      <td>/gladstone/finkbeiner/steve/work/data/npsad_da...</td>\n",
       "      <td>XE16-060</td>\n",
       "    </tr>\n",
       "    <tr>\n",
       "      <th>2</th>\n",
       "      <td>/gladstone/finkbeiner/steve/work/data/npsad_da...</td>\n",
       "      <td>XE08-003</td>\n",
       "    </tr>\n",
       "    <tr>\n",
       "      <th>3</th>\n",
       "      <td>/gladstone/finkbeiner/steve/work/data/npsad_da...</td>\n",
       "      <td>XE10-039</td>\n",
       "    </tr>\n",
       "    <tr>\n",
       "      <th>4</th>\n",
       "      <td>/gladstone/finkbeiner/steve/work/data/npsad_da...</td>\n",
       "      <td>XE18-048</td>\n",
       "    </tr>\n",
       "    <tr>\n",
       "      <th>...</th>\n",
       "      <td>...</td>\n",
       "      <td>...</td>\n",
       "    </tr>\n",
       "    <tr>\n",
       "      <th>319</th>\n",
       "      <td>/gladstone/finkbeiner/steve/work/data/npsad_da...</td>\n",
       "      <td>XE19-032</td>\n",
       "    </tr>\n",
       "    <tr>\n",
       "      <th>320</th>\n",
       "      <td>/gladstone/finkbeiner/steve/work/data/npsad_da...</td>\n",
       "      <td>XE09-004</td>\n",
       "    </tr>\n",
       "    <tr>\n",
       "      <th>321</th>\n",
       "      <td>/gladstone/finkbeiner/steve/work/data/npsad_da...</td>\n",
       "      <td>XE05-123</td>\n",
       "    </tr>\n",
       "    <tr>\n",
       "      <th>322</th>\n",
       "      <td>/gladstone/finkbeiner/steve/work/data/npsad_da...</td>\n",
       "      <td>XE18-038</td>\n",
       "    </tr>\n",
       "    <tr>\n",
       "      <th>323</th>\n",
       "      <td>/gladstone/finkbeiner/steve/work/data/npsad_da...</td>\n",
       "      <td>XE08-044</td>\n",
       "    </tr>\n",
       "  </tbody>\n",
       "</table>\n",
       "<p>324 rows × 2 columns</p>\n",
       "</div>"
      ],
      "text/plain": [
       "                                                  path     XENum\n",
       "0    /gladstone/finkbeiner/steve/work/data/npsad_da...  XE17-019\n",
       "1    /gladstone/finkbeiner/steve/work/data/npsad_da...  XE16-060\n",
       "2    /gladstone/finkbeiner/steve/work/data/npsad_da...  XE08-003\n",
       "3    /gladstone/finkbeiner/steve/work/data/npsad_da...  XE10-039\n",
       "4    /gladstone/finkbeiner/steve/work/data/npsad_da...  XE18-048\n",
       "..                                                 ...       ...\n",
       "319  /gladstone/finkbeiner/steve/work/data/npsad_da...  XE19-032\n",
       "320  /gladstone/finkbeiner/steve/work/data/npsad_da...  XE09-004\n",
       "321  /gladstone/finkbeiner/steve/work/data/npsad_da...  XE05-123\n",
       "322  /gladstone/finkbeiner/steve/work/data/npsad_da...  XE18-038\n",
       "323  /gladstone/finkbeiner/steve/work/data/npsad_da...  XE08-044\n",
       "\n",
       "[324 rows x 2 columns]"
      ]
     },
     "execution_count": 8,
     "metadata": {},
     "output_type": "execute_result"
    }
   ],
   "source": [
    "df"
   ]
  },
  {
   "cell_type": "code",
   "execution_count": 10,
   "metadata": {},
   "outputs": [],
   "source": [
    "metadata = pd.read_csv(\"/gladstone/finkbeiner/steve/work/data/npsad_data/vivek/Metadata/latest-metadata/NPSAD_image_metadata2.csv\")"
   ]
  },
  {
   "cell_type": "code",
   "execution_count": 13,
   "metadata": {},
   "outputs": [],
   "source": [
    "metadata = metadata[[\"SubNum\",\"XENum\"]].drop_duplicates()"
   ]
  },
  {
   "cell_type": "code",
   "execution_count": 15,
   "metadata": {},
   "outputs": [],
   "source": [
    "df = pd.merge(df,metadata, on=\"XENum\", how=\"left\")"
   ]
  },
  {
   "cell_type": "code",
   "execution_count": 16,
   "metadata": {},
   "outputs": [
    {
     "name": "stderr",
     "output_type": "stream",
     "text": [
      "/tmp/ipykernel_2633834/3813565371.py:1: DtypeWarning: Columns (5,159,160,161,163,166,167,168,169,172,174,178,179,180,181,191,193,195,196,198,279,288,289,290,291,292,293,294,295,296,297,298,299,301,346,349,350,378,381,709,713,714,715,716,722,724,725,726,728,731,734,736,739,741,743,745,748,749,753,755,757,759,760,762,764,767,768,827,829) have mixed types. Specify dtype option on import or set low_memory=False.\n",
      "  clinical_metadata = pd.read_csv(\"/gladstone/finkbeiner/steve/work/data/npsad_data/vivek/Metadata/latest-metadata/clinical_metadata_full.csv\")\n"
     ]
    }
   ],
   "source": [
    "clinical_metadata = pd.read_csv(\"/gladstone/finkbeiner/steve/work/data/npsad_data/vivek/Metadata/latest-metadata/clinical_metadata_full.csv\")"
   ]
  },
  {
   "cell_type": "code",
   "execution_count": 22,
   "metadata": {},
   "outputs": [
    {
     "data": {
      "text/plain": [
       "Index(['OcciLewyValue', 'LewySubValue', 'LewyNucleusValue', 'LewyLocusValue',\n",
       "       'LewyDorsalVValue', 'MoodDysCurValue', 'MoodDysHxValue',\n",
       "       'DecIntCurValue', 'DecIntHxValue', 'WtLossCurValue', 'WtLossHxValue',\n",
       "       'DecAppCurValue', 'DecAppHxValue', 'WtGainCurValue', 'WtGainHxValue',\n",
       "       'EarlyInsomCurValue', 'EarlyInsomHxValue', 'MidInsomCurValue',\n",
       "       'MidInsomHxValue', 'LateInsomCurValue'],\n",
       "      dtype='object')"
      ]
     },
     "execution_count": 22,
     "metadata": {},
     "output_type": "execute_result"
    }
   ],
   "source": [
    "clinical_metadata.columns[60:80]"
   ]
  },
  {
   "cell_type": "code",
   "execution_count": 29,
   "metadata": {},
   "outputs": [],
   "source": [
    "clinical_metadata_filtered = clinical_metadata[[\"Imaging_XENum\",\"SubNum\"]].drop_duplicates()"
   ]
  },
  {
   "cell_type": "code",
   "execution_count": 30,
   "metadata": {},
   "outputs": [],
   "source": [
    "clinical_metadata_filtered = clinical_metadata_filtered[~clinical_metadata_filtered[\"Imaging_XENum\"].isna()]"
   ]
  },
  {
   "cell_type": "code",
   "execution_count": 31,
   "metadata": {},
   "outputs": [],
   "source": [
    "clinical_metadata_filtered[\"SubNum\"] = clinical_metadata_filtered[\"SubNum\"].apply(lambda l: int(l.replace(\"M\",\"\")))"
   ]
  },
  {
   "cell_type": "code",
   "execution_count": 33,
   "metadata": {},
   "outputs": [],
   "source": [
    "df = pd.merge(df, clinical_metadata_filtered, on=\"SubNum\",how=\"left\")"
   ]
  },
  {
   "cell_type": "code",
   "execution_count": 35,
   "metadata": {},
   "outputs": [
    {
     "data": {
      "text/plain": [
       "74"
      ]
     },
     "execution_count": 35,
     "metadata": {},
     "output_type": "execute_result"
    }
   ],
   "source": [
    "df[\"Imaging_XENum\"].isna().sum()"
   ]
  },
  {
   "cell_type": "code",
   "execution_count": 39,
   "metadata": {},
   "outputs": [],
   "source": [
    "df[\"hasClinicalData\"]= np.where(df[\"Imaging_XENum\"].isna(),False, True)"
   ]
  },
  {
   "cell_type": "code",
   "execution_count": 40,
   "metadata": {},
   "outputs": [
    {
     "data": {
      "text/html": [
       "<div>\n",
       "<style scoped>\n",
       "    .dataframe tbody tr th:only-of-type {\n",
       "        vertical-align: middle;\n",
       "    }\n",
       "\n",
       "    .dataframe tbody tr th {\n",
       "        vertical-align: top;\n",
       "    }\n",
       "\n",
       "    .dataframe thead th {\n",
       "        text-align: right;\n",
       "    }\n",
       "</style>\n",
       "<table border=\"1\" class=\"dataframe\">\n",
       "  <thead>\n",
       "    <tr style=\"text-align: right;\">\n",
       "      <th></th>\n",
       "      <th>path</th>\n",
       "      <th>XENum</th>\n",
       "      <th>SubNum</th>\n",
       "      <th>Imaging_XENum</th>\n",
       "      <th>hasClinicalData</th>\n",
       "    </tr>\n",
       "  </thead>\n",
       "  <tbody>\n",
       "    <tr>\n",
       "      <th>0</th>\n",
       "      <td>/gladstone/finkbeiner/steve/work/data/npsad_da...</td>\n",
       "      <td>XE17-019</td>\n",
       "      <td>370135</td>\n",
       "      <td>NaN</td>\n",
       "      <td>False</td>\n",
       "    </tr>\n",
       "    <tr>\n",
       "      <th>1</th>\n",
       "      <td>/gladstone/finkbeiner/steve/work/data/npsad_da...</td>\n",
       "      <td>XE16-060</td>\n",
       "      <td>34894</td>\n",
       "      <td>NaN</td>\n",
       "      <td>False</td>\n",
       "    </tr>\n",
       "    <tr>\n",
       "      <th>2</th>\n",
       "      <td>/gladstone/finkbeiner/steve/work/data/npsad_da...</td>\n",
       "      <td>XE08-003</td>\n",
       "      <td>43750</td>\n",
       "      <td>NaN</td>\n",
       "      <td>False</td>\n",
       "    </tr>\n",
       "    <tr>\n",
       "      <th>3</th>\n",
       "      <td>/gladstone/finkbeiner/steve/work/data/npsad_da...</td>\n",
       "      <td>XE10-039</td>\n",
       "      <td>81015</td>\n",
       "      <td>XE10-039</td>\n",
       "      <td>True</td>\n",
       "    </tr>\n",
       "    <tr>\n",
       "      <th>4</th>\n",
       "      <td>/gladstone/finkbeiner/steve/work/data/npsad_da...</td>\n",
       "      <td>XE18-048</td>\n",
       "      <td>808460</td>\n",
       "      <td>XE18-048</td>\n",
       "      <td>True</td>\n",
       "    </tr>\n",
       "    <tr>\n",
       "      <th>...</th>\n",
       "      <td>...</td>\n",
       "      <td>...</td>\n",
       "      <td>...</td>\n",
       "      <td>...</td>\n",
       "      <td>...</td>\n",
       "    </tr>\n",
       "    <tr>\n",
       "      <th>319</th>\n",
       "      <td>/gladstone/finkbeiner/steve/work/data/npsad_da...</td>\n",
       "      <td>XE19-032</td>\n",
       "      <td>921781</td>\n",
       "      <td>NaN</td>\n",
       "      <td>False</td>\n",
       "    </tr>\n",
       "    <tr>\n",
       "      <th>320</th>\n",
       "      <td>/gladstone/finkbeiner/steve/work/data/npsad_da...</td>\n",
       "      <td>XE09-004</td>\n",
       "      <td>79736</td>\n",
       "      <td>XE09-004</td>\n",
       "      <td>True</td>\n",
       "    </tr>\n",
       "    <tr>\n",
       "      <th>321</th>\n",
       "      <td>/gladstone/finkbeiner/steve/work/data/npsad_da...</td>\n",
       "      <td>XE05-123</td>\n",
       "      <td>82307</td>\n",
       "      <td>XE05-123</td>\n",
       "      <td>True</td>\n",
       "    </tr>\n",
       "    <tr>\n",
       "      <th>322</th>\n",
       "      <td>/gladstone/finkbeiner/steve/work/data/npsad_da...</td>\n",
       "      <td>XE18-038</td>\n",
       "      <td>22767</td>\n",
       "      <td>XE18-038</td>\n",
       "      <td>True</td>\n",
       "    </tr>\n",
       "    <tr>\n",
       "      <th>323</th>\n",
       "      <td>/gladstone/finkbeiner/steve/work/data/npsad_da...</td>\n",
       "      <td>XE08-044</td>\n",
       "      <td>85047</td>\n",
       "      <td>XE08-044</td>\n",
       "      <td>True</td>\n",
       "    </tr>\n",
       "  </tbody>\n",
       "</table>\n",
       "<p>324 rows × 5 columns</p>\n",
       "</div>"
      ],
      "text/plain": [
       "                                                  path     XENum  SubNum  \\\n",
       "0    /gladstone/finkbeiner/steve/work/data/npsad_da...  XE17-019  370135   \n",
       "1    /gladstone/finkbeiner/steve/work/data/npsad_da...  XE16-060   34894   \n",
       "2    /gladstone/finkbeiner/steve/work/data/npsad_da...  XE08-003   43750   \n",
       "3    /gladstone/finkbeiner/steve/work/data/npsad_da...  XE10-039   81015   \n",
       "4    /gladstone/finkbeiner/steve/work/data/npsad_da...  XE18-048  808460   \n",
       "..                                                 ...       ...     ...   \n",
       "319  /gladstone/finkbeiner/steve/work/data/npsad_da...  XE19-032  921781   \n",
       "320  /gladstone/finkbeiner/steve/work/data/npsad_da...  XE09-004   79736   \n",
       "321  /gladstone/finkbeiner/steve/work/data/npsad_da...  XE05-123   82307   \n",
       "322  /gladstone/finkbeiner/steve/work/data/npsad_da...  XE18-038   22767   \n",
       "323  /gladstone/finkbeiner/steve/work/data/npsad_da...  XE08-044   85047   \n",
       "\n",
       "    Imaging_XENum  hasClinicalData  \n",
       "0             NaN            False  \n",
       "1             NaN            False  \n",
       "2             NaN            False  \n",
       "3        XE10-039             True  \n",
       "4        XE18-048             True  \n",
       "..            ...              ...  \n",
       "319           NaN            False  \n",
       "320      XE09-004             True  \n",
       "321      XE05-123             True  \n",
       "322      XE18-038             True  \n",
       "323      XE08-044             True  \n",
       "\n",
       "[324 rows x 5 columns]"
      ]
     },
     "execution_count": 40,
     "metadata": {},
     "output_type": "execute_result"
    }
   ],
   "source": [
    "df"
   ]
  },
  {
   "cell_type": "code",
   "execution_count": 42,
   "metadata": {},
   "outputs": [],
   "source": [
    "snra_flag = pd.read_csv(\"/gladstone/finkbeiner/steve/work/data/npsad_data/vivek/Metadata/overlap_with_metadata_srna_flag/Jaro_sRNA_flag.csv\")"
   ]
  },
  {
   "cell_type": "code",
   "execution_count": 43,
   "metadata": {},
   "outputs": [
    {
     "data": {
      "text/html": [
       "<div>\n",
       "<style scoped>\n",
       "    .dataframe tbody tr th:only-of-type {\n",
       "        vertical-align: middle;\n",
       "    }\n",
       "\n",
       "    .dataframe tbody tr th {\n",
       "        vertical-align: top;\n",
       "    }\n",
       "\n",
       "    .dataframe thead th {\n",
       "        text-align: right;\n",
       "    }\n",
       "</style>\n",
       "<table border=\"1\" class=\"dataframe\">\n",
       "  <thead>\n",
       "    <tr style=\"text-align: right;\">\n",
       "      <th></th>\n",
       "      <th>Filename</th>\n",
       "      <th>Full.Path</th>\n",
       "      <th>Imaging_XENum</th>\n",
       "      <th>has_snRNAseq</th>\n",
       "    </tr>\n",
       "  </thead>\n",
       "  <tbody>\n",
       "    <tr>\n",
       "      <th>0</th>\n",
       "      <td>XE16-053_7_AmyB_1.mrxs</td>\n",
       "      <td>/Volumes/Finkbeiner-Steve/work/data/npsad_data...</td>\n",
       "      <td>XE16-053</td>\n",
       "      <td>True</td>\n",
       "    </tr>\n",
       "    <tr>\n",
       "      <th>1</th>\n",
       "      <td>XE14-004_6_AmyB_1.mrxs</td>\n",
       "      <td>/Volumes/Finkbeiner-Steve/work/data/npsad_data...</td>\n",
       "      <td>XE14-004</td>\n",
       "      <td>False</td>\n",
       "    </tr>\n",
       "    <tr>\n",
       "      <th>2</th>\n",
       "      <td>XE17-029_7_AmyB_1.mrxs</td>\n",
       "      <td>/Volumes/Finkbeiner-Steve/work/data/npsad_data...</td>\n",
       "      <td>XE17-029</td>\n",
       "      <td>False</td>\n",
       "    </tr>\n",
       "    <tr>\n",
       "      <th>3</th>\n",
       "      <td>XE17-048_7_AmyB_1.mrxs</td>\n",
       "      <td>/Volumes/Finkbeiner-Steve/work/data/npsad_data...</td>\n",
       "      <td>XE17-048</td>\n",
       "      <td>True</td>\n",
       "    </tr>\n",
       "    <tr>\n",
       "      <th>4</th>\n",
       "      <td>XE16-055_7_AmyB_1.mrxs</td>\n",
       "      <td>/Volumes/Finkbeiner-Steve/work/data/npsad_data...</td>\n",
       "      <td>XE16-055</td>\n",
       "      <td>True</td>\n",
       "    </tr>\n",
       "    <tr>\n",
       "      <th>...</th>\n",
       "      <td>...</td>\n",
       "      <td>...</td>\n",
       "      <td>...</td>\n",
       "      <td>...</td>\n",
       "    </tr>\n",
       "    <tr>\n",
       "      <th>129</th>\n",
       "      <td>XE07-056_1_AmyB_1.mrxs</td>\n",
       "      <td>/Volumes/Finkbeiner-Steve/work/data/npsad_data...</td>\n",
       "      <td>XE07-056</td>\n",
       "      <td>True</td>\n",
       "    </tr>\n",
       "    <tr>\n",
       "      <th>130</th>\n",
       "      <td>XE08-015_1_AmyB_1.mrxs</td>\n",
       "      <td>/Volumes/Finkbeiner-Steve/work/data/npsad_data...</td>\n",
       "      <td>XE08-015</td>\n",
       "      <td>True</td>\n",
       "    </tr>\n",
       "    <tr>\n",
       "      <th>131</th>\n",
       "      <td>XE09-013_1_AmyB_1.mrxs</td>\n",
       "      <td>/Volumes/Finkbeiner-Steve/work/data/npsad_data...</td>\n",
       "      <td>XE09-013</td>\n",
       "      <td>True</td>\n",
       "    </tr>\n",
       "    <tr>\n",
       "      <th>132</th>\n",
       "      <td>XE16-033_1_AmyB_1.mrxs</td>\n",
       "      <td>/Volumes/Finkbeiner-Steve/work/data/npsad_data...</td>\n",
       "      <td>XE16-033</td>\n",
       "      <td>False</td>\n",
       "    </tr>\n",
       "    <tr>\n",
       "      <th>133</th>\n",
       "      <td>XE13-007_1_AmyB_1.mrxs</td>\n",
       "      <td>/Volumes/Finkbeiner-Steve/work/data/npsad_data...</td>\n",
       "      <td>XE13-007</td>\n",
       "      <td>False</td>\n",
       "    </tr>\n",
       "  </tbody>\n",
       "</table>\n",
       "<p>134 rows × 4 columns</p>\n",
       "</div>"
      ],
      "text/plain": [
       "                   Filename  \\\n",
       "0    XE16-053_7_AmyB_1.mrxs   \n",
       "1    XE14-004_6_AmyB_1.mrxs   \n",
       "2    XE17-029_7_AmyB_1.mrxs   \n",
       "3    XE17-048_7_AmyB_1.mrxs   \n",
       "4    XE16-055_7_AmyB_1.mrxs   \n",
       "..                      ...   \n",
       "129  XE07-056_1_AmyB_1.mrxs   \n",
       "130  XE08-015_1_AmyB_1.mrxs   \n",
       "131  XE09-013_1_AmyB_1.mrxs   \n",
       "132  XE16-033_1_AmyB_1.mrxs   \n",
       "133  XE13-007_1_AmyB_1.mrxs   \n",
       "\n",
       "                                             Full.Path Imaging_XENum  \\\n",
       "0    /Volumes/Finkbeiner-Steve/work/data/npsad_data...      XE16-053   \n",
       "1    /Volumes/Finkbeiner-Steve/work/data/npsad_data...      XE14-004   \n",
       "2    /Volumes/Finkbeiner-Steve/work/data/npsad_data...      XE17-029   \n",
       "3    /Volumes/Finkbeiner-Steve/work/data/npsad_data...      XE17-048   \n",
       "4    /Volumes/Finkbeiner-Steve/work/data/npsad_data...      XE16-055   \n",
       "..                                                 ...           ...   \n",
       "129  /Volumes/Finkbeiner-Steve/work/data/npsad_data...      XE07-056   \n",
       "130  /Volumes/Finkbeiner-Steve/work/data/npsad_data...      XE08-015   \n",
       "131  /Volumes/Finkbeiner-Steve/work/data/npsad_data...      XE09-013   \n",
       "132  /Volumes/Finkbeiner-Steve/work/data/npsad_data...      XE16-033   \n",
       "133  /Volumes/Finkbeiner-Steve/work/data/npsad_data...      XE13-007   \n",
       "\n",
       "     has_snRNAseq  \n",
       "0            True  \n",
       "1           False  \n",
       "2           False  \n",
       "3            True  \n",
       "4            True  \n",
       "..            ...  \n",
       "129          True  \n",
       "130          True  \n",
       "131          True  \n",
       "132         False  \n",
       "133         False  \n",
       "\n",
       "[134 rows x 4 columns]"
      ]
     },
     "execution_count": 43,
     "metadata": {},
     "output_type": "execute_result"
    }
   ],
   "source": [
    "snra_flag"
   ]
  },
  {
   "cell_type": "code",
   "execution_count": 46,
   "metadata": {},
   "outputs": [],
   "source": [
    "snra_flag_filtered =  snra_flag[[\"Imaging_XENum\",\"has_snRNAseq\"]].drop_duplicates()"
   ]
  },
  {
   "cell_type": "code",
   "execution_count": 48,
   "metadata": {},
   "outputs": [],
   "source": [
    "snra_flag_filtered.columns = ['XENum', 'has_snRNAseq']"
   ]
  },
  {
   "cell_type": "code",
   "execution_count": 52,
   "metadata": {},
   "outputs": [],
   "source": [
    "df = pd.merge(df,snra_flag_filtered, on=\"XENum\",how=\"left\")"
   ]
  },
  {
   "cell_type": "code",
   "execution_count": 57,
   "metadata": {},
   "outputs": [],
   "source": [
    "df.to_csv(\"/gladstone/finkbeiner/steve/work/data/npsad_data/vivek/Metadata/overlap_with_metadata_srna_flag/AmyB-MFG_hasClinicalDataflag_hassnRNAflag.csv\")"
   ]
  },
  {
   "cell_type": "code",
   "execution_count": null,
   "metadata": {},
   "outputs": [],
   "source": []
  }
 ],
 "metadata": {
  "kernelspec": {
   "display_name": "kfold_amy_plaque1",
   "language": "python",
   "name": "python3"
  },
  "language_info": {
   "codemirror_mode": {
    "name": "ipython",
    "version": 3
   },
   "file_extension": ".py",
   "mimetype": "text/x-python",
   "name": "python",
   "nbconvert_exporter": "python",
   "pygments_lexer": "ipython3",
   "version": "3.9.7"
  }
 },
 "nbformat": 4,
 "nbformat_minor": 2
}
