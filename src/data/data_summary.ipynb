{
 "cells": [
  {
   "cell_type": "code",
   "execution_count": 19,
   "metadata": {},
   "outputs": [],
   "source": [
    "import pandas as pd\n",
    "from glob import glob\n",
    "import os\n",
    "import numpy as np"
   ]
  },
  {
   "cell_type": "code",
   "execution_count": 2,
   "metadata": {},
   "outputs": [],
   "source": [
    "path = \"/gladstone/finkbeiner/steve/work/data/npsad_data/vivek/amy-def_5_6_7\""
   ]
  },
  {
   "cell_type": "code",
   "execution_count": 8,
   "metadata": {},
   "outputs": [],
   "source": [
    "amy_def_5_6_7 = glob(os.path.join(path,\"*.mrxs\"))"
   ]
  },
  {
   "cell_type": "code",
   "execution_count": 9,
   "metadata": {},
   "outputs": [
    {
     "data": {
      "text/plain": [
       "30"
      ]
     },
     "execution_count": 9,
     "metadata": {},
     "output_type": "execute_result"
    }
   ],
   "source": [
    "len(amy_def_5_6_7)"
   ]
  },
  {
   "cell_type": "code",
   "execution_count": 10,
   "metadata": {},
   "outputs": [],
   "source": [
    "path1 = \"/gladstone/finkbeiner/steve/work/data/npsad_data/vivek/amy-def-mfg-images\"\n",
    "amy_def_mfg_images = glob(os.path.join(path1,\"*.mrxs\"))"
   ]
  },
  {
   "cell_type": "code",
   "execution_count": 11,
   "metadata": {},
   "outputs": [
    {
     "data": {
      "text/plain": [
       "13"
      ]
     },
     "execution_count": 11,
     "metadata": {},
     "output_type": "execute_result"
    }
   ],
   "source": [
    "len(amy_def_mfg_images)"
   ]
  },
  {
   "cell_type": "code",
   "execution_count": 12,
   "metadata": {},
   "outputs": [],
   "source": [
    "path2 = \"/gladstone/finkbeiner/steve/work/data/npsad_data/vivek/amy-def-mfg-test\"\n",
    "amy_def_mfg_test = glob(os.path.join(path2,\"*.mrxs\"))"
   ]
  },
  {
   "cell_type": "code",
   "execution_count": 13,
   "metadata": {},
   "outputs": [
    {
     "data": {
      "text/plain": [
       "91"
      ]
     },
     "execution_count": 13,
     "metadata": {},
     "output_type": "execute_result"
    }
   ],
   "source": [
    "len(amy_def_mfg_test)"
   ]
  },
  {
   "cell_type": "code",
   "execution_count": 14,
   "metadata": {},
   "outputs": [
    {
     "data": {
      "text/plain": [
       "134"
      ]
     },
     "execution_count": 14,
     "metadata": {},
     "output_type": "execute_result"
    }
   ],
   "source": [
    "91+13+30"
   ]
  },
  {
   "cell_type": "code",
   "execution_count": 15,
   "metadata": {},
   "outputs": [],
   "source": [
    "x1 = [x.split(\"/\")[-1] for x in amy_def_mfg_images]\n",
    "x2 = [x.split(\"/\")[-1] for x in amy_def_5_6_7]\n",
    "x3 = [x.split(\"/\")[-1] for x in amy_def_mfg_test]"
   ]
  },
  {
   "cell_type": "code",
   "execution_count": 16,
   "metadata": {},
   "outputs": [],
   "source": [
    "x= x1+x2+x3"
   ]
  },
  {
   "cell_type": "code",
   "execution_count": 21,
   "metadata": {},
   "outputs": [
    {
     "data": {
      "text/plain": [
       "134"
      ]
     },
     "execution_count": 21,
     "metadata": {},
     "output_type": "execute_result"
    }
   ],
   "source": [
    "len(np.unique(x))"
   ]
  },
  {
   "cell_type": "code",
   "execution_count": 41,
   "metadata": {},
   "outputs": [],
   "source": [
    "test_patient_folder = \"/gladstone/finkbeiner/steve/work/data/npsad_data/vivek/Datasets/amyb_wsi/test-patients/images\""
   ]
  },
  {
   "cell_type": "code",
   "execution_count": 44,
   "metadata": {},
   "outputs": [],
   "source": [
    "test_patient = glob(os.path.join(test_patient_folder,\"*\"))"
   ]
  },
  {
   "cell_type": "code",
   "execution_count": 45,
   "metadata": {},
   "outputs": [],
   "source": [
    "test_patient_missing = \"/gladstone/finkbeiner/steve/work/data/npsad_data/vivek/Datasets/amyb_wsi/test-missing/images\""
   ]
  },
  {
   "cell_type": "code",
   "execution_count": 65,
   "metadata": {},
   "outputs": [
    {
     "data": {
      "text/plain": [
       "21"
      ]
     },
     "execution_count": 65,
     "metadata": {},
     "output_type": "execute_result"
    }
   ],
   "source": [
    "len(test_patient_missing_files)"
   ]
  },
  {
   "cell_type": "code",
   "execution_count": 64,
   "metadata": {},
   "outputs": [],
   "source": [
    "test_patient_missing_files = glob(os.path.join(test_patient_missing,\"*\"))"
   ]
  },
  {
   "cell_type": "code",
   "execution_count": 48,
   "metadata": {},
   "outputs": [],
   "source": [
    "x4 = [x.split(\"/\")[-1] for x in test_patient ]\n",
    "x5 = [x.split(\"/\")[-1] for x in test_patient_missing_files ]"
   ]
  },
  {
   "cell_type": "code",
   "execution_count": 51,
   "metadata": {},
   "outputs": [],
   "source": [
    "y= x4+x5"
   ]
  },
  {
   "cell_type": "code",
   "execution_count": 52,
   "metadata": {},
   "outputs": [
    {
     "data": {
      "text/plain": [
       "['XE08-017_1_AmyB_1',\n",
       " 'XE14-037_1_AmyB_1',\n",
       " 'XE10-042_1_AmyB_1',\n",
       " 'XE13-017_1_AmyB_1',\n",
       " 'XE09-013_1_AmyB_1',\n",
       " 'XE16-021_1_AmyB_1',\n",
       " 'XE17-048_1_AmyB_1',\n",
       " 'XE17-039_1_AmyB_1',\n",
       " 'XE17-013_1_AmyB_1',\n",
       " 'XE12-042_1_AmyB_1',\n",
       " 'XE12-015_1_AmyB_1',\n",
       " 'XE12-007_1_AmyB_1',\n",
       " 'XE15-022_1_AmyB_1',\n",
       " 'XE10-030_1_AmyB_1',\n",
       " 'XE10-033_1_AmyB_1',\n",
       " 'XE17-065_1_AmyB_1',\n",
       " 'XE08-016_1_AmyB_1',\n",
       " 'XE18-045_1_AmyB_1',\n",
       " 'XE16-023_1_AmyB_1',\n",
       " 'XE17-059_1_AmyB_1',\n",
       " 'XE13-018_1_AmyB_1',\n",
       " 'XE07-060_1_AmyB_1',\n",
       " 'XE15-007_1_AmyB_1',\n",
       " 'XE12-016_1_AmyB_1',\n",
       " 'XE10-005_1_AmyB_1',\n",
       " 'XE16-053_1_AmyB_1',\n",
       " 'XE13-029_1_AmyB_1',\n",
       " 'XE17-029_1_AmyB_1',\n",
       " 'XE09-049_1_AmyB_1',\n",
       " 'XE15-051_1_AmyB_1',\n",
       " 'XE16-002_1_AmyB_1',\n",
       " 'XE07-067_1_AmyB_1',\n",
       " 'XE09-035_1_AmyB_1',\n",
       " 'XE18-043_1_AmyB_1',\n",
       " 'XE08-047_1_AmyB_1',\n",
       " 'XE08-010_1_AmyB_1',\n",
       " 'XE08-015_1_AmyB_1',\n",
       " 'XE14-004_1_AmyB_1',\n",
       " 'XE18-040_1_AmyB_1',\n",
       " 'XE08-033_1_AmyB_1',\n",
       " 'XE13-007_1_AmyB_1',\n",
       " 'XE12-037_1_AmyB_1',\n",
       " 'XE15-012_1_AmyB_1',\n",
       " 'XE13-005_1_AmyB_1',\n",
       " 'XE16-057_1_AmyB_1',\n",
       " 'XE12-010_1_AmyB_1',\n",
       " 'XE12-013_1_AmyB_1',\n",
       " 'XE12-011_1_AmyB_1',\n",
       " 'XE16-014_1_AmyB_1',\n",
       " 'XE13-020_1_AmyB_1',\n",
       " 'XE07-056_1_AmyB_1',\n",
       " 'XE14-051_1_AmyB_1',\n",
       " 'XE09-041_1_AmyB_1',\n",
       " 'XE14-047_1_AmyB_1',\n",
       " 'XE11-027_1_AmyB_1',\n",
       " 'XE17-030_1_AmyB_1',\n",
       " 'XE18-001_1_AmyB_1',\n",
       " 'XE17-022_1_AmyB_1',\n",
       " 'XE07-064_1_AmyB_1',\n",
       " 'XE17-014_1_AmyB_1',\n",
       " 'XE16-033_1_AmyB_1',\n",
       " 'XE09-056_1_AmyB_1',\n",
       " 'XE16-055_1_AmyB_1',\n",
       " 'XE18-004_1_AmyB_1',\n",
       " 'XE16-027_1_AmyB_1',\n",
       " 'XE09-028_1_AmyB_1',\n",
       " 'XE09-063_1_AmyB_1',\n",
       " 'XE17-010_1_AmyB_1',\n",
       " 'XE10-046_1_AmyB_1',\n",
       " 'XE12-036_1_AmyB_1',\n",
       " 'XE10-021_1_AmyB_1',\n",
       " 'XE08-018_1_AmyB_1',\n",
       " 'XE11-029_1_AmyB_1',\n",
       " 'XE07-057_1_AmyB_1',\n",
       " 'XE09-006_1_AmyB_1',\n",
       " 'XE13-003_1_AmyB_1',\n",
       " 'XE10-018_1_AmyB_1',\n",
       " 'XE14-033_1_AmyB_1',\n",
       " 'XE12-009_1_AmyB_1',\n",
       " 'XE10-020_1_AmyB_1',\n",
       " 'XE12-012_1_AmyB_1',\n",
       " 'XE12-023_1_AmyB_1',\n",
       " 'XE11-008_1_AmyB_1',\n",
       " 'XE10-006_1_AmyB_1',\n",
       " 'XE11-025_1_AmyB_1',\n",
       " 'XE11-018_1_AmyB_1',\n",
       " 'XE10-026_1_AmyB_1',\n",
       " 'XE10-019_1_AmyB_1',\n",
       " 'XE13-028_1_AmyB_1',\n",
       " 'XE12-031_1_AmyB_1']"
      ]
     },
     "execution_count": 52,
     "metadata": {},
     "output_type": "execute_result"
    }
   ],
   "source": [
    "y"
   ]
  },
  {
   "cell_type": "code",
   "execution_count": 54,
   "metadata": {},
   "outputs": [],
   "source": [
    "y1 = [x.split(\"/\")[-1].split(\".\")[0] for x in amy_def_mfg_test]"
   ]
  },
  {
   "cell_type": "code",
   "execution_count": 56,
   "metadata": {},
   "outputs": [
    {
     "data": {
      "text/plain": [
       "91"
      ]
     },
     "execution_count": 56,
     "metadata": {},
     "output_type": "execute_result"
    }
   ],
   "source": [
    "len(y1)"
   ]
  },
  {
   "cell_type": "code",
   "execution_count": 57,
   "metadata": {},
   "outputs": [
    {
     "data": {
      "text/plain": [
       "90"
      ]
     },
     "execution_count": 57,
     "metadata": {},
     "output_type": "execute_result"
    }
   ],
   "source": [
    "len(y)"
   ]
  },
  {
   "cell_type": "code",
   "execution_count": 60,
   "metadata": {},
   "outputs": [
    {
     "data": {
      "text/plain": [
       "['XE10-009_1_AmyB_1']"
      ]
     },
     "execution_count": 60,
     "metadata": {},
     "output_type": "execute_result"
    }
   ],
   "source": [
    "[value for value in y1 if value not in y]"
   ]
  },
  {
   "cell_type": "code",
   "execution_count": 66,
   "metadata": {},
   "outputs": [],
   "source": [
    "Internal_dataset_latest = \"/gladstone/finkbeiner/steve/work/data/npsad_data/vivek/csv_data/Internal_dataset_latest\""
   ]
  },
  {
   "cell_type": "code",
   "execution_count": 68,
   "metadata": {},
   "outputs": [],
   "source": [
    "csv_path = glob(os.path.join(Internal_dataset_latest,\"*\"))"
   ]
  },
  {
   "cell_type": "code",
   "execution_count": 70,
   "metadata": {},
   "outputs": [],
   "source": [
    "csv_path_list = [x.split(\"/\")[-1].replace(\"_quantify.csv\",\"\") for x in csv_path]"
   ]
  },
  {
   "cell_type": "code",
   "execution_count": 72,
   "metadata": {},
   "outputs": [
    {
     "data": {
      "text/plain": [
       "['XE15-039_1_AmyB_1', 'XE14-004_6_AmyB_1']"
      ]
     },
     "execution_count": 72,
     "metadata": {},
     "output_type": "execute_result"
    }
   ],
   "source": [
    "[value for value in csv_path_list if value not in y1]"
   ]
  },
  {
   "cell_type": "code",
   "execution_count": 79,
   "metadata": {},
   "outputs": [],
   "source": [
    "missing = [value for value in csv_path_list if value not in y]"
   ]
  },
  {
   "cell_type": "code",
   "execution_count": 76,
   "metadata": {},
   "outputs": [
    {
     "data": {
      "text/plain": [
       "92"
      ]
     },
     "execution_count": 76,
     "metadata": {},
     "output_type": "execute_result"
    }
   ],
   "source": [
    "len(csv_path_list)"
   ]
  },
  {
   "cell_type": "code",
   "execution_count": 78,
   "metadata": {},
   "outputs": [
    {
     "data": {
      "text/plain": [
       "134"
      ]
     },
     "execution_count": 78,
     "metadata": {},
     "output_type": "execute_result"
    }
   ],
   "source": [
    "len(x)"
   ]
  },
  {
   "cell_type": "code",
   "execution_count": 81,
   "metadata": {},
   "outputs": [
    {
     "data": {
      "text/plain": [
       "['XE15-039_1_AmyB_1']"
      ]
     },
     "execution_count": 81,
     "metadata": {},
     "output_type": "execute_result"
    }
   ],
   "source": [
    "[value for value in csv_path_list if value+\".mrxs\" in x1]"
   ]
  },
  {
   "cell_type": "code",
   "execution_count": 82,
   "metadata": {},
   "outputs": [
    {
     "data": {
      "text/plain": [
       "['XE14-004_6_AmyB_1']"
      ]
     },
     "execution_count": 82,
     "metadata": {},
     "output_type": "execute_result"
    }
   ],
   "source": [
    "[value for value in csv_path_list if value+\".mrxs\" in x2]"
   ]
  },
  {
   "cell_type": "code",
   "execution_count": 93,
   "metadata": {},
   "outputs": [
    {
     "data": {
      "text/plain": [
       "['XE09-041_1_AmyB_1',\n",
       " 'XE12-015_1_AmyB_1',\n",
       " 'XE13-020_1_AmyB_1',\n",
       " 'XE11-008_1_AmyB_1',\n",
       " 'XE16-053_1_AmyB_1',\n",
       " 'XE10-009_1_AmyB_1',\n",
       " 'XE10-030_1_AmyB_1',\n",
       " 'XE18-045_1_AmyB_1',\n",
       " 'XE16-055_1_AmyB_1',\n",
       " 'XE13-005_1_AmyB_1',\n",
       " 'XE16-002_1_AmyB_1',\n",
       " 'XE09-028_1_AmyB_1',\n",
       " 'XE15-051_1_AmyB_1',\n",
       " 'XE09-049_1_AmyB_1',\n",
       " 'XE11-018_1_AmyB_1',\n",
       " 'XE07-064_1_AmyB_1',\n",
       " 'XE18-043_1_AmyB_1',\n",
       " 'XE11-029_1_AmyB_1',\n",
       " 'XE15-012_1_AmyB_1',\n",
       " 'XE12-013_1_AmyB_1',\n",
       " 'XE10-021_1_AmyB_1',\n",
       " 'XE13-029_1_AmyB_1',\n",
       " 'XE08-010_1_AmyB_1',\n",
       " 'XE12-011_1_AmyB_1',\n",
       " 'XE08-017_1_AmyB_1',\n",
       " 'XE10-046_1_AmyB_1',\n",
       " 'XE13-003_1_AmyB_1',\n",
       " 'XE16-021_1_AmyB_1',\n",
       " 'XE16-057_1_AmyB_1',\n",
       " 'XE10-020_1_AmyB_1',\n",
       " 'XE14-051_1_AmyB_1',\n",
       " 'XE12-037_1_AmyB_1',\n",
       " 'XE16-027_1_AmyB_1',\n",
       " 'XE17-013_1_AmyB_1',\n",
       " 'XE15-007_1_AmyB_1',\n",
       " 'XE09-006_1_AmyB_1',\n",
       " 'XE07-060_1_AmyB_1',\n",
       " 'XE10-019_1_AmyB_1',\n",
       " 'XE10-042_1_AmyB_1',\n",
       " 'XE12-007_1_AmyB_1',\n",
       " 'XE10-006_1_AmyB_1',\n",
       " 'XE09-035_1_AmyB_1',\n",
       " 'XE17-014_1_AmyB_1',\n",
       " 'XE13-017_1_AmyB_1',\n",
       " 'XE15-022_1_AmyB_1',\n",
       " 'XE17-059_1_AmyB_1',\n",
       " 'XE10-018_1_AmyB_1',\n",
       " 'XE18-040_1_AmyB_1',\n",
       " 'XE12-036_1_AmyB_1',\n",
       " 'XE08-047_1_AmyB_1',\n",
       " 'XE17-030_1_AmyB_1',\n",
       " 'XE14-004_1_AmyB_1',\n",
       " 'XE10-005_1_AmyB_1',\n",
       " 'XE07-067_1_AmyB_1',\n",
       " 'XE12-031_1_AmyB_1',\n",
       " 'XE12-009_1_AmyB_1',\n",
       " 'XE16-014_1_AmyB_1',\n",
       " 'XE09-063_1_AmyB_1',\n",
       " 'XE12-012_1_AmyB_1',\n",
       " 'XE17-022_1_AmyB_1',\n",
       " 'XE17-048_1_AmyB_1',\n",
       " 'XE13-018_1_AmyB_1',\n",
       " 'XE10-026_1_AmyB_1',\n",
       " 'XE10-033_1_AmyB_1',\n",
       " 'XE08-033_1_AmyB_1',\n",
       " 'XE17-039_1_AmyB_1',\n",
       " 'XE17-029_1_AmyB_1',\n",
       " 'XE13-028_1_AmyB_1',\n",
       " 'XE08-018_1_AmyB_1',\n",
       " 'XE14-047_1_AmyB_1',\n",
       " 'XE16-023_1_AmyB_1',\n",
       " 'XE17-010_1_AmyB_1',\n",
       " 'XE12-042_1_AmyB_1',\n",
       " 'XE18-001_1_AmyB_1',\n",
       " 'XE12-023_1_AmyB_1',\n",
       " 'XE14-037_1_AmyB_1',\n",
       " 'XE11-025_1_AmyB_1',\n",
       " 'XE18-004_1_AmyB_1',\n",
       " 'XE12-010_1_AmyB_1',\n",
       " 'XE08-016_1_AmyB_1',\n",
       " 'XE09-056_1_AmyB_1',\n",
       " 'XE12-016_1_AmyB_1',\n",
       " 'XE14-033_1_AmyB_1',\n",
       " 'XE07-057_1_AmyB_1',\n",
       " 'XE11-027_1_AmyB_1',\n",
       " 'XE17-065_1_AmyB_1',\n",
       " 'XE07-056_1_AmyB_1',\n",
       " 'XE08-015_1_AmyB_1',\n",
       " 'XE09-013_1_AmyB_1',\n",
       " 'XE16-033_1_AmyB_1',\n",
       " 'XE13-007_1_AmyB_1']"
      ]
     },
     "execution_count": 93,
     "metadata": {},
     "output_type": "execute_result"
    }
   ],
   "source": [
    "[value for value in y1 if value+\".mrxs\"  in x]"
   ]
  },
  {
   "cell_type": "code",
   "execution_count": 94,
   "metadata": {},
   "outputs": [],
   "source": [
    "clinical_metadata =  pd.read_csv(\"/gladstone/finkbeiner/steve/work/data/npsad_data/vivek/Metadata/Clincal_metadata_updated_all_cols.csv\")"
   ]
  },
  {
   "cell_type": "code",
   "execution_count": 97,
   "metadata": {},
   "outputs": [],
   "source": [
    "all_matched_xenums = clinical_metadata[~clinical_metadata[\"XENum\"].isna()]"
   ]
  },
  {
   "cell_type": "code",
   "execution_count": 100,
   "metadata": {},
   "outputs": [],
   "source": [
    "xenums = [l.split(\"_\")[0] for l in x]"
   ]
  },
  {
   "cell_type": "code",
   "execution_count": 104,
   "metadata": {},
   "outputs": [],
   "source": [
    "all_xenum_list  =all_matched_xenums[\"XENum\"].values "
   ]
  },
  {
   "cell_type": "code",
   "execution_count": 106,
   "metadata": {},
   "outputs": [
    {
     "data": {
      "text/plain": [
       "['XE19-037',\n",
       " 'XE19-028',\n",
       " 'XE17-004',\n",
       " 'XE19-010',\n",
       " 'XE17-029',\n",
       " 'XE17-014',\n",
       " 'XE19-028',\n",
       " 'XE10-009',\n",
       " 'XE17-014',\n",
       " 'XE17-029',\n",
       " 'XE17-010']"
      ]
     },
     "execution_count": 106,
     "metadata": {},
     "output_type": "execute_result"
    }
   ],
   "source": [
    "[value for value in xenums if value not in all_xenum_list]"
   ]
  },
  {
   "cell_type": "code",
   "execution_count": 110,
   "metadata": {},
   "outputs": [
    {
     "data": {
      "text/plain": [
       "11"
      ]
     },
     "execution_count": 110,
     "metadata": {},
     "output_type": "execute_result"
    }
   ],
   "source": [
    "len([value for value in xenums if value not in all_xenum_list])"
   ]
  },
  {
   "cell_type": "code",
   "execution_count": 108,
   "metadata": {},
   "outputs": [],
   "source": [
    "xenums_test = [l.split(\"_\")[0] for l in y1]"
   ]
  },
  {
   "cell_type": "code",
   "execution_count": 111,
   "metadata": {},
   "outputs": [
    {
     "data": {
      "text/plain": [
       "4"
      ]
     },
     "execution_count": 111,
     "metadata": {},
     "output_type": "execute_result"
    }
   ],
   "source": [
    "len([value for value in xenums_test if value not in all_xenum_list])"
   ]
  },
  {
   "cell_type": "code",
   "execution_count": null,
   "metadata": {},
   "outputs": [],
   "source": []
  }
 ],
 "metadata": {
  "kernelspec": {
   "display_name": "kfold_amy_plaque1",
   "language": "python",
   "name": "python3"
  },
  "language_info": {
   "codemirror_mode": {
    "name": "ipython",
    "version": 3
   },
   "file_extension": ".py",
   "mimetype": "text/x-python",
   "name": "python",
   "nbconvert_exporter": "python",
   "pygments_lexer": "ipython3",
   "version": "3.9.7"
  }
 },
 "nbformat": 4,
 "nbformat_minor": 2
}
