{
 "cells": [
  {
   "cell_type": "code",
   "execution_count": 17,
   "metadata": {},
   "outputs": [],
   "source": [
    "import os\n",
    "from os.path import exists\n",
    "import glob\n",
    "import json\n",
    "import shutil"
   ]
  },
  {
   "cell_type": "code",
   "execution_count": 2,
   "metadata": {},
   "outputs": [],
   "source": [
    "DATASET_PATH = \"/gladstone/finkbeiner/steve/work/data/npsad_data/vivek/Datasets/amyb_wsi/\"\n",
    "patient_folder = os.listdir(DATASET_PATH)"
   ]
  },
  {
   "cell_type": "code",
   "execution_count": 5,
   "metadata": {},
   "outputs": [],
   "source": [
    "patient_folder.remove( '.DS_Store')"
   ]
  },
  {
   "cell_type": "code",
   "execution_count": 7,
   "metadata": {},
   "outputs": [],
   "source": [
    "patient_folder.remove('train')\n",
    "patient_folder.remove('val')"
   ]
  },
  {
   "cell_type": "code",
   "execution_count": 11,
   "metadata": {},
   "outputs": [],
   "source": [
    "val = os.listdir(os.path.join(DATASET_PATH,\"val\"))\n",
    "val.remove( '.DS_Store')"
   ]
  },
  {
   "cell_type": "code",
   "execution_count": 13,
   "metadata": {},
   "outputs": [],
   "source": [
    "for item in val:\n",
    "    patient_folder.remove(item)"
   ]
  },
  {
   "cell_type": "code",
   "execution_count": 14,
   "metadata": {},
   "outputs": [
    {
     "data": {
      "text/plain": [
       "['XE10-053_1_AmyB_1',\n",
       " 'XE15-039_1_AmyB_1',\n",
       " 'XE19-037_1_AmyB_1',\n",
       " 'XE18-003_1_AmyB_1',\n",
       " 'XE11-039_1_AmyB_1',\n",
       " 'XE10-045_1_AmyB_1',\n",
       " 'XE19-010_1_AmyB_1',\n",
       " 'XE07-048_1_AmyB_1',\n",
       " 'XE07-049_1_AmyB_1',\n",
       " 'XE18-066_1_AmyB_1']"
      ]
     },
     "execution_count": 14,
     "metadata": {},
     "output_type": "execute_result"
    }
   ],
   "source": [
    "patient_folder"
   ]
  },
  {
   "cell_type": "code",
   "execution_count": 18,
   "metadata": {},
   "outputs": [
    {
     "name": "stdout",
     "output_type": "stream",
     "text": [
      "Files are copied successfully\n",
      "Files are copied successfully\n",
      "Files are copied successfully\n",
      "Files are copied successfully\n",
      "Files are copied successfully\n",
      "Files are copied successfully\n",
      "Files are copied successfully\n",
      "Files are copied successfully\n",
      "Files are copied successfully\n",
      "Files are copied successfully\n",
      "Files are copied successfully\n",
      "Files are copied successfully\n",
      "Files are copied successfully\n",
      "Files are copied successfully\n",
      "Files are copied successfully\n",
      "Files are copied successfully\n",
      "Files are copied successfully\n",
      "Files are copied successfully\n",
      "Files are copied successfully\n",
      "Files are copied successfully\n"
     ]
    }
   ],
   "source": [
    "\n",
    "TARGET_PATH = '/gladstone/finkbeiner/steve/work/data/npsad_data/vivek/Datasets/amyb_wsi/train'\n",
    "target_folders = [\"images\",\"labels\"]\n",
    "origin_folders = [\"image\",\"mask\"]\n",
    "for i in patient_folder:\n",
    "   for target_folder,origin_folder in zip(target_folders,origin_folders):\n",
    "      if i==\".DS_Store\":\n",
    "         continue\n",
    "      origin = os.path.join(DATASET_PATH,i,origin_folder)\n",
    "      target = os.path.join(TARGET_PATH,target_folder)\n",
    "      if not os.path.exists(target):\n",
    "         os.makedirs(target)\n",
    "      #print(origin)\n",
    "      # Fetching the list of all the files\n",
    "      files = os.listdir(origin)\n",
    "      #print(files)\n",
    "      # Fetching all the files to directory\n",
    "      for file_name in files:\n",
    "         shutil.copyfile(os.path.join(origin,file_name), os.path.join(target,file_name))\n",
    "      print(\"Files are copied successfully\")"
   ]
  },
  {
   "cell_type": "code",
   "execution_count": null,
   "metadata": {},
   "outputs": [],
   "source": []
  }
 ],
 "metadata": {
  "kernelspec": {
   "display_name": "kfold_amy_plaque1",
   "language": "python",
   "name": "python3"
  },
  "language_info": {
   "codemirror_mode": {
    "name": "ipython",
    "version": 3
   },
   "file_extension": ".py",
   "mimetype": "text/x-python",
   "name": "python",
   "nbconvert_exporter": "python",
   "pygments_lexer": "ipython3",
   "version": "3.9.7"
  }
 },
 "nbformat": 4,
 "nbformat_minor": 2
}
