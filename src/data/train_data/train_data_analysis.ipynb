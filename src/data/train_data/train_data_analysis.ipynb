{
 "cells": [
  {
   "cell_type": "code",
   "execution_count": 1,
   "metadata": {},
   "outputs": [],
   "source": [
    "import pandas as pd\n",
    "import numpy as np\n",
    "from glob import glob\n",
    "import os\n",
    "import json\n",
    "from PIL import Image\n",
    "import albumentations as A\n",
    "import random\n",
    "import os\n",
    "from os.path import exists\n",
    "import glob\n",
    "import json\n",
    "import shutil"
   ]
  },
  {
   "cell_type": "code",
   "execution_count": 2,
   "metadata": {},
   "outputs": [],
   "source": [
    "path = \"/gladstone/finkbeiner/steve/work/data/npsad_data/vivek/amy-def-mfg-jsons\""
   ]
  },
  {
   "cell_type": "code",
   "execution_count": 3,
   "metadata": {},
   "outputs": [],
   "source": [
    "val_path = \"/gladstone/finkbeiner/steve/work/data/npsad_data/vivek/amy-def-mfg-test-jsons\""
   ]
  },
  {
   "cell_type": "code",
   "execution_count": 49,
   "metadata": {},
   "outputs": [],
   "source": [
    "df = pd.DataFrame({\"json_path\":glob(os.path.join(path,\"*.json\"))})"
   ]
  },
  {
   "cell_type": "code",
   "execution_count": 50,
   "metadata": {},
   "outputs": [],
   "source": [
    "val_df = pd.DataFrame({\"json_path\":glob(os.path.join(val_path,\"*.json\"))})"
   ]
  },
  {
   "cell_type": "code",
   "execution_count": 51,
   "metadata": {},
   "outputs": [],
   "source": [
    "def get_count(l):\n",
    "    with open(l) as f:\n",
    "        data = json.load(f)\n",
    "    plaque_dict = {'Cored': 0, 'Diffuse': 0, 'Coarse-Grained': 0,'CAA': 0}\n",
    "    for tileId, ele in data.items():\n",
    "        for region in ele:\n",
    "            if \"label\" in region.keys():\n",
    "                if \"name\" in region['label'].keys():\n",
    "                    plaque_dict[region['label'][\"name\"]]=plaque_dict[region['label'][\"name\"]]+1\n",
    "    return plaque_dict\n",
    "                "
   ]
  },
  {
   "cell_type": "code",
   "execution_count": 5,
   "metadata": {},
   "outputs": [],
   "source": [
    "for cls in [\"Cored\",\"Diffuse\",\"Coarse-Grained\",\"CAA\"]:\n",
    "    df[cls] = df[\"json_path\"].apply(lambda l:get_count(l)[cls] )"
   ]
  },
  {
   "cell_type": "code",
   "execution_count": 20,
   "metadata": {},
   "outputs": [],
   "source": [
    "for cls in [\"Cored\",\"Diffuse\",\"Coarse-Grained\",\"CAA\"]:\n",
    "    val_df[cls] = val_df[\"json_path\"].apply(lambda l:get_count(l)[cls] )"
   ]
  },
  {
   "cell_type": "code",
   "execution_count": 11,
   "metadata": {},
   "outputs": [],
   "source": [
    "df[\"file_name\"] = df[\"json_path\"].apply(lambda l: l.split(\"/\")[-1].split(\".\")[0])"
   ]
  },
  {
   "cell_type": "code",
   "execution_count": 21,
   "metadata": {},
   "outputs": [],
   "source": [
    "val_df[\"file_name\"] = val_df[\"json_path\"].apply(lambda l: l.split(\"/\")[-1].split(\".\")[0])"
   ]
  },
  {
   "cell_type": "code",
   "execution_count": 12,
   "metadata": {},
   "outputs": [
    {
     "data": {
      "text/html": [
       "<div>\n",
       "<style scoped>\n",
       "    .dataframe tbody tr th:only-of-type {\n",
       "        vertical-align: middle;\n",
       "    }\n",
       "\n",
       "    .dataframe tbody tr th {\n",
       "        vertical-align: top;\n",
       "    }\n",
       "\n",
       "    .dataframe thead th {\n",
       "        text-align: right;\n",
       "    }\n",
       "</style>\n",
       "<table border=\"1\" class=\"dataframe\">\n",
       "  <thead>\n",
       "    <tr style=\"text-align: right;\">\n",
       "      <th></th>\n",
       "      <th>json_path</th>\n",
       "      <th>Cored</th>\n",
       "      <th>Diffuse</th>\n",
       "      <th>Coarse-Grained</th>\n",
       "      <th>CAA</th>\n",
       "      <th>file_name</th>\n",
       "    </tr>\n",
       "  </thead>\n",
       "  <tbody>\n",
       "    <tr>\n",
       "      <th>0</th>\n",
       "      <td>/gladstone/finkbeiner/steve/work/data/npsad_da...</td>\n",
       "      <td>21</td>\n",
       "      <td>26</td>\n",
       "      <td>3</td>\n",
       "      <td>0</td>\n",
       "      <td>XE07-047_1_AmyB_1</td>\n",
       "    </tr>\n",
       "    <tr>\n",
       "      <th>1</th>\n",
       "      <td>/gladstone/finkbeiner/steve/work/data/npsad_da...</td>\n",
       "      <td>5</td>\n",
       "      <td>34</td>\n",
       "      <td>3</td>\n",
       "      <td>0</td>\n",
       "      <td>XE18-066_1_AmyB_1</td>\n",
       "    </tr>\n",
       "    <tr>\n",
       "      <th>2</th>\n",
       "      <td>/gladstone/finkbeiner/steve/work/data/npsad_da...</td>\n",
       "      <td>13</td>\n",
       "      <td>18</td>\n",
       "      <td>4</td>\n",
       "      <td>8</td>\n",
       "      <td>XE07-064_1_AmyB_1</td>\n",
       "    </tr>\n",
       "    <tr>\n",
       "      <th>3</th>\n",
       "      <td>/gladstone/finkbeiner/steve/work/data/npsad_da...</td>\n",
       "      <td>2</td>\n",
       "      <td>27</td>\n",
       "      <td>3</td>\n",
       "      <td>9</td>\n",
       "      <td>XE17-004_1_AmyB_1</td>\n",
       "    </tr>\n",
       "    <tr>\n",
       "      <th>4</th>\n",
       "      <td>/gladstone/finkbeiner/steve/work/data/npsad_da...</td>\n",
       "      <td>23</td>\n",
       "      <td>22</td>\n",
       "      <td>14</td>\n",
       "      <td>0</td>\n",
       "      <td>XE15-039_1_AmyB_1</td>\n",
       "    </tr>\n",
       "    <tr>\n",
       "      <th>5</th>\n",
       "      <td>/gladstone/finkbeiner/steve/work/data/npsad_da...</td>\n",
       "      <td>1</td>\n",
       "      <td>20</td>\n",
       "      <td>0</td>\n",
       "      <td>2</td>\n",
       "      <td>XE19-037_1_AmyB_1</td>\n",
       "    </tr>\n",
       "    <tr>\n",
       "      <th>6</th>\n",
       "      <td>/gladstone/finkbeiner/steve/work/data/npsad_da...</td>\n",
       "      <td>10</td>\n",
       "      <td>13</td>\n",
       "      <td>10</td>\n",
       "      <td>9</td>\n",
       "      <td>XE17-039_1_AmyB_1</td>\n",
       "    </tr>\n",
       "    <tr>\n",
       "      <th>7</th>\n",
       "      <td>/gladstone/finkbeiner/steve/work/data/npsad_da...</td>\n",
       "      <td>27</td>\n",
       "      <td>97</td>\n",
       "      <td>5</td>\n",
       "      <td>0</td>\n",
       "      <td>XE07-048_1_AmyB_1</td>\n",
       "    </tr>\n",
       "    <tr>\n",
       "      <th>8</th>\n",
       "      <td>/gladstone/finkbeiner/steve/work/data/npsad_da...</td>\n",
       "      <td>26</td>\n",
       "      <td>27</td>\n",
       "      <td>6</td>\n",
       "      <td>6</td>\n",
       "      <td>XE15-022_1_AmyB_1</td>\n",
       "    </tr>\n",
       "    <tr>\n",
       "      <th>9</th>\n",
       "      <td>/gladstone/finkbeiner/steve/work/data/npsad_da...</td>\n",
       "      <td>6</td>\n",
       "      <td>20</td>\n",
       "      <td>10</td>\n",
       "      <td>6</td>\n",
       "      <td>XE10-045_1_AmyB_1</td>\n",
       "    </tr>\n",
       "    <tr>\n",
       "      <th>10</th>\n",
       "      <td>/gladstone/finkbeiner/steve/work/data/npsad_da...</td>\n",
       "      <td>13</td>\n",
       "      <td>13</td>\n",
       "      <td>7</td>\n",
       "      <td>4</td>\n",
       "      <td>XE19-028_1_AmyB_1</td>\n",
       "    </tr>\n",
       "    <tr>\n",
       "      <th>11</th>\n",
       "      <td>/gladstone/finkbeiner/steve/work/data/npsad_da...</td>\n",
       "      <td>43</td>\n",
       "      <td>7</td>\n",
       "      <td>27</td>\n",
       "      <td>0</td>\n",
       "      <td>XE19-010_1_AmyB_1</td>\n",
       "    </tr>\n",
       "    <tr>\n",
       "      <th>12</th>\n",
       "      <td>/gladstone/finkbeiner/steve/work/data/npsad_da...</td>\n",
       "      <td>9</td>\n",
       "      <td>5</td>\n",
       "      <td>16</td>\n",
       "      <td>5</td>\n",
       "      <td>XE11-039_1_AmyB_1</td>\n",
       "    </tr>\n",
       "    <tr>\n",
       "      <th>13</th>\n",
       "      <td>/gladstone/finkbeiner/steve/work/data/npsad_da...</td>\n",
       "      <td>10</td>\n",
       "      <td>28</td>\n",
       "      <td>4</td>\n",
       "      <td>1</td>\n",
       "      <td>XE12-016_1_AmyB_1</td>\n",
       "    </tr>\n",
       "    <tr>\n",
       "      <th>14</th>\n",
       "      <td>/gladstone/finkbeiner/steve/work/data/npsad_da...</td>\n",
       "      <td>3</td>\n",
       "      <td>0</td>\n",
       "      <td>0</td>\n",
       "      <td>0</td>\n",
       "      <td>XE18-003_1_AmyB_1</td>\n",
       "    </tr>\n",
       "    <tr>\n",
       "      <th>15</th>\n",
       "      <td>/gladstone/finkbeiner/steve/work/data/npsad_da...</td>\n",
       "      <td>5</td>\n",
       "      <td>27</td>\n",
       "      <td>0</td>\n",
       "      <td>1</td>\n",
       "      <td>XE11-025_1_AmyB_1</td>\n",
       "    </tr>\n",
       "    <tr>\n",
       "      <th>16</th>\n",
       "      <td>/gladstone/finkbeiner/steve/work/data/npsad_da...</td>\n",
       "      <td>8</td>\n",
       "      <td>26</td>\n",
       "      <td>3</td>\n",
       "      <td>8</td>\n",
       "      <td>XE07-049_1_AmyB_1</td>\n",
       "    </tr>\n",
       "    <tr>\n",
       "      <th>17</th>\n",
       "      <td>/gladstone/finkbeiner/steve/work/data/npsad_da...</td>\n",
       "      <td>8</td>\n",
       "      <td>14</td>\n",
       "      <td>5</td>\n",
       "      <td>1</td>\n",
       "      <td>XE10-053_1_AmyB_1</td>\n",
       "    </tr>\n",
       "  </tbody>\n",
       "</table>\n",
       "</div>"
      ],
      "text/plain": [
       "                                            json_path  Cored  Diffuse  \\\n",
       "0   /gladstone/finkbeiner/steve/work/data/npsad_da...     21       26   \n",
       "1   /gladstone/finkbeiner/steve/work/data/npsad_da...      5       34   \n",
       "2   /gladstone/finkbeiner/steve/work/data/npsad_da...     13       18   \n",
       "3   /gladstone/finkbeiner/steve/work/data/npsad_da...      2       27   \n",
       "4   /gladstone/finkbeiner/steve/work/data/npsad_da...     23       22   \n",
       "5   /gladstone/finkbeiner/steve/work/data/npsad_da...      1       20   \n",
       "6   /gladstone/finkbeiner/steve/work/data/npsad_da...     10       13   \n",
       "7   /gladstone/finkbeiner/steve/work/data/npsad_da...     27       97   \n",
       "8   /gladstone/finkbeiner/steve/work/data/npsad_da...     26       27   \n",
       "9   /gladstone/finkbeiner/steve/work/data/npsad_da...      6       20   \n",
       "10  /gladstone/finkbeiner/steve/work/data/npsad_da...     13       13   \n",
       "11  /gladstone/finkbeiner/steve/work/data/npsad_da...     43        7   \n",
       "12  /gladstone/finkbeiner/steve/work/data/npsad_da...      9        5   \n",
       "13  /gladstone/finkbeiner/steve/work/data/npsad_da...     10       28   \n",
       "14  /gladstone/finkbeiner/steve/work/data/npsad_da...      3        0   \n",
       "15  /gladstone/finkbeiner/steve/work/data/npsad_da...      5       27   \n",
       "16  /gladstone/finkbeiner/steve/work/data/npsad_da...      8       26   \n",
       "17  /gladstone/finkbeiner/steve/work/data/npsad_da...      8       14   \n",
       "\n",
       "    Coarse-Grained  CAA          file_name  \n",
       "0                3    0  XE07-047_1_AmyB_1  \n",
       "1                3    0  XE18-066_1_AmyB_1  \n",
       "2                4    8  XE07-064_1_AmyB_1  \n",
       "3                3    9  XE17-004_1_AmyB_1  \n",
       "4               14    0  XE15-039_1_AmyB_1  \n",
       "5                0    2  XE19-037_1_AmyB_1  \n",
       "6               10    9  XE17-039_1_AmyB_1  \n",
       "7                5    0  XE07-048_1_AmyB_1  \n",
       "8                6    6  XE15-022_1_AmyB_1  \n",
       "9               10    6  XE10-045_1_AmyB_1  \n",
       "10               7    4  XE19-028_1_AmyB_1  \n",
       "11              27    0  XE19-010_1_AmyB_1  \n",
       "12              16    5  XE11-039_1_AmyB_1  \n",
       "13               4    1  XE12-016_1_AmyB_1  \n",
       "14               0    0  XE18-003_1_AmyB_1  \n",
       "15               0    1  XE11-025_1_AmyB_1  \n",
       "16               3    8  XE07-049_1_AmyB_1  \n",
       "17               5    1  XE10-053_1_AmyB_1  "
      ]
     },
     "execution_count": 12,
     "metadata": {},
     "output_type": "execute_result"
    }
   ],
   "source": [
    "df"
   ]
  },
  {
   "cell_type": "code",
   "execution_count": 13,
   "metadata": {},
   "outputs": [],
   "source": [
    "test_files =  [x.split(\"/\")[-1] for x in glob(os.path.join(\"/gladstone/finkbeiner/steve/work/data/npsad_data/vivek/Datasets/amyb_wsi/test\",\"*\"))]"
   ]
  },
  {
   "cell_type": "code",
   "execution_count": 28,
   "metadata": {},
   "outputs": [],
   "source": [
    "val_files =  [x.split(\"/\")[-1] for x in glob(os.path.join(\"/gladstone/finkbeiner/steve/work/data/npsad_data/vivek/Datasets/amyb_wsi/val\",\"*\"))]"
   ]
  },
  {
   "cell_type": "code",
   "execution_count": 29,
   "metadata": {},
   "outputs": [
    {
     "data": {
      "text/plain": [
       "['XE16-021_1_AmyB_1',\n",
       " 'XE17-059_1_AmyB_1',\n",
       " 'XE12-016_1_AmyB_1',\n",
       " 'XE14-004_1_AmyB_1',\n",
       " 'XE13-007_1_AmyB_1',\n",
       " 'XE17-030_1_AmyB_1',\n",
       " 'XE17-010_1_AmyB_1']"
      ]
     },
     "execution_count": 29,
     "metadata": {},
     "output_type": "execute_result"
    }
   ],
   "source": [
    "val_files"
   ]
  },
  {
   "cell_type": "code",
   "execution_count": 30,
   "metadata": {},
   "outputs": [],
   "source": [
    "val_df[\"flag\"] = val_df[\"file_name\"].apply(lambda l: \"val\" if l in val_files else \"train\")"
   ]
  },
  {
   "cell_type": "code",
   "execution_count": 15,
   "metadata": {},
   "outputs": [],
   "source": [
    "df[\"flag\"] = df[\"file_name\"].apply(lambda l: \"test\" if l in test_files else \"train\")"
   ]
  },
  {
   "cell_type": "code",
   "execution_count": 31,
   "metadata": {},
   "outputs": [],
   "source": [
    "df1 = pd.concat([df,val_df], ignore_index=True)"
   ]
  },
  {
   "cell_type": "code",
   "execution_count": 32,
   "metadata": {},
   "outputs": [
    {
     "data": {
      "text/html": [
       "<div>\n",
       "<style scoped>\n",
       "    .dataframe tbody tr th:only-of-type {\n",
       "        vertical-align: middle;\n",
       "    }\n",
       "\n",
       "    .dataframe tbody tr th {\n",
       "        vertical-align: top;\n",
       "    }\n",
       "\n",
       "    .dataframe thead th {\n",
       "        text-align: right;\n",
       "    }\n",
       "</style>\n",
       "<table border=\"1\" class=\"dataframe\">\n",
       "  <thead>\n",
       "    <tr style=\"text-align: right;\">\n",
       "      <th></th>\n",
       "      <th>Cored</th>\n",
       "      <th>Diffuse</th>\n",
       "      <th>Coarse-Grained</th>\n",
       "      <th>CAA</th>\n",
       "    </tr>\n",
       "    <tr>\n",
       "      <th>flag</th>\n",
       "      <th></th>\n",
       "      <th></th>\n",
       "      <th></th>\n",
       "      <th></th>\n",
       "    </tr>\n",
       "  </thead>\n",
       "  <tbody>\n",
       "    <tr>\n",
       "      <th>test</th>\n",
       "      <td>26</td>\n",
       "      <td>85</td>\n",
       "      <td>22</td>\n",
       "      <td>15</td>\n",
       "    </tr>\n",
       "    <tr>\n",
       "      <th>train</th>\n",
       "      <td>246</td>\n",
       "      <td>393</td>\n",
       "      <td>131</td>\n",
       "      <td>66</td>\n",
       "    </tr>\n",
       "    <tr>\n",
       "      <th>val</th>\n",
       "      <td>49</td>\n",
       "      <td>69</td>\n",
       "      <td>62</td>\n",
       "      <td>13</td>\n",
       "    </tr>\n",
       "  </tbody>\n",
       "</table>\n",
       "</div>"
      ],
      "text/plain": [
       "       Cored  Diffuse  Coarse-Grained  CAA\n",
       "flag                                      \n",
       "test      26       85              22   15\n",
       "train    246      393             131   66\n",
       "val       49       69              62   13"
      ]
     },
     "execution_count": 32,
     "metadata": {},
     "output_type": "execute_result"
    }
   ],
   "source": [
    "df1.groupby([\"flag\"]).sum()"
   ]
  },
  {
   "cell_type": "code",
   "execution_count": 33,
   "metadata": {},
   "outputs": [
    {
     "data": {
      "text/html": [
       "<div>\n",
       "<style scoped>\n",
       "    .dataframe tbody tr th:only-of-type {\n",
       "        vertical-align: middle;\n",
       "    }\n",
       "\n",
       "    .dataframe tbody tr th {\n",
       "        vertical-align: top;\n",
       "    }\n",
       "\n",
       "    .dataframe thead th {\n",
       "        text-align: right;\n",
       "    }\n",
       "</style>\n",
       "<table border=\"1\" class=\"dataframe\">\n",
       "  <thead>\n",
       "    <tr style=\"text-align: right;\">\n",
       "      <th></th>\n",
       "      <th>json_path</th>\n",
       "      <th>Cored</th>\n",
       "      <th>Diffuse</th>\n",
       "      <th>Coarse-Grained</th>\n",
       "      <th>CAA</th>\n",
       "      <th>file_name</th>\n",
       "      <th>flag</th>\n",
       "    </tr>\n",
       "  </thead>\n",
       "  <tbody>\n",
       "    <tr>\n",
       "      <th>0</th>\n",
       "      <td>/gladstone/finkbeiner/steve/work/data/npsad_da...</td>\n",
       "      <td>21</td>\n",
       "      <td>26</td>\n",
       "      <td>3</td>\n",
       "      <td>0</td>\n",
       "      <td>XE07-047_1_AmyB_1</td>\n",
       "      <td>train</td>\n",
       "    </tr>\n",
       "    <tr>\n",
       "      <th>1</th>\n",
       "      <td>/gladstone/finkbeiner/steve/work/data/npsad_da...</td>\n",
       "      <td>5</td>\n",
       "      <td>34</td>\n",
       "      <td>3</td>\n",
       "      <td>0</td>\n",
       "      <td>XE18-066_1_AmyB_1</td>\n",
       "      <td>test</td>\n",
       "    </tr>\n",
       "    <tr>\n",
       "      <th>2</th>\n",
       "      <td>/gladstone/finkbeiner/steve/work/data/npsad_da...</td>\n",
       "      <td>13</td>\n",
       "      <td>18</td>\n",
       "      <td>4</td>\n",
       "      <td>8</td>\n",
       "      <td>XE07-064_1_AmyB_1</td>\n",
       "      <td>train</td>\n",
       "    </tr>\n",
       "    <tr>\n",
       "      <th>3</th>\n",
       "      <td>/gladstone/finkbeiner/steve/work/data/npsad_da...</td>\n",
       "      <td>2</td>\n",
       "      <td>27</td>\n",
       "      <td>3</td>\n",
       "      <td>9</td>\n",
       "      <td>XE17-004_1_AmyB_1</td>\n",
       "      <td>train</td>\n",
       "    </tr>\n",
       "    <tr>\n",
       "      <th>4</th>\n",
       "      <td>/gladstone/finkbeiner/steve/work/data/npsad_da...</td>\n",
       "      <td>23</td>\n",
       "      <td>22</td>\n",
       "      <td>14</td>\n",
       "      <td>0</td>\n",
       "      <td>XE15-039_1_AmyB_1</td>\n",
       "      <td>train</td>\n",
       "    </tr>\n",
       "    <tr>\n",
       "      <th>5</th>\n",
       "      <td>/gladstone/finkbeiner/steve/work/data/npsad_da...</td>\n",
       "      <td>1</td>\n",
       "      <td>20</td>\n",
       "      <td>0</td>\n",
       "      <td>2</td>\n",
       "      <td>XE19-037_1_AmyB_1</td>\n",
       "      <td>test</td>\n",
       "    </tr>\n",
       "    <tr>\n",
       "      <th>6</th>\n",
       "      <td>/gladstone/finkbeiner/steve/work/data/npsad_da...</td>\n",
       "      <td>10</td>\n",
       "      <td>13</td>\n",
       "      <td>10</td>\n",
       "      <td>9</td>\n",
       "      <td>XE17-039_1_AmyB_1</td>\n",
       "      <td>train</td>\n",
       "    </tr>\n",
       "    <tr>\n",
       "      <th>7</th>\n",
       "      <td>/gladstone/finkbeiner/steve/work/data/npsad_da...</td>\n",
       "      <td>27</td>\n",
       "      <td>97</td>\n",
       "      <td>5</td>\n",
       "      <td>0</td>\n",
       "      <td>XE07-048_1_AmyB_1</td>\n",
       "      <td>train</td>\n",
       "    </tr>\n",
       "    <tr>\n",
       "      <th>8</th>\n",
       "      <td>/gladstone/finkbeiner/steve/work/data/npsad_da...</td>\n",
       "      <td>26</td>\n",
       "      <td>27</td>\n",
       "      <td>6</td>\n",
       "      <td>6</td>\n",
       "      <td>XE15-022_1_AmyB_1</td>\n",
       "      <td>train</td>\n",
       "    </tr>\n",
       "    <tr>\n",
       "      <th>9</th>\n",
       "      <td>/gladstone/finkbeiner/steve/work/data/npsad_da...</td>\n",
       "      <td>6</td>\n",
       "      <td>20</td>\n",
       "      <td>10</td>\n",
       "      <td>6</td>\n",
       "      <td>XE10-045_1_AmyB_1</td>\n",
       "      <td>train</td>\n",
       "    </tr>\n",
       "    <tr>\n",
       "      <th>10</th>\n",
       "      <td>/gladstone/finkbeiner/steve/work/data/npsad_da...</td>\n",
       "      <td>13</td>\n",
       "      <td>13</td>\n",
       "      <td>7</td>\n",
       "      <td>4</td>\n",
       "      <td>XE19-028_1_AmyB_1</td>\n",
       "      <td>train</td>\n",
       "    </tr>\n",
       "    <tr>\n",
       "      <th>11</th>\n",
       "      <td>/gladstone/finkbeiner/steve/work/data/npsad_da...</td>\n",
       "      <td>43</td>\n",
       "      <td>7</td>\n",
       "      <td>27</td>\n",
       "      <td>0</td>\n",
       "      <td>XE19-010_1_AmyB_1</td>\n",
       "      <td>train</td>\n",
       "    </tr>\n",
       "    <tr>\n",
       "      <th>12</th>\n",
       "      <td>/gladstone/finkbeiner/steve/work/data/npsad_da...</td>\n",
       "      <td>9</td>\n",
       "      <td>5</td>\n",
       "      <td>16</td>\n",
       "      <td>5</td>\n",
       "      <td>XE11-039_1_AmyB_1</td>\n",
       "      <td>test</td>\n",
       "    </tr>\n",
       "    <tr>\n",
       "      <th>13</th>\n",
       "      <td>/gladstone/finkbeiner/steve/work/data/npsad_da...</td>\n",
       "      <td>10</td>\n",
       "      <td>28</td>\n",
       "      <td>4</td>\n",
       "      <td>1</td>\n",
       "      <td>XE12-016_1_AmyB_1</td>\n",
       "      <td>train</td>\n",
       "    </tr>\n",
       "    <tr>\n",
       "      <th>14</th>\n",
       "      <td>/gladstone/finkbeiner/steve/work/data/npsad_da...</td>\n",
       "      <td>3</td>\n",
       "      <td>0</td>\n",
       "      <td>0</td>\n",
       "      <td>0</td>\n",
       "      <td>XE18-003_1_AmyB_1</td>\n",
       "      <td>test</td>\n",
       "    </tr>\n",
       "    <tr>\n",
       "      <th>15</th>\n",
       "      <td>/gladstone/finkbeiner/steve/work/data/npsad_da...</td>\n",
       "      <td>5</td>\n",
       "      <td>27</td>\n",
       "      <td>0</td>\n",
       "      <td>1</td>\n",
       "      <td>XE11-025_1_AmyB_1</td>\n",
       "      <td>train</td>\n",
       "    </tr>\n",
       "    <tr>\n",
       "      <th>16</th>\n",
       "      <td>/gladstone/finkbeiner/steve/work/data/npsad_da...</td>\n",
       "      <td>8</td>\n",
       "      <td>26</td>\n",
       "      <td>3</td>\n",
       "      <td>8</td>\n",
       "      <td>XE07-049_1_AmyB_1</td>\n",
       "      <td>test</td>\n",
       "    </tr>\n",
       "    <tr>\n",
       "      <th>17</th>\n",
       "      <td>/gladstone/finkbeiner/steve/work/data/npsad_da...</td>\n",
       "      <td>8</td>\n",
       "      <td>14</td>\n",
       "      <td>5</td>\n",
       "      <td>1</td>\n",
       "      <td>XE10-053_1_AmyB_1</td>\n",
       "      <td>train</td>\n",
       "    </tr>\n",
       "    <tr>\n",
       "      <th>18</th>\n",
       "      <td>/gladstone/finkbeiner/steve/work/data/npsad_da...</td>\n",
       "      <td>3</td>\n",
       "      <td>6</td>\n",
       "      <td>22</td>\n",
       "      <td>0</td>\n",
       "      <td>XE14-004_1_AmyB_1</td>\n",
       "      <td>val</td>\n",
       "    </tr>\n",
       "    <tr>\n",
       "      <th>19</th>\n",
       "      <td>/gladstone/finkbeiner/steve/work/data/npsad_da...</td>\n",
       "      <td>5</td>\n",
       "      <td>13</td>\n",
       "      <td>9</td>\n",
       "      <td>0</td>\n",
       "      <td>XE17-010_1_AmyB_1</td>\n",
       "      <td>val</td>\n",
       "    </tr>\n",
       "    <tr>\n",
       "      <th>20</th>\n",
       "      <td>/gladstone/finkbeiner/steve/work/data/npsad_da...</td>\n",
       "      <td>0</td>\n",
       "      <td>0</td>\n",
       "      <td>0</td>\n",
       "      <td>0</td>\n",
       "      <td>XE17-030_1_AmyB_1</td>\n",
       "      <td>val</td>\n",
       "    </tr>\n",
       "    <tr>\n",
       "      <th>21</th>\n",
       "      <td>/gladstone/finkbeiner/steve/work/data/npsad_da...</td>\n",
       "      <td>14</td>\n",
       "      <td>3</td>\n",
       "      <td>17</td>\n",
       "      <td>4</td>\n",
       "      <td>XE17-059_1_AmyB_1</td>\n",
       "      <td>val</td>\n",
       "    </tr>\n",
       "    <tr>\n",
       "      <th>22</th>\n",
       "      <td>/gladstone/finkbeiner/steve/work/data/npsad_da...</td>\n",
       "      <td>5</td>\n",
       "      <td>13</td>\n",
       "      <td>10</td>\n",
       "      <td>9</td>\n",
       "      <td>XE16-021_1_AmyB_1</td>\n",
       "      <td>val</td>\n",
       "    </tr>\n",
       "    <tr>\n",
       "      <th>23</th>\n",
       "      <td>/gladstone/finkbeiner/steve/work/data/npsad_da...</td>\n",
       "      <td>10</td>\n",
       "      <td>29</td>\n",
       "      <td>25</td>\n",
       "      <td>0</td>\n",
       "      <td>XE09-063_1_AmyB_1</td>\n",
       "      <td>train</td>\n",
       "    </tr>\n",
       "    <tr>\n",
       "      <th>24</th>\n",
       "      <td>/gladstone/finkbeiner/steve/work/data/npsad_da...</td>\n",
       "      <td>1</td>\n",
       "      <td>2</td>\n",
       "      <td>4</td>\n",
       "      <td>0</td>\n",
       "      <td>XE18-001_1_AmyB_1</td>\n",
       "      <td>train</td>\n",
       "    </tr>\n",
       "    <tr>\n",
       "      <th>25</th>\n",
       "      <td>/gladstone/finkbeiner/steve/work/data/npsad_da...</td>\n",
       "      <td>3</td>\n",
       "      <td>0</td>\n",
       "      <td>2</td>\n",
       "      <td>0</td>\n",
       "      <td>XE18-004_1_AmyB_1</td>\n",
       "      <td>train</td>\n",
       "    </tr>\n",
       "    <tr>\n",
       "      <th>26</th>\n",
       "      <td>/gladstone/finkbeiner/steve/work/data/npsad_da...</td>\n",
       "      <td>22</td>\n",
       "      <td>34</td>\n",
       "      <td>4</td>\n",
       "      <td>0</td>\n",
       "      <td>XE13-007_1_AmyB_1</td>\n",
       "      <td>val</td>\n",
       "    </tr>\n",
       "    <tr>\n",
       "      <th>27</th>\n",
       "      <td>/gladstone/finkbeiner/steve/work/data/npsad_da...</td>\n",
       "      <td>25</td>\n",
       "      <td>23</td>\n",
       "      <td>2</td>\n",
       "      <td>21</td>\n",
       "      <td>XE12-010_1_AmyB_1</td>\n",
       "      <td>train</td>\n",
       "    </tr>\n",
       "  </tbody>\n",
       "</table>\n",
       "</div>"
      ],
      "text/plain": [
       "                                            json_path  Cored  Diffuse  \\\n",
       "0   /gladstone/finkbeiner/steve/work/data/npsad_da...     21       26   \n",
       "1   /gladstone/finkbeiner/steve/work/data/npsad_da...      5       34   \n",
       "2   /gladstone/finkbeiner/steve/work/data/npsad_da...     13       18   \n",
       "3   /gladstone/finkbeiner/steve/work/data/npsad_da...      2       27   \n",
       "4   /gladstone/finkbeiner/steve/work/data/npsad_da...     23       22   \n",
       "5   /gladstone/finkbeiner/steve/work/data/npsad_da...      1       20   \n",
       "6   /gladstone/finkbeiner/steve/work/data/npsad_da...     10       13   \n",
       "7   /gladstone/finkbeiner/steve/work/data/npsad_da...     27       97   \n",
       "8   /gladstone/finkbeiner/steve/work/data/npsad_da...     26       27   \n",
       "9   /gladstone/finkbeiner/steve/work/data/npsad_da...      6       20   \n",
       "10  /gladstone/finkbeiner/steve/work/data/npsad_da...     13       13   \n",
       "11  /gladstone/finkbeiner/steve/work/data/npsad_da...     43        7   \n",
       "12  /gladstone/finkbeiner/steve/work/data/npsad_da...      9        5   \n",
       "13  /gladstone/finkbeiner/steve/work/data/npsad_da...     10       28   \n",
       "14  /gladstone/finkbeiner/steve/work/data/npsad_da...      3        0   \n",
       "15  /gladstone/finkbeiner/steve/work/data/npsad_da...      5       27   \n",
       "16  /gladstone/finkbeiner/steve/work/data/npsad_da...      8       26   \n",
       "17  /gladstone/finkbeiner/steve/work/data/npsad_da...      8       14   \n",
       "18  /gladstone/finkbeiner/steve/work/data/npsad_da...      3        6   \n",
       "19  /gladstone/finkbeiner/steve/work/data/npsad_da...      5       13   \n",
       "20  /gladstone/finkbeiner/steve/work/data/npsad_da...      0        0   \n",
       "21  /gladstone/finkbeiner/steve/work/data/npsad_da...     14        3   \n",
       "22  /gladstone/finkbeiner/steve/work/data/npsad_da...      5       13   \n",
       "23  /gladstone/finkbeiner/steve/work/data/npsad_da...     10       29   \n",
       "24  /gladstone/finkbeiner/steve/work/data/npsad_da...      1        2   \n",
       "25  /gladstone/finkbeiner/steve/work/data/npsad_da...      3        0   \n",
       "26  /gladstone/finkbeiner/steve/work/data/npsad_da...     22       34   \n",
       "27  /gladstone/finkbeiner/steve/work/data/npsad_da...     25       23   \n",
       "\n",
       "    Coarse-Grained  CAA          file_name   flag  \n",
       "0                3    0  XE07-047_1_AmyB_1  train  \n",
       "1                3    0  XE18-066_1_AmyB_1   test  \n",
       "2                4    8  XE07-064_1_AmyB_1  train  \n",
       "3                3    9  XE17-004_1_AmyB_1  train  \n",
       "4               14    0  XE15-039_1_AmyB_1  train  \n",
       "5                0    2  XE19-037_1_AmyB_1   test  \n",
       "6               10    9  XE17-039_1_AmyB_1  train  \n",
       "7                5    0  XE07-048_1_AmyB_1  train  \n",
       "8                6    6  XE15-022_1_AmyB_1  train  \n",
       "9               10    6  XE10-045_1_AmyB_1  train  \n",
       "10               7    4  XE19-028_1_AmyB_1  train  \n",
       "11              27    0  XE19-010_1_AmyB_1  train  \n",
       "12              16    5  XE11-039_1_AmyB_1   test  \n",
       "13               4    1  XE12-016_1_AmyB_1  train  \n",
       "14               0    0  XE18-003_1_AmyB_1   test  \n",
       "15               0    1  XE11-025_1_AmyB_1  train  \n",
       "16               3    8  XE07-049_1_AmyB_1   test  \n",
       "17               5    1  XE10-053_1_AmyB_1  train  \n",
       "18              22    0  XE14-004_1_AmyB_1    val  \n",
       "19               9    0  XE17-010_1_AmyB_1    val  \n",
       "20               0    0  XE17-030_1_AmyB_1    val  \n",
       "21              17    4  XE17-059_1_AmyB_1    val  \n",
       "22              10    9  XE16-021_1_AmyB_1    val  \n",
       "23              25    0  XE09-063_1_AmyB_1  train  \n",
       "24               4    0  XE18-001_1_AmyB_1  train  \n",
       "25               2    0  XE18-004_1_AmyB_1  train  \n",
       "26               4    0  XE13-007_1_AmyB_1    val  \n",
       "27               2   21  XE12-010_1_AmyB_1  train  "
      ]
     },
     "execution_count": 33,
     "metadata": {},
     "output_type": "execute_result"
    }
   ],
   "source": [
    "df1"
   ]
  },
  {
   "cell_type": "markdown",
   "metadata": {},
   "source": [
    "## Data Augmentation"
   ]
  },
  {
   "cell_type": "code",
   "execution_count": 37,
   "metadata": {},
   "outputs": [],
   "source": [
    "all_images = glob(os.path.join(\"/gladstone/finkbeiner/steve/work/data/npsad_data/vivek/Datasets/amyb_wsi/train/images/\",'*.png'))\n",
    "all_masks = glob(os.path.join(\"/gladstone/finkbeiner/steve/work/data/npsad_data/vivek/Datasets/amyb_wsi/train/labels/\",'*.png'))\n",
    "\n",
    "all_images.sort()\n",
    "all_masks.sort()\n",
    "\n",
    "cored_images, cored_masks, diffuse_images, diffuse_masks, cg_images,cg_masks, caa_images, caa_masks  = [],[],[],[],[],[],[],[]\n",
    "for image, mask in zip(all_images,all_masks):\n",
    "    found = np.unique(np.array(Image.open(mask)))\n",
    "    if 50 in found:\n",
    "        cored_images.append(image)\n",
    "        cored_masks.append(mask)\n",
    "    if 100 in found:\n",
    "        diffuse_images.append(image)\n",
    "        diffuse_masks.append(mask)\n",
    "    if 150 in found:\n",
    "        cg_images.append(image)\n",
    "        cg_masks.append(mask)\n",
    "    if 200 in found:\n",
    "        caa_images.append(image)\n",
    "        caa_masks.append(mask)"
   ]
  },
  {
   "cell_type": "code",
   "execution_count": 38,
   "metadata": {},
   "outputs": [
    {
     "data": {
      "text/plain": [
       "471"
      ]
     },
     "execution_count": 38,
     "metadata": {},
     "output_type": "execute_result"
    }
   ],
   "source": [
    "len(all_images)"
   ]
  },
  {
   "cell_type": "code",
   "execution_count": 39,
   "metadata": {},
   "outputs": [
    {
     "data": {
      "text/plain": [
       "(213, 206, 106, 52)"
      ]
     },
     "execution_count": 39,
     "metadata": {},
     "output_type": "execute_result"
    }
   ],
   "source": [
    "len(cored_images),  len(diffuse_images), len(cg_images), len(caa_images)"
   ]
  },
  {
   "cell_type": "code",
   "execution_count": 40,
   "metadata": {},
   "outputs": [],
   "source": [
    "transforms  = A.Compose([ A.VerticalFlip(p=0.5),\n",
    "                            A.HorizontalFlip(p=0.5),\n",
    "                            A.Blur(blur_limit=1,p=0.2),\n",
    "                            A.RandomRotate90(),\n",
    "                        ])\n",
    "\n",
    "def get_randimages_dataug(total_imgs, image_filenames, label_filenames):\n",
    "    image_filenames.sort()\n",
    "    label_filenames.sort()\n",
    "    random_image_file = []\n",
    "    random_label_file = []\n",
    "    for i in range(total_imgs):\n",
    "        random.seed(i)\n",
    "        random_image_file.append(random.choice(image_filenames))\n",
    "        random.seed(i)\n",
    "        random_label_file.append(random.choice(label_filenames))\n",
    "    return [random_image_file, random_label_file]\n",
    "\n",
    "def upsample_dataset(dataset_base_dir, random_img_filenames, rand_label_filenames, variations, transforms, dest_img_folder_name, dest_label_folder_name):\n",
    "    i = 0\n",
    "    aug_img_files = []\n",
    "    aug_mask_files = []\n",
    "    # random.seed(500)\n",
    "\n",
    "    # Make dir where tha augmented file will reside\n",
    "    aug_img_dir = os.path.join(dataset_base_dir, dest_img_folder_name)\n",
    "    if not os.path.exists(aug_img_dir):\n",
    "            os.makedirs(aug_img_dir)\n",
    "            print(\"Augmented Directory '%s' created\" %aug_img_dir)\n",
    "    \n",
    "    aug_mask_dir = os.path.join(dataset_base_dir, dest_label_folder_name)\n",
    "    if not os.path.exists(aug_mask_dir):\n",
    "            os.makedirs(aug_mask_dir)\n",
    "            print(\"Augmented Directory '%s' created\" %aug_mask_dir)\n",
    "\n",
    "    print(os.listdir(dataset_base_dir))\n",
    "    print(\"\\nData Augmentation in Progress ...\")\n",
    "    total_imgs = len(random_img_filenames)\n",
    "    \n",
    "    for i in range(total_imgs):\n",
    "        # load the image\n",
    "        img = Image.open(random_img_filenames[i]).convert(\"RGB\")\n",
    "        img = np.array(img)\n",
    "        mask = Image.open(rand_label_filenames[i]).convert('P')\n",
    "        mask = np.array(mask)\n",
    "\n",
    "        for j in range(variations):\n",
    "                transformed = transforms(image=img, mask=mask)\n",
    "                transformed_img = transformed[\"image\"]\n",
    "                transformed_img = Image.fromarray(transformed_img)\n",
    "\n",
    "                #To rename the file with prefix A_\n",
    "                filename = os.path.basename(random_img_filenames[i])\n",
    "                filepath = os.path.dirname(random_img_filenames[i])\n",
    "\n",
    "                aug_file_name = \"A_\" + str(i) + \"_\" + str(j) + \"_\" + filename\n",
    "                new_file = os.path.join(dataset_base_dir,dest_img_folder_name,\n",
    "                                        aug_file_name)\n",
    "                transformed_img.save(new_file)\n",
    "                aug_img_files.append(new_file)\n",
    "\n",
    "                transformed_mask = transformed[\"mask\"]\n",
    "                transformed_mask = Image.fromarray(transformed_mask)\n",
    "\n",
    "                #To rename the file with prefix A_\n",
    "                filename = os.path.basename(rand_label_filenames[i])\n",
    "                filepath = os.path.dirname(rand_label_filenames[i])\n",
    "                aug_file_name = \"A_\" + str(i) + \"_\" + str(j) + \"_\" + filename\n",
    "                new_file = os.path.join(dataset_base_dir, dest_label_folder_name,\n",
    "                                        aug_file_name)\n",
    "                transformed_mask.save(new_file)\n",
    "                aug_mask_files.append(new_file)\n",
    "    return aug_img_files, aug_mask_files"
   ]
  },
  {
   "cell_type": "code",
   "execution_count": 41,
   "metadata": {},
   "outputs": [
    {
     "name": "stdout",
     "output_type": "stream",
     "text": [
      "['labels', '.DS_Store', 'images']\n",
      "\n",
      "Data Augmentation in Progress ...\n"
     ]
    }
   ],
   "source": [
    "aug_value = 100\n",
    "rand_image_filenames, rand_label_filenames = get_randimages_dataug(aug_value, cg_images, cg_masks)\n",
    "dataset_base_dir = \"/gladstone/finkbeiner/steve/work/data/npsad_data/vivek/Datasets/amyb_wsi/train\"\n",
    "aug_img_files, aug_mask_files = upsample_dataset(dataset_base_dir, rand_image_filenames, rand_label_filenames, 1, transforms, \"images\", \"labels\")"
   ]
  },
  {
   "cell_type": "code",
   "execution_count": 42,
   "metadata": {},
   "outputs": [
    {
     "name": "stdout",
     "output_type": "stream",
     "text": [
      "['labels', '.DS_Store', 'images']\n",
      "\n",
      "Data Augmentation in Progress ...\n"
     ]
    }
   ],
   "source": [
    "aug_value = 150\n",
    "rand_image_filenames, rand_label_filenames = get_randimages_dataug(aug_value, caa_images, caa_masks)\n",
    "dataset_base_dir = \"/gladstone/finkbeiner/steve/work/data/npsad_data/vivek/Datasets/amyb_wsi/train\"\n",
    "aug_img_files, aug_mask_files = upsample_dataset(dataset_base_dir, rand_image_filenames, rand_label_filenames, 1, transforms, \"images\", \"labels\")"
   ]
  },
  {
   "cell_type": "code",
   "execution_count": 43,
   "metadata": {},
   "outputs": [],
   "source": [
    "all_images = glob(os.path.join(\"/gladstone/finkbeiner/steve/work/data/npsad_data/vivek/Datasets/amyb_wsi/train/images/\",'*.png'))\n",
    "all_masks = glob(os.path.join(\"/gladstone/finkbeiner/steve/work/data/npsad_data/vivek/Datasets/amyb_wsi/train/labels/\",'*.png'))\n",
    "\n",
    "all_images.sort()\n",
    "all_masks.sort()\n",
    "\n",
    "cored_images, cored_masks, diffuse_images, diffuse_masks, cg_images,cg_masks, caa_images, caa_masks  = [],[],[],[],[],[],[],[]\n",
    "for image, mask in zip(all_images,all_masks):\n",
    "    found = np.unique(np.array(Image.open(mask)))\n",
    "    if 50 in found:\n",
    "        cored_images.append(image)\n",
    "        cored_masks.append(mask)\n",
    "    if 100 in found:\n",
    "        diffuse_images.append(image)\n",
    "        diffuse_masks.append(mask)\n",
    "    if 150 in found:\n",
    "        cg_images.append(image)\n",
    "        cg_masks.append(mask)\n",
    "    if 200 in found:\n",
    "        caa_images.append(image)\n",
    "        caa_masks.append(mask)"
   ]
  },
  {
   "cell_type": "code",
   "execution_count": 44,
   "metadata": {},
   "outputs": [
    {
     "data": {
      "text/plain": [
       "(225, 273, 212, 206)"
      ]
     },
     "execution_count": 44,
     "metadata": {},
     "output_type": "execute_result"
    }
   ],
   "source": [
    "len(cored_images),  len(diffuse_images), len(cg_images), len(caa_images)"
   ]
  },
  {
   "cell_type": "code",
   "execution_count": 61,
   "metadata": {},
   "outputs": [],
   "source": [
    "all_images = glob(os.path.join(\"/gladstone/finkbeiner/steve/work/data/npsad_data/vivek/Datasets/amyb_wsi/train/images/\",'*.png'))\n",
    "all_masks = glob(os.path.join(\"/gladstone/finkbeiner/steve/work/data/npsad_data/vivek/Datasets/amyb_wsi/train/labels/\",'*.png'))"
   ]
  },
  {
   "cell_type": "code",
   "execution_count": 62,
   "metadata": {},
   "outputs": [],
   "source": [
    "all_images.sort()\n",
    "all_masks.sort()"
   ]
  },
  {
   "cell_type": "code",
   "execution_count": 60,
   "metadata": {},
   "outputs": [],
   "source": [
    "for image, mask in zip(all_images,all_masks):\n",
    "    found = np.unique(np.array(Image.open(mask)))\n",
    "    if len(found)<=1:\n",
    "        print(image)\n",
    "        os.remove(image)\n",
    "        os.remove(mask)\n",
    "        \n",
    "    "
   ]
  },
  {
   "cell_type": "code",
   "execution_count": 76,
   "metadata": {},
   "outputs": [],
   "source": [
    "all_images.sort()\n",
    "all_masks.sort()"
   ]
  },
  {
   "cell_type": "code",
   "execution_count": 77,
   "metadata": {},
   "outputs": [],
   "source": [
    "all_masks_img = [x.split(\"/\")[-1] for x in all_masks]"
   ]
  },
  {
   "cell_type": "code",
   "execution_count": 78,
   "metadata": {},
   "outputs": [
    {
     "name": "stdout",
     "output_type": "stream",
     "text": [
      "/gladstone/finkbeiner/steve/work/data/npsad_data/vivek/Datasets/amyb_wsi/train/images/XE12-010_1_AmyB_1_30926x_157422y_image.png\n",
      "/gladstone/finkbeiner/steve/work/data/npsad_data/vivek/Datasets/amyb_wsi/train/images/XE17-004_1_AmyB_1_71704x_156347y_image.png\n",
      "/gladstone/finkbeiner/steve/work/data/npsad_data/vivek/Datasets/amyb_wsi/train/images/XE19-010_1_AmyB_1_47110x_109293y_image.png\n",
      "3\n"
     ]
    }
   ],
   "source": [
    "counter = 0\n",
    "for image in all_images:\n",
    "    #print(image.split(\"/\")[-1].replace(\"image\",\"mask\"))\n",
    "    if image.split(\"/\")[-1].replace(\"image\",\"mask\") not in all_masks_img:\n",
    "        counter=counter+1\n",
    "        print(image)\n",
    "        os.remove(image)\n",
    "print(counter)"
   ]
  },
  {
   "cell_type": "code",
   "execution_count": 79,
   "metadata": {},
   "outputs": [],
   "source": [
    "all_images_mask = [x.split(\"/\")[-1] for x in all_images]"
   ]
  },
  {
   "cell_type": "code",
   "execution_count": 80,
   "metadata": {},
   "outputs": [
    {
     "name": "stdout",
     "output_type": "stream",
     "text": [
      "/gladstone/finkbeiner/steve/work/data/npsad_data/vivek/Datasets/amyb_wsi/train/labels/A_118_0_XE17-039_1_AmyB_1_36877x_104249y_mask.png\n",
      "/gladstone/finkbeiner/steve/work/data/npsad_data/vivek/Datasets/amyb_wsi/train/labels/XE07-047_1_AmyB_1_29885x_105470y_mask.png\n",
      "/gladstone/finkbeiner/steve/work/data/npsad_data/vivek/Datasets/amyb_wsi/train/labels/XE07-047_1_AmyB_1_54461x_139262y_mask.png\n",
      "3\n"
     ]
    }
   ],
   "source": [
    "counter = 0\n",
    "for mask in all_masks:\n",
    "    #print(image.split(\"/\")[-1].replace(\"image\",\"mask\"))\n",
    "    if mask.split(\"/\")[-1].replace(\"mask\",\"image\") not in all_images_mask:\n",
    "        counter=counter+1\n",
    "        print(mask)\n",
    "        os.remove(mask)\n",
    "print(counter)"
   ]
  },
  {
   "cell_type": "code",
   "execution_count": 56,
   "metadata": {},
   "outputs": [],
   "source": [
    "all_images = glob(os.path.join(\"/gladstone/finkbeiner/steve/work/data/npsad_data/vivek/Datasets/amyb_wsi/val/images/\",'*.png'))\n",
    "all_masks = glob(os.path.join(\"/gladstone/finkbeiner/steve/work/data/npsad_data/vivek/Datasets/amyb_wsi/val/labels/\",'*.png'))"
   ]
  },
  {
   "cell_type": "code",
   "execution_count": 57,
   "metadata": {},
   "outputs": [
    {
     "name": "stdout",
     "output_type": "stream",
     "text": [
      "/gladstone/finkbeiner/steve/work/data/npsad_data/vivek/Datasets/amyb_wsi/val/images/XE13-007_1_AmyB_1_37037x_114458y_image.png\n",
      "/gladstone/finkbeiner/steve/work/data/npsad_data/vivek/Datasets/amyb_wsi/val/images/XE13-007_1_AmyB_1_88237x_142106y_image.png\n"
     ]
    }
   ],
   "source": [
    "all_images.sort()\n",
    "all_masks.sort()\n",
    "for image, mask in zip(all_images,all_masks):\n",
    "    found = np.unique(np.array(Image.open(mask)))\n",
    "    if len(found)<=1:\n",
    "        print(image)\n",
    "        os.remove(image)\n",
    "        os.remove(mask)"
   ]
  },
  {
   "cell_type": "markdown",
   "metadata": {},
   "source": [
    "## Downsampled training data"
   ]
  },
  {
   "cell_type": "code",
   "execution_count": 10,
   "metadata": {},
   "outputs": [],
   "source": [
    "imgs = [\"XE07-064_1_AmyB_1\",\n",
    "\"XE15-039_1_AmyB_1\",\n",
    "\"XE17-039_1_AmyB_1\",\n",
    "\"XE15-022_1_AmyB_1\",\n",
    "\"XE10-045_1_AmyB_1\",\n",
    "\"XE19-028_1_AmyB_1\",\n",
    "\"XE19-010_1_AmyB_1\",\n",
    "\"XE10-053_1_AmyB_1\",\n",
    "\"XE09-063_1_AmyB_1\",\n",
    "\"XE12-010_1_AmyB_1\"]"
   ]
  },
  {
   "cell_type": "code",
   "execution_count": 11,
   "metadata": {},
   "outputs": [
    {
     "data": {
      "text/plain": [
       "['XE07-064_1_AmyB_1',\n",
       " 'XE09-063_1_AmyB_1',\n",
       " 'XE10-045_1_AmyB_1',\n",
       " 'XE10-053_1_AmyB_1',\n",
       " 'XE12-010_1_AmyB_1',\n",
       " 'XE15-022_1_AmyB_1',\n",
       " 'XE15-039_1_AmyB_1',\n",
       " 'XE17-039_1_AmyB_1',\n",
       " 'XE19-010_1_AmyB_1',\n",
       " 'XE19-028_1_AmyB_1']"
      ]
     },
     "execution_count": 11,
     "metadata": {},
     "output_type": "execute_result"
    }
   ],
   "source": [
    "sorted(imgs)"
   ]
  },
  {
   "cell_type": "code",
   "execution_count": 21,
   "metadata": {},
   "outputs": [
    {
     "name": "stdout",
     "output_type": "stream",
     "text": [
      "Files are copied successfully\n",
      "Files are copied successfully\n",
      "Files are copied successfully\n",
      "Files are copied successfully\n",
      "Files are copied successfully\n",
      "Files are copied successfully\n",
      "Files are copied successfully\n",
      "Files are copied successfully\n",
      "Files are copied successfully\n",
      "Files are copied successfully\n",
      "Files are copied successfully\n",
      "Files are copied successfully\n",
      "Files are copied successfully\n",
      "Files are copied successfully\n",
      "Files are copied successfully\n",
      "Files are copied successfully\n",
      "Files are copied successfully\n",
      "Files are copied successfully\n",
      "Files are copied successfully\n",
      "Files are copied successfully\n"
     ]
    }
   ],
   "source": [
    "DATASET_PATH = \"/home/mahirwar/Desktop/Monika/npsad_data/vivek/Datasets/amyb_wsi\"\n",
    "TARGET_PATH = '/home/mahirwar/Desktop/Monika/npsad_data/vivek/Datasets/amyb_wsi/train_ds' # use either train or train_v2\n",
    "target_folders = [\"images\",\"labels\"]\n",
    "origin_folders = [\"image\",\"mask\"]\n",
    "for i in imgs:\n",
    "   for target_folder,origin_folder in zip(target_folders,origin_folders):\n",
    "      if i==\".DS_Store\" :\n",
    "         continue\n",
    "      origin = os.path.join(DATASET_PATH,i,origin_folder)\n",
    "      target = os.path.join(TARGET_PATH,target_folder)\n",
    "      if not os.path.exists(target):\n",
    "         os.makedirs(target)\n",
    "      #print(origin)\n",
    "      # Fetching the list of all the files\n",
    "      files = os.listdir(origin)\n",
    "      #print(files)\n",
    "      # Fetching all the files to directory\n",
    "      for file_name in files:\n",
    "         shutil.copyfile(os.path.join(origin,file_name), os.path.join(target,file_name))\n",
    "      print(\"Files are copied successfully\")"
   ]
  },
  {
   "cell_type": "code",
   "execution_count": 25,
   "metadata": {},
   "outputs": [
    {
     "ename": "TypeError",
     "evalue": "'module' object is not callable",
     "output_type": "error",
     "traceback": [
      "\u001b[0;31m---------------------------------------------------------------------------\u001b[0m",
      "\u001b[0;31mTypeError\u001b[0m                                 Traceback (most recent call last)",
      "Cell \u001b[0;32mIn[25], line 1\u001b[0m\n\u001b[0;32m----> 1\u001b[0m all_images \u001b[38;5;241m=\u001b[39m \u001b[43mglob\u001b[49m\u001b[43m(\u001b[49m\u001b[43mos\u001b[49m\u001b[38;5;241;43m.\u001b[39;49m\u001b[43mpath\u001b[49m\u001b[38;5;241;43m.\u001b[39;49m\u001b[43mjoin\u001b[49m\u001b[43m(\u001b[49m\u001b[38;5;124;43m\"\u001b[39;49m\u001b[38;5;124;43m/home/mahirwar/Desktop/Monika/npsad_data/vivek/Datasets/amyb_wsi/train_ds/images\u001b[39;49m\u001b[38;5;124;43m\"\u001b[39;49m\u001b[43m,\u001b[49m\u001b[38;5;124;43m'\u001b[39;49m\u001b[38;5;124;43m*.png\u001b[39;49m\u001b[38;5;124;43m'\u001b[39;49m\u001b[43m)\u001b[49m\u001b[43m)\u001b[49m\n\u001b[1;32m      2\u001b[0m all_masks \u001b[38;5;241m=\u001b[39m glob(os\u001b[38;5;241m.\u001b[39mpath\u001b[38;5;241m.\u001b[39mjoin(\u001b[38;5;124m\"\u001b[39m\u001b[38;5;124m/home/mahirwar/Desktop/Monika/npsad_data/vivek/Datasets/amyb_wsi/train_ds/labels\u001b[39m\u001b[38;5;124m\"\u001b[39m,\u001b[38;5;124m'\u001b[39m\u001b[38;5;124m*.png\u001b[39m\u001b[38;5;124m'\u001b[39m))\n\u001b[1;32m      3\u001b[0m all_images\u001b[38;5;241m.\u001b[39msort()\n",
      "\u001b[0;31mTypeError\u001b[0m: 'module' object is not callable"
     ]
    }
   ],
   "source": [
    "all_images = glob(os.path.join(\"/home/mahirwar/Desktop/Monika/npsad_data/vivek/Datasets/amyb_wsi/train_ds/images\",'*.png'))\n",
    "all_masks = glob(os.path.join(\"/home/mahirwar/Desktop/Monika/npsad_data/vivek/Datasets/amyb_wsi/train_ds/labels\",'*.png'))\n",
    "all_images.sort()\n",
    "all_masks.sort()\n"
   ]
  },
  {
   "cell_type": "code",
   "execution_count": null,
   "metadata": {},
   "outputs": [],
   "source": [
    "for image, mask in zip(all_images,all_masks):\n",
    "    found = np.unique(np.array(Image.open(mask)))\n",
    "    if len(found)<=1:\n",
    "        print(image)\n",
    "        os.remove(image)\n",
    "        os.remove(mask)"
   ]
  },
  {
   "cell_type": "markdown",
   "metadata": {},
   "source": [
    "# Recreate train/val for normalized data"
   ]
  },
  {
   "cell_type": "code",
   "execution_count": 12,
   "metadata": {},
   "outputs": [
    {
     "data": {
      "text/plain": [
       "array(['A', 'XE07-047', 'XE07-048', 'XE07-064', 'XE09-063', 'XE10-045',\n",
       "       'XE10-053', 'XE11-025', 'XE12-010', 'XE15-022', 'XE15-039',\n",
       "       'XE17-004', 'XE17-039', 'XE18-001', 'XE18-004', 'XE19-010',\n",
       "       'XE19-028'], dtype='<U8')"
      ]
     },
     "execution_count": 12,
     "metadata": {},
     "output_type": "execute_result"
    }
   ],
   "source": [
    "l = os.listdir(\"/gladstone/finkbeiner/steve/work/data/npsad_data/vivek/Datasets/amyb_wsi/train/images\")\n",
    "\n",
    "x1 = [x.split(\"_\")[0] for x in l]\n",
    "\n",
    "np.unique(x1)"
   ]
  },
  {
   "cell_type": "code",
   "execution_count": 13,
   "metadata": {},
   "outputs": [],
   "source": [
    "y = [y1+\"_1_AmyB_1\" for y1 in np.unique(x1)]"
   ]
  },
  {
   "cell_type": "code",
   "execution_count": 14,
   "metadata": {},
   "outputs": [
    {
     "data": {
      "text/plain": [
       "['A_1_AmyB_1',\n",
       " 'XE07-047_1_AmyB_1',\n",
       " 'XE07-048_1_AmyB_1',\n",
       " 'XE07-064_1_AmyB_1',\n",
       " 'XE09-063_1_AmyB_1',\n",
       " 'XE10-045_1_AmyB_1',\n",
       " 'XE10-053_1_AmyB_1',\n",
       " 'XE11-025_1_AmyB_1',\n",
       " 'XE12-010_1_AmyB_1',\n",
       " 'XE15-022_1_AmyB_1',\n",
       " 'XE15-039_1_AmyB_1',\n",
       " 'XE17-004_1_AmyB_1',\n",
       " 'XE17-039_1_AmyB_1',\n",
       " 'XE18-001_1_AmyB_1',\n",
       " 'XE18-004_1_AmyB_1',\n",
       " 'XE19-010_1_AmyB_1',\n",
       " 'XE19-028_1_AmyB_1']"
      ]
     },
     "execution_count": 14,
     "metadata": {},
     "output_type": "execute_result"
    }
   ],
   "source": [
    "y"
   ]
  },
  {
   "cell_type": "code",
   "execution_count": 19,
   "metadata": {},
   "outputs": [
    {
     "data": {
      "text/plain": [
       "array(['XE12-016', 'XE13-007', 'XE14-004', 'XE16-021', 'XE17-010',\n",
       "       'XE17-030', 'XE17-059'], dtype='<U8')"
      ]
     },
     "execution_count": 19,
     "metadata": {},
     "output_type": "execute_result"
    }
   ],
   "source": [
    "l = os.listdir(\"/gladstone/finkbeiner/steve/work/data/npsad_data/vivek/Datasets/amyb_wsi/val/images\")\n",
    "\n",
    "x1 = [x.split(\"_\")[0] for x in l]\n",
    "\n",
    "np.unique(x1)"
   ]
  },
  {
   "cell_type": "code",
   "execution_count": 20,
   "metadata": {},
   "outputs": [],
   "source": [
    "y = [y1+\"_1_AmyB_1\" for y1 in np.unique(x1)]"
   ]
  },
  {
   "cell_type": "code",
   "execution_count": 21,
   "metadata": {},
   "outputs": [
    {
     "data": {
      "text/plain": [
       "['XE12-016_1_AmyB_1',\n",
       " 'XE13-007_1_AmyB_1',\n",
       " 'XE14-004_1_AmyB_1',\n",
       " 'XE16-021_1_AmyB_1',\n",
       " 'XE17-010_1_AmyB_1',\n",
       " 'XE17-030_1_AmyB_1',\n",
       " 'XE17-059_1_AmyB_1']"
      ]
     },
     "execution_count": 21,
     "metadata": {},
     "output_type": "execute_result"
    }
   ],
   "source": [
    "y"
   ]
  },
  {
   "cell_type": "code",
   "execution_count": 16,
   "metadata": {},
   "outputs": [],
   "source": [
    "imgs = ['XE07-047_1_AmyB_1',\n",
    " 'XE07-048_1_AmyB_1',\n",
    " 'XE07-064_1_AmyB_1',\n",
    " 'XE09-063_1_AmyB_1',\n",
    " 'XE10-045_1_AmyB_1',\n",
    " 'XE10-053_1_AmyB_1',\n",
    " 'XE11-025_1_AmyB_1',\n",
    " 'XE12-010_1_AmyB_1',\n",
    " 'XE15-039_1_AmyB_1',\n",
    " 'XE17-004_1_AmyB_1',\n",
    " 'XE17-039_1_AmyB_1',\n",
    " 'XE18-001_1_AmyB_1',\n",
    " 'XE19-010_1_AmyB_1',\n",
    " 'XE19-028_1_AmyB_1']"
   ]
  },
  {
   "cell_type": "code",
   "execution_count": 17,
   "metadata": {},
   "outputs": [
    {
     "name": "stdout",
     "output_type": "stream",
     "text": [
      "Files are copied successfully\n",
      "Files are copied successfully\n",
      "Files are copied successfully\n",
      "Files are copied successfully\n",
      "Files are copied successfully\n",
      "Files are copied successfully\n",
      "Files are copied successfully\n",
      "Files are copied successfully\n",
      "Files are copied successfully\n",
      "Files are copied successfully\n",
      "Files are copied successfully\n",
      "Files are copied successfully\n",
      "Files are copied successfully\n",
      "Files are copied successfully\n"
     ]
    }
   ],
   "source": [
    "DATASET_PATH = \"/home/mahirwar/Desktop/Monika/npsad_data/vivek/Datasets/amyb_wsi_normalized\"\n",
    "TARGET_PATH = '/home/mahirwar/Desktop/Monika/npsad_data/vivek/Datasets/amyb_wsi_normalized/train' # use either train or train_v2\n",
    "target_folders = [\"images\"]\n",
    "origin_folders = [\"image\"]\n",
    "for i in imgs:\n",
    "   for target_folder,origin_folder in zip(target_folders,origin_folders):\n",
    "      if i==\".DS_Store\" :\n",
    "         continue\n",
    "      origin = os.path.join(DATASET_PATH,i,origin_folder)\n",
    "      target = os.path.join(TARGET_PATH,target_folder)\n",
    "      if not os.path.exists(target):\n",
    "         os.makedirs(target)\n",
    "      #print(origin)\n",
    "      # Fetching the list of all the files\n",
    "      files = os.listdir(origin)\n",
    "      #print(files)\n",
    "      # Fetching all the files to directory\n",
    "      for file_name in files:\n",
    "         shutil.copyfile(os.path.join(origin,file_name), os.path.join(target,file_name))\n",
    "      print(\"Files are copied successfully\")"
   ]
  },
  {
   "cell_type": "code",
   "execution_count": 18,
   "metadata": {},
   "outputs": [
    {
     "name": "stdout",
     "output_type": "stream",
     "text": [
      "Files are copied successfully\n",
      "Files are copied successfully\n",
      "Files are copied successfully\n",
      "Files are copied successfully\n",
      "Files are copied successfully\n",
      "Files are copied successfully\n",
      "Files are copied successfully\n",
      "Files are copied successfully\n",
      "Files are copied successfully\n",
      "Files are copied successfully\n",
      "Files are copied successfully\n",
      "Files are copied successfully\n",
      "Files are copied successfully\n",
      "Files are copied successfully\n"
     ]
    }
   ],
   "source": [
    "DATASET_PATH = \"/home/mahirwar/Desktop/Monika/npsad_data/vivek/Datasets/amyb_wsi\"\n",
    "TARGET_PATH = '/home/mahirwar/Desktop/Monika/npsad_data/vivek/Datasets/amyb_wsi_normalized/train' # use either train or train_v2\n",
    "target_folders = [\"labels\"]\n",
    "origin_folders = [\"mask\"]\n",
    "for i in imgs:\n",
    "   for target_folder,origin_folder in zip(target_folders,origin_folders):\n",
    "      if i==\".DS_Store\" :\n",
    "         continue\n",
    "      origin = os.path.join(DATASET_PATH,i,origin_folder)\n",
    "      target = os.path.join(TARGET_PATH,target_folder)\n",
    "      if not os.path.exists(target):\n",
    "         os.makedirs(target)\n",
    "      #print(origin)\n",
    "      # Fetching the list of all the files\n",
    "      files = os.listdir(origin)\n",
    "      #print(files)\n",
    "      # Fetching all the files to directory\n",
    "      for file_name in files:\n",
    "         shutil.copyfile(os.path.join(origin,file_name), os.path.join(target,file_name))\n",
    "      print(\"Files are copied successfully\")"
   ]
  },
  {
   "cell_type": "code",
   "execution_count": 23,
   "metadata": {},
   "outputs": [],
   "source": [
    "imgs = ['XE12-016_1_AmyB_1',\n",
    " 'XE13-007_1_AmyB_1',\n",
    " 'XE14-004_1_AmyB_1',\n",
    " 'XE16-021_1_AmyB_1',\n",
    " 'XE17-010_1_AmyB_1',\n",
    " 'XE17-030_1_AmyB_1']"
   ]
  },
  {
   "cell_type": "code",
   "execution_count": 24,
   "metadata": {},
   "outputs": [
    {
     "name": "stdout",
     "output_type": "stream",
     "text": [
      "Files are copied successfully\n",
      "Files are copied successfully\n",
      "Files are copied successfully\n",
      "Files are copied successfully\n",
      "Files are copied successfully\n",
      "Files are copied successfully\n"
     ]
    }
   ],
   "source": [
    "DATASET_PATH = \"/home/mahirwar/Desktop/Monika/npsad_data/vivek/Datasets/amyb_wsi_normalized\"\n",
    "TARGET_PATH = '/home/mahirwar/Desktop/Monika/npsad_data/vivek/Datasets/amyb_wsi_normalized/val' # use either train or train_v2\n",
    "target_folders = [\"images\"]\n",
    "origin_folders = [\"image\"]\n",
    "for i in imgs:\n",
    "   for target_folder,origin_folder in zip(target_folders,origin_folders):\n",
    "      if i==\".DS_Store\" :\n",
    "         continue\n",
    "      origin = os.path.join(DATASET_PATH,i,origin_folder)\n",
    "      target = os.path.join(TARGET_PATH,target_folder)\n",
    "      if not os.path.exists(target):\n",
    "         os.makedirs(target)\n",
    "      #print(origin)\n",
    "      # Fetching the list of all the files\n",
    "      files = os.listdir(origin)\n",
    "      #print(files)\n",
    "      # Fetching all the files to directory\n",
    "      for file_name in files:\n",
    "         shutil.copyfile(os.path.join(origin,file_name), os.path.join(target,file_name))\n",
    "      print(\"Files are copied successfully\")"
   ]
  },
  {
   "cell_type": "code",
   "execution_count": 25,
   "metadata": {},
   "outputs": [
    {
     "name": "stdout",
     "output_type": "stream",
     "text": [
      "Files are copied successfully\n",
      "Files are copied successfully\n",
      "Files are copied successfully\n",
      "Files are copied successfully\n",
      "Files are copied successfully\n",
      "Files are copied successfully\n"
     ]
    }
   ],
   "source": [
    "DATASET_PATH = \"/home/mahirwar/Desktop/Monika/npsad_data/vivek/Datasets/amyb_wsi\"\n",
    "TARGET_PATH = '/home/mahirwar/Desktop/Monika/npsad_data/vivek/Datasets/amyb_wsi_normalized/val' # use either train or train_v2\n",
    "target_folders = [\"labels\"]\n",
    "origin_folders = [\"mask\"]\n",
    "for i in imgs:\n",
    "   for target_folder,origin_folder in zip(target_folders,origin_folders):\n",
    "      if i==\".DS_Store\" :\n",
    "         continue\n",
    "      origin = os.path.join(DATASET_PATH,i,origin_folder)\n",
    "      target = os.path.join(TARGET_PATH,target_folder)\n",
    "      if not os.path.exists(target):\n",
    "         os.makedirs(target)\n",
    "      #print(origin)\n",
    "      # Fetching the list of all the files\n",
    "      files = os.listdir(origin)\n",
    "      #print(files)\n",
    "      # Fetching all the files to directory\n",
    "      for file_name in files:\n",
    "         shutil.copyfile(os.path.join(origin,file_name), os.path.join(target,file_name))\n",
    "      print(\"Files are copied successfully\")"
   ]
  },
  {
   "cell_type": "markdown",
   "metadata": {},
   "source": [
    "## Data Augmentation - Normalized"
   ]
  },
  {
   "cell_type": "code",
   "execution_count": 41,
   "metadata": {},
   "outputs": [],
   "source": [
    "import glob\n",
    "all_images = glob.glob(os.path.join(\"/home/mahirwar/Desktop/Monika/npsad_data/vivek/Datasets/amyb_wsi_normalized/train/images\",'*.png'))\n",
    "all_masks = glob.glob(os.path.join(\"/home/mahirwar/Desktop/Monika/npsad_data/vivek/Datasets/amyb_wsi_normalized/train/labels\",'*.png'))\n",
    "\n",
    "all_images.sort()\n",
    "all_masks.sort()\n",
    "\n",
    "cored_images, cored_masks, diffuse_images, diffuse_masks, cg_images,cg_masks, caa_images, caa_masks  = [],[],[],[],[],[],[],[]\n",
    "for image, mask in zip(all_images,all_masks):\n",
    "    found = np.unique(np.array(Image.open(mask)))\n",
    "    if 50 in found:\n",
    "        cored_images.append(image)\n",
    "        cored_masks.append(mask)\n",
    "    if 100 in found:\n",
    "        diffuse_images.append(image)\n",
    "        diffuse_masks.append(mask)\n",
    "    if 150 in found:\n",
    "        cg_images.append(image)\n",
    "        cg_masks.append(mask)\n",
    "    if 200 in found:\n",
    "        caa_images.append(image)\n",
    "        caa_masks.append(mask)"
   ]
  },
  {
   "cell_type": "code",
   "execution_count": 42,
   "metadata": {},
   "outputs": [
    {
     "data": {
      "text/plain": [
       "(188, 188, 99, 48)"
      ]
     },
     "execution_count": 42,
     "metadata": {},
     "output_type": "execute_result"
    }
   ],
   "source": [
    "len(cored_images),  len(diffuse_images), len(cg_images), len(caa_images)"
   ]
  },
  {
   "cell_type": "code",
   "execution_count": 46,
   "metadata": {},
   "outputs": [
    {
     "data": {
      "text/plain": [
       "['/home/mahirwar/Desktop/Monika/npsad_data/vivek/Datasets/amyb_wsi_normalized/train/images/XE07-047_1_AmyB_1_13501x_132094y_image.png',\n",
       " '/home/mahirwar/Desktop/Monika/npsad_data/vivek/Datasets/amyb_wsi_normalized/train/images/XE07-047_1_AmyB_1_29885x_105470y_image.png',\n",
       " '/home/mahirwar/Desktop/Monika/npsad_data/vivek/Datasets/amyb_wsi_normalized/train/images/XE07-047_1_AmyB_1_70845x_97278y_image.png',\n",
       " '/home/mahirwar/Desktop/Monika/npsad_data/vivek/Datasets/amyb_wsi_normalized/train/images/XE07-048_1_AmyB_1_32923x_121664y_image.png',\n",
       " '/home/mahirwar/Desktop/Monika/npsad_data/vivek/Datasets/amyb_wsi_normalized/train/images/XE07-048_1_AmyB_1_32923x_129856y_image.png',\n",
       " '/home/mahirwar/Desktop/Monika/npsad_data/vivek/Datasets/amyb_wsi_normalized/train/images/XE07-048_1_AmyB_1_33947x_121664y_image.png',\n",
       " '/home/mahirwar/Desktop/Monika/npsad_data/vivek/Datasets/amyb_wsi_normalized/train/images/XE07-048_1_AmyB_1_74907x_113472y_image.png',\n",
       " '/home/mahirwar/Desktop/Monika/npsad_data/vivek/Datasets/amyb_wsi_normalized/train/images/XE07-064_1_AmyB_1_18491x_154027y_image.png',\n",
       " '/home/mahirwar/Desktop/Monika/npsad_data/vivek/Datasets/amyb_wsi_normalized/train/images/XE07-064_1_AmyB_1_55355x_127403y_image.png',\n",
       " '/home/mahirwar/Desktop/Monika/npsad_data/vivek/Datasets/amyb_wsi_normalized/train/images/XE07-064_1_AmyB_1_59451x_126379y_image.png',\n",
       " '/home/mahirwar/Desktop/Monika/npsad_data/vivek/Datasets/amyb_wsi_normalized/train/images/XE09-063_1_AmyB_1_10409x_121897y_image.png',\n",
       " '/home/mahirwar/Desktop/Monika/npsad_data/vivek/Datasets/amyb_wsi_normalized/train/images/XE09-063_1_AmyB_1_10409x_124969y_image.png',\n",
       " '/home/mahirwar/Desktop/Monika/npsad_data/vivek/Datasets/amyb_wsi_normalized/train/images/XE09-063_1_AmyB_1_13481x_118825y_image.png',\n",
       " '/home/mahirwar/Desktop/Monika/npsad_data/vivek/Datasets/amyb_wsi_normalized/train/images/XE09-063_1_AmyB_1_15529x_128041y_image.png',\n",
       " '/home/mahirwar/Desktop/Monika/npsad_data/vivek/Datasets/amyb_wsi_normalized/train/images/XE09-063_1_AmyB_1_17577x_103465y_image.png',\n",
       " '/home/mahirwar/Desktop/Monika/npsad_data/vivek/Datasets/amyb_wsi_normalized/train/images/XE09-063_1_AmyB_1_18601x_122921y_image.png',\n",
       " '/home/mahirwar/Desktop/Monika/npsad_data/vivek/Datasets/amyb_wsi_normalized/train/images/XE09-063_1_AmyB_1_18601x_127017y_image.png',\n",
       " '/home/mahirwar/Desktop/Monika/npsad_data/vivek/Datasets/amyb_wsi_normalized/train/images/XE09-063_1_AmyB_1_19625x_118825y_image.png',\n",
       " '/home/mahirwar/Desktop/Monika/npsad_data/vivek/Datasets/amyb_wsi_normalized/train/images/XE09-063_1_AmyB_1_19625x_124969y_image.png',\n",
       " '/home/mahirwar/Desktop/Monika/npsad_data/vivek/Datasets/amyb_wsi_normalized/train/images/XE09-063_1_AmyB_1_19625x_127017y_image.png',\n",
       " '/home/mahirwar/Desktop/Monika/npsad_data/vivek/Datasets/amyb_wsi_normalized/train/images/XE09-063_1_AmyB_1_20649x_118825y_image.png',\n",
       " '/home/mahirwar/Desktop/Monika/npsad_data/vivek/Datasets/amyb_wsi_normalized/train/images/XE09-063_1_AmyB_1_21673x_115753y_image.png',\n",
       " '/home/mahirwar/Desktop/Monika/npsad_data/vivek/Datasets/amyb_wsi_normalized/train/images/XE09-063_1_AmyB_1_21673x_122921y_image.png',\n",
       " '/home/mahirwar/Desktop/Monika/npsad_data/vivek/Datasets/amyb_wsi_normalized/train/images/XE09-063_1_AmyB_1_2217x_121897y_image.png',\n",
       " '/home/mahirwar/Desktop/Monika/npsad_data/vivek/Datasets/amyb_wsi_normalized/train/images/XE09-063_1_AmyB_1_39081x_121897y_image.png',\n",
       " '/home/mahirwar/Desktop/Monika/npsad_data/vivek/Datasets/amyb_wsi_normalized/train/images/XE09-063_1_AmyB_1_5289x_122921y_image.png',\n",
       " '/home/mahirwar/Desktop/Monika/npsad_data/vivek/Datasets/amyb_wsi_normalized/train/images/XE09-063_1_AmyB_1_70825x_106537y_image.png',\n",
       " '/home/mahirwar/Desktop/Monika/npsad_data/vivek/Datasets/amyb_wsi_normalized/train/images/XE10-045_1_AmyB_1_42007x_140085y_image.png',\n",
       " '/home/mahirwar/Desktop/Monika/npsad_data/vivek/Datasets/amyb_wsi_normalized/train/images/XE10-045_1_AmyB_1_64535x_102197y_image.png',\n",
       " '/home/mahirwar/Desktop/Monika/npsad_data/vivek/Datasets/amyb_wsi_normalized/train/images/XE10-045_1_AmyB_1_64535x_115509y_image.png',\n",
       " '/home/mahirwar/Desktop/Monika/npsad_data/vivek/Datasets/amyb_wsi_normalized/train/images/XE10-045_1_AmyB_1_67607x_114485y_image.png',\n",
       " '/home/mahirwar/Desktop/Monika/npsad_data/vivek/Datasets/amyb_wsi_normalized/train/images/XE10-045_1_AmyB_1_68631x_107317y_image.png',\n",
       " '/home/mahirwar/Desktop/Monika/npsad_data/vivek/Datasets/amyb_wsi_normalized/train/images/XE10-045_1_AmyB_1_68631x_110389y_image.png',\n",
       " '/home/mahirwar/Desktop/Monika/npsad_data/vivek/Datasets/amyb_wsi_normalized/train/images/XE10-045_1_AmyB_1_69655x_147253y_image.png',\n",
       " '/home/mahirwar/Desktop/Monika/npsad_data/vivek/Datasets/amyb_wsi_normalized/train/images/XE10-045_1_AmyB_1_76823x_92981y_image.png',\n",
       " '/home/mahirwar/Desktop/Monika/npsad_data/vivek/Datasets/amyb_wsi_normalized/train/images/XE10-053_1_AmyB_1_16402x_94987y_image.png',\n",
       " '/home/mahirwar/Desktop/Monika/npsad_data/vivek/Datasets/amyb_wsi_normalized/train/images/XE10-053_1_AmyB_1_17426x_97035y_image.png',\n",
       " '/home/mahirwar/Desktop/Monika/npsad_data/vivek/Datasets/amyb_wsi_normalized/train/images/XE10-053_1_AmyB_1_32786x_160523y_image.png',\n",
       " '/home/mahirwar/Desktop/Monika/npsad_data/vivek/Datasets/amyb_wsi_normalized/train/images/XE10-053_1_AmyB_1_33810x_159499y_image.png',\n",
       " '/home/mahirwar/Desktop/Monika/npsad_data/vivek/Datasets/amyb_wsi_normalized/train/images/XE10-053_1_AmyB_1_38930x_167691y_image.png',\n",
       " '/home/mahirwar/Desktop/Monika/npsad_data/vivek/Datasets/amyb_wsi_normalized/train/images/XE12-010_1_AmyB_1_31950x_76526y_image.png',\n",
       " '/home/mahirwar/Desktop/Monika/npsad_data/vivek/Datasets/amyb_wsi_normalized/train/images/XE12-010_1_AmyB_1_64718x_158446y_image.png',\n",
       " '/home/mahirwar/Desktop/Monika/npsad_data/vivek/Datasets/amyb_wsi_normalized/train/images/XE15-039_1_AmyB_1_20502x_162466y_image.png',\n",
       " '/home/mahirwar/Desktop/Monika/npsad_data/vivek/Datasets/amyb_wsi_normalized/train/images/XE15-039_1_AmyB_1_21526x_162466y_image.png',\n",
       " '/home/mahirwar/Desktop/Monika/npsad_data/vivek/Datasets/amyb_wsi_normalized/train/images/XE15-039_1_AmyB_1_29718x_77474y_image.png',\n",
       " '/home/mahirwar/Desktop/Monika/npsad_data/vivek/Datasets/amyb_wsi_normalized/train/images/XE15-039_1_AmyB_1_32790x_134818y_image.png',\n",
       " '/home/mahirwar/Desktop/Monika/npsad_data/vivek/Datasets/amyb_wsi_normalized/train/images/XE15-039_1_AmyB_1_38934x_108194y_image.png',\n",
       " '/home/mahirwar/Desktop/Monika/npsad_data/vivek/Datasets/amyb_wsi_normalized/train/images/XE15-039_1_AmyB_1_45078x_148130y_image.png',\n",
       " '/home/mahirwar/Desktop/Monika/npsad_data/vivek/Datasets/amyb_wsi_normalized/train/images/XE15-039_1_AmyB_1_49174x_149154y_image.png',\n",
       " '/home/mahirwar/Desktop/Monika/npsad_data/vivek/Datasets/amyb_wsi_normalized/train/images/XE15-039_1_AmyB_1_62486x_106146y_image.png',\n",
       " '/home/mahirwar/Desktop/Monika/npsad_data/vivek/Datasets/amyb_wsi_normalized/train/images/XE15-039_1_AmyB_1_75798x_111266y_image.png',\n",
       " '/home/mahirwar/Desktop/Monika/npsad_data/vivek/Datasets/amyb_wsi_normalized/train/images/XE15-039_1_AmyB_1_76822x_123554y_image.png',\n",
       " '/home/mahirwar/Desktop/Monika/npsad_data/vivek/Datasets/amyb_wsi_normalized/train/images/XE15-039_1_AmyB_1_78870x_113314y_image.png',\n",
       " '/home/mahirwar/Desktop/Monika/npsad_data/vivek/Datasets/amyb_wsi_normalized/train/images/XE17-004_1_AmyB_1_59416x_89787y_image.png',\n",
       " '/home/mahirwar/Desktop/Monika/npsad_data/vivek/Datasets/amyb_wsi_normalized/train/images/XE17-004_1_AmyB_1_60440x_158395y_image.png',\n",
       " '/home/mahirwar/Desktop/Monika/npsad_data/vivek/Datasets/amyb_wsi_normalized/train/images/XE17-004_1_AmyB_1_73752x_137915y_image.png',\n",
       " '/home/mahirwar/Desktop/Monika/npsad_data/vivek/Datasets/amyb_wsi_normalized/train/images/XE17-039_1_AmyB_1_11277x_83769y_image.png',\n",
       " '/home/mahirwar/Desktop/Monika/npsad_data/vivek/Datasets/amyb_wsi_normalized/train/images/XE17-039_1_AmyB_1_2061x_99129y_image.png',\n",
       " '/home/mahirwar/Desktop/Monika/npsad_data/vivek/Datasets/amyb_wsi_normalized/train/images/XE17-039_1_AmyB_1_37901x_76601y_image.png',\n",
       " '/home/mahirwar/Desktop/Monika/npsad_data/vivek/Datasets/amyb_wsi_normalized/train/images/XE17-039_1_AmyB_1_37901x_80697y_image.png',\n",
       " '/home/mahirwar/Desktop/Monika/npsad_data/vivek/Datasets/amyb_wsi_normalized/train/images/XE17-039_1_AmyB_1_38925x_105273y_image.png',\n",
       " '/home/mahirwar/Desktop/Monika/npsad_data/vivek/Datasets/amyb_wsi_normalized/train/images/XE17-039_1_AmyB_1_55309x_138041y_image.png',\n",
       " '/home/mahirwar/Desktop/Monika/npsad_data/vivek/Datasets/amyb_wsi_normalized/train/images/XE17-039_1_AmyB_1_61453x_156473y_image.png',\n",
       " '/home/mahirwar/Desktop/Monika/npsad_data/vivek/Datasets/amyb_wsi_normalized/train/images/XE17-039_1_AmyB_1_72717x_124729y_image.png',\n",
       " '/home/mahirwar/Desktop/Monika/npsad_data/vivek/Datasets/amyb_wsi_normalized/train/images/XE17-039_1_AmyB_1_72717x_128825y_image.png',\n",
       " '/home/mahirwar/Desktop/Monika/npsad_data/vivek/Datasets/amyb_wsi_normalized/train/images/XE18-001_1_AmyB_1_29701x_95041y_image.png',\n",
       " '/home/mahirwar/Desktop/Monika/npsad_data/vivek/Datasets/amyb_wsi_normalized/train/images/XE18-001_1_AmyB_1_43013x_104257y_image.png',\n",
       " '/home/mahirwar/Desktop/Monika/npsad_data/vivek/Datasets/amyb_wsi_normalized/train/images/XE18-001_1_AmyB_1_54277x_125761y_image.png',\n",
       " '/home/mahirwar/Desktop/Monika/npsad_data/vivek/Datasets/amyb_wsi_normalized/train/images/XE18-001_1_AmyB_1_75781x_125761y_image.png',\n",
       " '/home/mahirwar/Desktop/Monika/npsad_data/vivek/Datasets/amyb_wsi_normalized/train/images/XE19-010_1_AmyB_1_15366x_106221y_image.png',\n",
       " '/home/mahirwar/Desktop/Monika/npsad_data/vivek/Datasets/amyb_wsi_normalized/train/images/XE19-010_1_AmyB_1_15366x_107245y_image.png',\n",
       " '/home/mahirwar/Desktop/Monika/npsad_data/vivek/Datasets/amyb_wsi_normalized/train/images/XE19-010_1_AmyB_1_25606x_99053y_image.png',\n",
       " '/home/mahirwar/Desktop/Monika/npsad_data/vivek/Datasets/amyb_wsi_normalized/train/images/XE19-010_1_AmyB_1_26630x_109293y_image.png',\n",
       " '/home/mahirwar/Desktop/Monika/npsad_data/vivek/Datasets/amyb_wsi_normalized/train/images/XE19-010_1_AmyB_1_26630x_166637y_image.png',\n",
       " '/home/mahirwar/Desktop/Monika/npsad_data/vivek/Datasets/amyb_wsi_normalized/train/images/XE19-010_1_AmyB_1_38918x_98029y_image.png',\n",
       " '/home/mahirwar/Desktop/Monika/npsad_data/vivek/Datasets/amyb_wsi_normalized/train/images/XE19-010_1_AmyB_1_40966x_103149y_image.png',\n",
       " '/home/mahirwar/Desktop/Monika/npsad_data/vivek/Datasets/amyb_wsi_normalized/train/images/XE19-010_1_AmyB_1_40966x_183021y_image.png',\n",
       " '/home/mahirwar/Desktop/Monika/npsad_data/vivek/Datasets/amyb_wsi_normalized/train/images/XE19-010_1_AmyB_1_43014x_181997y_image.png',\n",
       " '/home/mahirwar/Desktop/Monika/npsad_data/vivek/Datasets/amyb_wsi_normalized/train/images/XE19-010_1_AmyB_1_45062x_114413y_image.png',\n",
       " '/home/mahirwar/Desktop/Monika/npsad_data/vivek/Datasets/amyb_wsi_normalized/train/images/XE19-010_1_AmyB_1_46086x_186093y_image.png',\n",
       " '/home/mahirwar/Desktop/Monika/npsad_data/vivek/Datasets/amyb_wsi_normalized/train/images/XE19-010_1_AmyB_1_47110x_186093y_image.png',\n",
       " '/home/mahirwar/Desktop/Monika/npsad_data/vivek/Datasets/amyb_wsi_normalized/train/images/XE19-010_1_AmyB_1_50182x_194285y_image.png',\n",
       " '/home/mahirwar/Desktop/Monika/npsad_data/vivek/Datasets/amyb_wsi_normalized/train/images/XE19-010_1_AmyB_1_51206x_189165y_image.png',\n",
       " '/home/mahirwar/Desktop/Monika/npsad_data/vivek/Datasets/amyb_wsi_normalized/train/images/XE19-010_1_AmyB_1_51206x_194285y_image.png',\n",
       " '/home/mahirwar/Desktop/Monika/npsad_data/vivek/Datasets/amyb_wsi_normalized/train/images/XE19-010_1_AmyB_1_51206x_195309y_image.png',\n",
       " '/home/mahirwar/Desktop/Monika/npsad_data/vivek/Datasets/amyb_wsi_normalized/train/images/XE19-010_1_AmyB_1_53254x_156397y_image.png',\n",
       " '/home/mahirwar/Desktop/Monika/npsad_data/vivek/Datasets/amyb_wsi_normalized/train/images/XE19-010_1_AmyB_1_54278x_142061y_image.png',\n",
       " '/home/mahirwar/Desktop/Monika/npsad_data/vivek/Datasets/amyb_wsi_normalized/train/images/XE19-010_1_AmyB_1_59398x_153325y_image.png',\n",
       " '/home/mahirwar/Desktop/Monika/npsad_data/vivek/Datasets/amyb_wsi_normalized/train/images/XE19-010_1_AmyB_1_60422x_130797y_image.png',\n",
       " '/home/mahirwar/Desktop/Monika/npsad_data/vivek/Datasets/amyb_wsi_normalized/train/images/XE19-010_1_AmyB_1_61446x_134893y_image.png',\n",
       " '/home/mahirwar/Desktop/Monika/npsad_data/vivek/Datasets/amyb_wsi_normalized/train/images/XE19-010_1_AmyB_1_61446x_155373y_image.png',\n",
       " '/home/mahirwar/Desktop/Monika/npsad_data/vivek/Datasets/amyb_wsi_normalized/train/images/XE19-010_1_AmyB_1_6150x_153325y_image.png',\n",
       " '/home/mahirwar/Desktop/Monika/npsad_data/vivek/Datasets/amyb_wsi_normalized/train/images/XE19-010_1_AmyB_1_62470x_133869y_image.png',\n",
       " '/home/mahirwar/Desktop/Monika/npsad_data/vivek/Datasets/amyb_wsi_normalized/train/images/XE19-010_1_AmyB_1_63494x_157421y_image.png',\n",
       " '/home/mahirwar/Desktop/Monika/npsad_data/vivek/Datasets/amyb_wsi_normalized/train/images/XE19-028_1_AmyB_1_12288x_114594y_image.png',\n",
       " '/home/mahirwar/Desktop/Monika/npsad_data/vivek/Datasets/amyb_wsi_normalized/train/images/XE19-028_1_AmyB_1_24576x_102306y_image.png',\n",
       " '/home/mahirwar/Desktop/Monika/npsad_data/vivek/Datasets/amyb_wsi_normalized/train/images/XE19-028_1_AmyB_1_24576x_79778y_image.png',\n",
       " '/home/mahirwar/Desktop/Monika/npsad_data/vivek/Datasets/amyb_wsi_normalized/train/images/XE19-028_1_AmyB_1_26624x_88994y_image.png',\n",
       " '/home/mahirwar/Desktop/Monika/npsad_data/vivek/Datasets/amyb_wsi_normalized/train/images/XE19-028_1_AmyB_1_54272x_104354y_image.png']"
      ]
     },
     "execution_count": 46,
     "metadata": {},
     "output_type": "execute_result"
    }
   ],
   "source": [
    "cg_images"
   ]
  },
  {
   "cell_type": "code",
   "execution_count": 43,
   "metadata": {},
   "outputs": [],
   "source": [
    "transforms  = A.Compose([A.VerticalFlip(p=0.5),\n",
    "                            A.HorizontalFlip(p=0.5),\n",
    "                            A.Blur(blur_limit=3),\n",
    "                            A.OpticalDistortion(),\n",
    "                            A.HueSaturationValue(),\n",
    "                            A.RandomRotate90(),\n",
    "                            A.RandomBrightnessContrast(p=0.2),\n",
    "                        ])\n",
    "\n",
    "def get_randimages_dataug(total_imgs, image_filenames, label_filenames):\n",
    "    image_filenames.sort()\n",
    "    label_filenames.sort()\n",
    "    random_image_file = []\n",
    "    random_label_file = []\n",
    "    for i in range(total_imgs):\n",
    "        random.seed(i)\n",
    "        random_image_file.append(random.choice(image_filenames))\n",
    "        random.seed(i)\n",
    "        random_label_file.append(random.choice(label_filenames))\n",
    "    return [random_image_file, random_label_file]\n",
    "\n",
    "def upsample_dataset(dataset_base_dir, random_img_filenames, rand_label_filenames, variations, transforms, dest_img_folder_name, dest_label_folder_name):\n",
    "    i = 0\n",
    "    aug_img_files = []\n",
    "    aug_mask_files = []\n",
    "    # random.seed(500)\n",
    "\n",
    "    # Make dir where tha augmented file will reside\n",
    "    aug_img_dir = os.path.join(dataset_base_dir, dest_img_folder_name)\n",
    "    if not os.path.exists(aug_img_dir):\n",
    "            os.makedirs(aug_img_dir)\n",
    "            print(\"Augmented Directory '%s' created\" %aug_img_dir)\n",
    "    \n",
    "    aug_mask_dir = os.path.join(dataset_base_dir, dest_label_folder_name)\n",
    "    if not os.path.exists(aug_mask_dir):\n",
    "            os.makedirs(aug_mask_dir)\n",
    "            print(\"Augmented Directory '%s' created\" %aug_mask_dir)\n",
    "\n",
    "    print(os.listdir(dataset_base_dir))\n",
    "    print(\"\\nData Augmentation in Progress ...\")\n",
    "    total_imgs = len(random_img_filenames)\n",
    "    \n",
    "    for i in range(total_imgs):\n",
    "        # load the image\n",
    "        img = Image.open(random_img_filenames[i]).convert(\"RGB\")\n",
    "        img = np.array(img)\n",
    "        mask = Image.open(rand_label_filenames[i]).convert('P')\n",
    "        mask = np.array(mask)\n",
    "\n",
    "        for j in range(variations):\n",
    "                transformed = transforms(image=img, mask=mask)\n",
    "                transformed_img = transformed[\"image\"]\n",
    "                transformed_img = Image.fromarray(transformed_img)\n",
    "\n",
    "                #To rename the file with prefix A_\n",
    "                filename = os.path.basename(random_img_filenames[i])\n",
    "                filepath = os.path.dirname(random_img_filenames[i])\n",
    "\n",
    "                aug_file_name = \"A_\" + str(i) + \"_\" + str(j) + \"_\" + filename\n",
    "                new_file = os.path.join(dataset_base_dir,dest_img_folder_name,\n",
    "                                        aug_file_name)\n",
    "                transformed_img.save(new_file)\n",
    "                aug_img_files.append(new_file)\n",
    "\n",
    "                transformed_mask = transformed[\"mask\"]\n",
    "                transformed_mask = Image.fromarray(transformed_mask)\n",
    "\n",
    "                #To rename the file with prefix A_\n",
    "                filename = os.path.basename(rand_label_filenames[i])\n",
    "                filepath = os.path.dirname(rand_label_filenames[i])\n",
    "                aug_file_name = \"A_\" + str(i) + \"_\" + str(j) + \"_\" + filename\n",
    "                new_file = os.path.join(dataset_base_dir, dest_label_folder_name,\n",
    "                                        aug_file_name)\n",
    "                transformed_mask.save(new_file)\n",
    "                aug_mask_files.append(new_file)\n",
    "    return aug_img_files, aug_mask_files"
   ]
  },
  {
   "cell_type": "code",
   "execution_count": 44,
   "metadata": {},
   "outputs": [
    {
     "name": "stdout",
     "output_type": "stream",
     "text": [
      "['labels', '.DS_Store', 'images']\n",
      "\n",
      "Data Augmentation in Progress ...\n"
     ]
    }
   ],
   "source": [
    "aug_value = 100\n",
    "rand_image_filenames, rand_label_filenames = get_randimages_dataug(aug_value, cg_images, cg_masks)\n",
    "dataset_base_dir = \"/home/mahirwar/Desktop/Monika/npsad_data/vivek/Datasets/amyb_wsi_normalized/train\"\n",
    "aug_img_files, aug_mask_files = upsample_dataset(dataset_base_dir, rand_image_filenames, rand_label_filenames, 1, transforms, \"images\", \"labels\")"
   ]
  },
  {
   "cell_type": "code",
   "execution_count": 47,
   "metadata": {},
   "outputs": [
    {
     "name": "stdout",
     "output_type": "stream",
     "text": [
      "['labels', '.DS_Store', 'images']\n",
      "\n",
      "Data Augmentation in Progress ...\n"
     ]
    }
   ],
   "source": [
    "aug_value = 150\n",
    "rand_image_filenames, rand_label_filenames = get_randimages_dataug(aug_value, caa_images, caa_masks)\n",
    "dataset_base_dir = \"/home/mahirwar/Desktop/Monika/npsad_data/vivek/Datasets/amyb_wsi_normalized/train\"\n",
    "aug_img_files, aug_mask_files = upsample_dataset(dataset_base_dir, rand_image_filenames, rand_label_filenames, 1, transforms, \"images\", \"labels\")"
   ]
  },
  {
   "cell_type": "code",
   "execution_count": 6,
   "metadata": {},
   "outputs": [],
   "source": [
    "all_images = glob.glob(os.path.join(\"/home/mahirwar/Desktop/Monika/npsad_data/vivek/Datasets/amyb_wsi/train_new/images\",'*.png'))\n",
    "all_masks = glob.glob(os.path.join(\"/home/mahirwar/Desktop/Monika/npsad_data/vivek/Datasets/amyb_wsi/train_new/labels\",'*.png'))\n",
    "\n",
    "all_images.sort()\n",
    "all_masks.sort()\n",
    "\n",
    "cored_images, cored_masks, diffuse_images, diffuse_masks, cg_images,cg_masks, caa_images, caa_masks  = [],[],[],[],[],[],[],[]\n",
    "for image, mask in zip(all_images,all_masks):\n",
    "    found = np.unique(np.array(Image.open(mask)))\n",
    "    if 50 in found:\n",
    "        cored_images.append(image)\n",
    "        cored_masks.append(mask)\n",
    "    if 100 in found:\n",
    "        diffuse_images.append(image)\n",
    "        diffuse_masks.append(mask)\n",
    "    if 150 in found:\n",
    "        cg_images.append(image)\n",
    "        cg_masks.append(mask)\n",
    "    if 200 in found:\n",
    "        caa_images.append(image)\n",
    "        caa_masks.append(mask)"
   ]
  },
  {
   "cell_type": "code",
   "execution_count": 7,
   "metadata": {},
   "outputs": [
    {
     "data": {
      "text/plain": [
       "(182, 251, 170, 171)"
      ]
     },
     "execution_count": 7,
     "metadata": {},
     "output_type": "execute_result"
    }
   ],
   "source": [
    "len(cored_images),  len(diffuse_images), len(cg_images), len(caa_images)"
   ]
  },
  {
   "cell_type": "code",
   "execution_count": 11,
   "metadata": {},
   "outputs": [],
   "source": [
    "m1 = [x.split(\"/\")[-1].replace(\"image\",\"mask\") for x in all_images]"
   ]
  },
  {
   "cell_type": "code",
   "execution_count": 12,
   "metadata": {},
   "outputs": [],
   "source": [
    "m2 = [x.split(\"/\")[-1] for x in all_masks]"
   ]
  },
  {
   "cell_type": "code",
   "execution_count": 14,
   "metadata": {},
   "outputs": [
    {
     "data": {
      "text/plain": [
       "['A_54_0_XE10-045_1_AmyB_1_77847x_86837y_mask.png']"
      ]
     },
     "execution_count": 14,
     "metadata": {},
     "output_type": "execute_result"
    }
   ],
   "source": [
    "[ x for x in m2 if x not in m1]"
   ]
  },
  {
   "cell_type": "code",
   "execution_count": null,
   "metadata": {},
   "outputs": [],
   "source": []
  }
 ],
 "metadata": {
  "kernelspec": {
   "display_name": "kfold_amy_plaque1",
   "language": "python",
   "name": "python3"
  },
  "language_info": {
   "codemirror_mode": {
    "name": "ipython",
    "version": 3
   },
   "file_extension": ".py",
   "mimetype": "text/x-python",
   "name": "python",
   "nbconvert_exporter": "python",
   "pygments_lexer": "ipython3",
   "version": "3.9.7"
  }
 },
 "nbformat": 4,
 "nbformat_minor": 2
}
