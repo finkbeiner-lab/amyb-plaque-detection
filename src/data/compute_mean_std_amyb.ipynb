{
 "cells": [
  {
   "cell_type": "code",
   "execution_count": 1,
   "metadata": {},
   "outputs": [],
   "source": [
    "import os\n",
    "import sys\n",
    "sys.path.append(os.path.join(os.getcwd(), *tuple(['..'])))\n",
    "\n",
    "from features import build_features\n",
    "from torchvision import transforms\n",
    "from features import transforms as T\n",
    "import torch\n",
    "from torch import nn, Tensor\n"
   ]
  },
  {
   "cell_type": "code",
   "execution_count": 2,
   "metadata": {},
   "outputs": [],
   "source": [
    "data_transforms = transforms.Compose([transforms.ToTensor()])\n",
    "collate_fn = lambda _: tuple(zip(*_)) # one-liner, no need to import"
   ]
  },
  {
   "cell_type": "code",
   "execution_count": 3,
   "metadata": {},
   "outputs": [],
   "source": [
    "#dataset_train_location = '/gladstone/finkbeiner/steve/work/data/npsad_data/vivek/Datasets/amyb_wsi/train'\n",
    "dataset_train_location = '/gladstone/finkbeiner/steve/work/data/npsad_data/vivek/Datasets/amyb_wsi_v2/train'\n",
    "train_dataset = build_features.AmyBDataset(dataset_train_location, T.Compose([T.ToTensor()]))\n",
    "train_data_loader = torch.utils.data.DataLoader(\n",
    "            train_dataset, batch_size=16, shuffle=True, num_workers=4,pin_memory=True,\n",
    "            collate_fn=collate_fn)"
   ]
  },
  {
   "cell_type": "code",
   "execution_count": 4,
   "metadata": {},
   "outputs": [],
   "source": [
    "def mean_std(loader):\n",
    "  itr  = next(iter(loader))\n",
    "  images =torch.stack(itr[0])\n",
    "  # shape of images = [b,c,w,h]\n",
    "  mean, std = images.mean([0,2,3]), images.std([0,2,3])\n",
    "  return mean, std"
   ]
  },
  {
   "cell_type": "code",
   "execution_count": 5,
   "metadata": {},
   "outputs": [
    {
     "name": "stdout",
     "output_type": "stream",
     "text": [
      "degenrate boxes /gladstone/finkbeiner/steve/work/data/npsad_data/vivek/Datasets/amyb_wsi_v2/train/labels/XE15-039_1_AmyB_1_78870x_113314y_mask.png\n",
      "pos (array([39]), array([674]))\n",
      "xmax, xmin, ymax,ymin 674 674 39 39\n",
      "degenrate boxes /gladstone/finkbeiner/steve/work/data/npsad_data/vivek/Datasets/amyb_wsi_v2/train/labels/XE15-039_1_AmyB_1_78870x_113314y_mask.png\n",
      "pos (array([39]), array([677]))\n",
      "xmax, xmin, ymax,ymin 677 677 39 39\n",
      "degenrate boxes /gladstone/finkbeiner/steve/work/data/npsad_data/vivek/Datasets/amyb_wsi_v2/train/labels/XE15-022_1_AmyB_1_4096x_121822y_mask.png\n",
      "pos (array([417]), array([175]))\n",
      "xmax, xmin, ymax,ymin 175 175 417 417\n",
      "/gladstone/finkbeiner/steve/work/data/npsad_data/vivek/Datasets/amyb_wsi_v2/train/images/XE13-007_1_AmyB_1_88237x_142106y_image.png\n",
      "/gladstone/finkbeiner/steve/work/data/npsad_data/vivek/Datasets/amyb_wsi_v2/train/labels/XE13-007_1_AmyB_1_88237x_142106y_mask.png\n",
      "tensor([], dtype=torch.int64) [0]\n"
     ]
    },
    {
     "data": {
      "text/plain": [
       "(tensor([0.8906, 0.8542, 0.7939]), tensor([0.1376, 0.1634, 0.2227]))"
      ]
     },
     "execution_count": 5,
     "metadata": {},
     "output_type": "execute_result"
    }
   ],
   "source": [
    "mean_std(train_data_loader)"
   ]
  },
  {
   "cell_type": "code",
   "execution_count": null,
   "metadata": {},
   "outputs": [],
   "source": []
  }
 ],
 "metadata": {
  "kernelspec": {
   "display_name": "kfold_amy_plaque1",
   "language": "python",
   "name": "python3"
  },
  "language_info": {
   "codemirror_mode": {
    "name": "ipython",
    "version": 3
   },
   "file_extension": ".py",
   "mimetype": "text/x-python",
   "name": "python",
   "nbconvert_exporter": "python",
   "pygments_lexer": "ipython3",
   "version": "3.9.7"
  }
 },
 "nbformat": 4,
 "nbformat_minor": 2
}
