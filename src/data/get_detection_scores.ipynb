{
 "cells": [
  {
   "cell_type": "code",
   "execution_count": 1,
   "metadata": {},
   "outputs": [],
   "source": [
    "# script to get the labels and scores for the selected dection images for manuscript. It also adds the ground truth values from the train_output.csv file from external data validation\n",
    "import os\n",
    "import glob\n",
    "import pdb\n",
    "import pandas as pd\n",
    "import tqdm\n",
    "import glob\n",
    "\n"
   ]
  },
  {
   "cell_type": "code",
   "execution_count": 2,
   "metadata": {},
   "outputs": [],
   "source": [
    "img_dir = \"/mnt/new-nas/work/data/npsad_data/vivek/reports/Manuscript/internal\"\n",
    "quanitfy_df = pd.read_csv('/mnt/new-nas/work/data/npsad_data/vivek/reports/figures/dark-wars-613/NA4259-02_AB/NA4259-02_AB_quantify.csv')\n",
    "gt_df = pd.read_csv('/home/vivek/train_output.csv')\n",
    "matched_df = pd.DataFrame()\n"
   ]
  },
  {
   "cell_type": "code",
   "execution_count": 3,
   "metadata": {},
   "outputs": [
    {
     "name": "stdout",
     "output_type": "stream",
     "text": [
      "[]\n"
     ]
    }
   ],
   "source": [
    "images = glob.glob(os.path.join(img_dir,'*.png'))\n",
    "print(images)\n",
    "\n",
    "# matched_df = pd.DataFrame(columns=quanitfy_df.columns) # Create an empty DataFrame with the same columns as quanitfy_df\n",
    "\n",
    "\n",
    "for img in images:\n",
    "    img_name = os.path.basename(img) #NA4009-02_AB_5_21_51_detection.png\n",
    "    img_name = img_name.split(\"_detection\")[0]\n",
    "   \n",
    "    img_df = quanitfy_df[quanitfy_df['image_name'] == img_name]\n",
    "    img_gt_df = gt_df[gt_df['imagename2'] == img_name]\n",
    "    \n",
    "\n",
    "    if not img_df.empty and not img_gt_df.empty:\n",
    "        data_record = pd.DataFrame.from_records([{'image_name':img_name,\n",
    "                                              'label': img_df['label'].values,\n",
    "                                              'confidence': img_df['confidence'].values,\n",
    "                                              'expert_core': img_gt_df[\"cored_gt\"].values,\n",
    "                                              'expert_diffuse': img_gt_df[\"diffuse_gt\"].values,\n",
    "                                              'expert_caa': img_gt_df[\"CAA_gt\"].values\n",
    "                                                }])\n",
    "        matched_df = pd.concat([matched_df, data_record], ignore_index=True)\n",
    "        # matched_df = matched_df.append(img_df)\n",
    "        \n",
    "# Write the matched DataFrame to a CSV file\n",
    "matched_df.to_csv('/mnt/new-nas/work/data/npsad_data/vivek/reports/Manuscript/match.csv', index=False)\n",
    "       \n",
    "\n",
    "\n",
    "\n"
   ]
  },
  {
   "cell_type": "code",
   "execution_count": null,
   "metadata": {},
   "outputs": [],
   "source": []
  }
 ],
 "metadata": {
  "kernelspec": {
   "display_name": "maskrcnn",
   "language": "python",
   "name": "python3"
  },
  "language_info": {
   "codemirror_mode": {
    "name": "ipython",
    "version": 3
   },
   "file_extension": ".py",
   "mimetype": "text/x-python",
   "name": "python",
   "nbconvert_exporter": "python",
   "pygments_lexer": "ipython3",
   "version": "3.8.12"
  },
  "orig_nbformat": 4
 },
 "nbformat": 4,
 "nbformat_minor": 2
}
