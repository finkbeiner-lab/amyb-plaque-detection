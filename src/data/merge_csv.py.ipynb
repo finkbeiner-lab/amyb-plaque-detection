{
 "cells": [
  {
   "cell_type": "code",
   "execution_count": 1,
   "metadata": {},
   "outputs": [],
   "source": [
    "# take average \n"
   ]
  },
  {
   "cell_type": "code",
   "execution_count": 2,
   "metadata": {},
   "outputs": [],
   "source": [
    "import os\n",
    "import glob\n",
    "import pdb\n",
    "import pandas as pd\n",
    "import tqdm\n",
    "\n"
   ]
  },
  {
   "cell_type": "code",
   "execution_count": 3,
   "metadata": {},
   "outputs": [],
   "source": [
    "csv_dir = \"/home/vivek/Projects/amyb-plaque-detection/reports/csv_data\"\n",
    "csv_new_dir =\"/home/vivek/Projects/amyb-plaque-detection/reports/csv_merged_data\"\n",
    "if not os.path.exists(csv_new_dir):\n",
    "    os.makedirs(csv_new_dir)\n"
   ]
  },
  {
   "cell_type": "code",
   "execution_count": 4,
   "metadata": {},
   "outputs": [],
   "source": [
    "image_clinical_df = pd.read_csv('/home/vivek/Metadata/AmyB/amyb_addef_mfg.csv')\n"
   ]
  },
  {
   "cell_type": "code",
   "execution_count": 5,
   "metadata": {},
   "outputs": [],
   "source": [
    "def is_non_zero_file(fpath):  \n",
    "    return os.path.isfile(fpath) and os.path.getsize(fpath) > 2"
   ]
  },
  {
   "cell_type": "code",
   "execution_count": 6,
   "metadata": {},
   "outputs": [],
   "source": [
    "csv_files = glob.glob(os.path.join(csv_dir, \"*.csv\"))\n",
    "result_df = pd.DataFrame()\n",
    "\n",
    "for csv_file in csv_files:\n",
    "    updated_img_df = pd.DataFrame()\n",
    "    x = csv_file\n",
    "    x = x.split(\"_quantify\")\n",
    "    \n",
    "    image_name = os.path.basename(x[0])\n",
    "    final_img_name = image_name + \".mrxs\"\n",
    "\n",
    "    \n",
    "    # Use the filename from image metadata to match the corresponding entry at clinical metadata\n",
    "    \n",
    "    if is_non_zero_file(csv_file):\n",
    "        img_attr_df = pd.read_csv(csv_file)\n",
    "        img_clinical_df = image_clinical_df[image_clinical_df['FileName'] == final_img_name]\n",
    "        \n",
    "        if len(img_clinical_df)!=0:\n",
    "            \n",
    "        \n",
    "            # Get the total count of each plaques for a particular Patient\n",
    "            data_record = pd.DataFrame.from_records([{'image_name':image_name,\n",
    "                                                      'avg_confidence': img_attr_df['confidence'].mean(),\n",
    "                                                      'total_plaques': img_attr_df[\"core\"].sum() + img_attr_df[\"neuritic\"].sum(),\n",
    "                                                      'total_core_plaques': img_attr_df[\"core\"].sum(),\n",
    "                                                      'total_neuritic_plaques': img_attr_df[\"neuritic\"].sum(),\n",
    "                                                      'avg_area':img_attr_df[\"area\"].mean(),\n",
    "                                                      'avg_diameter':img_attr_df[\"equivalent_diameter\"].mean(),\n",
    "                                                      'avg_eccentricity':img_attr_df[\"eccentricity\"].mean(),\n",
    "                                                      'age':img_clinical_df[\"Age\"].values[0],\n",
    "                                                      'sex':img_clinical_df[\"Sex\"].values[0],\n",
    "                                                      'ethinicity':img_clinical_df[\"Ethnicity\"].values[0],\n",
    "                                                      'Dx':img_clinical_df[\"key_1\"].values[0]\n",
    "                                                      \n",
    "                                                     }])\n",
    "\n",
    "            result_df = pd.concat([result_df, data_record], ignore_index=True)\n",
    "        \n",
    "        \n",
    "       \n",
    "#         updated_img_df = pd.concat([updated_img_df, img_clinical_df], axis=1).reindex(updated_img_df.index)\n",
    "#         save_csv = \"final_quantify.csv\"\n",
    "#         updated_img_df.to_csv(os.path.join(csv_new_dir, save_csv))\n",
    "#         result_df = pd.concat([result_df, updated_img_df], axis=1)\n",
    "    \n",
    "save_csv = \"final_quantify.csv\"\n",
    "result_df.to_csv(os.path.join(csv_new_dir, save_csv))\n",
    "\n",
    "\n",
    "    \n",
    "    "
   ]
  },
  {
   "cell_type": "code",
   "execution_count": 7,
   "metadata": {},
   "outputs": [],
   "source": [
    "\n",
    "#  if len(image_clinical_df[image_clinical_df['FileName'] == clinical_df])!=0:\n",
    "#         # repeat the row n number of times for proper concatenation\n",
    "# #         clinical_df = pd.concat([clinical_df] * len(img_attr_df), ignore_index=True)\n",
    "#         result_df = pd.concat([updated_img_df, clinical_df], axis=1)\n",
    "#         save_csv = image_name + \"_quanitfy.csv\"\n",
    "#         result_df.to_csv(os.path.join(csv_new_dir, save_csv))"
   ]
  },
  {
   "cell_type": "code",
   "execution_count": null,
   "metadata": {},
   "outputs": [],
   "source": []
  },
  {
   "cell_type": "code",
   "execution_count": null,
   "metadata": {},
   "outputs": [],
   "source": [
    "\n"
   ]
  },
  {
   "cell_type": "code",
   "execution_count": null,
   "metadata": {},
   "outputs": [],
   "source": []
  },
  {
   "cell_type": "code",
   "execution_count": null,
   "metadata": {},
   "outputs": [],
   "source": [
    "\n"
   ]
  },
  {
   "cell_type": "code",
   "execution_count": null,
   "metadata": {},
   "outputs": [],
   "source": []
  }
 ],
 "metadata": {
  "kernelspec": {
   "display_name": "Python 3",
   "language": "python",
   "name": "python3"
  },
  "language_info": {
   "codemirror_mode": {
    "name": "ipython",
    "version": 3
   },
   "file_extension": ".py",
   "mimetype": "text/x-python",
   "name": "python",
   "nbconvert_exporter": "python",
   "pygments_lexer": "ipython3",
   "version": "3.8.10"
  }
 },
 "nbformat": 4,
 "nbformat_minor": 4
}
