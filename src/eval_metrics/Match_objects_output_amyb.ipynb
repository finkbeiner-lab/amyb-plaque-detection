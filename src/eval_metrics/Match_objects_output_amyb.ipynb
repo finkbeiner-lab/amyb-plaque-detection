{
 "cells": [
  {
   "cell_type": "code",
   "execution_count": 25,
   "metadata": {},
   "outputs": [],
   "source": [
    "import pandas as pd\n",
    "import numpy as np\n",
    "import glob\n",
    "import os\n",
    "import os\n",
    "import sys\n",
    "sys.path.insert(0, '../')\n",
    "#sys.path.insert(0, '../')\n",
    "#sys.path.insert(0, './')\n",
    "#from data.Reinhard import Reinhard\n",
    "#sys.path.insert(0, './')\n",
    "#from Reinhard import Reinhard\n",
    "from models.model_mrcnn import _default_mrcnn_config, build_default\n",
    "from visualization.explain import ExplainPredictions\n",
    "import torch\n",
    "import tqdm\n",
    "from PIL import Image\n",
    "import torchvision\n",
    "from torchmetrics.classification import MulticlassConfusionMatrix\n",
    "import torchvision.ops.boxes as bops\n",
    "from torchmetrics.classification import Dice\n",
    "import plotly.express as px\n",
    "from plotly.subplots import make_subplots\n"
   ]
  },
  {
   "cell_type": "code",
   "execution_count": 2,
   "metadata": {},
   "outputs": [],
   "source": [
    "model_input_path = \"/gladstone/finkbeiner/steve/work/data/npsad_data/vivek/models/eager-frog-489_mrcnn_model_100.pth\""
   ]
  },
  {
   "cell_type": "code",
   "execution_count": 4,
   "metadata": {},
   "outputs": [],
   "source": [
    "test_config = dict(\n",
    "    batch_size = 1,\n",
    "    num_classes = 3\n",
    ")\n",
    "\n",
    "model_config = _default_mrcnn_config(num_classes=1 + test_config['num_classes']).config\n",
    "model_amyb = build_default(model_config, im_size=1024)"
   ]
  },
  {
   "cell_type": "code",
   "execution_count": 5,
   "metadata": {},
   "outputs": [
    {
     "data": {
      "text/plain": [
       "<All keys matched successfully>"
      ]
     },
     "execution_count": 5,
     "metadata": {},
     "output_type": "execute_result"
    }
   ],
   "source": [
    "model_amyb.load_state_dict(torch.load(model_input_path))"
   ]
  },
  {
   "cell_type": "code",
   "execution_count": 6,
   "metadata": {},
   "outputs": [
    {
     "data": {
      "text/plain": [
       "GeneralizedRCNN(\n",
       "  (transform): GeneralizedRCNNTransform(\n",
       "      Normalize(mean=[0.485, 0.456, 0.406], std=[0.229, 0.224, 0.225])\n",
       "      Resize(min_size=(1024,), max_size=1024, mode='bilinear')\n",
       "  )\n",
       "  (backbone): BackboneWithFPN(\n",
       "    (body): IntermediateLayerGetter(\n",
       "      (conv1): Conv2d(3, 64, kernel_size=(7, 7), stride=(2, 2), padding=(3, 3), bias=False)\n",
       "      (bn1): FrozenBatchNorm2d(64, eps=1e-05)\n",
       "      (relu): ReLU(inplace=True)\n",
       "      (maxpool): MaxPool2d(kernel_size=3, stride=2, padding=1, dilation=1, ceil_mode=False)\n",
       "      (layer1): Sequential(\n",
       "        (0): Bottleneck(\n",
       "          (conv1): Conv2d(64, 64, kernel_size=(1, 1), stride=(1, 1), bias=False)\n",
       "          (bn1): FrozenBatchNorm2d(64, eps=1e-05)\n",
       "          (conv2): Conv2d(64, 64, kernel_size=(3, 3), stride=(1, 1), padding=(1, 1), bias=False)\n",
       "          (bn2): FrozenBatchNorm2d(64, eps=1e-05)\n",
       "          (conv3): Conv2d(64, 256, kernel_size=(1, 1), stride=(1, 1), bias=False)\n",
       "          (bn3): FrozenBatchNorm2d(256, eps=1e-05)\n",
       "          (relu): ReLU(inplace=True)\n",
       "          (downsample): Sequential(\n",
       "            (0): Conv2d(64, 256, kernel_size=(1, 1), stride=(1, 1), bias=False)\n",
       "            (1): FrozenBatchNorm2d(256, eps=1e-05)\n",
       "          )\n",
       "        )\n",
       "        (1): Bottleneck(\n",
       "          (conv1): Conv2d(256, 64, kernel_size=(1, 1), stride=(1, 1), bias=False)\n",
       "          (bn1): FrozenBatchNorm2d(64, eps=1e-05)\n",
       "          (conv2): Conv2d(64, 64, kernel_size=(3, 3), stride=(1, 1), padding=(1, 1), bias=False)\n",
       "          (bn2): FrozenBatchNorm2d(64, eps=1e-05)\n",
       "          (conv3): Conv2d(64, 256, kernel_size=(1, 1), stride=(1, 1), bias=False)\n",
       "          (bn3): FrozenBatchNorm2d(256, eps=1e-05)\n",
       "          (relu): ReLU(inplace=True)\n",
       "        )\n",
       "        (2): Bottleneck(\n",
       "          (conv1): Conv2d(256, 64, kernel_size=(1, 1), stride=(1, 1), bias=False)\n",
       "          (bn1): FrozenBatchNorm2d(64, eps=1e-05)\n",
       "          (conv2): Conv2d(64, 64, kernel_size=(3, 3), stride=(1, 1), padding=(1, 1), bias=False)\n",
       "          (bn2): FrozenBatchNorm2d(64, eps=1e-05)\n",
       "          (conv3): Conv2d(64, 256, kernel_size=(1, 1), stride=(1, 1), bias=False)\n",
       "          (bn3): FrozenBatchNorm2d(256, eps=1e-05)\n",
       "          (relu): ReLU(inplace=True)\n",
       "        )\n",
       "      )\n",
       "      (layer2): Sequential(\n",
       "        (0): Bottleneck(\n",
       "          (conv1): Conv2d(256, 128, kernel_size=(1, 1), stride=(1, 1), bias=False)\n",
       "          (bn1): FrozenBatchNorm2d(128, eps=1e-05)\n",
       "          (conv2): Conv2d(128, 128, kernel_size=(3, 3), stride=(2, 2), padding=(1, 1), bias=False)\n",
       "          (bn2): FrozenBatchNorm2d(128, eps=1e-05)\n",
       "          (conv3): Conv2d(128, 512, kernel_size=(1, 1), stride=(1, 1), bias=False)\n",
       "          (bn3): FrozenBatchNorm2d(512, eps=1e-05)\n",
       "          (relu): ReLU(inplace=True)\n",
       "          (downsample): Sequential(\n",
       "            (0): Conv2d(256, 512, kernel_size=(1, 1), stride=(2, 2), bias=False)\n",
       "            (1): FrozenBatchNorm2d(512, eps=1e-05)\n",
       "          )\n",
       "        )\n",
       "        (1): Bottleneck(\n",
       "          (conv1): Conv2d(512, 128, kernel_size=(1, 1), stride=(1, 1), bias=False)\n",
       "          (bn1): FrozenBatchNorm2d(128, eps=1e-05)\n",
       "          (conv2): Conv2d(128, 128, kernel_size=(3, 3), stride=(1, 1), padding=(1, 1), bias=False)\n",
       "          (bn2): FrozenBatchNorm2d(128, eps=1e-05)\n",
       "          (conv3): Conv2d(128, 512, kernel_size=(1, 1), stride=(1, 1), bias=False)\n",
       "          (bn3): FrozenBatchNorm2d(512, eps=1e-05)\n",
       "          (relu): ReLU(inplace=True)\n",
       "        )\n",
       "        (2): Bottleneck(\n",
       "          (conv1): Conv2d(512, 128, kernel_size=(1, 1), stride=(1, 1), bias=False)\n",
       "          (bn1): FrozenBatchNorm2d(128, eps=1e-05)\n",
       "          (conv2): Conv2d(128, 128, kernel_size=(3, 3), stride=(1, 1), padding=(1, 1), bias=False)\n",
       "          (bn2): FrozenBatchNorm2d(128, eps=1e-05)\n",
       "          (conv3): Conv2d(128, 512, kernel_size=(1, 1), stride=(1, 1), bias=False)\n",
       "          (bn3): FrozenBatchNorm2d(512, eps=1e-05)\n",
       "          (relu): ReLU(inplace=True)\n",
       "        )\n",
       "        (3): Bottleneck(\n",
       "          (conv1): Conv2d(512, 128, kernel_size=(1, 1), stride=(1, 1), bias=False)\n",
       "          (bn1): FrozenBatchNorm2d(128, eps=1e-05)\n",
       "          (conv2): Conv2d(128, 128, kernel_size=(3, 3), stride=(1, 1), padding=(1, 1), bias=False)\n",
       "          (bn2): FrozenBatchNorm2d(128, eps=1e-05)\n",
       "          (conv3): Conv2d(128, 512, kernel_size=(1, 1), stride=(1, 1), bias=False)\n",
       "          (bn3): FrozenBatchNorm2d(512, eps=1e-05)\n",
       "          (relu): ReLU(inplace=True)\n",
       "        )\n",
       "      )\n",
       "      (layer3): Sequential(\n",
       "        (0): Bottleneck(\n",
       "          (conv1): Conv2d(512, 256, kernel_size=(1, 1), stride=(1, 1), bias=False)\n",
       "          (bn1): FrozenBatchNorm2d(256, eps=1e-05)\n",
       "          (conv2): Conv2d(256, 256, kernel_size=(3, 3), stride=(2, 2), padding=(1, 1), bias=False)\n",
       "          (bn2): FrozenBatchNorm2d(256, eps=1e-05)\n",
       "          (conv3): Conv2d(256, 1024, kernel_size=(1, 1), stride=(1, 1), bias=False)\n",
       "          (bn3): FrozenBatchNorm2d(1024, eps=1e-05)\n",
       "          (relu): ReLU(inplace=True)\n",
       "          (downsample): Sequential(\n",
       "            (0): Conv2d(512, 1024, kernel_size=(1, 1), stride=(2, 2), bias=False)\n",
       "            (1): FrozenBatchNorm2d(1024, eps=1e-05)\n",
       "          )\n",
       "        )\n",
       "        (1): Bottleneck(\n",
       "          (conv1): Conv2d(1024, 256, kernel_size=(1, 1), stride=(1, 1), bias=False)\n",
       "          (bn1): FrozenBatchNorm2d(256, eps=1e-05)\n",
       "          (conv2): Conv2d(256, 256, kernel_size=(3, 3), stride=(1, 1), padding=(1, 1), bias=False)\n",
       "          (bn2): FrozenBatchNorm2d(256, eps=1e-05)\n",
       "          (conv3): Conv2d(256, 1024, kernel_size=(1, 1), stride=(1, 1), bias=False)\n",
       "          (bn3): FrozenBatchNorm2d(1024, eps=1e-05)\n",
       "          (relu): ReLU(inplace=True)\n",
       "        )\n",
       "        (2): Bottleneck(\n",
       "          (conv1): Conv2d(1024, 256, kernel_size=(1, 1), stride=(1, 1), bias=False)\n",
       "          (bn1): FrozenBatchNorm2d(256, eps=1e-05)\n",
       "          (conv2): Conv2d(256, 256, kernel_size=(3, 3), stride=(1, 1), padding=(1, 1), bias=False)\n",
       "          (bn2): FrozenBatchNorm2d(256, eps=1e-05)\n",
       "          (conv3): Conv2d(256, 1024, kernel_size=(1, 1), stride=(1, 1), bias=False)\n",
       "          (bn3): FrozenBatchNorm2d(1024, eps=1e-05)\n",
       "          (relu): ReLU(inplace=True)\n",
       "        )\n",
       "        (3): Bottleneck(\n",
       "          (conv1): Conv2d(1024, 256, kernel_size=(1, 1), stride=(1, 1), bias=False)\n",
       "          (bn1): FrozenBatchNorm2d(256, eps=1e-05)\n",
       "          (conv2): Conv2d(256, 256, kernel_size=(3, 3), stride=(1, 1), padding=(1, 1), bias=False)\n",
       "          (bn2): FrozenBatchNorm2d(256, eps=1e-05)\n",
       "          (conv3): Conv2d(256, 1024, kernel_size=(1, 1), stride=(1, 1), bias=False)\n",
       "          (bn3): FrozenBatchNorm2d(1024, eps=1e-05)\n",
       "          (relu): ReLU(inplace=True)\n",
       "        )\n",
       "        (4): Bottleneck(\n",
       "          (conv1): Conv2d(1024, 256, kernel_size=(1, 1), stride=(1, 1), bias=False)\n",
       "          (bn1): FrozenBatchNorm2d(256, eps=1e-05)\n",
       "          (conv2): Conv2d(256, 256, kernel_size=(3, 3), stride=(1, 1), padding=(1, 1), bias=False)\n",
       "          (bn2): FrozenBatchNorm2d(256, eps=1e-05)\n",
       "          (conv3): Conv2d(256, 1024, kernel_size=(1, 1), stride=(1, 1), bias=False)\n",
       "          (bn3): FrozenBatchNorm2d(1024, eps=1e-05)\n",
       "          (relu): ReLU(inplace=True)\n",
       "        )\n",
       "        (5): Bottleneck(\n",
       "          (conv1): Conv2d(1024, 256, kernel_size=(1, 1), stride=(1, 1), bias=False)\n",
       "          (bn1): FrozenBatchNorm2d(256, eps=1e-05)\n",
       "          (conv2): Conv2d(256, 256, kernel_size=(3, 3), stride=(1, 1), padding=(1, 1), bias=False)\n",
       "          (bn2): FrozenBatchNorm2d(256, eps=1e-05)\n",
       "          (conv3): Conv2d(256, 1024, kernel_size=(1, 1), stride=(1, 1), bias=False)\n",
       "          (bn3): FrozenBatchNorm2d(1024, eps=1e-05)\n",
       "          (relu): ReLU(inplace=True)\n",
       "        )\n",
       "      )\n",
       "      (layer4): Sequential(\n",
       "        (0): Bottleneck(\n",
       "          (conv1): Conv2d(1024, 512, kernel_size=(1, 1), stride=(1, 1), bias=False)\n",
       "          (bn1): FrozenBatchNorm2d(512, eps=1e-05)\n",
       "          (conv2): Conv2d(512, 512, kernel_size=(3, 3), stride=(2, 2), padding=(1, 1), bias=False)\n",
       "          (bn2): FrozenBatchNorm2d(512, eps=1e-05)\n",
       "          (conv3): Conv2d(512, 2048, kernel_size=(1, 1), stride=(1, 1), bias=False)\n",
       "          (bn3): FrozenBatchNorm2d(2048, eps=1e-05)\n",
       "          (relu): ReLU(inplace=True)\n",
       "          (downsample): Sequential(\n",
       "            (0): Conv2d(1024, 2048, kernel_size=(1, 1), stride=(2, 2), bias=False)\n",
       "            (1): FrozenBatchNorm2d(2048, eps=1e-05)\n",
       "          )\n",
       "        )\n",
       "        (1): Bottleneck(\n",
       "          (conv1): Conv2d(2048, 512, kernel_size=(1, 1), stride=(1, 1), bias=False)\n",
       "          (bn1): FrozenBatchNorm2d(512, eps=1e-05)\n",
       "          (conv2): Conv2d(512, 512, kernel_size=(3, 3), stride=(1, 1), padding=(1, 1), bias=False)\n",
       "          (bn2): FrozenBatchNorm2d(512, eps=1e-05)\n",
       "          (conv3): Conv2d(512, 2048, kernel_size=(1, 1), stride=(1, 1), bias=False)\n",
       "          (bn3): FrozenBatchNorm2d(2048, eps=1e-05)\n",
       "          (relu): ReLU(inplace=True)\n",
       "        )\n",
       "        (2): Bottleneck(\n",
       "          (conv1): Conv2d(2048, 512, kernel_size=(1, 1), stride=(1, 1), bias=False)\n",
       "          (bn1): FrozenBatchNorm2d(512, eps=1e-05)\n",
       "          (conv2): Conv2d(512, 512, kernel_size=(3, 3), stride=(1, 1), padding=(1, 1), bias=False)\n",
       "          (bn2): FrozenBatchNorm2d(512, eps=1e-05)\n",
       "          (conv3): Conv2d(512, 2048, kernel_size=(1, 1), stride=(1, 1), bias=False)\n",
       "          (bn3): FrozenBatchNorm2d(2048, eps=1e-05)\n",
       "          (relu): ReLU(inplace=True)\n",
       "        )\n",
       "      )\n",
       "    )\n",
       "    (fpn): FeaturePyramidNetwork(\n",
       "      (inner_blocks): ModuleList(\n",
       "        (0): Conv2dNormActivation(\n",
       "          (0): Conv2d(256, 256, kernel_size=(1, 1), stride=(1, 1))\n",
       "        )\n",
       "        (1): Conv2dNormActivation(\n",
       "          (0): Conv2d(512, 256, kernel_size=(1, 1), stride=(1, 1))\n",
       "        )\n",
       "        (2): Conv2dNormActivation(\n",
       "          (0): Conv2d(1024, 256, kernel_size=(1, 1), stride=(1, 1))\n",
       "        )\n",
       "        (3): Conv2dNormActivation(\n",
       "          (0): Conv2d(2048, 256, kernel_size=(1, 1), stride=(1, 1))\n",
       "        )\n",
       "      )\n",
       "      (layer_blocks): ModuleList(\n",
       "        (0-3): 4 x Conv2dNormActivation(\n",
       "          (0): Conv2d(256, 256, kernel_size=(3, 3), stride=(1, 1), padding=(1, 1))\n",
       "        )\n",
       "      )\n",
       "      (extra_blocks): LastLevelMaxPool()\n",
       "    )\n",
       "  )\n",
       "  (rpn): RegionProposalNetwork(\n",
       "    (anchor_generator): AnchorGenerator()\n",
       "    (head): RPNHead(\n",
       "      (conv): Sequential(\n",
       "        (0): Conv2dNormActivation(\n",
       "          (0): Conv2d(256, 256, kernel_size=(3, 3), stride=(1, 1), padding=(1, 1))\n",
       "          (1): ReLU(inplace=True)\n",
       "        )\n",
       "      )\n",
       "      (cls_logits): Conv2d(256, 3, kernel_size=(1, 1), stride=(1, 1))\n",
       "      (bbox_pred): Conv2d(256, 12, kernel_size=(1, 1), stride=(1, 1))\n",
       "    )\n",
       "  )\n",
       "  (roi_heads): RoIHeads(\n",
       "    (box_roi_pool): MultiScaleRoIAlign(featmap_names=['0', '1', '2', '3'], output_size=(7, 7), sampling_ratio=2)\n",
       "    (box_head): TwoMLPHead(\n",
       "      (fc6): Linear(in_features=12544, out_features=1024, bias=True)\n",
       "      (fc7): Linear(in_features=1024, out_features=1024, bias=True)\n",
       "    )\n",
       "    (box_predictor): FastRCNNPredictor(\n",
       "      (cls_score): Linear(in_features=1024, out_features=4, bias=True)\n",
       "      (bbox_pred): Linear(in_features=1024, out_features=16, bias=True)\n",
       "    )\n",
       "    (mask_roi_pool): MultiScaleRoIAlign(featmap_names=['0', '1', '2', '3'], output_size=(14, 14), sampling_ratio=2)\n",
       "    (mask_head): MaskRCNNHeads(\n",
       "      (0): Conv2dNormActivation(\n",
       "        (0): Conv2d(256, 256, kernel_size=(3, 3), stride=(1, 1), padding=(1, 1))\n",
       "        (1): ReLU(inplace=True)\n",
       "      )\n",
       "      (1): Conv2dNormActivation(\n",
       "        (0): Conv2d(256, 256, kernel_size=(3, 3), stride=(1, 1), padding=(1, 1))\n",
       "        (1): ReLU(inplace=True)\n",
       "      )\n",
       "      (2): Conv2dNormActivation(\n",
       "        (0): Conv2d(256, 256, kernel_size=(3, 3), stride=(1, 1), padding=(1, 1))\n",
       "        (1): ReLU(inplace=True)\n",
       "      )\n",
       "      (3): Conv2dNormActivation(\n",
       "        (0): Conv2d(256, 256, kernel_size=(3, 3), stride=(1, 1), padding=(1, 1))\n",
       "        (1): ReLU(inplace=True)\n",
       "      )\n",
       "    )\n",
       "    (mask_predictor): MaskRCNNPredictor(\n",
       "      (conv5_mask): ConvTranspose2d(256, 256, kernel_size=(2, 2), stride=(2, 2))\n",
       "      (relu): ReLU(inplace=True)\n",
       "      (mask_fcn_logits): Conv2d(256, 4, kernel_size=(1, 1), stride=(1, 1))\n",
       "    )\n",
       "  )\n",
       ")"
      ]
     },
     "execution_count": 6,
     "metadata": {},
     "output_type": "execute_result"
    }
   ],
   "source": [
    "device = torch.device('cuda' if torch.cuda.is_available() else 'cpu')\n",
    "model_amyb.eval().to(device)"
   ]
  },
  {
   "cell_type": "code",
   "execution_count": 7,
   "metadata": {},
   "outputs": [],
   "source": [
    "def prepare_input(image):\n",
    "    image_float_np = np.float32(image) / 255\n",
    "\n",
    "    # define the torchvision image transforms\n",
    "    transform = torchvision.transforms.Compose([\n",
    "        torchvision.transforms.ToTensor(),\n",
    "    ])\n",
    "\n",
    "    input_tensor = transform(image)\n",
    "    device = torch.device('cuda' if torch.cuda.is_available() else 'cpu')\n",
    "    input_tensor = input_tensor.to(device)\n",
    "    # Add a batch dimension:\n",
    "    input_tensor = input_tensor.unsqueeze(0)\n",
    "    return input_tensor, image_float_np\n",
    "\n",
    "class_names = ['Cored', 'Diffuse', 'CAA']\n",
    "def get_outputs(input_tensor, model, threshold):\n",
    "    with torch.no_grad():\n",
    "        # forward pass of the image through the modle\n",
    "        outputs = model(input_tensor)\n",
    "    #print(outputs)\n",
    "    scores = list(outputs[0]['scores'].detach().cpu().numpy())\n",
    "    # print(\"\\n scores\", max(scores))\n",
    "    # index of those scores which are above a certain threshold\n",
    "    thresholded_preds_inidices = [scores.index(i) for i in scores if i > threshold]\n",
    "    #print(thresholded_preds_inidices)\n",
    "    thresholded_preds_count = len(thresholded_preds_inidices)\n",
    "    #print(thresholded_preds_count)\n",
    "    #print(\"score before\", scores)\n",
    "    scores = np.array(scores)[thresholded_preds_inidices]\n",
    "    #print(\"score after\", scores)\n",
    "    # get the masks\n",
    "    masks = (outputs[0]['masks']>0.5).squeeze().detach().cpu().numpy()\n",
    "    if len(masks.shape)==2:\n",
    "        masks = np.array([masks])\n",
    "    # discard masks for objects which are below threshold\n",
    "    masks = masks[thresholded_preds_inidices]\n",
    "    #print(masks.shape)\n",
    "    # get the bounding boxes, in (x1, y1), (x2, y2) format\n",
    "    boxes = [[(int(i[0]), int(i[1])), (int(i[2]), int(i[3]))]  for i in outputs[0]['boxes'].detach().cpu()]\n",
    "    # discard bounding boxes below threshold value\n",
    "    boxes = np.array(boxes)[thresholded_preds_inidices]\n",
    "    # get the classes labels\n",
    "    # print('labels', outputs[0]['labels'])\n",
    "    #print(outputs[0]['labels'])\n",
    "    #print(thresholded_preds_count)\n",
    "    #print(outputs[0]['labels'])\n",
    "    #print(outputs[0]['labels'])\n",
    "    labels = [class_names[i-1] for i in outputs[0]['labels']]\n",
    "    #labels = [i for i in outputs[0]['labels']]\n",
    "    #print(labels)\n",
    "    labels = labels[:thresholded_preds_count+1]\n",
    "    return masks, boxes, labels, scores"
   ]
  },
  {
   "cell_type": "code",
   "execution_count": 8,
   "metadata": {},
   "outputs": [],
   "source": [
    "def expand_mask(mask_path):\n",
    "    mask = Image.open(mask_path).convert('P')   \n",
    "    mask = np.array(mask)\n",
    "    # instances are encoded as different colors\n",
    "    obj_ids = np.unique(mask)\n",
    "    # first id is the background, so remove it\n",
    "    obj_ids = obj_ids[1:]\n",
    "    # split the color-encoded mask into a set\n",
    "    # of binary masks\n",
    "    masks = mask == obj_ids[:, None, None]\n",
    "    num_objs = len(obj_ids)\n",
    "    \n",
    "    boxes = []\n",
    "    for i in range(num_objs):\n",
    "        pos = np.where(masks[i])\n",
    "        xmin = np.min(pos[1])\n",
    "        xmax = np.max(pos[1])\n",
    "        ymin = np.min(pos[0])\n",
    "        ymax = np.max(pos[0])\n",
    "        #print(pos)\n",
    "        if xmax <= xmin and ymax <=ymin:\n",
    "            print(\"degenrate boxes\", mask_path)\n",
    "            print(len(obj_ids))\n",
    "            break\n",
    "        boxes.append([xmin, ymin, xmax, ymax])\n",
    "    boxes = torch.as_tensor(boxes, dtype=torch.float32)\n",
    "    x = [id // 50 for id in obj_ids]\n",
    "    #x = [1 for i in x if i==3]\n",
    "    #x = [3 for i in x if i==4]\n",
    "    labels = torch.tensor(x)\n",
    "    masks = torch.as_tensor(masks, dtype=torch.uint8)\n",
    "    #image_id = torch.tensor([idx])\n",
    "    area = (boxes[:, 3] - boxes[:, 1]) * (boxes[:, 2] - boxes[:, 0])\n",
    "    # suppose all instances are not crowd\n",
    "    iscrowd = torch.zeros((num_objs,), dtype=torch.int64)\n",
    "    target = {}\n",
    "    target[\"boxes\"] = boxes\n",
    "    target[\"labels\"] = labels\n",
    "    target[\"masks\"] = masks\n",
    "    #target[\"image_id\"] = image_id\n",
    "    target[\"area\"] = area\n",
    "    target[\"iscrowd\"] = iscrowd\n",
    "    print(labels)\n",
    "    return target"
   ]
  },
  {
   "cell_type": "code",
   "execution_count": 9,
   "metadata": {},
   "outputs": [],
   "source": [
    "def match_mask(device,masked_image,binary_array):\n",
    "    #num_classes = len(set(list(np.unique(masked_image)) +  list(np.unique(binary_array))))\n",
    "    num_classes = 3\n",
    "    metric = MulticlassConfusionMatrix(num_classes=num_classes).to(device)\n",
    "    conf_final=torch.tensor(np.zeros((num_classes,num_classes))).to(device).to(torch.int64)\n",
    "    for i in range(len(masked_image)):\n",
    "        preds = torch.tensor(masked_image[i]).to(device).to(torch.int64)\n",
    "        target = torch.tensor(binary_array[i]).to(device).to(torch.int64)\n",
    "        a1 = metric(preds,target)\n",
    "        conf_final = conf_final + a1     \n",
    "    conf_final_np = conf_final.cpu().numpy()\n",
    "    total_predicted = np.sum(conf_final_np, axis=0) \n",
    "    diag_elements = np.diag(conf_final_np)\n",
    "    precision = diag_elements/total_predicted\n",
    "    total_actual = np.sum(conf_final_np, axis=1) \n",
    "    recall = diag_elements/total_actual\n",
    "    f1_score = (2*precision*recall)/(recall+precision)\n",
    "    iou_coeff = (diag_elements)/(total_predicted+total_actual-diag_elements)\n",
    "    \n",
    "    #csv_filename_tosave = \"Eval_Metric_\"+ geofile.split(\".\")[0] + \".csv\"\n",
    "    eval_metrics = pd.DataFrame({\"Class\":[ 'Cored', 'Diffuse', 'CAA'],\"Precision\":precision, \"recall\":recall,\"f1_score\":f1_score,\"iou_coeff\":iou_coeff})\n",
    "    #eval_metrics.to_csv(os.path.join(eval_dir,csv_filename_tosave))\n",
    "    #return eval_metrics[eval_metrics[\"Class\"]==\"Pre/True\"][\"f1_score\"].values[0]\n",
    "    return eval_metrics"
   ]
  },
  {
   "cell_type": "code",
   "execution_count": 10,
   "metadata": {},
   "outputs": [],
   "source": [
    "def match_label(pred_label, gt_label):\n",
    "    if pred_label==gt_label:\n",
    "        return True\n",
    "    else:\n",
    "        return False\n",
    "\n",
    "def actual_label_target(gt_label):\n",
    "    if (gt_label.cpu().numpy()==1) or (gt_label.cpu().numpy()==3):\n",
    "        return \"Cored\"\n",
    "    if (gt_label.cpu().numpy()==2):\n",
    "        return \"Diffuse\"\n",
    "    if (gt_label.cpu().numpy()==4):\n",
    "        return \"CAA\"\n",
    "    return None"
   ]
  },
  {
   "cell_type": "code",
   "execution_count": 11,
   "metadata": {},
   "outputs": [
    {
     "name": "stdout",
     "output_type": "stream",
     "text": [
      "tensor([2])\n"
     ]
    },
    {
     "name": "stderr",
     "output_type": "stream",
     "text": [
      "/tmp/ipykernel_280123/2329794364.py:8: UserWarning: To copy construct from a tensor, it is recommended to use sourceTensor.clone().detach() or sourceTensor.clone().detach().requires_grad_(True), rather than torch.tensor(sourceTensor).\n",
      "  target = torch.tensor(binary_array[i]).to(device).to(torch.int64)\n",
      "/tmp/ipykernel_280123/2329794364.py:14: RuntimeWarning: invalid value encountered in true_divide\n",
      "  precision = diag_elements/total_predicted\n",
      "/tmp/ipykernel_280123/2329794364.py:16: RuntimeWarning: invalid value encountered in true_divide\n",
      "  recall = diag_elements/total_actual\n",
      "/tmp/ipykernel_280123/2329794364.py:18: RuntimeWarning: invalid value encountered in true_divide\n",
      "  iou_coeff = (diag_elements)/(total_predicted+total_actual-diag_elements)\n"
     ]
    },
    {
     "name": "stdout",
     "output_type": "stream",
     "text": [
      "tensor([2])\n",
      "tensor([2])\n",
      "tensor([2])\n",
      "tensor([2])\n",
      "tensor([1])\n",
      "tensor([1])\n",
      "tensor([2])\n",
      "tensor([1])\n"
     ]
    },
    {
     "name": "stderr",
     "output_type": "stream",
     "text": [
      "/tmp/ipykernel_280123/2329794364.py:17: RuntimeWarning: invalid value encountered in true_divide\n",
      "  f1_score = (2*precision*recall)/(recall+precision)\n"
     ]
    },
    {
     "name": "stdout",
     "output_type": "stream",
     "text": [
      "tensor([1])\n",
      "tensor([3])\n",
      "tensor([1])\n",
      "tensor([1])\n",
      "tensor([1])\n",
      "tensor([1])\n",
      "tensor([1])\n",
      "tensor([1])\n",
      "tensor([1])\n",
      "tensor([2])\n",
      "tensor([1])\n",
      "tensor([1])\n",
      "tensor([2])\n",
      "tensor([1])\n",
      "tensor([3])\n",
      "tensor([3])\n",
      "tensor([3])\n",
      "tensor([1])\n",
      "tensor([3])\n",
      "tensor([1])\n",
      "tensor([1])\n",
      "tensor([3])\n",
      "tensor([1])\n",
      "tensor([1])\n",
      "tensor([3])\n",
      "tensor([3])\n",
      "tensor([1])\n",
      "tensor([1])\n",
      "tensor([3])\n",
      "tensor([1])\n",
      "tensor([3])\n",
      "tensor([3])\n",
      "tensor([1])\n",
      "tensor([1])\n",
      "tensor([3])\n",
      "tensor([1])\n",
      "tensor([1])\n",
      "tensor([1])\n",
      "tensor([3])\n",
      "tensor([1])\n",
      "tensor([3])\n",
      "tensor([3])\n",
      "tensor([2])\n",
      "tensor([1])\n",
      "tensor([2])\n",
      "59 59\n",
      "tensor([1])\n"
     ]
    },
    {
     "name": "stderr",
     "output_type": "stream",
     "text": [
      "/tmp/ipykernel_280123/2329794364.py:8: UserWarning: To copy construct from a tensor, it is recommended to use sourceTensor.clone().detach() or sourceTensor.clone().detach().requires_grad_(True), rather than torch.tensor(sourceTensor).\n",
      "  target = torch.tensor(binary_array[i]).to(device).to(torch.int64)\n",
      "/tmp/ipykernel_280123/2329794364.py:14: RuntimeWarning: invalid value encountered in true_divide\n",
      "  precision = diag_elements/total_predicted\n",
      "/tmp/ipykernel_280123/2329794364.py:16: RuntimeWarning: invalid value encountered in true_divide\n",
      "  recall = diag_elements/total_actual\n",
      "/tmp/ipykernel_280123/2329794364.py:18: RuntimeWarning: invalid value encountered in true_divide\n",
      "  iou_coeff = (diag_elements)/(total_predicted+total_actual-diag_elements)\n"
     ]
    },
    {
     "name": "stdout",
     "output_type": "stream",
     "text": [
      "tensor([3])\n",
      "tensor([1])\n",
      "tensor([3])\n"
     ]
    },
    {
     "name": "stderr",
     "output_type": "stream",
     "text": [
      "/tmp/ipykernel_280123/2329794364.py:17: RuntimeWarning: invalid value encountered in true_divide\n",
      "  f1_score = (2*precision*recall)/(recall+precision)\n"
     ]
    },
    {
     "name": "stdout",
     "output_type": "stream",
     "text": [
      "tensor([3])\n",
      "tensor([3])\n",
      "tensor([3])\n",
      "tensor([3])\n",
      "tensor([1])\n",
      "tensor([3])\n",
      "tensor([1])\n",
      "tensor([1])\n",
      "13 13\n"
     ]
    }
   ],
   "source": [
    "test_folder  = \"/gladstone/finkbeiner/steve/work/data/npsad_data/vivek/Datasets/amyb_wsi/val/val1/\"\n",
    "image_folders = glob.glob(os.path.join(test_folder, '*'))\n",
    "output_df =  pd.DataFrame()\n",
    "#output_df = pd.DataFrame({\"img_crop\":[], \"target_label\":[], \"pred_label\":[], \"target_mask_index\":[],\"pred_mask_index\":[], \"dice/f1_score\":[],\"matched_label\":[],\"image_folder\":[]})\n",
    "for image_folder in image_folders:\n",
    "    images = glob.glob(os.path.join(image_folder, \"images\", \"*.png\"))\n",
    "    masks = glob.glob(os.path.join(image_folder, \"labels\", \"*.png\"))\n",
    "    images.sort()\n",
    "    masks.sort()\n",
    "    img_list = []\n",
    "    target_mask_list= []\n",
    "    pred_mask_list=[]\n",
    "    f1_score_list = []\n",
    "    matched_label_list = []\n",
    "    actual_label_list = []\n",
    "    pred_label_list =[]\n",
    "    detection_score_list=[]\n",
    "    for img, mask in zip(images,masks):\n",
    "        #img_name = os.path.basename(img).split('.')[0]\n",
    "        image = np.array(Image.open(img))\n",
    "        #mask = np.array(Image.open(mask))\n",
    "        target = expand_mask(mask)\n",
    "        if image.shape[2] == 4:\n",
    "            image = image[:,:, :3]\n",
    "        input_tensor, image_float_np = prepare_input(image)\n",
    "        masks, boxes, labels, scores = get_outputs(input_tensor, model_amyb, 0.2)\n",
    "        #print(len(labels))\n",
    "        for i in range(len(target['masks'])):\n",
    "            for j in range(len(masks)):\n",
    "                target_label = actual_label_target(target['labels'][i])\n",
    "                actual_label_list.append(target_label)\n",
    "                img_list.append(img)\n",
    "                target_mask_list.append(i)\n",
    "                #if len(masks[j].shape)>=2:\n",
    "                    #print(target_label, labels[j])\n",
    "                pred_label_list.append(labels[j])\n",
    "                eval_metrics = match_mask(device, masks[j],target['masks'][i])\n",
    "                #print(eval_metrics)\n",
    "                matched_label = match_label(labels[j],target_label)\n",
    "                #print(matched_label)\n",
    "                f1_score = eval_metrics[eval_metrics[\"Class\"]==target_label][\"f1_score\"].values[0]\n",
    "                pred_mask_list.append(j)\n",
    "                f1_score_list.append(f1_score)\n",
    "                matched_label_list.append(matched_label)\n",
    "                detection_score_list.append(scores[j])\n",
    "            if len(masks)==0:\n",
    "                target_label = actual_label_target(target['labels'][i])\n",
    "                actual_label_list.append(target_label)\n",
    "                img_list.append(img)\n",
    "                target_mask_list.append(i)\n",
    "                pred_label_list.append(None)\n",
    "                pred_mask_list.append(None)\n",
    "                f1_score_list.append(None)\n",
    "                matched_label_list.append(None)\n",
    "                detection_score_list.append(None)\n",
    "    print(len(target_mask_list), len(pred_mask_list))            \n",
    "    tmp = pd.DataFrame({\"img_crop\":img_list, \"target_label\":actual_label_list, \"pred_label\":pred_label_list, \"target_mask_index\":target_mask_list,\"pred_mask_index\":pred_mask_list, \"dice/f1_score\":f1_score_list,\"matched_label\":matched_label_list,\"detection_score\":detection_score_list})\n",
    "    tmp[\"image_folder\"] = image_folder\n",
    "    if len(output_df)==0:\n",
    "        output_df = tmp\n",
    "    else:\n",
    "        output_df= pd.concat([output_df,tmp],ignore_index=True)\n",
    "       \n",
    "         \n",
    "        "
   ]
  },
  {
   "cell_type": "code",
   "execution_count": 13,
   "metadata": {},
   "outputs": [
    {
     "data": {
      "text/html": [
       "<div>\n",
       "<style scoped>\n",
       "    .dataframe tbody tr th:only-of-type {\n",
       "        vertical-align: middle;\n",
       "    }\n",
       "\n",
       "    .dataframe tbody tr th {\n",
       "        vertical-align: top;\n",
       "    }\n",
       "\n",
       "    .dataframe thead th {\n",
       "        text-align: right;\n",
       "    }\n",
       "</style>\n",
       "<table border=\"1\" class=\"dataframe\">\n",
       "  <thead>\n",
       "    <tr style=\"text-align: right;\">\n",
       "      <th></th>\n",
       "      <th>img_crop</th>\n",
       "      <th>target_label</th>\n",
       "      <th>pred_label</th>\n",
       "      <th>target_mask_index</th>\n",
       "      <th>pred_mask_index</th>\n",
       "      <th>dice/f1_score</th>\n",
       "      <th>matched_label</th>\n",
       "      <th>detection_score</th>\n",
       "      <th>image_folder</th>\n",
       "    </tr>\n",
       "  </thead>\n",
       "  <tbody>\n",
       "    <tr>\n",
       "      <th>0</th>\n",
       "      <td>/gladstone/finkbeiner/steve/work/data/npsad_da...</td>\n",
       "      <td>Diffuse</td>\n",
       "      <td>Diffuse</td>\n",
       "      <td>0</td>\n",
       "      <td>0.0</td>\n",
       "      <td>0.911739</td>\n",
       "      <td>True</td>\n",
       "      <td>0.999552</td>\n",
       "      <td>/gladstone/finkbeiner/steve/work/data/npsad_da...</td>\n",
       "    </tr>\n",
       "    <tr>\n",
       "      <th>1</th>\n",
       "      <td>/gladstone/finkbeiner/steve/work/data/npsad_da...</td>\n",
       "      <td>Diffuse</td>\n",
       "      <td>Diffuse</td>\n",
       "      <td>0</td>\n",
       "      <td>0.0</td>\n",
       "      <td>0.775440</td>\n",
       "      <td>True</td>\n",
       "      <td>0.997847</td>\n",
       "      <td>/gladstone/finkbeiner/steve/work/data/npsad_da...</td>\n",
       "    </tr>\n",
       "    <tr>\n",
       "      <th>2</th>\n",
       "      <td>/gladstone/finkbeiner/steve/work/data/npsad_da...</td>\n",
       "      <td>Diffuse</td>\n",
       "      <td>None</td>\n",
       "      <td>0</td>\n",
       "      <td>NaN</td>\n",
       "      <td>NaN</td>\n",
       "      <td>None</td>\n",
       "      <td>NaN</td>\n",
       "      <td>/gladstone/finkbeiner/steve/work/data/npsad_da...</td>\n",
       "    </tr>\n",
       "    <tr>\n",
       "      <th>3</th>\n",
       "      <td>/gladstone/finkbeiner/steve/work/data/npsad_da...</td>\n",
       "      <td>Diffuse</td>\n",
       "      <td>Diffuse</td>\n",
       "      <td>0</td>\n",
       "      <td>0.0</td>\n",
       "      <td>0.912643</td>\n",
       "      <td>True</td>\n",
       "      <td>0.617667</td>\n",
       "      <td>/gladstone/finkbeiner/steve/work/data/npsad_da...</td>\n",
       "    </tr>\n",
       "    <tr>\n",
       "      <th>4</th>\n",
       "      <td>/gladstone/finkbeiner/steve/work/data/npsad_da...</td>\n",
       "      <td>Diffuse</td>\n",
       "      <td>None</td>\n",
       "      <td>0</td>\n",
       "      <td>NaN</td>\n",
       "      <td>NaN</td>\n",
       "      <td>None</td>\n",
       "      <td>NaN</td>\n",
       "      <td>/gladstone/finkbeiner/steve/work/data/npsad_da...</td>\n",
       "    </tr>\n",
       "    <tr>\n",
       "      <th>...</th>\n",
       "      <td>...</td>\n",
       "      <td>...</td>\n",
       "      <td>...</td>\n",
       "      <td>...</td>\n",
       "      <td>...</td>\n",
       "      <td>...</td>\n",
       "      <td>...</td>\n",
       "      <td>...</td>\n",
       "      <td>...</td>\n",
       "    </tr>\n",
       "    <tr>\n",
       "      <th>67</th>\n",
       "      <td>/gladstone/finkbeiner/steve/work/data/npsad_da...</td>\n",
       "      <td>Cored</td>\n",
       "      <td>Cored</td>\n",
       "      <td>0</td>\n",
       "      <td>0.0</td>\n",
       "      <td>0.995646</td>\n",
       "      <td>True</td>\n",
       "      <td>0.999318</td>\n",
       "      <td>/gladstone/finkbeiner/steve/work/data/npsad_da...</td>\n",
       "    </tr>\n",
       "    <tr>\n",
       "      <th>68</th>\n",
       "      <td>/gladstone/finkbeiner/steve/work/data/npsad_da...</td>\n",
       "      <td>Cored</td>\n",
       "      <td>Cored</td>\n",
       "      <td>0</td>\n",
       "      <td>0.0</td>\n",
       "      <td>0.994240</td>\n",
       "      <td>True</td>\n",
       "      <td>0.999396</td>\n",
       "      <td>/gladstone/finkbeiner/steve/work/data/npsad_da...</td>\n",
       "    </tr>\n",
       "    <tr>\n",
       "      <th>69</th>\n",
       "      <td>/gladstone/finkbeiner/steve/work/data/npsad_da...</td>\n",
       "      <td>Cored</td>\n",
       "      <td>Cored</td>\n",
       "      <td>0</td>\n",
       "      <td>0.0</td>\n",
       "      <td>0.995676</td>\n",
       "      <td>True</td>\n",
       "      <td>0.998872</td>\n",
       "      <td>/gladstone/finkbeiner/steve/work/data/npsad_da...</td>\n",
       "    </tr>\n",
       "    <tr>\n",
       "      <th>70</th>\n",
       "      <td>/gladstone/finkbeiner/steve/work/data/npsad_da...</td>\n",
       "      <td>Cored</td>\n",
       "      <td>Cored</td>\n",
       "      <td>0</td>\n",
       "      <td>0.0</td>\n",
       "      <td>0.997694</td>\n",
       "      <td>True</td>\n",
       "      <td>0.997166</td>\n",
       "      <td>/gladstone/finkbeiner/steve/work/data/npsad_da...</td>\n",
       "    </tr>\n",
       "    <tr>\n",
       "      <th>71</th>\n",
       "      <td>/gladstone/finkbeiner/steve/work/data/npsad_da...</td>\n",
       "      <td>Cored</td>\n",
       "      <td>Cored</td>\n",
       "      <td>0</td>\n",
       "      <td>0.0</td>\n",
       "      <td>0.998803</td>\n",
       "      <td>True</td>\n",
       "      <td>0.999490</td>\n",
       "      <td>/gladstone/finkbeiner/steve/work/data/npsad_da...</td>\n",
       "    </tr>\n",
       "  </tbody>\n",
       "</table>\n",
       "<p>72 rows × 9 columns</p>\n",
       "</div>"
      ],
      "text/plain": [
       "                                             img_crop target_label pred_label  \\\n",
       "0   /gladstone/finkbeiner/steve/work/data/npsad_da...      Diffuse    Diffuse   \n",
       "1   /gladstone/finkbeiner/steve/work/data/npsad_da...      Diffuse    Diffuse   \n",
       "2   /gladstone/finkbeiner/steve/work/data/npsad_da...      Diffuse       None   \n",
       "3   /gladstone/finkbeiner/steve/work/data/npsad_da...      Diffuse    Diffuse   \n",
       "4   /gladstone/finkbeiner/steve/work/data/npsad_da...      Diffuse       None   \n",
       "..                                                ...          ...        ...   \n",
       "67  /gladstone/finkbeiner/steve/work/data/npsad_da...        Cored      Cored   \n",
       "68  /gladstone/finkbeiner/steve/work/data/npsad_da...        Cored      Cored   \n",
       "69  /gladstone/finkbeiner/steve/work/data/npsad_da...        Cored      Cored   \n",
       "70  /gladstone/finkbeiner/steve/work/data/npsad_da...        Cored      Cored   \n",
       "71  /gladstone/finkbeiner/steve/work/data/npsad_da...        Cored      Cored   \n",
       "\n",
       "    target_mask_index  pred_mask_index  dice/f1_score matched_label  \\\n",
       "0                   0              0.0       0.911739          True   \n",
       "1                   0              0.0       0.775440          True   \n",
       "2                   0              NaN            NaN          None   \n",
       "3                   0              0.0       0.912643          True   \n",
       "4                   0              NaN            NaN          None   \n",
       "..                ...              ...            ...           ...   \n",
       "67                  0              0.0       0.995646          True   \n",
       "68                  0              0.0       0.994240          True   \n",
       "69                  0              0.0       0.995676          True   \n",
       "70                  0              0.0       0.997694          True   \n",
       "71                  0              0.0       0.998803          True   \n",
       "\n",
       "    detection_score                                       image_folder  \n",
       "0          0.999552  /gladstone/finkbeiner/steve/work/data/npsad_da...  \n",
       "1          0.997847  /gladstone/finkbeiner/steve/work/data/npsad_da...  \n",
       "2               NaN  /gladstone/finkbeiner/steve/work/data/npsad_da...  \n",
       "3          0.617667  /gladstone/finkbeiner/steve/work/data/npsad_da...  \n",
       "4               NaN  /gladstone/finkbeiner/steve/work/data/npsad_da...  \n",
       "..              ...                                                ...  \n",
       "67         0.999318  /gladstone/finkbeiner/steve/work/data/npsad_da...  \n",
       "68         0.999396  /gladstone/finkbeiner/steve/work/data/npsad_da...  \n",
       "69         0.998872  /gladstone/finkbeiner/steve/work/data/npsad_da...  \n",
       "70         0.997166  /gladstone/finkbeiner/steve/work/data/npsad_da...  \n",
       "71         0.999490  /gladstone/finkbeiner/steve/work/data/npsad_da...  \n",
       "\n",
       "[72 rows x 9 columns]"
      ]
     },
     "execution_count": 13,
     "metadata": {},
     "output_type": "execute_result"
    }
   ],
   "source": [
    "output_df"
   ]
  },
  {
   "cell_type": "code",
   "execution_count": 13,
   "metadata": {},
   "outputs": [],
   "source": [
    "output_df[\"image_name\"] =output_df[\"img_crop\"].apply(lambda l:l.split(\"/\")[-1])"
   ]
  },
  {
   "cell_type": "code",
   "execution_count": 27,
   "metadata": {},
   "outputs": [
    {
     "data": {
      "text/plain": [
       "0.0    60\n",
       "1.0     6\n",
       "Name: pred_mask_index, dtype: int64"
      ]
     },
     "execution_count": 27,
     "metadata": {},
     "output_type": "execute_result"
    }
   ],
   "source": [
    "output_df[\"pred_mask_index\"].value_counts()"
   ]
  },
  {
   "cell_type": "code",
   "execution_count": 17,
   "metadata": {},
   "outputs": [],
   "source": [
    "max_dice_pred = output_df.groupby([\"img_crop\",\"target_label\",\"target_mask_index\"])[\"dice/f1_score\"].max().reset_index()"
   ]
  },
  {
   "cell_type": "code",
   "execution_count": 19,
   "metadata": {},
   "outputs": [
    {
     "data": {
      "text/plain": [
       "66"
      ]
     },
     "execution_count": 19,
     "metadata": {},
     "output_type": "execute_result"
    }
   ],
   "source": [
    "len(max_dice_pred)"
   ]
  },
  {
   "cell_type": "code",
   "execution_count": 20,
   "metadata": {},
   "outputs": [],
   "source": [
    "matched_dice_pred_index = pd.merge(max_dice_pred,output_df, on = [\"img_crop\",\"target_label\",\"target_mask_index\",\"dice/f1_score\"], how = \"left\")"
   ]
  },
  {
   "cell_type": "code",
   "execution_count": 21,
   "metadata": {},
   "outputs": [
    {
     "data": {
      "text/html": [
       "<div>\n",
       "<style scoped>\n",
       "    .dataframe tbody tr th:only-of-type {\n",
       "        vertical-align: middle;\n",
       "    }\n",
       "\n",
       "    .dataframe tbody tr th {\n",
       "        vertical-align: top;\n",
       "    }\n",
       "\n",
       "    .dataframe thead th {\n",
       "        text-align: right;\n",
       "    }\n",
       "</style>\n",
       "<table border=\"1\" class=\"dataframe\">\n",
       "  <thead>\n",
       "    <tr style=\"text-align: right;\">\n",
       "      <th></th>\n",
       "      <th>img_crop</th>\n",
       "      <th>target_label</th>\n",
       "      <th>target_mask_index</th>\n",
       "      <th>dice/f1_score</th>\n",
       "      <th>pred_label</th>\n",
       "      <th>pred_mask_index</th>\n",
       "      <th>matched_label</th>\n",
       "      <th>detection_score</th>\n",
       "      <th>image_folder</th>\n",
       "    </tr>\n",
       "  </thead>\n",
       "  <tbody>\n",
       "    <tr>\n",
       "      <th>0</th>\n",
       "      <td>/gladstone/finkbeiner/steve/work/data/npsad_da...</td>\n",
       "      <td>Cored</td>\n",
       "      <td>0</td>\n",
       "      <td>0.997149</td>\n",
       "      <td>Cored</td>\n",
       "      <td>0.0</td>\n",
       "      <td>True</td>\n",
       "      <td>0.995691</td>\n",
       "      <td>/gladstone/finkbeiner/steve/work/data/npsad_da...</td>\n",
       "    </tr>\n",
       "    <tr>\n",
       "      <th>1</th>\n",
       "      <td>/gladstone/finkbeiner/steve/work/data/npsad_da...</td>\n",
       "      <td>Cored</td>\n",
       "      <td>0</td>\n",
       "      <td>0.994890</td>\n",
       "      <td>Cored</td>\n",
       "      <td>0.0</td>\n",
       "      <td>True</td>\n",
       "      <td>0.999368</td>\n",
       "      <td>/gladstone/finkbeiner/steve/work/data/npsad_da...</td>\n",
       "    </tr>\n",
       "    <tr>\n",
       "      <th>2</th>\n",
       "      <td>/gladstone/finkbeiner/steve/work/data/npsad_da...</td>\n",
       "      <td>Cored</td>\n",
       "      <td>0</td>\n",
       "      <td>0.987024</td>\n",
       "      <td>Cored</td>\n",
       "      <td>0.0</td>\n",
       "      <td>True</td>\n",
       "      <td>0.999254</td>\n",
       "      <td>/gladstone/finkbeiner/steve/work/data/npsad_da...</td>\n",
       "    </tr>\n",
       "    <tr>\n",
       "      <th>3</th>\n",
       "      <td>/gladstone/finkbeiner/steve/work/data/npsad_da...</td>\n",
       "      <td>Cored</td>\n",
       "      <td>0</td>\n",
       "      <td>0.947496</td>\n",
       "      <td>Cored</td>\n",
       "      <td>0.0</td>\n",
       "      <td>True</td>\n",
       "      <td>0.998965</td>\n",
       "      <td>/gladstone/finkbeiner/steve/work/data/npsad_da...</td>\n",
       "    </tr>\n",
       "    <tr>\n",
       "      <th>4</th>\n",
       "      <td>/gladstone/finkbeiner/steve/work/data/npsad_da...</td>\n",
       "      <td>Cored</td>\n",
       "      <td>0</td>\n",
       "      <td>0.994962</td>\n",
       "      <td>Cored</td>\n",
       "      <td>0.0</td>\n",
       "      <td>True</td>\n",
       "      <td>0.998806</td>\n",
       "      <td>/gladstone/finkbeiner/steve/work/data/npsad_da...</td>\n",
       "    </tr>\n",
       "    <tr>\n",
       "      <th>...</th>\n",
       "      <td>...</td>\n",
       "      <td>...</td>\n",
       "      <td>...</td>\n",
       "      <td>...</td>\n",
       "      <td>...</td>\n",
       "      <td>...</td>\n",
       "      <td>...</td>\n",
       "      <td>...</td>\n",
       "      <td>...</td>\n",
       "    </tr>\n",
       "    <tr>\n",
       "      <th>61</th>\n",
       "      <td>/gladstone/finkbeiner/steve/work/data/npsad_da...</td>\n",
       "      <td>Cored</td>\n",
       "      <td>0</td>\n",
       "      <td>0.996804</td>\n",
       "      <td>Cored</td>\n",
       "      <td>0.0</td>\n",
       "      <td>True</td>\n",
       "      <td>0.999202</td>\n",
       "      <td>/gladstone/finkbeiner/steve/work/data/npsad_da...</td>\n",
       "    </tr>\n",
       "    <tr>\n",
       "      <th>62</th>\n",
       "      <td>/gladstone/finkbeiner/steve/work/data/npsad_da...</td>\n",
       "      <td>Cored</td>\n",
       "      <td>0</td>\n",
       "      <td>0.998135</td>\n",
       "      <td>Cored</td>\n",
       "      <td>0.0</td>\n",
       "      <td>True</td>\n",
       "      <td>0.990439</td>\n",
       "      <td>/gladstone/finkbeiner/steve/work/data/npsad_da...</td>\n",
       "    </tr>\n",
       "    <tr>\n",
       "      <th>63</th>\n",
       "      <td>/gladstone/finkbeiner/steve/work/data/npsad_da...</td>\n",
       "      <td>Diffuse</td>\n",
       "      <td>0</td>\n",
       "      <td>NaN</td>\n",
       "      <td>None</td>\n",
       "      <td>NaN</td>\n",
       "      <td>None</td>\n",
       "      <td>NaN</td>\n",
       "      <td>/gladstone/finkbeiner/steve/work/data/npsad_da...</td>\n",
       "    </tr>\n",
       "    <tr>\n",
       "      <th>64</th>\n",
       "      <td>/gladstone/finkbeiner/steve/work/data/npsad_da...</td>\n",
       "      <td>Cored</td>\n",
       "      <td>0</td>\n",
       "      <td>0.998087</td>\n",
       "      <td>Cored</td>\n",
       "      <td>0.0</td>\n",
       "      <td>True</td>\n",
       "      <td>0.999560</td>\n",
       "      <td>/gladstone/finkbeiner/steve/work/data/npsad_da...</td>\n",
       "    </tr>\n",
       "    <tr>\n",
       "      <th>65</th>\n",
       "      <td>/gladstone/finkbeiner/steve/work/data/npsad_da...</td>\n",
       "      <td>Diffuse</td>\n",
       "      <td>0</td>\n",
       "      <td>0.923924</td>\n",
       "      <td>Diffuse</td>\n",
       "      <td>0.0</td>\n",
       "      <td>True</td>\n",
       "      <td>0.997382</td>\n",
       "      <td>/gladstone/finkbeiner/steve/work/data/npsad_da...</td>\n",
       "    </tr>\n",
       "  </tbody>\n",
       "</table>\n",
       "<p>66 rows × 9 columns</p>\n",
       "</div>"
      ],
      "text/plain": [
       "                                             img_crop target_label  \\\n",
       "0   /gladstone/finkbeiner/steve/work/data/npsad_da...        Cored   \n",
       "1   /gladstone/finkbeiner/steve/work/data/npsad_da...        Cored   \n",
       "2   /gladstone/finkbeiner/steve/work/data/npsad_da...        Cored   \n",
       "3   /gladstone/finkbeiner/steve/work/data/npsad_da...        Cored   \n",
       "4   /gladstone/finkbeiner/steve/work/data/npsad_da...        Cored   \n",
       "..                                                ...          ...   \n",
       "61  /gladstone/finkbeiner/steve/work/data/npsad_da...        Cored   \n",
       "62  /gladstone/finkbeiner/steve/work/data/npsad_da...        Cored   \n",
       "63  /gladstone/finkbeiner/steve/work/data/npsad_da...      Diffuse   \n",
       "64  /gladstone/finkbeiner/steve/work/data/npsad_da...        Cored   \n",
       "65  /gladstone/finkbeiner/steve/work/data/npsad_da...      Diffuse   \n",
       "\n",
       "    target_mask_index  dice/f1_score pred_label  pred_mask_index  \\\n",
       "0                   0       0.997149      Cored              0.0   \n",
       "1                   0       0.994890      Cored              0.0   \n",
       "2                   0       0.987024      Cored              0.0   \n",
       "3                   0       0.947496      Cored              0.0   \n",
       "4                   0       0.994962      Cored              0.0   \n",
       "..                ...            ...        ...              ...   \n",
       "61                  0       0.996804      Cored              0.0   \n",
       "62                  0       0.998135      Cored              0.0   \n",
       "63                  0            NaN       None              NaN   \n",
       "64                  0       0.998087      Cored              0.0   \n",
       "65                  0       0.923924    Diffuse              0.0   \n",
       "\n",
       "   matched_label  detection_score  \\\n",
       "0           True         0.995691   \n",
       "1           True         0.999368   \n",
       "2           True         0.999254   \n",
       "3           True         0.998965   \n",
       "4           True         0.998806   \n",
       "..           ...              ...   \n",
       "61          True         0.999202   \n",
       "62          True         0.990439   \n",
       "63          None              NaN   \n",
       "64          True         0.999560   \n",
       "65          True         0.997382   \n",
       "\n",
       "                                         image_folder  \n",
       "0   /gladstone/finkbeiner/steve/work/data/npsad_da...  \n",
       "1   /gladstone/finkbeiner/steve/work/data/npsad_da...  \n",
       "2   /gladstone/finkbeiner/steve/work/data/npsad_da...  \n",
       "3   /gladstone/finkbeiner/steve/work/data/npsad_da...  \n",
       "4   /gladstone/finkbeiner/steve/work/data/npsad_da...  \n",
       "..                                                ...  \n",
       "61  /gladstone/finkbeiner/steve/work/data/npsad_da...  \n",
       "62  /gladstone/finkbeiner/steve/work/data/npsad_da...  \n",
       "63  /gladstone/finkbeiner/steve/work/data/npsad_da...  \n",
       "64  /gladstone/finkbeiner/steve/work/data/npsad_da...  \n",
       "65  /gladstone/finkbeiner/steve/work/data/npsad_da...  \n",
       "\n",
       "[66 rows x 9 columns]"
      ]
     },
     "execution_count": 21,
     "metadata": {},
     "output_type": "execute_result"
    }
   ],
   "source": [
    "matched_dice_pred_index"
   ]
  },
  {
   "cell_type": "code",
   "execution_count": 22,
   "metadata": {},
   "outputs": [
    {
     "data": {
      "text/plain": [
       "image_folder                                                                                              target_label  pred_label\n",
       "/gladstone/finkbeiner/steve/work/data/npsad_data/vivek/Datasets/amyb_wsi/val/val1/XE11-039_1_AmyB_1.json  Cored         Cored         12\n",
       "/gladstone/finkbeiner/steve/work/data/npsad_data/vivek/Datasets/amyb_wsi/val/val1/XE15-039_1_AmyB_1.json  Cored         Cored         42\n",
       "                                                                                                          Diffuse       Diffuse        6\n",
       "Name: img_crop, dtype: int64"
      ]
     },
     "execution_count": 22,
     "metadata": {},
     "output_type": "execute_result"
    }
   ],
   "source": [
    "matched_dice_pred_index.groupby([\"image_folder\",\"target_label\",\"pred_label\"])[\"img_crop\"].count()"
   ]
  },
  {
   "cell_type": "code",
   "execution_count": 15,
   "metadata": {},
   "outputs": [
    {
     "data": {
      "text/plain": [
       "image_folder                                                                                              target_label  pred_label\n",
       "/gladstone/finkbeiner/steve/work/data/npsad_data/vivek/Datasets/amyb_wsi/val/val1/XE11-039_1_AmyB_1.json  Cored         Cored         13\n",
       "/gladstone/finkbeiner/steve/work/data/npsad_data/vivek/Datasets/amyb_wsi/val/val1/XE15-039_1_AmyB_1.json  Cored         Cored         45\n",
       "                                                                                                                        Diffuse        1\n",
       "                                                                                                          Diffuse       Cored          1\n",
       "                                                                                                                        Diffuse        6\n",
       "Name: img_crop, dtype: int64"
      ]
     },
     "execution_count": 15,
     "metadata": {},
     "output_type": "execute_result"
    }
   ],
   "source": [
    "output_df.groupby([\"image_folder\",\"target_label\",\"pred_label\"])[\"img_crop\"].count()"
   ]
  },
  {
   "cell_type": "code",
   "execution_count": 16,
   "metadata": {},
   "outputs": [
    {
     "data": {
      "text/plain": [
       "image_folder\n",
       "/gladstone/finkbeiner/steve/work/data/npsad_data/vivek/Datasets/amyb_wsi/val/val1/XE11-039_1_AmyB_1.json    13\n",
       "/gladstone/finkbeiner/steve/work/data/npsad_data/vivek/Datasets/amyb_wsi/val/val1/XE15-039_1_AmyB_1.json    52\n",
       "Name: dice/f1_score, dtype: int64"
      ]
     },
     "execution_count": 16,
     "metadata": {},
     "output_type": "execute_result"
    }
   ],
   "source": [
    "output_df.groupby([\"image_folder\"])[\"dice/f1_score\"].count()"
   ]
  },
  {
   "cell_type": "code",
   "execution_count": 17,
   "metadata": {},
   "outputs": [
    {
     "data": {
      "text/plain": [
       "image_folder\n",
       "/gladstone/finkbeiner/steve/work/data/npsad_data/vivek/Datasets/amyb_wsi/val/val1/XE11-039_1_AmyB_1.json    13\n",
       "/gladstone/finkbeiner/steve/work/data/npsad_data/vivek/Datasets/amyb_wsi/val/val1/XE15-039_1_AmyB_1.json    51\n",
       "Name: matched_label, dtype: object"
      ]
     },
     "execution_count": 17,
     "metadata": {},
     "output_type": "execute_result"
    }
   ],
   "source": [
    "output_df[~output_df[\"dice/f1_score\"].isna()].groupby([\"image_folder\"])[\"matched_label\"].sum()"
   ]
  },
  {
   "cell_type": "code",
   "execution_count": 18,
   "metadata": {},
   "outputs": [
    {
     "data": {
      "text/plain": [
       "image_folder\n",
       "/gladstone/finkbeiner/steve/work/data/npsad_data/vivek/Datasets/amyb_wsi/val/val1/XE11-039_1_AmyB_1.json    0.986080\n",
       "/gladstone/finkbeiner/steve/work/data/npsad_data/vivek/Datasets/amyb_wsi/val/val1/XE15-039_1_AmyB_1.json    0.973947\n",
       "Name: dice/f1_score, dtype: float64"
      ]
     },
     "execution_count": 18,
     "metadata": {},
     "output_type": "execute_result"
    }
   ],
   "source": [
    "output_df.groupby([\"image_folder\"])[\"dice/f1_score\"].mean()"
   ]
  },
  {
   "cell_type": "code",
   "execution_count": 24,
   "metadata": {},
   "outputs": [
    {
     "data": {
      "text/plain": [
       "0     0.997149\n",
       "1     0.994890\n",
       "2     0.987024\n",
       "3     0.947496\n",
       "4     0.994962\n",
       "        ...   \n",
       "61    0.996804\n",
       "62    0.998135\n",
       "63         NaN\n",
       "64    0.998087\n",
       "65    0.923924\n",
       "Name: dice/f1_score, Length: 66, dtype: float64"
      ]
     },
     "execution_count": 24,
     "metadata": {},
     "output_type": "execute_result"
    }
   ],
   "source": [
    "matched_dice_pred_index[\"dice/f1_score\"]"
   ]
  },
  {
   "cell_type": "code",
   "execution_count": 33,
   "metadata": {},
   "outputs": [
    {
     "data": {
      "application/vnd.plotly.v1+json": {
       "config": {
        "plotlyServerURL": "https://plot.ly"
       },
       "data": [
        {
         "alignmentgroup": "True",
         "bingroup": "x",
         "hovertemplate": "color=Cored<br>value=%{x}<br>count=%{y}<extra></extra>",
         "legendgroup": "Cored",
         "marker": {
          "color": "#636efa",
          "pattern": {
           "shape": ""
          }
         },
         "name": "Cored",
         "offsetgroup": "Cored",
         "orientation": "v",
         "showlegend": true,
         "type": "histogram",
         "x": [
          0.9971493047762787,
          0.9948897992973287,
          0.9870239162262896,
          0.9474955270547317,
          0.9949622900892412,
          0.9774270085983525,
          0.9972304838335668,
          0.995645773981471,
          0.994239737595326,
          0.9956764003090479,
          0.9976939249033309,
          0.9988032837536718,
          0.9991047668101491,
          0.9959276184860324,
          0.9969977480579024,
          0.9969365836816729,
          0.9981653465087178,
          0.9941325096154567,
          0.997676548999957,
          0.9966139097350468,
          0.9974680962476441,
          0.9960678112651371,
          0.9983843936024127,
          0.9977016419918169,
          0.9983104798128744,
          0.9979300955145095,
          0.9971479405703633,
          0.9969194043650407,
          null,
          0.9988316352120704,
          0.9992917462239401,
          0.996755524679203,
          0.9989050735811984,
          0.9979449436287637,
          0.9804228143152457,
          0.9956183162510733,
          0.9975841426521292,
          0.9980528181265663,
          0.9986948896978578,
          0.9986148414919417,
          0.9659574677902085,
          0.9962313077883355,
          0.9975812755330289,
          0.9986910657832939,
          0.9993253881207025,
          0.9979488709466893,
          0.9993829978182494,
          0.9990689094565525,
          0.9979677483820386,
          0.9971063981854187,
          null,
          0.9957075467523387,
          0.9988141527594351,
          0.99680394568548,
          0.9981353730866319,
          0.9980873964088228
         ],
         "xaxis": "x",
         "yaxis": "y"
        },
        {
         "alignmentgroup": "True",
         "bingroup": "x",
         "hovertemplate": "color=Diffuse<br>value=%{x}<br>count=%{y}<extra></extra>",
         "legendgroup": "Diffuse",
         "marker": {
          "color": "#EF553B",
          "pattern": {
           "shape": ""
          }
         },
         "name": "Diffuse",
         "offsetgroup": "Diffuse",
         "orientation": "v",
         "showlegend": true,
         "type": "histogram",
         "x": [
          0.9117389060887513,
          0.7754404698344901,
          null,
          0.9126425516749821,
          null,
          0.7424047979059987,
          0.6768876268926164,
          null,
          null,
          0.9239240095073613
         ],
         "xaxis": "x",
         "yaxis": "y"
        }
       ],
       "layout": {
        "barmode": "relative",
        "height": 500,
        "legend": {
         "title": {
          "text": "color"
         },
         "tracegroupgap": 0
        },
        "margin": {
         "t": 60
        },
        "template": {
         "data": {
          "bar": [
           {
            "error_x": {
             "color": "#2a3f5f"
            },
            "error_y": {
             "color": "#2a3f5f"
            },
            "marker": {
             "line": {
              "color": "#E5ECF6",
              "width": 0.5
             },
             "pattern": {
              "fillmode": "overlay",
              "size": 10,
              "solidity": 0.2
             }
            },
            "type": "bar"
           }
          ],
          "barpolar": [
           {
            "marker": {
             "line": {
              "color": "#E5ECF6",
              "width": 0.5
             },
             "pattern": {
              "fillmode": "overlay",
              "size": 10,
              "solidity": 0.2
             }
            },
            "type": "barpolar"
           }
          ],
          "carpet": [
           {
            "aaxis": {
             "endlinecolor": "#2a3f5f",
             "gridcolor": "white",
             "linecolor": "white",
             "minorgridcolor": "white",
             "startlinecolor": "#2a3f5f"
            },
            "baxis": {
             "endlinecolor": "#2a3f5f",
             "gridcolor": "white",
             "linecolor": "white",
             "minorgridcolor": "white",
             "startlinecolor": "#2a3f5f"
            },
            "type": "carpet"
           }
          ],
          "choropleth": [
           {
            "colorbar": {
             "outlinewidth": 0,
             "ticks": ""
            },
            "type": "choropleth"
           }
          ],
          "contour": [
           {
            "colorbar": {
             "outlinewidth": 0,
             "ticks": ""
            },
            "colorscale": [
             [
              0,
              "#0d0887"
             ],
             [
              0.1111111111111111,
              "#46039f"
             ],
             [
              0.2222222222222222,
              "#7201a8"
             ],
             [
              0.3333333333333333,
              "#9c179e"
             ],
             [
              0.4444444444444444,
              "#bd3786"
             ],
             [
              0.5555555555555556,
              "#d8576b"
             ],
             [
              0.6666666666666666,
              "#ed7953"
             ],
             [
              0.7777777777777778,
              "#fb9f3a"
             ],
             [
              0.8888888888888888,
              "#fdca26"
             ],
             [
              1,
              "#f0f921"
             ]
            ],
            "type": "contour"
           }
          ],
          "contourcarpet": [
           {
            "colorbar": {
             "outlinewidth": 0,
             "ticks": ""
            },
            "type": "contourcarpet"
           }
          ],
          "heatmap": [
           {
            "colorbar": {
             "outlinewidth": 0,
             "ticks": ""
            },
            "colorscale": [
             [
              0,
              "#0d0887"
             ],
             [
              0.1111111111111111,
              "#46039f"
             ],
             [
              0.2222222222222222,
              "#7201a8"
             ],
             [
              0.3333333333333333,
              "#9c179e"
             ],
             [
              0.4444444444444444,
              "#bd3786"
             ],
             [
              0.5555555555555556,
              "#d8576b"
             ],
             [
              0.6666666666666666,
              "#ed7953"
             ],
             [
              0.7777777777777778,
              "#fb9f3a"
             ],
             [
              0.8888888888888888,
              "#fdca26"
             ],
             [
              1,
              "#f0f921"
             ]
            ],
            "type": "heatmap"
           }
          ],
          "heatmapgl": [
           {
            "colorbar": {
             "outlinewidth": 0,
             "ticks": ""
            },
            "colorscale": [
             [
              0,
              "#0d0887"
             ],
             [
              0.1111111111111111,
              "#46039f"
             ],
             [
              0.2222222222222222,
              "#7201a8"
             ],
             [
              0.3333333333333333,
              "#9c179e"
             ],
             [
              0.4444444444444444,
              "#bd3786"
             ],
             [
              0.5555555555555556,
              "#d8576b"
             ],
             [
              0.6666666666666666,
              "#ed7953"
             ],
             [
              0.7777777777777778,
              "#fb9f3a"
             ],
             [
              0.8888888888888888,
              "#fdca26"
             ],
             [
              1,
              "#f0f921"
             ]
            ],
            "type": "heatmapgl"
           }
          ],
          "histogram": [
           {
            "marker": {
             "pattern": {
              "fillmode": "overlay",
              "size": 10,
              "solidity": 0.2
             }
            },
            "type": "histogram"
           }
          ],
          "histogram2d": [
           {
            "colorbar": {
             "outlinewidth": 0,
             "ticks": ""
            },
            "colorscale": [
             [
              0,
              "#0d0887"
             ],
             [
              0.1111111111111111,
              "#46039f"
             ],
             [
              0.2222222222222222,
              "#7201a8"
             ],
             [
              0.3333333333333333,
              "#9c179e"
             ],
             [
              0.4444444444444444,
              "#bd3786"
             ],
             [
              0.5555555555555556,
              "#d8576b"
             ],
             [
              0.6666666666666666,
              "#ed7953"
             ],
             [
              0.7777777777777778,
              "#fb9f3a"
             ],
             [
              0.8888888888888888,
              "#fdca26"
             ],
             [
              1,
              "#f0f921"
             ]
            ],
            "type": "histogram2d"
           }
          ],
          "histogram2dcontour": [
           {
            "colorbar": {
             "outlinewidth": 0,
             "ticks": ""
            },
            "colorscale": [
             [
              0,
              "#0d0887"
             ],
             [
              0.1111111111111111,
              "#46039f"
             ],
             [
              0.2222222222222222,
              "#7201a8"
             ],
             [
              0.3333333333333333,
              "#9c179e"
             ],
             [
              0.4444444444444444,
              "#bd3786"
             ],
             [
              0.5555555555555556,
              "#d8576b"
             ],
             [
              0.6666666666666666,
              "#ed7953"
             ],
             [
              0.7777777777777778,
              "#fb9f3a"
             ],
             [
              0.8888888888888888,
              "#fdca26"
             ],
             [
              1,
              "#f0f921"
             ]
            ],
            "type": "histogram2dcontour"
           }
          ],
          "mesh3d": [
           {
            "colorbar": {
             "outlinewidth": 0,
             "ticks": ""
            },
            "type": "mesh3d"
           }
          ],
          "parcoords": [
           {
            "line": {
             "colorbar": {
              "outlinewidth": 0,
              "ticks": ""
             }
            },
            "type": "parcoords"
           }
          ],
          "pie": [
           {
            "automargin": true,
            "type": "pie"
           }
          ],
          "scatter": [
           {
            "fillpattern": {
             "fillmode": "overlay",
             "size": 10,
             "solidity": 0.2
            },
            "type": "scatter"
           }
          ],
          "scatter3d": [
           {
            "line": {
             "colorbar": {
              "outlinewidth": 0,
              "ticks": ""
             }
            },
            "marker": {
             "colorbar": {
              "outlinewidth": 0,
              "ticks": ""
             }
            },
            "type": "scatter3d"
           }
          ],
          "scattercarpet": [
           {
            "marker": {
             "colorbar": {
              "outlinewidth": 0,
              "ticks": ""
             }
            },
            "type": "scattercarpet"
           }
          ],
          "scattergeo": [
           {
            "marker": {
             "colorbar": {
              "outlinewidth": 0,
              "ticks": ""
             }
            },
            "type": "scattergeo"
           }
          ],
          "scattergl": [
           {
            "marker": {
             "colorbar": {
              "outlinewidth": 0,
              "ticks": ""
             }
            },
            "type": "scattergl"
           }
          ],
          "scattermapbox": [
           {
            "marker": {
             "colorbar": {
              "outlinewidth": 0,
              "ticks": ""
             }
            },
            "type": "scattermapbox"
           }
          ],
          "scatterpolar": [
           {
            "marker": {
             "colorbar": {
              "outlinewidth": 0,
              "ticks": ""
             }
            },
            "type": "scatterpolar"
           }
          ],
          "scatterpolargl": [
           {
            "marker": {
             "colorbar": {
              "outlinewidth": 0,
              "ticks": ""
             }
            },
            "type": "scatterpolargl"
           }
          ],
          "scatterternary": [
           {
            "marker": {
             "colorbar": {
              "outlinewidth": 0,
              "ticks": ""
             }
            },
            "type": "scatterternary"
           }
          ],
          "surface": [
           {
            "colorbar": {
             "outlinewidth": 0,
             "ticks": ""
            },
            "colorscale": [
             [
              0,
              "#0d0887"
             ],
             [
              0.1111111111111111,
              "#46039f"
             ],
             [
              0.2222222222222222,
              "#7201a8"
             ],
             [
              0.3333333333333333,
              "#9c179e"
             ],
             [
              0.4444444444444444,
              "#bd3786"
             ],
             [
              0.5555555555555556,
              "#d8576b"
             ],
             [
              0.6666666666666666,
              "#ed7953"
             ],
             [
              0.7777777777777778,
              "#fb9f3a"
             ],
             [
              0.8888888888888888,
              "#fdca26"
             ],
             [
              1,
              "#f0f921"
             ]
            ],
            "type": "surface"
           }
          ],
          "table": [
           {
            "cells": {
             "fill": {
              "color": "#EBF0F8"
             },
             "line": {
              "color": "white"
             }
            },
            "header": {
             "fill": {
              "color": "#C8D4E3"
             },
             "line": {
              "color": "white"
             }
            },
            "type": "table"
           }
          ]
         },
         "layout": {
          "annotationdefaults": {
           "arrowcolor": "#2a3f5f",
           "arrowhead": 0,
           "arrowwidth": 1
          },
          "autotypenumbers": "strict",
          "coloraxis": {
           "colorbar": {
            "outlinewidth": 0,
            "ticks": ""
           }
          },
          "colorscale": {
           "diverging": [
            [
             0,
             "#8e0152"
            ],
            [
             0.1,
             "#c51b7d"
            ],
            [
             0.2,
             "#de77ae"
            ],
            [
             0.3,
             "#f1b6da"
            ],
            [
             0.4,
             "#fde0ef"
            ],
            [
             0.5,
             "#f7f7f7"
            ],
            [
             0.6,
             "#e6f5d0"
            ],
            [
             0.7,
             "#b8e186"
            ],
            [
             0.8,
             "#7fbc41"
            ],
            [
             0.9,
             "#4d9221"
            ],
            [
             1,
             "#276419"
            ]
           ],
           "sequential": [
            [
             0,
             "#0d0887"
            ],
            [
             0.1111111111111111,
             "#46039f"
            ],
            [
             0.2222222222222222,
             "#7201a8"
            ],
            [
             0.3333333333333333,
             "#9c179e"
            ],
            [
             0.4444444444444444,
             "#bd3786"
            ],
            [
             0.5555555555555556,
             "#d8576b"
            ],
            [
             0.6666666666666666,
             "#ed7953"
            ],
            [
             0.7777777777777778,
             "#fb9f3a"
            ],
            [
             0.8888888888888888,
             "#fdca26"
            ],
            [
             1,
             "#f0f921"
            ]
           ],
           "sequentialminus": [
            [
             0,
             "#0d0887"
            ],
            [
             0.1111111111111111,
             "#46039f"
            ],
            [
             0.2222222222222222,
             "#7201a8"
            ],
            [
             0.3333333333333333,
             "#9c179e"
            ],
            [
             0.4444444444444444,
             "#bd3786"
            ],
            [
             0.5555555555555556,
             "#d8576b"
            ],
            [
             0.6666666666666666,
             "#ed7953"
            ],
            [
             0.7777777777777778,
             "#fb9f3a"
            ],
            [
             0.8888888888888888,
             "#fdca26"
            ],
            [
             1,
             "#f0f921"
            ]
           ]
          },
          "colorway": [
           "#636efa",
           "#EF553B",
           "#00cc96",
           "#ab63fa",
           "#FFA15A",
           "#19d3f3",
           "#FF6692",
           "#B6E880",
           "#FF97FF",
           "#FECB52"
          ],
          "font": {
           "color": "#2a3f5f"
          },
          "geo": {
           "bgcolor": "white",
           "lakecolor": "white",
           "landcolor": "#E5ECF6",
           "showlakes": true,
           "showland": true,
           "subunitcolor": "white"
          },
          "hoverlabel": {
           "align": "left"
          },
          "hovermode": "closest",
          "mapbox": {
           "style": "light"
          },
          "paper_bgcolor": "white",
          "plot_bgcolor": "#E5ECF6",
          "polar": {
           "angularaxis": {
            "gridcolor": "white",
            "linecolor": "white",
            "ticks": ""
           },
           "bgcolor": "#E5ECF6",
           "radialaxis": {
            "gridcolor": "white",
            "linecolor": "white",
            "ticks": ""
           }
          },
          "scene": {
           "xaxis": {
            "backgroundcolor": "#E5ECF6",
            "gridcolor": "white",
            "gridwidth": 2,
            "linecolor": "white",
            "showbackground": true,
            "ticks": "",
            "zerolinecolor": "white"
           },
           "yaxis": {
            "backgroundcolor": "#E5ECF6",
            "gridcolor": "white",
            "gridwidth": 2,
            "linecolor": "white",
            "showbackground": true,
            "ticks": "",
            "zerolinecolor": "white"
           },
           "zaxis": {
            "backgroundcolor": "#E5ECF6",
            "gridcolor": "white",
            "gridwidth": 2,
            "linecolor": "white",
            "showbackground": true,
            "ticks": "",
            "zerolinecolor": "white"
           }
          },
          "shapedefaults": {
           "line": {
            "color": "#2a3f5f"
           }
          },
          "ternary": {
           "aaxis": {
            "gridcolor": "white",
            "linecolor": "white",
            "ticks": ""
           },
           "baxis": {
            "gridcolor": "white",
            "linecolor": "white",
            "ticks": ""
           },
           "bgcolor": "#E5ECF6",
           "caxis": {
            "gridcolor": "white",
            "linecolor": "white",
            "ticks": ""
           }
          },
          "title": {
           "x": 0.05
          },
          "xaxis": {
           "automargin": true,
           "gridcolor": "white",
           "linecolor": "white",
           "ticks": "",
           "title": {
            "standoff": 15
           },
           "zerolinecolor": "white",
           "zerolinewidth": 2
          },
          "yaxis": {
           "automargin": true,
           "gridcolor": "white",
           "linecolor": "white",
           "ticks": "",
           "title": {
            "standoff": 15
           },
           "zerolinecolor": "white",
           "zerolinewidth": 2
          }
         }
        },
        "width": 700,
        "xaxis": {
         "anchor": "y",
         "domain": [
          0,
          1
         ],
         "title": {
          "text": "Dice Coefficient"
         }
        },
        "yaxis": {
         "anchor": "x",
         "domain": [
          0,
          1
         ],
         "title": {
          "text": "Count of predictions"
         }
        }
       }
      },
      "text/html": [
       "<div>                            <div id=\"7c6fe712-da1d-40da-969f-5d8c629fcdc7\" class=\"plotly-graph-div\" style=\"height:500px; width:700px;\"></div>            <script type=\"text/javascript\">                require([\"plotly\"], function(Plotly) {                    window.PLOTLYENV=window.PLOTLYENV || {};                                    if (document.getElementById(\"7c6fe712-da1d-40da-969f-5d8c629fcdc7\")) {                    Plotly.newPlot(                        \"7c6fe712-da1d-40da-969f-5d8c629fcdc7\",                        [{\"alignmentgroup\":\"True\",\"bingroup\":\"x\",\"hovertemplate\":\"color=Cored<br>value=%{x}<br>count=%{y}<extra></extra>\",\"legendgroup\":\"Cored\",\"marker\":{\"color\":\"#636efa\",\"pattern\":{\"shape\":\"\"}},\"name\":\"Cored\",\"offsetgroup\":\"Cored\",\"orientation\":\"v\",\"showlegend\":true,\"x\":[0.9971493047762787,0.9948897992973287,0.9870239162262896,0.9474955270547317,0.9949622900892412,0.9774270085983525,0.9972304838335668,0.995645773981471,0.994239737595326,0.9956764003090479,0.9976939249033309,0.9988032837536718,0.9991047668101491,0.9959276184860324,0.9969977480579024,0.9969365836816729,0.9981653465087178,0.9941325096154567,0.997676548999957,0.9966139097350468,0.9974680962476441,0.9960678112651371,0.9983843936024127,0.9977016419918169,0.9983104798128744,0.9979300955145095,0.9971479405703633,0.9969194043650407,null,0.9988316352120704,0.9992917462239401,0.996755524679203,0.9989050735811984,0.9979449436287637,0.9804228143152457,0.9956183162510733,0.9975841426521292,0.9980528181265663,0.9986948896978578,0.9986148414919417,0.9659574677902085,0.9962313077883355,0.9975812755330289,0.9986910657832939,0.9993253881207025,0.9979488709466893,0.9993829978182494,0.9990689094565525,0.9979677483820386,0.9971063981854187,null,0.9957075467523387,0.9988141527594351,0.99680394568548,0.9981353730866319,0.9980873964088228],\"xaxis\":\"x\",\"yaxis\":\"y\",\"type\":\"histogram\"},{\"alignmentgroup\":\"True\",\"bingroup\":\"x\",\"hovertemplate\":\"color=Diffuse<br>value=%{x}<br>count=%{y}<extra></extra>\",\"legendgroup\":\"Diffuse\",\"marker\":{\"color\":\"#EF553B\",\"pattern\":{\"shape\":\"\"}},\"name\":\"Diffuse\",\"offsetgroup\":\"Diffuse\",\"orientation\":\"v\",\"showlegend\":true,\"x\":[0.9117389060887513,0.7754404698344901,null,0.9126425516749821,null,0.7424047979059987,0.6768876268926164,null,null,0.9239240095073613],\"xaxis\":\"x\",\"yaxis\":\"y\",\"type\":\"histogram\"}],                        {\"template\":{\"data\":{\"histogram2dcontour\":[{\"type\":\"histogram2dcontour\",\"colorbar\":{\"outlinewidth\":0,\"ticks\":\"\"},\"colorscale\":[[0.0,\"#0d0887\"],[0.1111111111111111,\"#46039f\"],[0.2222222222222222,\"#7201a8\"],[0.3333333333333333,\"#9c179e\"],[0.4444444444444444,\"#bd3786\"],[0.5555555555555556,\"#d8576b\"],[0.6666666666666666,\"#ed7953\"],[0.7777777777777778,\"#fb9f3a\"],[0.8888888888888888,\"#fdca26\"],[1.0,\"#f0f921\"]]}],\"choropleth\":[{\"type\":\"choropleth\",\"colorbar\":{\"outlinewidth\":0,\"ticks\":\"\"}}],\"histogram2d\":[{\"type\":\"histogram2d\",\"colorbar\":{\"outlinewidth\":0,\"ticks\":\"\"},\"colorscale\":[[0.0,\"#0d0887\"],[0.1111111111111111,\"#46039f\"],[0.2222222222222222,\"#7201a8\"],[0.3333333333333333,\"#9c179e\"],[0.4444444444444444,\"#bd3786\"],[0.5555555555555556,\"#d8576b\"],[0.6666666666666666,\"#ed7953\"],[0.7777777777777778,\"#fb9f3a\"],[0.8888888888888888,\"#fdca26\"],[1.0,\"#f0f921\"]]}],\"heatmap\":[{\"type\":\"heatmap\",\"colorbar\":{\"outlinewidth\":0,\"ticks\":\"\"},\"colorscale\":[[0.0,\"#0d0887\"],[0.1111111111111111,\"#46039f\"],[0.2222222222222222,\"#7201a8\"],[0.3333333333333333,\"#9c179e\"],[0.4444444444444444,\"#bd3786\"],[0.5555555555555556,\"#d8576b\"],[0.6666666666666666,\"#ed7953\"],[0.7777777777777778,\"#fb9f3a\"],[0.8888888888888888,\"#fdca26\"],[1.0,\"#f0f921\"]]}],\"heatmapgl\":[{\"type\":\"heatmapgl\",\"colorbar\":{\"outlinewidth\":0,\"ticks\":\"\"},\"colorscale\":[[0.0,\"#0d0887\"],[0.1111111111111111,\"#46039f\"],[0.2222222222222222,\"#7201a8\"],[0.3333333333333333,\"#9c179e\"],[0.4444444444444444,\"#bd3786\"],[0.5555555555555556,\"#d8576b\"],[0.6666666666666666,\"#ed7953\"],[0.7777777777777778,\"#fb9f3a\"],[0.8888888888888888,\"#fdca26\"],[1.0,\"#f0f921\"]]}],\"contourcarpet\":[{\"type\":\"contourcarpet\",\"colorbar\":{\"outlinewidth\":0,\"ticks\":\"\"}}],\"contour\":[{\"type\":\"contour\",\"colorbar\":{\"outlinewidth\":0,\"ticks\":\"\"},\"colorscale\":[[0.0,\"#0d0887\"],[0.1111111111111111,\"#46039f\"],[0.2222222222222222,\"#7201a8\"],[0.3333333333333333,\"#9c179e\"],[0.4444444444444444,\"#bd3786\"],[0.5555555555555556,\"#d8576b\"],[0.6666666666666666,\"#ed7953\"],[0.7777777777777778,\"#fb9f3a\"],[0.8888888888888888,\"#fdca26\"],[1.0,\"#f0f921\"]]}],\"surface\":[{\"type\":\"surface\",\"colorbar\":{\"outlinewidth\":0,\"ticks\":\"\"},\"colorscale\":[[0.0,\"#0d0887\"],[0.1111111111111111,\"#46039f\"],[0.2222222222222222,\"#7201a8\"],[0.3333333333333333,\"#9c179e\"],[0.4444444444444444,\"#bd3786\"],[0.5555555555555556,\"#d8576b\"],[0.6666666666666666,\"#ed7953\"],[0.7777777777777778,\"#fb9f3a\"],[0.8888888888888888,\"#fdca26\"],[1.0,\"#f0f921\"]]}],\"mesh3d\":[{\"type\":\"mesh3d\",\"colorbar\":{\"outlinewidth\":0,\"ticks\":\"\"}}],\"scatter\":[{\"fillpattern\":{\"fillmode\":\"overlay\",\"size\":10,\"solidity\":0.2},\"type\":\"scatter\"}],\"parcoords\":[{\"type\":\"parcoords\",\"line\":{\"colorbar\":{\"outlinewidth\":0,\"ticks\":\"\"}}}],\"scatterpolargl\":[{\"type\":\"scatterpolargl\",\"marker\":{\"colorbar\":{\"outlinewidth\":0,\"ticks\":\"\"}}}],\"bar\":[{\"error_x\":{\"color\":\"#2a3f5f\"},\"error_y\":{\"color\":\"#2a3f5f\"},\"marker\":{\"line\":{\"color\":\"#E5ECF6\",\"width\":0.5},\"pattern\":{\"fillmode\":\"overlay\",\"size\":10,\"solidity\":0.2}},\"type\":\"bar\"}],\"scattergeo\":[{\"type\":\"scattergeo\",\"marker\":{\"colorbar\":{\"outlinewidth\":0,\"ticks\":\"\"}}}],\"scatterpolar\":[{\"type\":\"scatterpolar\",\"marker\":{\"colorbar\":{\"outlinewidth\":0,\"ticks\":\"\"}}}],\"histogram\":[{\"marker\":{\"pattern\":{\"fillmode\":\"overlay\",\"size\":10,\"solidity\":0.2}},\"type\":\"histogram\"}],\"scattergl\":[{\"type\":\"scattergl\",\"marker\":{\"colorbar\":{\"outlinewidth\":0,\"ticks\":\"\"}}}],\"scatter3d\":[{\"type\":\"scatter3d\",\"line\":{\"colorbar\":{\"outlinewidth\":0,\"ticks\":\"\"}},\"marker\":{\"colorbar\":{\"outlinewidth\":0,\"ticks\":\"\"}}}],\"scattermapbox\":[{\"type\":\"scattermapbox\",\"marker\":{\"colorbar\":{\"outlinewidth\":0,\"ticks\":\"\"}}}],\"scatterternary\":[{\"type\":\"scatterternary\",\"marker\":{\"colorbar\":{\"outlinewidth\":0,\"ticks\":\"\"}}}],\"scattercarpet\":[{\"type\":\"scattercarpet\",\"marker\":{\"colorbar\":{\"outlinewidth\":0,\"ticks\":\"\"}}}],\"carpet\":[{\"aaxis\":{\"endlinecolor\":\"#2a3f5f\",\"gridcolor\":\"white\",\"linecolor\":\"white\",\"minorgridcolor\":\"white\",\"startlinecolor\":\"#2a3f5f\"},\"baxis\":{\"endlinecolor\":\"#2a3f5f\",\"gridcolor\":\"white\",\"linecolor\":\"white\",\"minorgridcolor\":\"white\",\"startlinecolor\":\"#2a3f5f\"},\"type\":\"carpet\"}],\"table\":[{\"cells\":{\"fill\":{\"color\":\"#EBF0F8\"},\"line\":{\"color\":\"white\"}},\"header\":{\"fill\":{\"color\":\"#C8D4E3\"},\"line\":{\"color\":\"white\"}},\"type\":\"table\"}],\"barpolar\":[{\"marker\":{\"line\":{\"color\":\"#E5ECF6\",\"width\":0.5},\"pattern\":{\"fillmode\":\"overlay\",\"size\":10,\"solidity\":0.2}},\"type\":\"barpolar\"}],\"pie\":[{\"automargin\":true,\"type\":\"pie\"}]},\"layout\":{\"autotypenumbers\":\"strict\",\"colorway\":[\"#636efa\",\"#EF553B\",\"#00cc96\",\"#ab63fa\",\"#FFA15A\",\"#19d3f3\",\"#FF6692\",\"#B6E880\",\"#FF97FF\",\"#FECB52\"],\"font\":{\"color\":\"#2a3f5f\"},\"hovermode\":\"closest\",\"hoverlabel\":{\"align\":\"left\"},\"paper_bgcolor\":\"white\",\"plot_bgcolor\":\"#E5ECF6\",\"polar\":{\"bgcolor\":\"#E5ECF6\",\"angularaxis\":{\"gridcolor\":\"white\",\"linecolor\":\"white\",\"ticks\":\"\"},\"radialaxis\":{\"gridcolor\":\"white\",\"linecolor\":\"white\",\"ticks\":\"\"}},\"ternary\":{\"bgcolor\":\"#E5ECF6\",\"aaxis\":{\"gridcolor\":\"white\",\"linecolor\":\"white\",\"ticks\":\"\"},\"baxis\":{\"gridcolor\":\"white\",\"linecolor\":\"white\",\"ticks\":\"\"},\"caxis\":{\"gridcolor\":\"white\",\"linecolor\":\"white\",\"ticks\":\"\"}},\"coloraxis\":{\"colorbar\":{\"outlinewidth\":0,\"ticks\":\"\"}},\"colorscale\":{\"sequential\":[[0.0,\"#0d0887\"],[0.1111111111111111,\"#46039f\"],[0.2222222222222222,\"#7201a8\"],[0.3333333333333333,\"#9c179e\"],[0.4444444444444444,\"#bd3786\"],[0.5555555555555556,\"#d8576b\"],[0.6666666666666666,\"#ed7953\"],[0.7777777777777778,\"#fb9f3a\"],[0.8888888888888888,\"#fdca26\"],[1.0,\"#f0f921\"]],\"sequentialminus\":[[0.0,\"#0d0887\"],[0.1111111111111111,\"#46039f\"],[0.2222222222222222,\"#7201a8\"],[0.3333333333333333,\"#9c179e\"],[0.4444444444444444,\"#bd3786\"],[0.5555555555555556,\"#d8576b\"],[0.6666666666666666,\"#ed7953\"],[0.7777777777777778,\"#fb9f3a\"],[0.8888888888888888,\"#fdca26\"],[1.0,\"#f0f921\"]],\"diverging\":[[0,\"#8e0152\"],[0.1,\"#c51b7d\"],[0.2,\"#de77ae\"],[0.3,\"#f1b6da\"],[0.4,\"#fde0ef\"],[0.5,\"#f7f7f7\"],[0.6,\"#e6f5d0\"],[0.7,\"#b8e186\"],[0.8,\"#7fbc41\"],[0.9,\"#4d9221\"],[1,\"#276419\"]]},\"xaxis\":{\"gridcolor\":\"white\",\"linecolor\":\"white\",\"ticks\":\"\",\"title\":{\"standoff\":15},\"zerolinecolor\":\"white\",\"automargin\":true,\"zerolinewidth\":2},\"yaxis\":{\"gridcolor\":\"white\",\"linecolor\":\"white\",\"ticks\":\"\",\"title\":{\"standoff\":15},\"zerolinecolor\":\"white\",\"automargin\":true,\"zerolinewidth\":2},\"scene\":{\"xaxis\":{\"backgroundcolor\":\"#E5ECF6\",\"gridcolor\":\"white\",\"linecolor\":\"white\",\"showbackground\":true,\"ticks\":\"\",\"zerolinecolor\":\"white\",\"gridwidth\":2},\"yaxis\":{\"backgroundcolor\":\"#E5ECF6\",\"gridcolor\":\"white\",\"linecolor\":\"white\",\"showbackground\":true,\"ticks\":\"\",\"zerolinecolor\":\"white\",\"gridwidth\":2},\"zaxis\":{\"backgroundcolor\":\"#E5ECF6\",\"gridcolor\":\"white\",\"linecolor\":\"white\",\"showbackground\":true,\"ticks\":\"\",\"zerolinecolor\":\"white\",\"gridwidth\":2}},\"shapedefaults\":{\"line\":{\"color\":\"#2a3f5f\"}},\"annotationdefaults\":{\"arrowcolor\":\"#2a3f5f\",\"arrowhead\":0,\"arrowwidth\":1},\"geo\":{\"bgcolor\":\"white\",\"landcolor\":\"#E5ECF6\",\"subunitcolor\":\"white\",\"showland\":true,\"showlakes\":true,\"lakecolor\":\"white\"},\"title\":{\"x\":0.05},\"mapbox\":{\"style\":\"light\"}}},\"xaxis\":{\"anchor\":\"y\",\"domain\":[0.0,1.0],\"title\":{\"text\":\"Dice Coefficient\"}},\"yaxis\":{\"anchor\":\"x\",\"domain\":[0.0,1.0],\"title\":{\"text\":\"Count of predictions\"}},\"legend\":{\"title\":{\"text\":\"color\"},\"tracegroupgap\":0},\"margin\":{\"t\":60},\"barmode\":\"relative\",\"height\":500,\"width\":700},                        {\"responsive\": true}                    ).then(function(){\n",
       "                            \n",
       "var gd = document.getElementById('7c6fe712-da1d-40da-969f-5d8c629fcdc7');\n",
       "var x = new MutationObserver(function (mutations, observer) {{\n",
       "        var display = window.getComputedStyle(gd).display;\n",
       "        if (!display || display === 'none') {{\n",
       "            console.log([gd, 'removed!']);\n",
       "            Plotly.purge(gd);\n",
       "            observer.disconnect();\n",
       "        }}\n",
       "}});\n",
       "\n",
       "// Listen for the removal of the full notebook cells\n",
       "var notebookContainer = gd.closest('#notebook-container');\n",
       "if (notebookContainer) {{\n",
       "    x.observe(notebookContainer, {childList: true});\n",
       "}}\n",
       "\n",
       "// Listen for the clearing of the current output cell\n",
       "var outputEl = gd.closest('.output');\n",
       "if (outputEl) {{\n",
       "    x.observe(outputEl, {childList: true});\n",
       "}}\n",
       "\n",
       "                        })                };                });            </script>        </div>"
      ]
     },
     "metadata": {},
     "output_type": "display_data"
    }
   ],
   "source": [
    "fig = px.histogram(matched_dice_pred_index[\"dice/f1_score\"], color=matched_dice_pred_index[\"target_label\"])\n",
    "fig.update_layout(height=500, width=700)\n",
    "fig.update_xaxes(title_text='Dice Coefficient')\n",
    "fig.update_yaxes(title_text='Count of predictions')\n",
    "fig.show()"
   ]
  },
  {
   "cell_type": "code",
   "execution_count": 34,
   "metadata": {},
   "outputs": [
    {
     "data": {
      "text/plain": [
       "image_folder\n",
       "/gladstone/finkbeiner/steve/work/data/npsad_data/vivek/Datasets/amyb_wsi/val/val1/XE11-039_1_AmyB_1.json    0.989853\n",
       "/gladstone/finkbeiner/steve/work/data/npsad_data/vivek/Datasets/amyb_wsi/val/val1/XE15-039_1_AmyB_1.json    0.974918\n",
       "Name: dice/f1_score, dtype: float64"
      ]
     },
     "execution_count": 34,
     "metadata": {},
     "output_type": "execute_result"
    }
   ],
   "source": [
    "matched_dice_pred_index.groupby([\"image_folder\"])[\"dice/f1_score\"].mean()"
   ]
  },
  {
   "cell_type": "code",
   "execution_count": 37,
   "metadata": {},
   "outputs": [
    {
     "data": {
      "text/plain": [
       "image_folder                                                                                              target_label\n",
       "/gladstone/finkbeiner/steve/work/data/npsad_data/vivek/Datasets/amyb_wsi/val/val1/XE11-039_1_AmyB_1.json  Cored           12\n",
       "/gladstone/finkbeiner/steve/work/data/npsad_data/vivek/Datasets/amyb_wsi/val/val1/XE15-039_1_AmyB_1.json  Cored           42\n",
       "                                                                                                          Diffuse          6\n",
       "Name: dice/f1_score, dtype: int64"
      ]
     },
     "execution_count": 37,
     "metadata": {},
     "output_type": "execute_result"
    }
   ],
   "source": [
    "matched_dice_pred_index.groupby([\"image_folder\",\"target_label\"])[\"dice/f1_score\"].count()"
   ]
  },
  {
   "cell_type": "code",
   "execution_count": 35,
   "metadata": {},
   "outputs": [
    {
     "data": {
      "text/plain": [
       "image_folder                                                                                              target_label\n",
       "/gladstone/finkbeiner/steve/work/data/npsad_data/vivek/Datasets/amyb_wsi/val/val1/XE11-039_1_AmyB_1.json  Cored           0.989853\n",
       "/gladstone/finkbeiner/steve/work/data/npsad_data/vivek/Datasets/amyb_wsi/val/val1/XE15-039_1_AmyB_1.json  Cored           0.996500\n",
       "                                                                                                          Diffuse         0.823840\n",
       "Name: dice/f1_score, dtype: float64"
      ]
     },
     "execution_count": 35,
     "metadata": {},
     "output_type": "execute_result"
    }
   ],
   "source": [
    "matched_dice_pred_index.groupby([\"image_folder\",\"target_label\"])[\"dice/f1_score\"].mean()"
   ]
  },
  {
   "cell_type": "code",
   "execution_count": 36,
   "metadata": {},
   "outputs": [
    {
     "data": {
      "text/plain": [
       "image_folder                                                                                              target_label\n",
       "/gladstone/finkbeiner/steve/work/data/npsad_data/vivek/Datasets/amyb_wsi/val/val1/XE11-039_1_AmyB_1.json  Cored           0.995304\n",
       "/gladstone/finkbeiner/steve/work/data/npsad_data/vivek/Datasets/amyb_wsi/val/val1/XE15-039_1_AmyB_1.json  Cored           0.997816\n",
       "                                                                                                          Diffuse         0.843590\n",
       "Name: dice/f1_score, dtype: float64"
      ]
     },
     "execution_count": 36,
     "metadata": {},
     "output_type": "execute_result"
    }
   ],
   "source": [
    "matched_dice_pred_index.groupby([\"image_folder\",\"target_label\"])[\"dice/f1_score\"].median()"
   ]
  },
  {
   "cell_type": "code",
   "execution_count": null,
   "metadata": {},
   "outputs": [],
   "source": []
  }
 ],
 "metadata": {
  "kernelspec": {
   "display_name": "kfold_amy_plaque1",
   "language": "python",
   "name": "python3"
  },
  "language_info": {
   "codemirror_mode": {
    "name": "ipython",
    "version": 3
   },
   "file_extension": ".py",
   "mimetype": "text/x-python",
   "name": "python",
   "nbconvert_exporter": "python",
   "pygments_lexer": "ipython3",
   "version": "3.9.7"
  }
 },
 "nbformat": 4,
 "nbformat_minor": 2
}
