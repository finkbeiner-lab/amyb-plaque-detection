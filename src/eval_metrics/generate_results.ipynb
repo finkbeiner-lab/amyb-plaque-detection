{
 "cells": [
  {
   "cell_type": "code",
   "execution_count": 1,
   "metadata": {},
   "outputs": [],
   "source": [
    "import os\n",
    "import sys\n",
    "import sys\n",
    "sys.path.insert(0, '../')\n",
    "from visualization import explain\n",
    "from models.model_mrcnn import _default_mrcnn_config, build_default\n",
    "from PIL import Image \n",
    "from glob import glob\n",
    "import random\n",
    "import wandb"
   ]
  },
  {
   "cell_type": "code",
   "execution_count": 3,
   "metadata": {},
   "outputs": [],
   "source": [
    "input_test_files = \"/gladstone/finkbeiner/steve/work/data/npsad_data/vivek/Datasets/amyb_wsi/test-patients/images\"\n",
    "input_test_files_list = glob(os.path.join(input_test_files,\"*\"))"
   ]
  },
  {
   "cell_type": "code",
   "execution_count": 4,
   "metadata": {},
   "outputs": [],
   "source": [
    "samples = random.sample(input_test_files_list, 10)"
   ]
  },
  {
   "cell_type": "code",
   "execution_count": 3,
   "metadata": {},
   "outputs": [],
   "source": [
    "input_path = \"/gladstone/finkbeiner/steve/work/data/npsad_data/vivek/Datasets/amyb_wsi/val/val1\""
   ]
  },
  {
   "cell_type": "code",
   "execution_count": 4,
   "metadata": {},
   "outputs": [
    {
     "data": {
      "text/plain": [
       "['/gladstone/finkbeiner/steve/work/data/npsad_data/vivek/Datasets/amyb_wsi/val/val1/XE15-039_1_AmyB_1.json',\n",
       " '/gladstone/finkbeiner/steve/work/data/npsad_data/vivek/Datasets/amyb_wsi/val/val1/XE11-039_1_AmyB_1.json']"
      ]
     },
     "execution_count": 4,
     "metadata": {},
     "output_type": "execute_result"
    }
   ],
   "source": [
    "glob(os.path.join(input_path,\"*\"))"
   ]
  },
  {
   "cell_type": "code",
   "execution_count": 5,
   "metadata": {},
   "outputs": [
    {
     "name": "stderr",
     "output_type": "stream",
     "text": [
      "/home/mahirwar/miniconda3/envs/kfold_amy_plaque1/lib/python3.9/site-packages/torchvision/models/_utils.py:135: UserWarning: Using 'backbone_name' as positional parameter(s) is deprecated since 0.13 and may be removed in the future. Please use keyword parameter(s) instead.\n",
      "  warnings.warn(\n",
      "/home/mahirwar/miniconda3/envs/kfold_amy_plaque1/lib/python3.9/site-packages/torchvision/models/_utils.py:208: UserWarning: The parameter 'pretrained' is deprecated since 0.13 and may be removed in the future, please use 'weights' instead.\n",
      "  warnings.warn(\n",
      "/home/mahirwar/miniconda3/envs/kfold_amy_plaque1/lib/python3.9/site-packages/torchvision/models/_utils.py:223: UserWarning: Arguments other than a weight enum or `None` for 'weights' are deprecated since 0.13 and may be removed in the future. The current behavior is equivalent to passing `weights=ResNet50_Weights.IMAGENET1K_V1`. You can also use `weights=ResNet50_Weights.DEFAULT` to get the most up-to-date weights.\n",
      "  warnings.warn(msg)\n"
     ]
    },
    {
     "name": "stdout",
     "output_type": "stream",
     "text": [
      "['/gladstone/finkbeiner/steve/work/data/npsad_data/vivek/Datasets/amyb_wsi/val/val1/XE11-039_1_AmyB_1.json', '/gladstone/finkbeiner/steve/work/data/npsad_data/vivek/Datasets/amyb_wsi/val/val1/XE15-039_1_AmyB_1.json']\n"
     ]
    },
    {
     "name": "stderr",
     "output_type": "stream",
     "text": [
      "  0%|          | 0/2 [00:00<?, ?it/s]"
     ]
    },
    {
     "name": "stdout",
     "output_type": "stream",
     "text": [
      "\n",
      "========== /gladstone/finkbeiner/steve/work/data/npsad_data/vivek/Datasets/amyb_wsi/val/val1/XE11-039_1_AmyB_1.json\n",
      "12\n"
     ]
    },
    {
     "name": "stderr",
     "output_type": "stream",
     "text": [
      "100%|██████████| 12/12 [00:03<00:00,  3.63it/s]\n",
      " 50%|█████     | 1/2 [00:03<00:03,  3.35s/it]"
     ]
    },
    {
     "name": "stdout",
     "output_type": "stream",
     "text": [
      "Total area of brown pixel 0.0\n",
      "\n",
      "========== /gladstone/finkbeiner/steve/work/data/npsad_data/vivek/Datasets/amyb_wsi/val/val1/XE15-039_1_AmyB_1.json\n",
      "54\n"
     ]
    },
    {
     "name": "stderr",
     "output_type": "stream",
     "text": [
      "100%|██████████| 54/54 [00:11<00:00,  4.54it/s]\n",
      "100%|██████████| 2/2 [00:15<00:00,  7.65s/it]"
     ]
    },
    {
     "name": "stdout",
     "output_type": "stream",
     "text": [
      "Total area of brown pixel 0.0\n"
     ]
    },
    {
     "name": "stderr",
     "output_type": "stream",
     "text": [
      "\n"
     ]
    }
   ],
   "source": [
    "#input_path = \"/mnt/new-nas/work/data/npsad_data/vivek/reports/Manuscript/ablation-cam\"\n",
    "#input_path = \"/mnt/new-nas/work/data/npsad_data/vivek/Datasets/UCDavis-Dataset/tiles/train/\"\n",
    "model_input_path = \"/gladstone/finkbeiner/steve/work/data/npsad_data/vivek/models/eager-frog-489_mrcnn_model_100.pth\"\n",
    "\n",
    "test_config = dict(\n",
    "    batch_size = 2,\n",
    "    num_classes = 3\n",
    ")\n",
    "\n",
    "model_config = _default_mrcnn_config(num_classes=1 + test_config['num_classes']).config\n",
    "model = build_default(model_config, im_size=1024)\n",
    "\n",
    "# Use the Run ID from train_model.py here if you want to add some visualizations after training has been done\n",
    "# with wandb.init(project=\"nps-ad\", id = \"17vl5roa\", entity=\"hellovivek\", resume=\"allow\"):\\\n",
    "    \n",
    "\n",
    "#run = wandb.init(project=\"nps-ad-vivek\",  entity=\"hellovivek\")\n",
    "run = \"\"\n",
    "explain_object = explain.ExplainPredictions(model, model_input_path = model_input_path, test_input_path=input_path, \n",
    "                                detection_threshold=0.2, wandb=run, save_result=True, ablation_cam=False, save_thresholds=True)\n",
    "explain_object.generate_results()"
   ]
  }
 ],
 "metadata": {
  "kernelspec": {
   "display_name": "kfold_amy_plaque1",
   "language": "python",
   "name": "python3"
  },
  "language_info": {
   "codemirror_mode": {
    "name": "ipython",
    "version": 3
   },
   "file_extension": ".py",
   "mimetype": "text/x-python",
   "name": "python",
   "nbconvert_exporter": "python",
   "pygments_lexer": "ipython3",
   "version": "3.9.7"
  }
 },
 "nbformat": 4,
 "nbformat_minor": 2
}
